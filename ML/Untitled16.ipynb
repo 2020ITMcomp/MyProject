{
 "cells": [
  {
   "cell_type": "code",
   "execution_count": 2,
   "metadata": {
    "ExecuteTime": {
     "end_time": "2020-12-03T06:44:04.588927Z",
     "start_time": "2020-12-03T06:44:01.219358Z"
    }
   },
   "outputs": [],
   "source": [
    "import pandas as pd\n",
    "import numpy as np\n",
    "from scipy import stats"
   ]
  },
  {
   "cell_type": "code",
   "execution_count": 3,
   "metadata": {
    "ExecuteTime": {
     "end_time": "2020-12-03T06:44:05.988312Z",
     "start_time": "2020-12-03T06:44:05.936446Z"
    }
   },
   "outputs": [],
   "source": [
    "data = pd.read_csv(\"C:/Users/Seung kyu Hong/Desktop/data.csv\")"
   ]
  },
  {
   "cell_type": "code",
   "execution_count": 14,
   "metadata": {
    "ExecuteTime": {
     "end_time": "2020-12-02T08:02:30.841053Z",
     "start_time": "2020-12-02T08:02:30.821105Z"
    }
   },
   "outputs": [
    {
     "data": {
      "text/html": [
       "<div>\n",
       "<style scoped>\n",
       "    .dataframe tbody tr th:only-of-type {\n",
       "        vertical-align: middle;\n",
       "    }\n",
       "\n",
       "    .dataframe tbody tr th {\n",
       "        vertical-align: top;\n",
       "    }\n",
       "\n",
       "    .dataframe thead th {\n",
       "        text-align: right;\n",
       "    }\n",
       "</style>\n",
       "<table border=\"1\" class=\"dataframe\">\n",
       "  <thead>\n",
       "    <tr style=\"text-align: right;\">\n",
       "      <th></th>\n",
       "      <th>Date</th>\n",
       "      <th>Daily_Confirmed</th>\n",
       "      <th>traveled</th>\n",
       "      <th>Domestic_Air_Seoul_In</th>\n",
       "      <th>trendTotal</th>\n",
       "      <th>meanTemperature</th>\n",
       "      <th>dailyTemperatureRange</th>\n",
       "      <th>rolling_3</th>\n",
       "      <th>Policy_1</th>\n",
       "      <th>Policy_3</th>\n",
       "    </tr>\n",
       "  </thead>\n",
       "  <tbody>\n",
       "    <tr>\n",
       "      <th>0</th>\n",
       "      <td>2020.3.1</td>\n",
       "      <td>6</td>\n",
       "      <td>0</td>\n",
       "      <td>216</td>\n",
       "      <td>58.14908</td>\n",
       "      <td>5.8</td>\n",
       "      <td>6.9</td>\n",
       "      <td>8.666667</td>\n",
       "      <td>0</td>\n",
       "      <td>1</td>\n",
       "    </tr>\n",
       "    <tr>\n",
       "      <th>1</th>\n",
       "      <td>2020.3.2</td>\n",
       "      <td>6</td>\n",
       "      <td>0</td>\n",
       "      <td>216</td>\n",
       "      <td>73.62835</td>\n",
       "      <td>3.4</td>\n",
       "      <td>7.6</td>\n",
       "      <td>6.333333</td>\n",
       "      <td>0</td>\n",
       "      <td>1</td>\n",
       "    </tr>\n",
       "    <tr>\n",
       "      <th>2</th>\n",
       "      <td>2020.3.3</td>\n",
       "      <td>1</td>\n",
       "      <td>0</td>\n",
       "      <td>215</td>\n",
       "      <td>61.54096</td>\n",
       "      <td>4.8</td>\n",
       "      <td>10.2</td>\n",
       "      <td>5.666667</td>\n",
       "      <td>0</td>\n",
       "      <td>1</td>\n",
       "    </tr>\n",
       "    <tr>\n",
       "      <th>3</th>\n",
       "      <td>2020.3.4</td>\n",
       "      <td>5</td>\n",
       "      <td>1</td>\n",
       "      <td>215</td>\n",
       "      <td>55.16472</td>\n",
       "      <td>2.2</td>\n",
       "      <td>5.9</td>\n",
       "      <td>4.333333</td>\n",
       "      <td>0</td>\n",
       "      <td>1</td>\n",
       "    </tr>\n",
       "    <tr>\n",
       "      <th>4</th>\n",
       "      <td>2020.3.5</td>\n",
       "      <td>1</td>\n",
       "      <td>0</td>\n",
       "      <td>215</td>\n",
       "      <td>51.35339</td>\n",
       "      <td>1.4</td>\n",
       "      <td>9.1</td>\n",
       "      <td>4.000000</td>\n",
       "      <td>0</td>\n",
       "      <td>1</td>\n",
       "    </tr>\n",
       "  </tbody>\n",
       "</table>\n",
       "</div>"
      ],
      "text/plain": [
       "       Date  Daily_Confirmed  traveled  Domestic_Air_Seoul_In  trendTotal  \\\n",
       "0  2020.3.1                6         0                    216    58.14908   \n",
       "1  2020.3.2                6         0                    216    73.62835   \n",
       "2  2020.3.3                1         0                    215    61.54096   \n",
       "3  2020.3.4                5         1                    215    55.16472   \n",
       "4  2020.3.5                1         0                    215    51.35339   \n",
       "\n",
       "   meanTemperature  dailyTemperatureRange  rolling_3  Policy_1  Policy_3  \n",
       "0              5.8                    6.9   8.666667         0         1  \n",
       "1              3.4                    7.6   6.333333         0         1  \n",
       "2              4.8                   10.2   5.666667         0         1  \n",
       "3              2.2                    5.9   4.333333         0         1  \n",
       "4              1.4                    9.1   4.000000         0         1  "
      ]
     },
     "execution_count": 14,
     "metadata": {},
     "output_type": "execute_result"
    }
   ],
   "source": [
    "data.head()"
   ]
  },
  {
   "cell_type": "code",
   "execution_count": 21,
   "metadata": {
    "ExecuteTime": {
     "end_time": "2020-12-02T08:06:02.934375Z",
     "start_time": "2020-12-02T08:06:02.921410Z"
    }
   },
   "outputs": [],
   "source": [
    "from sklearn.linear_model import ElasticNet\n",
    "\n",
    "e = ElasticNet(alpha=0.1)"
   ]
  },
  {
   "cell_type": "code",
   "execution_count": 22,
   "metadata": {
    "ExecuteTime": {
     "end_time": "2020-12-02T08:06:03.645322Z",
     "start_time": "2020-12-02T08:06:03.630362Z"
    },
    "scrolled": true
   },
   "outputs": [],
   "source": [
    "x = data.drop(['Date','Daily_Confirmed'],axis=1)\n",
    "y = data['Daily_Confirmed']\n",
    "trainx = x[:214]\n",
    "trainy = y[:214]\n",
    "testx=x[214:]\n",
    "texty = y[214:]"
   ]
  },
  {
   "cell_type": "code",
   "execution_count": 23,
   "metadata": {
    "ExecuteTime": {
     "end_time": "2020-12-02T08:06:04.421472Z",
     "start_time": "2020-12-02T08:06:04.404477Z"
    }
   },
   "outputs": [
    {
     "data": {
      "text/plain": [
       "ElasticNet(alpha=0.1, copy_X=True, fit_intercept=True, l1_ratio=0.5,\n",
       "      max_iter=1000, normalize=False, positive=False, precompute=False,\n",
       "      random_state=None, selection='cyclic', tol=0.0001, warm_start=False)"
      ]
     },
     "execution_count": 23,
     "metadata": {},
     "output_type": "execute_result"
    }
   ],
   "source": [
    "e.fit(trainx,trainy)"
   ]
  },
  {
   "cell_type": "code",
   "execution_count": 24,
   "metadata": {
    "ExecuteTime": {
     "end_time": "2020-12-02T08:06:05.508352Z",
     "start_time": "2020-12-02T08:06:05.494390Z"
    }
   },
   "outputs": [
    {
     "data": {
      "text/plain": [
       "3.144819489721919"
      ]
     },
     "execution_count": 24,
     "metadata": {},
     "output_type": "execute_result"
    }
   ],
   "source": [
    "(texty-e.predict(testx)).mean()"
   ]
  },
  {
   "cell_type": "code",
   "execution_count": 26,
   "metadata": {
    "ExecuteTime": {
     "end_time": "2020-12-02T08:07:06.826838Z",
     "start_time": "2020-12-02T08:07:06.816612Z"
    }
   },
   "outputs": [],
   "source": [
    "temp = e.predict(testx)"
   ]
  },
  {
   "cell_type": "code",
   "execution_count": 16,
   "metadata": {
    "ExecuteTime": {
     "end_time": "2020-11-28T05:48:29.352850Z",
     "start_time": "2020-11-28T05:48:29.343875Z"
    }
   },
   "outputs": [
    {
     "data": {
      "text/plain": [
       "Ttest_1sampResult(statistic=-0.32489314482696435, pvalue=0.7488120517054563)"
      ]
     },
     "execution_count": 16,
     "metadata": {},
     "output_type": "execute_result"
    }
   ],
   "source": [
    "tTestResult"
   ]
  },
  {
   "cell_type": "code",
   "execution_count": 17,
   "metadata": {
    "ExecuteTime": {
     "end_time": "2020-11-28T05:49:12.162083Z",
     "start_time": "2020-11-28T05:49:12.159088Z"
    }
   },
   "outputs": [
    {
     "name": "stdout",
     "output_type": "stream",
     "text": [
      "t검정 통계량 = -0.325, pvalue = 0.749\n"
     ]
    }
   ],
   "source": [
    "print('t검정 통계량 = %.3f, pvalue = %.3f'%(tTestResult))"
   ]
  },
  {
   "cell_type": "code",
   "execution_count": 4,
   "metadata": {
    "ExecuteTime": {
     "end_time": "2020-12-03T06:44:14.049089Z",
     "start_time": "2020-12-03T06:44:14.037124Z"
    }
   },
   "outputs": [],
   "source": [
    "alone = data[data['커플']=='없다']['총여가시간']"
   ]
  },
  {
   "cell_type": "code",
   "execution_count": 5,
   "metadata": {
    "ExecuteTime": {
     "end_time": "2020-12-03T06:44:14.807062Z",
     "start_time": "2020-12-03T06:44:14.789112Z"
    }
   },
   "outputs": [],
   "source": [
    "couple = data[data['커플']=='있다']['총여가시간']"
   ]
  },
  {
   "cell_type": "code",
   "execution_count": 6,
   "metadata": {
    "ExecuteTime": {
     "end_time": "2020-12-03T06:44:16.788760Z",
     "start_time": "2020-12-03T06:44:16.403170Z"
    }
   },
   "outputs": [],
   "source": [
    "tTestResult = stats.ttest_ind(couple,alone)"
   ]
  },
  {
   "cell_type": "code",
   "execution_count": 7,
   "metadata": {
    "ExecuteTime": {
     "end_time": "2020-12-03T06:44:17.900729Z",
     "start_time": "2020-12-03T06:44:17.895741Z"
    }
   },
   "outputs": [
    {
     "name": "stdout",
     "output_type": "stream",
     "text": [
      "t검정 통계량 = 1.184, pvalue = 0.244\n"
     ]
    }
   ],
   "source": [
    "print('t검정 통계량 = %.3f, pvalue = %.3f'%(tTestResult))"
   ]
  },
  {
   "cell_type": "code",
   "execution_count": 25,
   "metadata": {
    "ExecuteTime": {
     "end_time": "2020-11-28T06:06:28.484063Z",
     "start_time": "2020-11-28T06:06:28.467108Z"
    }
   },
   "outputs": [
    {
     "data": {
      "text/plain": [
       "1.375"
      ]
     },
     "execution_count": 25,
     "metadata": {},
     "output_type": "execute_result"
    }
   ],
   "source": [
    "data['주중'].mean()"
   ]
  },
  {
   "cell_type": "code",
   "execution_count": 26,
   "metadata": {
    "ExecuteTime": {
     "end_time": "2020-11-28T06:06:35.669104Z",
     "start_time": "2020-11-28T06:06:35.651153Z"
    }
   },
   "outputs": [
    {
     "data": {
      "text/plain": [
       "2.75"
      ]
     },
     "execution_count": 26,
     "metadata": {},
     "output_type": "execute_result"
    }
   ],
   "source": [
    "data['주말'].mean()"
   ]
  },
  {
   "cell_type": "code",
   "execution_count": 8,
   "metadata": {
    "ExecuteTime": {
     "end_time": "2020-12-03T06:45:23.426478Z",
     "start_time": "2020-12-03T06:45:23.410521Z"
    }
   },
   "outputs": [],
   "source": [
    "tTestResult = stats.ttest_ind(data['주중'],data['주말'])"
   ]
  },
  {
   "cell_type": "code",
   "execution_count": 9,
   "metadata": {
    "ExecuteTime": {
     "end_time": "2020-12-03T06:45:24.369910Z",
     "start_time": "2020-12-03T06:45:24.362931Z"
    }
   },
   "outputs": [
    {
     "name": "stdout",
     "output_type": "stream",
     "text": [
      "t검정 통계량 = -7.540, pvalue = 0.000\n"
     ]
    }
   ],
   "source": [
    "print('t검정 통계량 = %.3f, pvalue = %.3f'%(tTestResult))"
   ]
  },
  {
   "cell_type": "code",
   "execution_count": 29,
   "metadata": {
    "ExecuteTime": {
     "end_time": "2020-11-28T06:10:48.527279Z",
     "start_time": "2020-11-28T06:10:48.523290Z"
    }
   },
   "outputs": [],
   "source": [
    "women = data[data['성별']==\"여자\"]['총여가시간']"
   ]
  },
  {
   "cell_type": "code",
   "execution_count": 33,
   "metadata": {
    "ExecuteTime": {
     "end_time": "2020-11-28T06:11:27.744547Z",
     "start_time": "2020-11-28T06:11:27.738564Z"
    }
   },
   "outputs": [],
   "source": [
    "tTestResult = stats.ttest_ind(men, women)"
   ]
  },
  {
   "cell_type": "code",
   "execution_count": 34,
   "metadata": {
    "ExecuteTime": {
     "end_time": "2020-11-28T06:11:29.626270Z",
     "start_time": "2020-11-28T06:11:29.609315Z"
    }
   },
   "outputs": [
    {
     "data": {
      "text/plain": [
       "Ttest_indResult(statistic=-0.22691521523500507, pvalue=0.8217060065246546)"
      ]
     },
     "execution_count": 34,
     "metadata": {},
     "output_type": "execute_result"
    }
   ],
   "source": [
    "tTestResult"
   ]
  },
  {
   "cell_type": "code",
   "execution_count": 35,
   "metadata": {
    "ExecuteTime": {
     "end_time": "2020-11-28T06:11:48.719320Z",
     "start_time": "2020-11-28T06:11:48.713376Z"
    }
   },
   "outputs": [
    {
     "name": "stdout",
     "output_type": "stream",
     "text": [
      "t검정 통계량 = -0.227, pvalue = 0.822\n"
     ]
    }
   ],
   "source": [
    "print('t검정 통계량 = %.3f, pvalue = %.3f'%(tTestResult))"
   ]
  },
  {
   "cell_type": "code",
   "execution_count": 46,
   "metadata": {
    "ExecuteTime": {
     "end_time": "2020-11-28T06:17:59.710432Z",
     "start_time": "2020-11-28T06:17:59.695471Z"
    }
   },
   "outputs": [],
   "source": [
    "tTestResult = stats.ttest_rel(data['주중'],data['주말'])"
   ]
  },
  {
   "cell_type": "code",
   "execution_count": 48,
   "metadata": {
    "ExecuteTime": {
     "end_time": "2020-11-28T06:18:11.307827Z",
     "start_time": "2020-11-28T06:18:11.298853Z"
    }
   },
   "outputs": [
    {
     "name": "stdout",
     "output_type": "stream",
     "text": [
      "t검정 통계량 = -9.401, pvalue = 0.000\n"
     ]
    }
   ],
   "source": [
    "print('t검정 통계량 = %.3f, pvalue = %.3f'%(tTestResult))"
   ]
  },
  {
   "cell_type": "code",
   "execution_count": 52,
   "metadata": {
    "ExecuteTime": {
     "end_time": "2020-11-28T06:19:20.665383Z",
     "start_time": "2020-11-28T06:19:20.653416Z"
    }
   },
   "outputs": [
    {
     "data": {
      "text/plain": [
       "0"
      ]
     },
     "execution_count": 52,
     "metadata": {},
     "output_type": "execute_result"
    }
   ],
   "source": [
    "tTestResult.count(4)"
   ]
  },
  {
   "cell_type": "code",
   "execution_count": 28,
   "metadata": {
    "ExecuteTime": {
     "end_time": "2020-12-02T08:07:33.363049Z",
     "start_time": "2020-12-02T08:07:32.196685Z"
    }
   },
   "outputs": [],
   "source": [
    "import matplotlib.pyplot as plt\n",
    "import seaborn as sns"
   ]
  },
  {
   "cell_type": "code",
   "execution_count": 87,
   "metadata": {
    "ExecuteTime": {
     "end_time": "2020-12-02T09:24:20.588962Z",
     "start_time": "2020-12-02T09:24:20.429344Z"
    }
   },
   "outputs": [
    {
     "name": "stderr",
     "output_type": "stream",
     "text": [
      "C:\\Program Files (x86)\\Microsoft Visual Studio\\Shared\\Anaconda3_64\\lib\\site-packages\\matplotlib\\axes\\_axes.py:6462: UserWarning: The 'normed' kwarg is deprecated, and has been replaced by the 'density' kwarg.\n",
      "  warnings.warn(\"The 'normed' kwarg is deprecated, and has been \"\n",
      "C:\\Program Files (x86)\\Microsoft Visual Studio\\Shared\\Anaconda3_64\\lib\\site-packages\\matplotlib\\axes\\_axes.py:6462: UserWarning: The 'normed' kwarg is deprecated, and has been replaced by the 'density' kwarg.\n",
      "  warnings.warn(\"The 'normed' kwarg is deprecated, and has been \"\n"
     ]
    },
    {
     "data": {
      "image/png": "[encoded data removed]",
      "text/plain": [
       "<Figure size 864x288 with 1 Axes>"
      ]
     },
     "metadata": {},
     "output_type": "display_data"
    }
   ],
   "source": [
    "fig = plt.figure(figsize=(12,4))\n",
    "sns.set_color_codes()\n",
    "sns.distplot(texty,kde=False,color='blue',label=\"Real\",fit=stats.norm)\n",
    "sns.distplot(temp,kde=False,color='red',label=\"Prediction\",fit=stats.norm)\n",
    "\n",
    "\n",
    "plt.title(\"Real and Predict\")\n",
    "plt.legend(loc=\"best\")\n",
    "plt.show()"
   ]
  },
  {
   "cell_type": "code",
   "execution_count": 21,
   "metadata": {
    "ExecuteTime": {
     "end_time": "2020-11-28T06:54:15.333331Z",
     "start_time": "2020-11-28T06:54:15.322360Z"
    }
   },
   "outputs": [
    {
     "data": {
      "text/plain": [
       "4.05"
      ]
     },
     "execution_count": 21,
     "metadata": {},
     "output_type": "execute_result"
    }
   ],
   "source": [
    "data['총여가시간'].mean()"
   ]
  },
  {
   "cell_type": "code",
   "execution_count": 22,
   "metadata": {
    "ExecuteTime": {
     "end_time": "2020-11-28T06:54:36.471416Z",
     "start_time": "2020-11-28T06:54:36.458451Z"
    }
   },
   "outputs": [],
   "source": [
    "men_s = data[data['총여가시간']>4]['만족도']\n",
    "women_s = data[data['총여가시간']<=4]['만족도']"
   ]
  },
  {
   "cell_type": "code",
   "execution_count": 24,
   "metadata": {
    "ExecuteTime": {
     "end_time": "2020-11-28T06:54:57.574000Z",
     "start_time": "2020-11-28T06:54:57.564027Z"
    }
   },
   "outputs": [],
   "source": [
    "tTestResult = stats.ttest_ind(women_s,men_s)"
   ]
  },
  {
   "cell_type": "code",
   "execution_count": 25,
   "metadata": {
    "ExecuteTime": {
     "end_time": "2020-11-28T06:54:59.343901Z",
     "start_time": "2020-11-28T06:54:59.338915Z"
    }
   },
   "outputs": [
    {
     "name": "stdout",
     "output_type": "stream",
     "text": [
      "t검정 통계량 = -2.580, pvalue = 0.014\n"
     ]
    }
   ],
   "source": [
    "print('t검정 통계량 = %.3f, pvalue = %.3f'%(tTestResult))"
   ]
  },
  {
   "cell_type": "code",
   "execution_count": 42,
   "metadata": {
    "ExecuteTime": {
     "end_time": "2020-11-28T07:06:29.254906Z",
     "start_time": "2020-11-28T07:06:29.109990Z"
    }
   },
   "outputs": [
    {
     "name": "stderr",
     "output_type": "stream",
     "text": [
      "C:\\Program Files (x86)\\Microsoft Visual Studio\\Shared\\Anaconda3_64\\lib\\site-packages\\matplotlib\\axes\\_axes.py:6462: UserWarning: The 'normed' kwarg is deprecated, and has been replaced by the 'density' kwarg.\n",
      "  warnings.warn(\"The 'normed' kwarg is deprecated, and has been \"\n",
      "C:\\Program Files (x86)\\Microsoft Visual Studio\\Shared\\Anaconda3_64\\lib\\site-packages\\matplotlib\\axes\\_axes.py:6462: UserWarning: The 'normed' kwarg is deprecated, and has been replaced by the 'density' kwarg.\n",
      "  warnings.warn(\"The 'normed' kwarg is deprecated, and has been \"\n"
     ]
    },
    {
     "data": {
      "image/png": "[encoded data removed]",
      "text/plain": [
       "<Figure size 864x288 with 1 Axes>"
      ]
     },
     "metadata": {},
     "output_type": "display_data"
    }
   ],
   "source": [
    "fig = plt.figure(figsize=(12,4))\n",
    "\n",
    "sns.distplot(wd_s,kde=False,fit=stats.norm,label=\"Higher\")\n",
    "sns.distplot(we_s,kde=False,fit=stats.norm,label=\"Lower\")\n",
    "plt.title(\"Higher and Lower\")\n",
    "plt.legend(loc=\"best\")\n",
    "plt.show()"
   ]
  },
  {
   "cell_type": "code",
   "execution_count": 28,
   "metadata": {
    "ExecuteTime": {
     "end_time": "2020-11-28T07:00:36.870544Z",
     "start_time": "2020-11-28T07:00:36.858536Z"
    }
   },
   "outputs": [],
   "source": [
    "wd_s = data[data['주말']>=3]['만족도']\n",
    "we_s = data[data['주말']<3]['만족도']"
   ]
  },
  {
   "cell_type": "code",
   "execution_count": 40,
   "metadata": {
    "ExecuteTime": {
     "end_time": "2020-11-28T07:05:28.506002Z",
     "start_time": "2020-11-28T07:05:28.498020Z"
    }
   },
   "outputs": [],
   "source": [
    "ttest = stats.ttest_ind(wd_s,we_s)"
   ]
  },
  {
   "cell_type": "code",
   "execution_count": 41,
   "metadata": {
    "ExecuteTime": {
     "end_time": "2020-11-28T07:05:29.393945Z",
     "start_time": "2020-11-28T07:05:29.383972Z"
    }
   },
   "outputs": [
    {
     "name": "stdout",
     "output_type": "stream",
     "text": [
      "t검정 통계량 = 4.951, pvalue = 0.000\n"
     ]
    }
   ],
   "source": [
    "print('t검정 통계량 = %.3f, pvalue = %.3f'%(ttest))"
   ]
  },
  {
   "cell_type": "code",
   "execution_count": 35,
   "metadata": {
    "ExecuteTime": {
     "end_time": "2020-11-28T07:02:43.826092Z",
     "start_time": "2020-11-28T07:02:43.817116Z"
    }
   },
   "outputs": [],
   "source": [
    "d_s=data[data['주중']>2]['만족도']\n",
    "w_s = data[data['주중']<=2]['만족도']"
   ]
  },
  {
   "cell_type": "code",
   "execution_count": 84,
   "metadata": {
    "ExecuteTime": {
     "end_time": "2020-12-02T08:40:23.210577Z",
     "start_time": "2020-12-02T08:40:23.204593Z"
    }
   },
   "outputs": [
    {
     "data": {
      "text/plain": [
       "3.144819489721919"
      ]
     },
     "execution_count": 84,
     "metadata": {},
     "output_type": "execute_result"
    }
   ],
   "source": [
    "(texty-temp).mean()"
   ]
  },
  {
   "cell_type": "code",
   "execution_count": null,
   "metadata": {},
   "outputs": [],
   "source": []
  }
 ],
 "metadata": {
  "kernelspec": {
   "display_name": "Python 3",
   "language": "python",
   "name": "python3"
  },
  "language_info": {
   "codemirror_mode": {
    "name": "ipython",
    "version": 3
   },
   "file_extension": ".py",
   "mimetype": "text/x-python",
   "name": "python",
   "nbconvert_exporter": "python",
   "pygments_lexer": "ipython3",
   "version": "3.6.5"
  },
  "varInspector": {
   "cols": {
    "lenName": 16,
    "lenType": 16,
    "lenVar": 40
   },
   "kernels_config": {
    "python": {
     "delete_cmd_postfix": "",
     "delete_cmd_prefix": "del ",
     "library": "var_list.py",
     "varRefreshCmd": "print(var_dic_list())"
    },
    "r": {
     "delete_cmd_postfix": ") ",
     "delete_cmd_prefix": "rm(",
     "library": "var_list.r",
     "varRefreshCmd": "cat(var_dic_list()) "
    }
   },
   "types_to_exclude": [
    "module",
    "function",
    "builtin_function_or_method",
    "instance",
    "_Feature"
   ],
   "window_display": false
  }
 },
 "nbformat": 4,
 "nbformat_minor": 2
}
