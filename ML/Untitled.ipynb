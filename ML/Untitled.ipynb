{
 "cells": [
  {
   "cell_type": "code",
   "execution_count": 1,
   "metadata": {
    "ExecuteTime": {
     "end_time": "2020-10-06T09:09:15.104868Z",
     "start_time": "2020-10-06T09:09:13.642832Z"
    }
   },
   "outputs": [],
   "source": [
    "import numpy as np\n",
    "import pandas as pd\n",
    "import matplotlib.pyplot as plt\n",
    "%matplotlib inline"
   ]
  },
  {
   "cell_type": "code",
   "execution_count": 22,
   "metadata": {
    "ExecuteTime": {
     "end_time": "2020-10-06T09:19:11.021951Z",
     "start_time": "2020-10-06T09:18:26.779086Z"
    }
   },
   "outputs": [],
   "source": [
    "train=pd.read_csv('https://drive.google.com/uc?export=download&id=1KA7mKUmQv4PrF-qMFrH35LN6q_i56Bf1', \n",
    "                  dtype={'StateHoliday':'str'})"
   ]
  },
  {
   "cell_type": "code",
   "execution_count": 3,
   "metadata": {
    "ExecuteTime": {
     "end_time": "2020-10-06T09:10:50.289154Z",
     "start_time": "2020-10-06T09:10:48.678003Z"
    }
   },
   "outputs": [],
   "source": [
    "store=pd.read_csv('https://drive.google.com/uc?export=download&id=1_o04Vnqzo3v-MTk20MF3OMw2QFz0Fbo0')"
   ]
  },
  {
   "cell_type": "code",
   "execution_count": 4,
   "metadata": {
    "ExecuteTime": {
     "end_time": "2020-09-28T02:17:44.979059Z",
     "start_time": "2020-09-28T02:17:44.668888Z"
    }
   },
   "outputs": [],
   "source": [
    "train['Year'] = train.index.year\n",
    "train['Month'] = train.index.month\n",
    "train['Day'] = train.index.day\n",
    "train['WeekOfYear'] = train.index.weekofyear"
   ]
  },
  {
   "cell_type": "code",
   "execution_count": 26,
   "metadata": {
    "ExecuteTime": {
     "end_time": "2020-10-06T09:21:24.899126Z",
     "start_time": "2020-10-06T09:21:24.819341Z"
    }
   },
   "outputs": [],
   "source": [
    "sales = train[['Store','Date','Sales','Open']]\n",
    "sales_count = sales.groupby('Store')['Date'].count()"
   ]
  },
  {
   "cell_type": "code",
   "execution_count": 27,
   "metadata": {
    "ExecuteTime": {
     "end_time": "2020-10-06T09:21:25.917622Z",
     "start_time": "2020-10-06T09:21:25.883674Z"
    }
   },
   "outputs": [],
   "source": [
    "sales=sales[sales['Store'].isin(sales_count[sales_count==sales_count.\n",
    "max()].index)]"
   ]
  },
  {
   "cell_type": "code",
   "execution_count": 24,
   "metadata": {
    "ExecuteTime": {
     "end_time": "2020-10-06T09:20:55.917982Z",
     "start_time": "2020-10-06T09:20:55.843420Z"
    }
   },
   "outputs": [],
   "source": [
    "train = train[(train['Open']!=0) & (train['Sales']!=0)]"
   ]
  },
  {
   "cell_type": "code",
   "execution_count": 30,
   "metadata": {
    "ExecuteTime": {
     "end_time": "2020-10-06T09:29:07.090800Z",
     "start_time": "2020-10-06T09:29:07.075840Z"
    }
   },
   "outputs": [
    {
     "data": {
      "text/html": [
       "<div>\n",
       "<style scoped>\n",
       "    .dataframe tbody tr th:only-of-type {\n",
       "        vertical-align: middle;\n",
       "    }\n",
       "\n",
       "    .dataframe tbody tr th {\n",
       "        vertical-align: top;\n",
       "    }\n",
       "\n",
       "    .dataframe thead th {\n",
       "        text-align: right;\n",
       "    }\n",
       "</style>\n",
       "<table border=\"1\" class=\"dataframe\">\n",
       "  <thead>\n",
       "    <tr style=\"text-align: right;\">\n",
       "      <th></th>\n",
       "      <th>Store</th>\n",
       "      <th>StoreType</th>\n",
       "      <th>Assortment</th>\n",
       "      <th>CompetitionDistance</th>\n",
       "      <th>CompetitionOpenSinceMonth</th>\n",
       "      <th>CompetitionOpenSinceYear</th>\n",
       "      <th>Promo2</th>\n",
       "      <th>Promo2SinceWeek</th>\n",
       "      <th>Promo2SinceYear</th>\n",
       "      <th>PromoInterval</th>\n",
       "    </tr>\n",
       "  </thead>\n",
       "  <tbody>\n",
       "    <tr>\n",
       "      <th>0</th>\n",
       "      <td>1</td>\n",
       "      <td>c</td>\n",
       "      <td>a</td>\n",
       "      <td>1270.0</td>\n",
       "      <td>9.0</td>\n",
       "      <td>2008.0</td>\n",
       "      <td>0</td>\n",
       "      <td>NaN</td>\n",
       "      <td>NaN</td>\n",
       "      <td>NaN</td>\n",
       "    </tr>\n",
       "    <tr>\n",
       "      <th>1</th>\n",
       "      <td>2</td>\n",
       "      <td>a</td>\n",
       "      <td>a</td>\n",
       "      <td>570.0</td>\n",
       "      <td>11.0</td>\n",
       "      <td>2007.0</td>\n",
       "      <td>1</td>\n",
       "      <td>13.0</td>\n",
       "      <td>2010.0</td>\n",
       "      <td>Jan,Apr,Jul,Oct</td>\n",
       "    </tr>\n",
       "    <tr>\n",
       "      <th>2</th>\n",
       "      <td>3</td>\n",
       "      <td>a</td>\n",
       "      <td>a</td>\n",
       "      <td>14130.0</td>\n",
       "      <td>12.0</td>\n",
       "      <td>2006.0</td>\n",
       "      <td>1</td>\n",
       "      <td>14.0</td>\n",
       "      <td>2011.0</td>\n",
       "      <td>Jan,Apr,Jul,Oct</td>\n",
       "    </tr>\n",
       "    <tr>\n",
       "      <th>3</th>\n",
       "      <td>4</td>\n",
       "      <td>c</td>\n",
       "      <td>c</td>\n",
       "      <td>620.0</td>\n",
       "      <td>9.0</td>\n",
       "      <td>2009.0</td>\n",
       "      <td>0</td>\n",
       "      <td>NaN</td>\n",
       "      <td>NaN</td>\n",
       "      <td>NaN</td>\n",
       "    </tr>\n",
       "    <tr>\n",
       "      <th>4</th>\n",
       "      <td>5</td>\n",
       "      <td>a</td>\n",
       "      <td>a</td>\n",
       "      <td>29910.0</td>\n",
       "      <td>4.0</td>\n",
       "      <td>2015.0</td>\n",
       "      <td>0</td>\n",
       "      <td>NaN</td>\n",
       "      <td>NaN</td>\n",
       "      <td>NaN</td>\n",
       "    </tr>\n",
       "  </tbody>\n",
       "</table>\n",
       "</div>"
      ],
      "text/plain": [
       "   Store StoreType Assortment  CompetitionDistance  CompetitionOpenSinceMonth  \\\n",
       "0      1         c          a               1270.0                        9.0   \n",
       "1      2         a          a                570.0                       11.0   \n",
       "2      3         a          a              14130.0                       12.0   \n",
       "3      4         c          c                620.0                        9.0   \n",
       "4      5         a          a              29910.0                        4.0   \n",
       "\n",
       "   CompetitionOpenSinceYear  Promo2  Promo2SinceWeek  Promo2SinceYear  \\\n",
       "0                    2008.0       0              NaN              NaN   \n",
       "1                    2007.0       1             13.0           2010.0   \n",
       "2                    2006.0       1             14.0           2011.0   \n",
       "3                    2009.0       0              NaN              NaN   \n",
       "4                    2015.0       0              NaN              NaN   \n",
       "\n",
       "     PromoInterval  \n",
       "0              NaN  \n",
       "1  Jan,Apr,Jul,Oct  \n",
       "2  Jan,Apr,Jul,Oct  \n",
       "3              NaN  \n",
       "4              NaN  "
      ]
     },
     "execution_count": 30,
     "metadata": {},
     "output_type": "execute_result"
    }
   ],
   "source": [
    "store.head()"
   ]
  },
  {
   "cell_type": "code",
   "execution_count": null,
   "metadata": {
    "ExecuteTime": {
     "end_time": "2020-09-28T02:17:56.493260Z",
     "start_time": "2020-09-28T02:17:56.487276Z"
    }
   },
   "outputs": [],
   "source": []
  },
  {
   "cell_type": "code",
   "execution_count": null,
   "metadata": {
    "ExecuteTime": {
     "end_time": "2020-09-28T02:17:56.493260Z",
     "start_time": "2020-09-28T02:17:56.487276Z"
    }
   },
   "outputs": [],
   "source": []
  },
  {
   "cell_type": "code",
   "execution_count": 6,
   "metadata": {
    "ExecuteTime": {
     "end_time": "2020-09-28T02:17:56.493260Z",
     "start_time": "2020-09-28T02:17:56.487276Z"
    }
   },
   "outputs": [],
   "source": [
    "store['CompetitionDistance'].fillna(0,inplace=True)"
   ]
  },
  {
   "cell_type": "code",
   "execution_count": 7,
   "metadata": {
    "ExecuteTime": {
     "end_time": "2020-09-28T02:17:56.960011Z",
     "start_time": "2020-09-28T02:17:56.953030Z"
    }
   },
   "outputs": [],
   "source": [
    "store.fillna(0,inplace=True)"
   ]
  },
  {
   "cell_type": "code",
   "execution_count": 115,
   "metadata": {
    "ExecuteTime": {
     "end_time": "2020-09-24T20:37:59.500146Z",
     "start_time": "2020-09-24T20:37:59.486184Z"
    }
   },
   "outputs": [
    {
     "data": {
      "text/html": [
       "<div>\n",
       "<style scoped>\n",
       "    .dataframe tbody tr th:only-of-type {\n",
       "        vertical-align: middle;\n",
       "    }\n",
       "\n",
       "    .dataframe tbody tr th {\n",
       "        vertical-align: top;\n",
       "    }\n",
       "\n",
       "    .dataframe thead th {\n",
       "        text-align: right;\n",
       "    }\n",
       "</style>\n",
       "<table border=\"1\" class=\"dataframe\">\n",
       "  <thead>\n",
       "    <tr style=\"text-align: right;\">\n",
       "      <th></th>\n",
       "      <th>Store</th>\n",
       "      <th>CompetitionDistance</th>\n",
       "      <th>CompetitionOpenSinceMonth</th>\n",
       "      <th>CompetitionOpenSinceYear</th>\n",
       "      <th>Promo2</th>\n",
       "      <th>Promo2SinceWeek</th>\n",
       "      <th>Promo2SinceYear</th>\n",
       "      <th>StoreType_a</th>\n",
       "      <th>StoreType_b</th>\n",
       "      <th>StoreType_c</th>\n",
       "      <th>StoreType_d</th>\n",
       "      <th>Assortment_a</th>\n",
       "      <th>Assortment_b</th>\n",
       "      <th>Assortment_c</th>\n",
       "      <th>PromoInterval_Feb,May,Aug,Nov</th>\n",
       "      <th>PromoInterval_Jan,Apr,Jul,Oct</th>\n",
       "      <th>PromoInterval_Mar,Jun,Sept,Dec</th>\n",
       "    </tr>\n",
       "  </thead>\n",
       "  <tbody>\n",
       "    <tr>\n",
       "      <th>0</th>\n",
       "      <td>1</td>\n",
       "      <td>1270.0</td>\n",
       "      <td>9.0</td>\n",
       "      <td>2008.0</td>\n",
       "      <td>0</td>\n",
       "      <td>0.0</td>\n",
       "      <td>0.0</td>\n",
       "      <td>0</td>\n",
       "      <td>0</td>\n",
       "      <td>1</td>\n",
       "      <td>0</td>\n",
       "      <td>1</td>\n",
       "      <td>0</td>\n",
       "      <td>0</td>\n",
       "      <td>0</td>\n",
       "      <td>0</td>\n",
       "      <td>0</td>\n",
       "    </tr>\n",
       "    <tr>\n",
       "      <th>1</th>\n",
       "      <td>2</td>\n",
       "      <td>570.0</td>\n",
       "      <td>11.0</td>\n",
       "      <td>2007.0</td>\n",
       "      <td>1</td>\n",
       "      <td>13.0</td>\n",
       "      <td>2010.0</td>\n",
       "      <td>1</td>\n",
       "      <td>0</td>\n",
       "      <td>0</td>\n",
       "      <td>0</td>\n",
       "      <td>1</td>\n",
       "      <td>0</td>\n",
       "      <td>0</td>\n",
       "      <td>0</td>\n",
       "      <td>1</td>\n",
       "      <td>0</td>\n",
       "    </tr>\n",
       "    <tr>\n",
       "      <th>2</th>\n",
       "      <td>3</td>\n",
       "      <td>14130.0</td>\n",
       "      <td>12.0</td>\n",
       "      <td>2006.0</td>\n",
       "      <td>1</td>\n",
       "      <td>14.0</td>\n",
       "      <td>2011.0</td>\n",
       "      <td>1</td>\n",
       "      <td>0</td>\n",
       "      <td>0</td>\n",
       "      <td>0</td>\n",
       "      <td>1</td>\n",
       "      <td>0</td>\n",
       "      <td>0</td>\n",
       "      <td>0</td>\n",
       "      <td>1</td>\n",
       "      <td>0</td>\n",
       "    </tr>\n",
       "    <tr>\n",
       "      <th>3</th>\n",
       "      <td>4</td>\n",
       "      <td>620.0</td>\n",
       "      <td>9.0</td>\n",
       "      <td>2009.0</td>\n",
       "      <td>0</td>\n",
       "      <td>0.0</td>\n",
       "      <td>0.0</td>\n",
       "      <td>0</td>\n",
       "      <td>0</td>\n",
       "      <td>1</td>\n",
       "      <td>0</td>\n",
       "      <td>0</td>\n",
       "      <td>0</td>\n",
       "      <td>1</td>\n",
       "      <td>0</td>\n",
       "      <td>0</td>\n",
       "      <td>0</td>\n",
       "    </tr>\n",
       "    <tr>\n",
       "      <th>4</th>\n",
       "      <td>5</td>\n",
       "      <td>29910.0</td>\n",
       "      <td>4.0</td>\n",
       "      <td>2015.0</td>\n",
       "      <td>0</td>\n",
       "      <td>0.0</td>\n",
       "      <td>0.0</td>\n",
       "      <td>1</td>\n",
       "      <td>0</td>\n",
       "      <td>0</td>\n",
       "      <td>0</td>\n",
       "      <td>1</td>\n",
       "      <td>0</td>\n",
       "      <td>0</td>\n",
       "      <td>0</td>\n",
       "      <td>0</td>\n",
       "      <td>0</td>\n",
       "    </tr>\n",
       "  </tbody>\n",
       "</table>\n",
       "</div>"
      ],
      "text/plain": [
       "   Store  CompetitionDistance  CompetitionOpenSinceMonth  \\\n",
       "0      1               1270.0                        9.0   \n",
       "1      2                570.0                       11.0   \n",
       "2      3              14130.0                       12.0   \n",
       "3      4                620.0                        9.0   \n",
       "4      5              29910.0                        4.0   \n",
       "\n",
       "   CompetitionOpenSinceYear  Promo2  Promo2SinceWeek  Promo2SinceYear  \\\n",
       "0                    2008.0       0              0.0              0.0   \n",
       "1                    2007.0       1             13.0           2010.0   \n",
       "2                    2006.0       1             14.0           2011.0   \n",
       "3                    2009.0       0              0.0              0.0   \n",
       "4                    2015.0       0              0.0              0.0   \n",
       "\n",
       "   StoreType_a  StoreType_b  StoreType_c  StoreType_d  Assortment_a  \\\n",
       "0            0            0            1            0             1   \n",
       "1            1            0            0            0             1   \n",
       "2            1            0            0            0             1   \n",
       "3            0            0            1            0             0   \n",
       "4            1            0            0            0             1   \n",
       "\n",
       "   Assortment_b  Assortment_c  PromoInterval_Feb,May,Aug,Nov  \\\n",
       "0             0             0                              0   \n",
       "1             0             0                              0   \n",
       "2             0             0                              0   \n",
       "3             0             1                              0   \n",
       "4             0             0                              0   \n",
       "\n",
       "   PromoInterval_Jan,Apr,Jul,Oct  PromoInterval_Mar,Jun,Sept,Dec  \n",
       "0                              0                               0  \n",
       "1                              1                               0  \n",
       "2                              1                               0  \n",
       "3                              0                               0  \n",
       "4                              0                               0  "
      ]
     },
     "execution_count": 115,
     "metadata": {},
     "output_type": "execute_result"
    }
   ],
   "source": [
    "store.head()"
   ]
  },
  {
   "cell_type": "code",
   "execution_count": 10,
   "metadata": {
    "ExecuteTime": {
     "end_time": "2020-09-28T02:18:05.016463Z",
     "start_time": "2020-09-28T02:18:05.002499Z"
    }
   },
   "outputs": [],
   "source": [
    "train = pd.get_dummies(train, columns=['StateHoliday'],drop_first=True)\n",
    "store = pd.get_dummies(store,columns=['StoreType'])\n",
    "store = pd.get_dummies(store,columns=['Assortment'])\n",
    "store = pd.get_dummies(store,columns=['PromoInterval'])"
   ]
  },
  {
   "cell_type": "code",
   "execution_count": 11,
   "metadata": {
    "ExecuteTime": {
     "end_time": "2020-09-28T02:18:08.098220Z",
     "start_time": "2020-09-28T02:18:07.677345Z"
    }
   },
   "outputs": [
    {
     "data": {
      "text/html": [
       "<div>\n",
       "<style scoped>\n",
       "    .dataframe tbody tr th:only-of-type {\n",
       "        vertical-align: middle;\n",
       "    }\n",
       "\n",
       "    .dataframe tbody tr th {\n",
       "        vertical-align: top;\n",
       "    }\n",
       "\n",
       "    .dataframe thead th {\n",
       "        text-align: right;\n",
       "    }\n",
       "</style>\n",
       "<table border=\"1\" class=\"dataframe\">\n",
       "  <thead>\n",
       "    <tr style=\"text-align: right;\">\n",
       "      <th></th>\n",
       "      <th>Store</th>\n",
       "      <th>DayOfWeek</th>\n",
       "      <th>Sales</th>\n",
       "      <th>Customers</th>\n",
       "      <th>Open</th>\n",
       "      <th>Promo</th>\n",
       "      <th>SchoolHoliday</th>\n",
       "      <th>Year</th>\n",
       "      <th>Month</th>\n",
       "      <th>Day</th>\n",
       "      <th>...</th>\n",
       "      <th>StoreType_b</th>\n",
       "      <th>StoreType_c</th>\n",
       "      <th>StoreType_d</th>\n",
       "      <th>Assortment_a</th>\n",
       "      <th>Assortment_b</th>\n",
       "      <th>Assortment_c</th>\n",
       "      <th>PromoInterval_0</th>\n",
       "      <th>PromoInterval_Feb,May,Aug,Nov</th>\n",
       "      <th>PromoInterval_Jan,Apr,Jul,Oct</th>\n",
       "      <th>PromoInterval_Mar,Jun,Sept,Dec</th>\n",
       "    </tr>\n",
       "  </thead>\n",
       "  <tbody>\n",
       "    <tr>\n",
       "      <th>0</th>\n",
       "      <td>1</td>\n",
       "      <td>5</td>\n",
       "      <td>5263</td>\n",
       "      <td>555</td>\n",
       "      <td>1</td>\n",
       "      <td>1</td>\n",
       "      <td>1</td>\n",
       "      <td>2015</td>\n",
       "      <td>7</td>\n",
       "      <td>31</td>\n",
       "      <td>...</td>\n",
       "      <td>0</td>\n",
       "      <td>1</td>\n",
       "      <td>0</td>\n",
       "      <td>1</td>\n",
       "      <td>0</td>\n",
       "      <td>0</td>\n",
       "      <td>1</td>\n",
       "      <td>0</td>\n",
       "      <td>0</td>\n",
       "      <td>0</td>\n",
       "    </tr>\n",
       "    <tr>\n",
       "      <th>1</th>\n",
       "      <td>1</td>\n",
       "      <td>4</td>\n",
       "      <td>5020</td>\n",
       "      <td>546</td>\n",
       "      <td>1</td>\n",
       "      <td>1</td>\n",
       "      <td>1</td>\n",
       "      <td>2015</td>\n",
       "      <td>7</td>\n",
       "      <td>30</td>\n",
       "      <td>...</td>\n",
       "      <td>0</td>\n",
       "      <td>1</td>\n",
       "      <td>0</td>\n",
       "      <td>1</td>\n",
       "      <td>0</td>\n",
       "      <td>0</td>\n",
       "      <td>1</td>\n",
       "      <td>0</td>\n",
       "      <td>0</td>\n",
       "      <td>0</td>\n",
       "    </tr>\n",
       "    <tr>\n",
       "      <th>2</th>\n",
       "      <td>1</td>\n",
       "      <td>3</td>\n",
       "      <td>4782</td>\n",
       "      <td>523</td>\n",
       "      <td>1</td>\n",
       "      <td>1</td>\n",
       "      <td>1</td>\n",
       "      <td>2015</td>\n",
       "      <td>7</td>\n",
       "      <td>29</td>\n",
       "      <td>...</td>\n",
       "      <td>0</td>\n",
       "      <td>1</td>\n",
       "      <td>0</td>\n",
       "      <td>1</td>\n",
       "      <td>0</td>\n",
       "      <td>0</td>\n",
       "      <td>1</td>\n",
       "      <td>0</td>\n",
       "      <td>0</td>\n",
       "      <td>0</td>\n",
       "    </tr>\n",
       "    <tr>\n",
       "      <th>3</th>\n",
       "      <td>1</td>\n",
       "      <td>2</td>\n",
       "      <td>5011</td>\n",
       "      <td>560</td>\n",
       "      <td>1</td>\n",
       "      <td>1</td>\n",
       "      <td>1</td>\n",
       "      <td>2015</td>\n",
       "      <td>7</td>\n",
       "      <td>28</td>\n",
       "      <td>...</td>\n",
       "      <td>0</td>\n",
       "      <td>1</td>\n",
       "      <td>0</td>\n",
       "      <td>1</td>\n",
       "      <td>0</td>\n",
       "      <td>0</td>\n",
       "      <td>1</td>\n",
       "      <td>0</td>\n",
       "      <td>0</td>\n",
       "      <td>0</td>\n",
       "    </tr>\n",
       "    <tr>\n",
       "      <th>4</th>\n",
       "      <td>1</td>\n",
       "      <td>1</td>\n",
       "      <td>6102</td>\n",
       "      <td>612</td>\n",
       "      <td>1</td>\n",
       "      <td>1</td>\n",
       "      <td>1</td>\n",
       "      <td>2015</td>\n",
       "      <td>7</td>\n",
       "      <td>27</td>\n",
       "      <td>...</td>\n",
       "      <td>0</td>\n",
       "      <td>1</td>\n",
       "      <td>0</td>\n",
       "      <td>1</td>\n",
       "      <td>0</td>\n",
       "      <td>0</td>\n",
       "      <td>1</td>\n",
       "      <td>0</td>\n",
       "      <td>0</td>\n",
       "      <td>0</td>\n",
       "    </tr>\n",
       "  </tbody>\n",
       "</table>\n",
       "<p>5 rows × 31 columns</p>\n",
       "</div>"
      ],
      "text/plain": [
       "   Store  DayOfWeek  Sales  Customers  Open  Promo  SchoolHoliday  Year  \\\n",
       "0      1          5   5263        555     1      1              1  2015   \n",
       "1      1          4   5020        546     1      1              1  2015   \n",
       "2      1          3   4782        523     1      1              1  2015   \n",
       "3      1          2   5011        560     1      1              1  2015   \n",
       "4      1          1   6102        612     1      1              1  2015   \n",
       "\n",
       "   Month  Day               ...                StoreType_b  StoreType_c  \\\n",
       "0      7   31               ...                          0            1   \n",
       "1      7   30               ...                          0            1   \n",
       "2      7   29               ...                          0            1   \n",
       "3      7   28               ...                          0            1   \n",
       "4      7   27               ...                          0            1   \n",
       "\n",
       "   StoreType_d  Assortment_a  Assortment_b  Assortment_c  PromoInterval_0  \\\n",
       "0            0             1             0             0                1   \n",
       "1            0             1             0             0                1   \n",
       "2            0             1             0             0                1   \n",
       "3            0             1             0             0                1   \n",
       "4            0             1             0             0                1   \n",
       "\n",
       "   PromoInterval_Feb,May,Aug,Nov  PromoInterval_Jan,Apr,Jul,Oct  \\\n",
       "0                              0                              0   \n",
       "1                              0                              0   \n",
       "2                              0                              0   \n",
       "3                              0                              0   \n",
       "4                              0                              0   \n",
       "\n",
       "   PromoInterval_Mar,Jun,Sept,Dec  \n",
       "0                               0  \n",
       "1                               0  \n",
       "2                               0  \n",
       "3                               0  \n",
       "4                               0  \n",
       "\n",
       "[5 rows x 31 columns]"
      ]
     },
     "execution_count": 11,
     "metadata": {},
     "output_type": "execute_result"
    }
   ],
   "source": [
    "data = pd.merge(train, store, how = 'inner', on = 'Store')\n",
    "data.head()"
   ]
  },
  {
   "cell_type": "code",
   "execution_count": 12,
   "metadata": {
    "ExecuteTime": {
     "end_time": "2020-09-28T02:18:10.232509Z",
     "start_time": "2020-09-28T02:18:09.929321Z"
    }
   },
   "outputs": [],
   "source": [
    "validation=data[data['Year']==2015]\n",
    "train = data[data['Year']!=2015]"
   ]
  },
  {
   "cell_type": "code",
   "execution_count": null,
   "metadata": {
    "ExecuteTime": {
     "end_time": "2020-09-28T02:18:10.930641Z",
     "start_time": "2020-09-28T02:18:10.847864Z"
    }
   },
   "outputs": [],
   "source": [
    "train_x = train.drop(['Sales'],axis=1)\n",
    "train_y = train['Sales']"
   ]
  },
  {
   "cell_type": "code",
   "execution_count": 23,
   "metadata": {
    "ExecuteTime": {
     "end_time": "2020-09-28T02:46:22.760659Z",
     "start_time": "2020-09-28T02:46:22.717777Z"
    }
   },
   "outputs": [],
   "source": [
    "validation_x = validation.drop(['Sales'],axis=1)\n",
    "validation_y = validation['Sales']"
   ]
  },
  {
   "cell_type": "code",
   "execution_count": 15,
   "metadata": {
    "ExecuteTime": {
     "end_time": "2020-09-28T02:18:15.412652Z",
     "start_time": "2020-09-28T02:18:15.104477Z"
    }
   },
   "outputs": [],
   "source": [
    "from sklearn.model_selection import train_test_split\n",
    "tr_x , te_x , tr_y , te_y = train_test_split(train_x,train_y,test_size=0.2,random_state=42)"
   ]
  },
  {
   "cell_type": "code",
   "execution_count": 16,
   "metadata": {
    "ExecuteTime": {
     "end_time": "2020-09-28T02:18:23.113058Z",
     "start_time": "2020-09-28T02:18:22.813857Z"
    }
   },
   "outputs": [],
   "source": [
    "from sklearn.linear_model import LinearRegression"
   ]
  },
  {
   "cell_type": "code",
   "execution_count": 21,
   "metadata": {
    "ExecuteTime": {
     "end_time": "2020-09-28T02:19:04.369699Z",
     "start_time": "2020-09-28T02:19:04.159302Z"
    }
   },
   "outputs": [
    {
     "data": {
      "text/plain": [
       "0.9019484133008548"
      ]
     },
     "execution_count": 21,
     "metadata": {},
     "output_type": "execute_result"
    }
   ],
   "source": [
    "lin = LinearRegression()\n",
    "lin.fit(tr_x,tr_y)\n",
    "pred = lin.predict(tr_x)\n",
    "lin.score(tr_x,tr_y)"
   ]
  },
  {
   "cell_type": "code",
   "execution_count": 46,
   "metadata": {
    "ExecuteTime": {
     "end_time": "2020-09-25T05:44:42.406996Z",
     "start_time": "2020-09-25T05:44:42.404000Z"
    }
   },
   "outputs": [],
   "source": [
    "X = tr_x\n",
    "y = tr_y"
   ]
  },
  {
   "cell_type": "code",
   "execution_count": 47,
   "metadata": {
    "ExecuteTime": {
     "end_time": "2020-09-25T05:44:56.800249Z",
     "start_time": "2020-09-25T05:44:56.120926Z"
    }
   },
   "outputs": [],
   "source": [
    "import statsmodels.api as sm"
   ]
  },
  {
   "cell_type": "code",
   "execution_count": 50,
   "metadata": {
    "ExecuteTime": {
     "end_time": "2020-09-25T05:45:34.140838Z",
     "start_time": "2020-09-25T05:45:34.036121Z"
    }
   },
   "outputs": [],
   "source": [
    "reg1 = sm.OLS(y,X)\n",
    "result1 = reg1.fit()\n",
    "y_pred1 = result1.predict(X)"
   ]
  },
  {
   "cell_type": "code",
   "execution_count": 22,
   "metadata": {
    "ExecuteTime": {
     "end_time": "2020-09-28T02:45:25.530741Z",
     "start_time": "2020-09-28T02:45:25.518813Z"
    }
   },
   "outputs": [
    {
     "ename": "NameError",
     "evalue": "name 'y' is not defined",
     "output_type": "error",
     "traceback": [
      "\u001b[1;31m---------------------------------------------------------------------------\u001b[0m",
      "\u001b[1;31mNameError\u001b[0m                                 Traceback (most recent call last)",
      "\u001b[1;32m<ipython-input-22-0a298ab4cc09>\u001b[0m in \u001b[0;36m<module>\u001b[1;34m\u001b[0m\n\u001b[1;32m----> 1\u001b[1;33m \u001b[0mnp\u001b[0m\u001b[1;33m.\u001b[0m\u001b[0mmean\u001b[0m\u001b[1;33m(\u001b[0m\u001b[1;33m(\u001b[0m\u001b[0my\u001b[0m\u001b[1;33m-\u001b[0m\u001b[0my_pred1\u001b[0m\u001b[1;33m)\u001b[0m\u001b[1;33m**\u001b[0m\u001b[1;36m2\u001b[0m\u001b[1;33m)\u001b[0m\u001b[1;33m\u001b[0m\u001b[1;33m\u001b[0m\u001b[0m\n\u001b[0m",
      "\u001b[1;31mNameError\u001b[0m: name 'y' is not defined"
     ]
    }
   ],
   "source": [
    "np.mean((y-y_pred1)**2)"
   ]
  },
  {
   "cell_type": "code",
   "execution_count": 54,
   "metadata": {
    "ExecuteTime": {
     "end_time": "2020-09-25T05:46:59.041575Z",
     "start_time": "2020-09-25T05:46:58.828693Z"
    }
   },
   "outputs": [
    {
     "data": {
      "text/html": [
       "<table class=\"simpletable\">\n",
       "<caption>OLS Regression Results</caption>\n",
       "<tr>\n",
       "  <th>Dep. Variable:</th>          <td>Sales</td>      <th>  R-squared:         </th>  <td>   0.902</td>  \n",
       "</tr>\n",
       "<tr>\n",
       "  <th>Model:</th>                   <td>OLS</td>       <th>  Adj. R-squared:    </th>  <td>   0.902</td>  \n",
       "</tr>\n",
       "<tr>\n",
       "  <th>Method:</th>             <td>Least Squares</td>  <th>  F-statistic:       </th>  <td>2.297e+05</td> \n",
       "</tr>\n",
       "<tr>\n",
       "  <th>Date:</th>             <td>Fri, 25 Sep 2020</td> <th>  Prob (F-statistic):</th>   <td>  0.00</td>   \n",
       "</tr>\n",
       "<tr>\n",
       "  <th>Time:</th>                 <td>14:46:59</td>     <th>  Log-Likelihood:    </th> <td>-5.3188e+06</td>\n",
       "</tr>\n",
       "<tr>\n",
       "  <th>No. Observations:</th>      <td>624663</td>      <th>  AIC:               </th>  <td>1.064e+07</td> \n",
       "</tr>\n",
       "<tr>\n",
       "  <th>Df Residuals:</th>          <td>624637</td>      <th>  BIC:               </th>  <td>1.064e+07</td> \n",
       "</tr>\n",
       "<tr>\n",
       "  <th>Df Model:</th>              <td>    25</td>      <th>                     </th>      <td> </td>     \n",
       "</tr>\n",
       "<tr>\n",
       "  <th>Covariance Type:</th>      <td>nonrobust</td>    <th>                     </th>      <td> </td>     \n",
       "</tr>\n",
       "</table>\n",
       "<table class=\"simpletable\">\n",
       "<tr>\n",
       "                 <td></td>                   <th>coef</th>     <th>std err</th>      <th>t</th>      <th>P>|t|</th>  <th>[0.025</th>    <th>0.975]</th>  \n",
       "</tr>\n",
       "<tr>\n",
       "  <th>DayOfWeek</th>                      <td>  -51.6639</td> <td>    1.002</td> <td>  -51.581</td> <td> 0.000</td> <td>  -53.627</td> <td>  -49.701</td>\n",
       "</tr>\n",
       "<tr>\n",
       "  <th>Customers</th>                      <td>    7.2238</td> <td>    0.005</td> <td> 1465.069</td> <td> 0.000</td> <td>    7.214</td> <td>    7.233</td>\n",
       "</tr>\n",
       "<tr>\n",
       "  <th>Open</th>                           <td>  820.9892</td> <td>    6.340</td> <td>  129.489</td> <td> 0.000</td> <td>  808.563</td> <td>  833.416</td>\n",
       "</tr>\n",
       "<tr>\n",
       "  <th>Promo</th>                          <td> 1106.4172</td> <td>    3.551</td> <td>  311.562</td> <td> 0.000</td> <td> 1099.457</td> <td> 1113.377</td>\n",
       "</tr>\n",
       "<tr>\n",
       "  <th>SchoolHoliday</th>                  <td>   -8.8680</td> <td>    4.168</td> <td>   -2.128</td> <td> 0.033</td> <td>  -17.037</td> <td>   -0.699</td>\n",
       "</tr>\n",
       "<tr>\n",
       "  <th>Year</th>                           <td>   87.9434</td> <td>    3.064</td> <td>   28.707</td> <td> 0.000</td> <td>   81.939</td> <td>   93.948</td>\n",
       "</tr>\n",
       "<tr>\n",
       "  <th>Month</th>                          <td>   45.4067</td> <td>    1.667</td> <td>   27.233</td> <td> 0.000</td> <td>   42.139</td> <td>   48.675</td>\n",
       "</tr>\n",
       "<tr>\n",
       "  <th>Day</th>                            <td>    0.2060</td> <td>    0.180</td> <td>    1.147</td> <td> 0.252</td> <td>   -0.146</td> <td>    0.558</td>\n",
       "</tr>\n",
       "<tr>\n",
       "  <th>WeekOfYear</th>                     <td>   -3.2886</td> <td>    0.382</td> <td>   -8.603</td> <td> 0.000</td> <td>   -4.038</td> <td>   -2.539</td>\n",
       "</tr>\n",
       "<tr>\n",
       "  <th>StateHoliday_a</th>                 <td> -549.5832</td> <td>   12.302</td> <td>  -44.674</td> <td> 0.000</td> <td> -573.695</td> <td> -525.472</td>\n",
       "</tr>\n",
       "<tr>\n",
       "  <th>StateHoliday_b</th>                 <td> -664.5198</td> <td>   21.194</td> <td>  -31.354</td> <td> 0.000</td> <td> -706.060</td> <td> -622.980</td>\n",
       "</tr>\n",
       "<tr>\n",
       "  <th>StateHoliday_c</th>                 <td> -269.4992</td> <td>   22.030</td> <td>  -12.233</td> <td> 0.000</td> <td> -312.677</td> <td> -226.321</td>\n",
       "</tr>\n",
       "<tr>\n",
       "  <th>CompetitionDistance</th>            <td>    0.0205</td> <td>    0.000</td> <td>   99.217</td> <td> 0.000</td> <td>    0.020</td> <td>    0.021</td>\n",
       "</tr>\n",
       "<tr>\n",
       "  <th>CompetitionOpenSinceMonth</th>      <td>   -3.6127</td> <td>    0.580</td> <td>   -6.228</td> <td> 0.000</td> <td>   -4.750</td> <td>   -2.476</td>\n",
       "</tr>\n",
       "<tr>\n",
       "  <th>CompetitionOpenSinceYear</th>       <td>    0.0573</td> <td>    0.003</td> <td>   21.407</td> <td> 0.000</td> <td>    0.052</td> <td>    0.063</td>\n",
       "</tr>\n",
       "<tr>\n",
       "  <th>Promo2</th>                         <td>-4456.1238</td> <td> 2830.181</td> <td>   -1.575</td> <td> 0.115</td> <td>   -1e+04</td> <td> 1090.941</td>\n",
       "</tr>\n",
       "<tr>\n",
       "  <th>Promo2SinceWeek</th>                <td>    5.7733</td> <td>    0.160</td> <td>   36.035</td> <td> 0.000</td> <td>    5.459</td> <td>    6.087</td>\n",
       "</tr>\n",
       "<tr>\n",
       "  <th>Promo2SinceYear</th>                <td>  -52.5093</td> <td>    1.374</td> <td>  -38.206</td> <td> 0.000</td> <td>  -55.203</td> <td>  -49.816</td>\n",
       "</tr>\n",
       "<tr>\n",
       "  <th>StoreType_a</th>                    <td>-2.845e+04</td> <td> 1364.216</td> <td>  -20.854</td> <td> 0.000</td> <td>-3.11e+04</td> <td>-2.58e+04</td>\n",
       "</tr>\n",
       "<tr>\n",
       "  <th>StoreType_b</th>                    <td>-3.154e+04</td> <td> 1364.280</td> <td>  -23.120</td> <td> 0.000</td> <td>-3.42e+04</td> <td>-2.89e+04</td>\n",
       "</tr>\n",
       "<tr>\n",
       "  <th>StoreType_c</th>                    <td>-2.857e+04</td> <td> 1364.160</td> <td>  -20.941</td> <td> 0.000</td> <td>-3.12e+04</td> <td>-2.59e+04</td>\n",
       "</tr>\n",
       "<tr>\n",
       "  <th>StoreType_d</th>                    <td>-2.754e+04</td> <td> 1364.155</td> <td>  -20.191</td> <td> 0.000</td> <td>-3.02e+04</td> <td>-2.49e+04</td>\n",
       "</tr>\n",
       "<tr>\n",
       "  <th>Assortment_a</th>                   <td> -3.75e+04</td> <td> 1818.889</td> <td>  -20.618</td> <td> 0.000</td> <td>-4.11e+04</td> <td>-3.39e+04</td>\n",
       "</tr>\n",
       "<tr>\n",
       "  <th>Assortment_b</th>                   <td>-4.137e+04</td> <td> 1818.983</td> <td>  -22.741</td> <td> 0.000</td> <td>-4.49e+04</td> <td>-3.78e+04</td>\n",
       "</tr>\n",
       "<tr>\n",
       "  <th>Assortment_c</th>                   <td>-3.724e+04</td> <td> 1818.946</td> <td>  -20.471</td> <td> 0.000</td> <td>-4.08e+04</td> <td>-3.37e+04</td>\n",
       "</tr>\n",
       "<tr>\n",
       "  <th>PromoInterval_0</th>                <td>-1.116e+05</td> <td> 3100.553</td> <td>  -36.009</td> <td> 0.000</td> <td>-1.18e+05</td> <td>-1.06e+05</td>\n",
       "</tr>\n",
       "<tr>\n",
       "  <th>PromoInterval_Feb,May,Aug,Nov</th>  <td>-1469.7092</td> <td>  943.240</td> <td>   -1.558</td> <td> 0.119</td> <td>-3318.430</td> <td>  379.011</td>\n",
       "</tr>\n",
       "<tr>\n",
       "  <th>PromoInterval_Jan,Apr,Jul,Oct</th>  <td>-1409.8393</td> <td>  943.200</td> <td>   -1.495</td> <td> 0.135</td> <td>-3258.481</td> <td>  438.802</td>\n",
       "</tr>\n",
       "<tr>\n",
       "  <th>PromoInterval_Mar,Jun,Sept,Dec</th> <td>-1576.5753</td> <td>  943.760</td> <td>   -1.671</td> <td> 0.095</td> <td>-3426.315</td> <td>  273.164</td>\n",
       "</tr>\n",
       "</table>\n",
       "<table class=\"simpletable\">\n",
       "<tr>\n",
       "  <th>Omnibus:</th>       <td>170878.499</td> <th>  Durbin-Watson:     </th>  <td>   1.997</td>  \n",
       "</tr>\n",
       "<tr>\n",
       "  <th>Prob(Omnibus):</th>   <td> 0.000</td>   <th>  Jarque-Bera (JB):  </th> <td>1934774.805</td>\n",
       "</tr>\n",
       "<tr>\n",
       "  <th>Skew:</th>            <td> 0.994</td>   <th>  Prob(JB):          </th>  <td>    0.00</td>  \n",
       "</tr>\n",
       "<tr>\n",
       "  <th>Kurtosis:</th>        <td>11.390</td>   <th>  Cond. No.          </th>  <td>1.29e+16</td>  \n",
       "</tr>\n",
       "</table><br/><br/>Warnings:<br/>[1] Standard Errors assume that the covariance matrix of the errors is correctly specified.<br/>[2] The smallest eigenvalue is 3.43e-19. This might indicate that there are<br/>strong multicollinearity problems or that the design matrix is singular."
      ],
      "text/plain": [
       "<class 'statsmodels.iolib.summary.Summary'>\n",
       "\"\"\"\n",
       "                            OLS Regression Results                            \n",
       "==============================================================================\n",
       "Dep. Variable:                  Sales   R-squared:                       0.902\n",
       "Model:                            OLS   Adj. R-squared:                  0.902\n",
       "Method:                 Least Squares   F-statistic:                 2.297e+05\n",
       "Date:                Fri, 25 Sep 2020   Prob (F-statistic):               0.00\n",
       "Time:                        14:46:59   Log-Likelihood:            -5.3188e+06\n",
       "No. Observations:              624663   AIC:                         1.064e+07\n",
       "Df Residuals:                  624637   BIC:                         1.064e+07\n",
       "Df Model:                          25                                         \n",
       "Covariance Type:            nonrobust                                         \n",
       "==================================================================================================\n",
       "                                     coef    std err          t      P>|t|      [0.025      0.975]\n",
       "--------------------------------------------------------------------------------------------------\n",
       "DayOfWeek                        -51.6639      1.002    -51.581      0.000     -53.627     -49.701\n",
       "Customers                          7.2238      0.005   1465.069      0.000       7.214       7.233\n",
       "Open                             820.9892      6.340    129.489      0.000     808.563     833.416\n",
       "Promo                           1106.4172      3.551    311.562      0.000    1099.457    1113.377\n",
       "SchoolHoliday                     -8.8680      4.168     -2.128      0.033     -17.037      -0.699\n",
       "Year                              87.9434      3.064     28.707      0.000      81.939      93.948\n",
       "Month                             45.4067      1.667     27.233      0.000      42.139      48.675\n",
       "Day                                0.2060      0.180      1.147      0.252      -0.146       0.558\n",
       "WeekOfYear                        -3.2886      0.382     -8.603      0.000      -4.038      -2.539\n",
       "StateHoliday_a                  -549.5832     12.302    -44.674      0.000    -573.695    -525.472\n",
       "StateHoliday_b                  -664.5198     21.194    -31.354      0.000    -706.060    -622.980\n",
       "StateHoliday_c                  -269.4992     22.030    -12.233      0.000    -312.677    -226.321\n",
       "CompetitionDistance                0.0205      0.000     99.217      0.000       0.020       0.021\n",
       "CompetitionOpenSinceMonth         -3.6127      0.580     -6.228      0.000      -4.750      -2.476\n",
       "CompetitionOpenSinceYear           0.0573      0.003     21.407      0.000       0.052       0.063\n",
       "Promo2                         -4456.1238   2830.181     -1.575      0.115      -1e+04    1090.941\n",
       "Promo2SinceWeek                    5.7733      0.160     36.035      0.000       5.459       6.087\n",
       "Promo2SinceYear                  -52.5093      1.374    -38.206      0.000     -55.203     -49.816\n",
       "StoreType_a                    -2.845e+04   1364.216    -20.854      0.000   -3.11e+04   -2.58e+04\n",
       "StoreType_b                    -3.154e+04   1364.280    -23.120      0.000   -3.42e+04   -2.89e+04\n",
       "StoreType_c                    -2.857e+04   1364.160    -20.941      0.000   -3.12e+04   -2.59e+04\n",
       "StoreType_d                    -2.754e+04   1364.155    -20.191      0.000   -3.02e+04   -2.49e+04\n",
       "Assortment_a                    -3.75e+04   1818.889    -20.618      0.000   -4.11e+04   -3.39e+04\n",
       "Assortment_b                   -4.137e+04   1818.983    -22.741      0.000   -4.49e+04   -3.78e+04\n",
       "Assortment_c                   -3.724e+04   1818.946    -20.471      0.000   -4.08e+04   -3.37e+04\n",
       "PromoInterval_0                -1.116e+05   3100.553    -36.009      0.000   -1.18e+05   -1.06e+05\n",
       "PromoInterval_Feb,May,Aug,Nov  -1469.7092    943.240     -1.558      0.119   -3318.430     379.011\n",
       "PromoInterval_Jan,Apr,Jul,Oct  -1409.8393    943.200     -1.495      0.135   -3258.481     438.802\n",
       "PromoInterval_Mar,Jun,Sept,Dec -1576.5753    943.760     -1.671      0.095   -3426.315     273.164\n",
       "==============================================================================\n",
       "Omnibus:                   170878.499   Durbin-Watson:                   1.997\n",
       "Prob(Omnibus):                  0.000   Jarque-Bera (JB):          1934774.805\n",
       "Skew:                           0.994   Prob(JB):                         0.00\n",
       "Kurtosis:                      11.390   Cond. No.                     1.29e+16\n",
       "==============================================================================\n",
       "\n",
       "Warnings:\n",
       "[1] Standard Errors assume that the covariance matrix of the errors is correctly specified.\n",
       "[2] The smallest eigenvalue is 3.43e-19. This might indicate that there are\n",
       "strong multicollinearity problems or that the design matrix is singular.\n",
       "\"\"\""
      ]
     },
     "execution_count": 54,
     "metadata": {},
     "output_type": "execute_result"
    }
   ],
   "source": [
    "result1.summary()"
   ]
  },
  {
   "cell_type": "code",
   "execution_count": 18,
   "metadata": {
    "ExecuteTime": {
     "end_time": "2020-09-26T07:14:17.192930Z",
     "start_time": "2020-09-26T07:14:17.188939Z"
    }
   },
   "outputs": [],
   "source": [
    "from sklearn.model_selection import KFold\n",
    "from sklearn.model_selection import cross_val_score"
   ]
  },
  {
   "cell_type": "code",
   "execution_count": 26,
   "metadata": {
    "ExecuteTime": {
     "end_time": "2020-09-26T07:20:13.165930Z",
     "start_time": "2020-09-26T07:20:08.950361Z"
    }
   },
   "outputs": [],
   "source": [
    "kfold = KFold(5,shuffle=True,random_state=42)\n",
    "scores_kfold = cross_val_score(lin,tr_x,tr_y,cv=kfold)"
   ]
  },
  {
   "cell_type": "code",
   "execution_count": 27,
   "metadata": {
    "ExecuteTime": {
     "end_time": "2020-09-26T07:20:15.767298Z",
     "start_time": "2020-09-26T07:20:15.762310Z"
    }
   },
   "outputs": [
    {
     "data": {
      "text/plain": [
       "array([0.90181831, 0.90177842, 0.90138921, 0.90171396, 0.90295692])"
      ]
     },
     "execution_count": 27,
     "metadata": {},
     "output_type": "execute_result"
    }
   ],
   "source": [
    "scores_kfold"
   ]
  },
  {
   "cell_type": "code",
   "execution_count": 30,
   "metadata": {
    "ExecuteTime": {
     "end_time": "2020-09-26T07:21:43.076414Z",
     "start_time": "2020-09-26T07:21:43.071389Z"
    }
   },
   "outputs": [
    {
     "data": {
      "text/plain": [
       "array([1205.42835622, 1212.64546371, 1207.10709075, 1208.85264494,\n",
       "       1206.09010427, 1208.04830999, 1194.59002288, 1205.52740756,\n",
       "       1213.50790016, 1203.36585438])"
      ]
     },
     "execution_count": 30,
     "metadata": {},
     "output_type": "execute_result"
    }
   ],
   "source": [
    "score_crossval = cross_val_score(lin,tr_x,tr_y,scoring=\"neg_mean_squared_error\",cv=10)\n",
    "score_crossval = np.sqrt(-score_crossval)\n",
    "score_crossval"
   ]
  },
  {
   "cell_type": "code",
   "execution_count": 26,
   "metadata": {
    "ExecuteTime": {
     "end_time": "2020-09-28T02:46:35.613279Z",
     "start_time": "2020-09-28T02:46:35.544504Z"
    }
   },
   "outputs": [
    {
     "data": {
      "text/plain": [
       "0.8993643333505342"
      ]
     },
     "execution_count": 26,
     "metadata": {},
     "output_type": "execute_result"
    }
   ],
   "source": [
    "lin.fit(validation_x,validation_y)\n",
    "lin.predict(validation_x)\n",
    "lin.score(validation_x,validation_y)"
   ]
  },
  {
   "cell_type": "code",
   "execution_count": 39,
   "metadata": {
    "ExecuteTime": {
     "end_time": "2020-09-26T07:24:46.730920Z",
     "start_time": "2020-09-26T07:24:46.671080Z"
    }
   },
   "outputs": [
    {
     "data": {
      "text/plain": [
       "0.9024644968450669"
      ]
     },
     "execution_count": 39,
     "metadata": {},
     "output_type": "execute_result"
    }
   ],
   "source": [
    "lin.fit(te_x,te_y)\n",
    "lin.predict(te_x)\n",
    "lin.score(te_x,te_y)"
   ]
  },
  {
   "cell_type": "code",
   "execution_count": 40,
   "metadata": {
    "ExecuteTime": {
     "end_time": "2020-09-26T07:28:38.502864Z",
     "start_time": "2020-09-26T07:28:38.498875Z"
    }
   },
   "outputs": [],
   "source": [
    "from sklearn.ensemble import RandomForestRegressor"
   ]
  },
  {
   "cell_type": "code",
   "execution_count": 41,
   "metadata": {
    "ExecuteTime": {
     "end_time": "2020-09-26T07:57:11.754790Z",
     "start_time": "2020-09-26T07:31:27.039148Z"
    }
   },
   "outputs": [
    {
     "data": {
      "text/plain": [
       "GridSearchCV(cv=5, error_score='raise-deprecating',\n",
       "       estimator=RandomForestRegressor(bootstrap=True, criterion='mse', max_depth=None,\n",
       "           max_features='auto', max_leaf_nodes=None,\n",
       "           min_impurity_decrease=0.0, min_impurity_split=None,\n",
       "           min_samples_leaf=1, min_samples_split=2,\n",
       "           min_weight_fraction_leaf=0.0, n_estimators='warn', n_jobs=None,\n",
       "           oob_score=False, random_state=None, verbose=0, warm_start=False),\n",
       "       fit_params=None, iid='warn', n_jobs=None,\n",
       "       param_grid=[{'n_estimators': [3, 10, 30], 'max_features': [2, 4, 6, 8]}, {'bootstrap': [False], 'n_estimators': [3, 10], 'max_features': [2, 3, 4]}],\n",
       "       pre_dispatch='2*n_jobs', refit=True, return_train_score=True,\n",
       "       scoring='neg_mean_squared_error', verbose=0)"
      ]
     },
     "execution_count": 41,
     "metadata": {},
     "output_type": "execute_result"
    }
   ],
   "source": [
    "from sklearn.model_selection import GridSearchCV\n",
    "\n",
    "param_grid = [\n",
    "    {'n_estimators':[3,10,30], 'max_features':[2,4,6,8]},\n",
    "    {'bootstrap':[False], 'n_estimators':[3,10],'max_features':[2,3,4]},    \n",
    "]\n",
    "for_reg = RandomForestRegressor()\n",
    "grid_search = GridSearchCV(for_reg,param_grid,cv=5,\n",
    "                          scoring='neg_mean_squared_error',\n",
    "                          return_train_score=True)\n",
    "grid_search.fit(tr_x,tr_y)"
   ]
  },
  {
   "cell_type": "code",
   "execution_count": 43,
   "metadata": {
    "ExecuteTime": {
     "end_time": "2020-09-26T07:57:49.167228Z",
     "start_time": "2020-09-26T07:57:49.162244Z"
    }
   },
   "outputs": [
    {
     "data": {
      "text/plain": [
       "RandomForestRegressor(bootstrap=True, criterion='mse', max_depth=None,\n",
       "           max_features=8, max_leaf_nodes=None, min_impurity_decrease=0.0,\n",
       "           min_impurity_split=None, min_samples_leaf=1,\n",
       "           min_samples_split=2, min_weight_fraction_leaf=0.0,\n",
       "           n_estimators=30, n_jobs=None, oob_score=False,\n",
       "           random_state=None, verbose=0, warm_start=False)"
      ]
     },
     "execution_count": 43,
     "metadata": {},
     "output_type": "execute_result"
    }
   ],
   "source": [
    "grid_search.best_estimator_"
   ]
  },
  {
   "cell_type": "code",
   "execution_count": 48,
   "metadata": {
    "ExecuteTime": {
     "end_time": "2020-09-26T08:00:29.058070Z",
     "start_time": "2020-09-26T08:00:29.054079Z"
    }
   },
   "outputs": [
    {
     "data": {
      "text/plain": [
       "181.563502826882"
      ]
     },
     "execution_count": 48,
     "metadata": {},
     "output_type": "execute_result"
    }
   ],
   "source": [
    "final_model = grid_search.best_estimator_\n",
    "final_pred = final_model.predict(tr_x)\n",
    "final_mse = mean_squared_error(tr_y,final_pred)\n",
    "final_mse = np.sqrt(final_mse)\n",
    "final_mse"
   ]
  },
  {
   "cell_type": "code",
   "execution_count": 51,
   "metadata": {
    "ExecuteTime": {
     "end_time": "2020-09-26T08:01:37.442306Z",
     "start_time": "2020-09-26T08:01:37.437318Z"
    }
   },
   "outputs": [
    {
     "data": {
      "text/plain": [
       "547.1194683366059"
      ]
     },
     "execution_count": 51,
     "metadata": {},
     "output_type": "execute_result"
    }
   ],
   "source": [
    "pred_validation = final_model.predict(validation_x)\n",
    "pred_mse = mean_squared_error(validation_y,pred_validation)\n",
    "pred_mse = np.sqrt(pred_mse)\n",
    "pred_mse"
   ]
  },
  {
   "cell_type": "code",
   "execution_count": null,
   "metadata": {},
   "outputs": [],
   "source": []
  }
 ],
 "metadata": {
  "kernelspec": {
   "display_name": "Python 3",
   "language": "python",
   "name": "python3"
  },
  "language_info": {
   "codemirror_mode": {
    "name": "ipython",
    "version": 3
   },
   "file_extension": ".py",
   "mimetype": "text/x-python",
   "name": "python",
   "nbconvert_exporter": "python",
   "pygments_lexer": "ipython3",
   "version": "3.7.1"
  },
  "varInspector": {
   "cols": {
    "lenName": 16,
    "lenType": 16,
    "lenVar": 40
   },
   "kernels_config": {
    "python": {
     "delete_cmd_postfix": "",
     "delete_cmd_prefix": "del ",
     "library": "var_list.py",
     "varRefreshCmd": "print(var_dic_list())"
    },
    "r": {
     "delete_cmd_postfix": ") ",
     "delete_cmd_prefix": "rm(",
     "library": "var_list.r",
     "varRefreshCmd": "cat(var_dic_list()) "
    }
   },
   "types_to_exclude": [
    "module",
    "function",
    "builtin_function_or_method",
    "instance",
    "_Feature"
   ],
   "window_display": false
  }
 },
 "nbformat": 4,
 "nbformat_minor": 2
}
