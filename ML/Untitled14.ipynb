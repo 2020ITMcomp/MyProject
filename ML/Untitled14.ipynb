{
 "cells": [
  {
   "cell_type": "code",
   "execution_count": 2,
   "metadata": {
    "ExecuteTime": {
     "end_time": "2020-11-18T06:18:35.077133Z",
     "start_time": "2020-11-18T06:18:34.377659Z"
    }
   },
   "outputs": [],
   "source": [
    "import numpy as np\n",
    "import pandas as pd"
   ]
  },
  {
   "cell_type": "code",
   "execution_count": 2,
   "metadata": {
    "ExecuteTime": {
     "end_time": "2020-11-18T05:11:51.894245Z",
     "start_time": "2020-11-18T05:11:51.848367Z"
    }
   },
   "outputs": [],
   "source": [
    "data = pd.read_csv('C://Users/Seung kyu Hong/Desktop/norm.csv')"
   ]
  },
  {
   "cell_type": "code",
   "execution_count": 3,
   "metadata": {
    "ExecuteTime": {
     "end_time": "2020-11-18T05:12:09.906767Z",
     "start_time": "2020-11-18T05:12:09.900784Z"
    }
   },
   "outputs": [],
   "source": [
    "from sklearn.linear_model import LinearRegression"
   ]
  },
  {
   "cell_type": "code",
   "execution_count": 4,
   "metadata": {
    "ExecuteTime": {
     "end_time": "2020-11-18T05:12:18.897519Z",
     "start_time": "2020-11-18T05:12:18.881523Z"
    }
   },
   "outputs": [],
   "source": [
    "lin = LinearRegression()"
   ]
  },
  {
   "cell_type": "code",
   "execution_count": 5,
   "metadata": {
    "ExecuteTime": {
     "end_time": "2020-11-18T05:12:29.719346Z",
     "start_time": "2020-11-18T05:12:29.679452Z"
    }
   },
   "outputs": [
    {
     "data": {
      "text/html": [
       "<div>\n",
       "<style scoped>\n",
       "    .dataframe tbody tr th:only-of-type {\n",
       "        vertical-align: middle;\n",
       "    }\n",
       "\n",
       "    .dataframe tbody tr th {\n",
       "        vertical-align: top;\n",
       "    }\n",
       "\n",
       "    .dataframe thead th {\n",
       "        text-align: right;\n",
       "    }\n",
       "</style>\n",
       "<table border=\"1\" class=\"dataframe\">\n",
       "  <thead>\n",
       "    <tr style=\"text-align: right;\">\n",
       "      <th></th>\n",
       "      <th>Date</th>\n",
       "      <th>Daily_Confirmed</th>\n",
       "      <th>Cleared</th>\n",
       "      <th>traveled</th>\n",
       "      <th>Total_Confirmed</th>\n",
       "      <th>Subway_Usage</th>\n",
       "      <th>TCS_in</th>\n",
       "      <th>Seoul_Car</th>\n",
       "      <th>Domestic_Air_Seoul_In</th>\n",
       "      <th>trendTotal</th>\n",
       "      <th>meanTemperature</th>\n",
       "      <th>dailyTemperatureRange</th>\n",
       "      <th>meanWindSpeed</th>\n",
       "      <th>meanHumid</th>\n",
       "      <th>TotalSunshineTime</th>\n",
       "      <th>IsHoliday</th>\n",
       "    </tr>\n",
       "  </thead>\n",
       "  <tbody>\n",
       "    <tr>\n",
       "      <th>0</th>\n",
       "      <td>2020.3.1</td>\n",
       "      <td>6</td>\n",
       "      <td>1</td>\n",
       "      <td>0</td>\n",
       "      <td>3736</td>\n",
       "      <td>2.312811</td>\n",
       "      <td>3.726133</td>\n",
       "      <td>3.042591</td>\n",
       "      <td>0.502188</td>\n",
       "      <td>58.14908</td>\n",
       "      <td>5.8</td>\n",
       "      <td>6.9</td>\n",
       "      <td>2.0</td>\n",
       "      <td>71.8</td>\n",
       "      <td>0.2</td>\n",
       "      <td>1</td>\n",
       "    </tr>\n",
       "    <tr>\n",
       "      <th>1</th>\n",
       "      <td>2020.3.2</td>\n",
       "      <td>6</td>\n",
       "      <td>1</td>\n",
       "      <td>0</td>\n",
       "      <td>4212</td>\n",
       "      <td>0.086076</td>\n",
       "      <td>1.129503</td>\n",
       "      <td>0.032481</td>\n",
       "      <td>0.502188</td>\n",
       "      <td>73.62835</td>\n",
       "      <td>3.4</td>\n",
       "      <td>7.6</td>\n",
       "      <td>2.7</td>\n",
       "      <td>55.3</td>\n",
       "      <td>10.0</td>\n",
       "      <td>0</td>\n",
       "    </tr>\n",
       "    <tr>\n",
       "      <th>2</th>\n",
       "      <td>2020.3.3</td>\n",
       "      <td>1</td>\n",
       "      <td>1</td>\n",
       "      <td>0</td>\n",
       "      <td>4812</td>\n",
       "      <td>0.085332</td>\n",
       "      <td>1.192147</td>\n",
       "      <td>0.234261</td>\n",
       "      <td>0.452411</td>\n",
       "      <td>61.54096</td>\n",
       "      <td>4.8</td>\n",
       "      <td>10.2</td>\n",
       "      <td>2.6</td>\n",
       "      <td>57.0</td>\n",
       "      <td>4.1</td>\n",
       "      <td>0</td>\n",
       "    </tr>\n",
       "    <tr>\n",
       "      <th>3</th>\n",
       "      <td>2020.3.4</td>\n",
       "      <td>5</td>\n",
       "      <td>2</td>\n",
       "      <td>1</td>\n",
       "      <td>5328</td>\n",
       "      <td>0.097709</td>\n",
       "      <td>1.218257</td>\n",
       "      <td>0.333109</td>\n",
       "      <td>0.452411</td>\n",
       "      <td>55.16472</td>\n",
       "      <td>2.2</td>\n",
       "      <td>5.9</td>\n",
       "      <td>3.7</td>\n",
       "      <td>53.4</td>\n",
       "      <td>6.6</td>\n",
       "      <td>0</td>\n",
       "    </tr>\n",
       "    <tr>\n",
       "      <th>4</th>\n",
       "      <td>2020.3.5</td>\n",
       "      <td>1</td>\n",
       "      <td>2</td>\n",
       "      <td>0</td>\n",
       "      <td>5766</td>\n",
       "      <td>0.076695</td>\n",
       "      <td>1.081044</td>\n",
       "      <td>0.487317</td>\n",
       "      <td>0.452411</td>\n",
       "      <td>51.35339</td>\n",
       "      <td>1.4</td>\n",
       "      <td>9.1</td>\n",
       "      <td>2.5</td>\n",
       "      <td>47.5</td>\n",
       "      <td>10.9</td>\n",
       "      <td>0</td>\n",
       "    </tr>\n",
       "  </tbody>\n",
       "</table>\n",
       "</div>"
      ],
      "text/plain": [
       "       Date  Daily_Confirmed  Cleared  traveled  Total_Confirmed  \\\n",
       "0  2020.3.1                6        1         0             3736   \n",
       "1  2020.3.2                6        1         0             4212   \n",
       "2  2020.3.3                1        1         0             4812   \n",
       "3  2020.3.4                5        2         1             5328   \n",
       "4  2020.3.5                1        2         0             5766   \n",
       "\n",
       "   Subway_Usage    TCS_in  Seoul_Car  Domestic_Air_Seoul_In  trendTotal  \\\n",
       "0      2.312811  3.726133   3.042591               0.502188    58.14908   \n",
       "1      0.086076  1.129503   0.032481               0.502188    73.62835   \n",
       "2      0.085332  1.192147   0.234261               0.452411    61.54096   \n",
       "3      0.097709  1.218257   0.333109               0.452411    55.16472   \n",
       "4      0.076695  1.081044   0.487317               0.452411    51.35339   \n",
       "\n",
       "   meanTemperature  dailyTemperatureRange  meanWindSpeed  meanHumid  \\\n",
       "0              5.8                    6.9            2.0       71.8   \n",
       "1              3.4                    7.6            2.7       55.3   \n",
       "2              4.8                   10.2            2.6       57.0   \n",
       "3              2.2                    5.9            3.7       53.4   \n",
       "4              1.4                    9.1            2.5       47.5   \n",
       "\n",
       "   TotalSunshineTime  IsHoliday  \n",
       "0                0.2          1  \n",
       "1               10.0          0  \n",
       "2                4.1          0  \n",
       "3                6.6          0  \n",
       "4               10.9          0  "
      ]
     },
     "execution_count": 5,
     "metadata": {},
     "output_type": "execute_result"
    }
   ],
   "source": [
    "data.head()"
   ]
  },
  {
   "cell_type": "code",
   "execution_count": 6,
   "metadata": {
    "ExecuteTime": {
     "end_time": "2020-11-18T05:16:44.840296Z",
     "start_time": "2020-11-18T05:16:44.837305Z"
    }
   },
   "outputs": [],
   "source": [
    "y = data['Daily_Confirmed']"
   ]
  },
  {
   "cell_type": "code",
   "execution_count": 71,
   "metadata": {
    "ExecuteTime": {
     "end_time": "2020-11-18T05:47:19.863147Z",
     "start_time": "2020-11-18T05:47:19.850182Z"
    }
   },
   "outputs": [],
   "source": [
    "x = data[['Cleared', 'traveled','Total_Confirmed',\n",
    "       'Subway_Usage',  'Seoul_Car', \n",
    "       'trendTotal', 'meanTemperature', 'dailyTemperatureRange',\n",
    "       'meanWindSpeed', 'TotalSunshineTime', 'IsHoliday']]"
   ]
  },
  {
   "cell_type": "code",
   "execution_count": 72,
   "metadata": {
    "ExecuteTime": {
     "end_time": "2020-11-18T05:47:21.432615Z",
     "start_time": "2020-11-18T05:47:21.422643Z"
    }
   },
   "outputs": [],
   "source": [
    "trainx = x[:200]\n",
    "trainy = y[:200]\n",
    "vx = x[200:]\n",
    "vy = y[200:]"
   ]
  },
  {
   "cell_type": "code",
   "execution_count": 48,
   "metadata": {
    "ExecuteTime": {
     "end_time": "2020-11-18T05:25:24.522373Z",
     "start_time": "2020-11-18T05:25:24.512439Z"
    }
   },
   "outputs": [
    {
     "data": {
      "text/plain": [
       "LinearRegression(copy_X=True, fit_intercept=True, n_jobs=None,\n",
       "         normalize=False)"
      ]
     },
     "execution_count": 48,
     "metadata": {},
     "output_type": "execute_result"
    }
   ],
   "source": [
    "lin.fit(trainx,trainy)"
   ]
  },
  {
   "cell_type": "code",
   "execution_count": 49,
   "metadata": {
    "ExecuteTime": {
     "end_time": "2020-11-18T05:25:25.073185Z",
     "start_time": "2020-11-18T05:25:25.060220Z"
    },
    "scrolled": true
   },
   "outputs": [],
   "source": [
    "pre = lin.predict(vx)"
   ]
  },
  {
   "cell_type": "code",
   "execution_count": 14,
   "metadata": {
    "ExecuteTime": {
     "end_time": "2020-11-18T05:18:50.841090Z",
     "start_time": "2020-11-18T05:18:50.832116Z"
    }
   },
   "outputs": [],
   "source": [
    "pre = abs(pre)"
   ]
  },
  {
   "cell_type": "code",
   "execution_count": 45,
   "metadata": {
    "ExecuteTime": {
     "end_time": "2020-11-18T05:24:50.423608Z",
     "start_time": "2020-11-18T05:24:50.382719Z"
    },
    "scrolled": true
   },
   "outputs": [
    {
     "data": {
      "text/html": [
       "<div>\n",
       "<style scoped>\n",
       "    .dataframe tbody tr th:only-of-type {\n",
       "        vertical-align: middle;\n",
       "    }\n",
       "\n",
       "    .dataframe tbody tr th {\n",
       "        vertical-align: top;\n",
       "    }\n",
       "\n",
       "    .dataframe thead th {\n",
       "        text-align: right;\n",
       "    }\n",
       "</style>\n",
       "<table border=\"1\" class=\"dataframe\">\n",
       "  <thead>\n",
       "    <tr style=\"text-align: right;\">\n",
       "      <th></th>\n",
       "      <th>Date</th>\n",
       "      <th>Daily_Confirmed</th>\n",
       "      <th>Cleared</th>\n",
       "      <th>traveled</th>\n",
       "      <th>Total_Confirmed</th>\n",
       "      <th>Subway_Usage</th>\n",
       "      <th>TCS_in</th>\n",
       "      <th>Seoul_Car</th>\n",
       "      <th>Domestic_Air_Seoul_In</th>\n",
       "      <th>trendTotal</th>\n",
       "      <th>meanTemperature</th>\n",
       "      <th>dailyTemperatureRange</th>\n",
       "      <th>meanWindSpeed</th>\n",
       "      <th>meanHumid</th>\n",
       "      <th>TotalSunshineTime</th>\n",
       "      <th>IsHoliday</th>\n",
       "    </tr>\n",
       "  </thead>\n",
       "  <tbody>\n",
       "    <tr>\n",
       "      <th>170</th>\n",
       "      <td>2020.8.18</td>\n",
       "      <td>132</td>\n",
       "      <td>2</td>\n",
       "      <td>1</td>\n",
       "      <td>15761</td>\n",
       "      <td>0.627193</td>\n",
       "      <td>1.009561</td>\n",
       "      <td>0.511100</td>\n",
       "      <td>1.248840</td>\n",
       "      <td>26.87335</td>\n",
       "      <td>27.5</td>\n",
       "      <td>7.9</td>\n",
       "      <td>1.6</td>\n",
       "      <td>76.3</td>\n",
       "      <td>7.9</td>\n",
       "      <td>0</td>\n",
       "    </tr>\n",
       "    <tr>\n",
       "      <th>171</th>\n",
       "      <td>2020.8.19</td>\n",
       "      <td>151</td>\n",
       "      <td>15</td>\n",
       "      <td>0</td>\n",
       "      <td>16058</td>\n",
       "      <td>0.457222</td>\n",
       "      <td>0.797885</td>\n",
       "      <td>0.552180</td>\n",
       "      <td>1.248840</td>\n",
       "      <td>27.07558</td>\n",
       "      <td>27.1</td>\n",
       "      <td>7.8</td>\n",
       "      <td>2.0</td>\n",
       "      <td>76.8</td>\n",
       "      <td>9.4</td>\n",
       "      <td>0</td>\n",
       "    </tr>\n",
       "    <tr>\n",
       "      <th>172</th>\n",
       "      <td>2020.8.20</td>\n",
       "      <td>135</td>\n",
       "      <td>13</td>\n",
       "      <td>1</td>\n",
       "      <td>16346</td>\n",
       "      <td>0.342441</td>\n",
       "      <td>0.751818</td>\n",
       "      <td>0.498080</td>\n",
       "      <td>1.248840</td>\n",
       "      <td>25.83358</td>\n",
       "      <td>27.7</td>\n",
       "      <td>6.7</td>\n",
       "      <td>1.7</td>\n",
       "      <td>76.0</td>\n",
       "      <td>3.1</td>\n",
       "      <td>0</td>\n",
       "    </tr>\n",
       "    <tr>\n",
       "      <th>173</th>\n",
       "      <td>2020.8.21</td>\n",
       "      <td>126</td>\n",
       "      <td>21</td>\n",
       "      <td>2</td>\n",
       "      <td>16670</td>\n",
       "      <td>0.329465</td>\n",
       "      <td>1.344958</td>\n",
       "      <td>0.411213</td>\n",
       "      <td>1.348394</td>\n",
       "      <td>24.17452</td>\n",
       "      <td>26.6</td>\n",
       "      <td>4.0</td>\n",
       "      <td>1.6</td>\n",
       "      <td>83.1</td>\n",
       "      <td>0.8</td>\n",
       "      <td>0</td>\n",
       "    </tr>\n",
       "    <tr>\n",
       "      <th>174</th>\n",
       "      <td>2020.8.22</td>\n",
       "      <td>128</td>\n",
       "      <td>17</td>\n",
       "      <td>2</td>\n",
       "      <td>17002</td>\n",
       "      <td>1.491269</td>\n",
       "      <td>0.164130</td>\n",
       "      <td>1.307364</td>\n",
       "      <td>1.497724</td>\n",
       "      <td>18.66166</td>\n",
       "      <td>24.3</td>\n",
       "      <td>5.9</td>\n",
       "      <td>2.1</td>\n",
       "      <td>87.4</td>\n",
       "      <td>0.6</td>\n",
       "      <td>1</td>\n",
       "    </tr>\n",
       "    <tr>\n",
       "      <th>175</th>\n",
       "      <td>2020.8.23</td>\n",
       "      <td>140</td>\n",
       "      <td>0</td>\n",
       "      <td>0</td>\n",
       "      <td>17399</td>\n",
       "      <td>2.109907</td>\n",
       "      <td>1.373562</td>\n",
       "      <td>2.866337</td>\n",
       "      <td>1.497724</td>\n",
       "      <td>20.30583</td>\n",
       "      <td>25.3</td>\n",
       "      <td>8.4</td>\n",
       "      <td>1.9</td>\n",
       "      <td>78.4</td>\n",
       "      <td>6.8</td>\n",
       "      <td>1</td>\n",
       "    </tr>\n",
       "    <tr>\n",
       "      <th>176</th>\n",
       "      <td>2020.8.24</td>\n",
       "      <td>97</td>\n",
       "      <td>0</td>\n",
       "      <td>0</td>\n",
       "      <td>17665</td>\n",
       "      <td>0.159624</td>\n",
       "      <td>0.558650</td>\n",
       "      <td>0.334403</td>\n",
       "      <td>1.497724</td>\n",
       "      <td>27.65282</td>\n",
       "      <td>27.8</td>\n",
       "      <td>8.3</td>\n",
       "      <td>2.2</td>\n",
       "      <td>71.6</td>\n",
       "      <td>8.8</td>\n",
       "      <td>0</td>\n",
       "    </tr>\n",
       "    <tr>\n",
       "      <th>177</th>\n",
       "      <td>2020.8.25</td>\n",
       "      <td>134</td>\n",
       "      <td>32</td>\n",
       "      <td>2</td>\n",
       "      <td>17945</td>\n",
       "      <td>0.188716</td>\n",
       "      <td>0.559882</td>\n",
       "      <td>0.077088</td>\n",
       "      <td>1.447947</td>\n",
       "      <td>24.08739</td>\n",
       "      <td>29.9</td>\n",
       "      <td>8.5</td>\n",
       "      <td>2.1</td>\n",
       "      <td>69.5</td>\n",
       "      <td>7.6</td>\n",
       "      <td>0</td>\n",
       "    </tr>\n",
       "    <tr>\n",
       "      <th>178</th>\n",
       "      <td>2020.8.26</td>\n",
       "      <td>112</td>\n",
       "      <td>28</td>\n",
       "      <td>0</td>\n",
       "      <td>18265</td>\n",
       "      <td>0.084154</td>\n",
       "      <td>0.493027</td>\n",
       "      <td>0.237281</td>\n",
       "      <td>1.447947</td>\n",
       "      <td>23.35181</td>\n",
       "      <td>30.2</td>\n",
       "      <td>7.5</td>\n",
       "      <td>3.4</td>\n",
       "      <td>68.3</td>\n",
       "      <td>7.5</td>\n",
       "      <td>0</td>\n",
       "    </tr>\n",
       "    <tr>\n",
       "      <th>179</th>\n",
       "      <td>2020.8.27</td>\n",
       "      <td>154</td>\n",
       "      <td>34</td>\n",
       "      <td>1</td>\n",
       "      <td>18706</td>\n",
       "      <td>0.186511</td>\n",
       "      <td>1.075632</td>\n",
       "      <td>1.047296</td>\n",
       "      <td>1.447947</td>\n",
       "      <td>27.94084</td>\n",
       "      <td>27.1</td>\n",
       "      <td>3.0</td>\n",
       "      <td>3.6</td>\n",
       "      <td>84.6</td>\n",
       "      <td>0.5</td>\n",
       "      <td>0</td>\n",
       "    </tr>\n",
       "    <tr>\n",
       "      <th>180</th>\n",
       "      <td>2020.8.28</td>\n",
       "      <td>146</td>\n",
       "      <td>29</td>\n",
       "      <td>2</td>\n",
       "      <td>19077</td>\n",
       "      <td>0.102027</td>\n",
       "      <td>0.815248</td>\n",
       "      <td>0.054765</td>\n",
       "      <td>1.497724</td>\n",
       "      <td>25.13610</td>\n",
       "      <td>27.3</td>\n",
       "      <td>3.7</td>\n",
       "      <td>1.6</td>\n",
       "      <td>89.1</td>\n",
       "      <td>2.0</td>\n",
       "      <td>0</td>\n",
       "    </tr>\n",
       "    <tr>\n",
       "      <th>181</th>\n",
       "      <td>2020.8.29</td>\n",
       "      <td>125</td>\n",
       "      <td>125</td>\n",
       "      <td>5</td>\n",
       "      <td>19400</td>\n",
       "      <td>1.667838</td>\n",
       "      <td>0.545208</td>\n",
       "      <td>1.047082</td>\n",
       "      <td>1.497724</td>\n",
       "      <td>15.71298</td>\n",
       "      <td>26.8</td>\n",
       "      <td>3.5</td>\n",
       "      <td>1.3</td>\n",
       "      <td>90.1</td>\n",
       "      <td>1.7</td>\n",
       "      <td>1</td>\n",
       "    </tr>\n",
       "    <tr>\n",
       "      <th>182</th>\n",
       "      <td>2020.8.30</td>\n",
       "      <td>116</td>\n",
       "      <td>1</td>\n",
       "      <td>1</td>\n",
       "      <td>19699</td>\n",
       "      <td>2.306372</td>\n",
       "      <td>1.761720</td>\n",
       "      <td>2.782851</td>\n",
       "      <td>1.547501</td>\n",
       "      <td>14.26435</td>\n",
       "      <td>26.8</td>\n",
       "      <td>6.2</td>\n",
       "      <td>2.1</td>\n",
       "      <td>88.8</td>\n",
       "      <td>2.4</td>\n",
       "      <td>1</td>\n",
       "    </tr>\n",
       "    <tr>\n",
       "      <th>183</th>\n",
       "      <td>2020.8.31</td>\n",
       "      <td>94</td>\n",
       "      <td>11</td>\n",
       "      <td>1</td>\n",
       "      <td>19947</td>\n",
       "      <td>0.100450</td>\n",
       "      <td>1.277388</td>\n",
       "      <td>0.163516</td>\n",
       "      <td>1.348394</td>\n",
       "      <td>18.97218</td>\n",
       "      <td>26.4</td>\n",
       "      <td>6.2</td>\n",
       "      <td>2.8</td>\n",
       "      <td>77.9</td>\n",
       "      <td>1.9</td>\n",
       "      <td>0</td>\n",
       "    </tr>\n",
       "    <tr>\n",
       "      <th>184</th>\n",
       "      <td>2020.9.1</td>\n",
       "      <td>94</td>\n",
       "      <td>102</td>\n",
       "      <td>3</td>\n",
       "      <td>20182</td>\n",
       "      <td>0.161727</td>\n",
       "      <td>0.163783</td>\n",
       "      <td>0.144375</td>\n",
       "      <td>0.551964</td>\n",
       "      <td>16.65340</td>\n",
       "      <td>26.6</td>\n",
       "      <td>5.7</td>\n",
       "      <td>1.9</td>\n",
       "      <td>72.4</td>\n",
       "      <td>1.0</td>\n",
       "      <td>0</td>\n",
       "    </tr>\n",
       "    <tr>\n",
       "      <th>185</th>\n",
       "      <td>2020.9.2</td>\n",
       "      <td>101</td>\n",
       "      <td>47</td>\n",
       "      <td>0</td>\n",
       "      <td>20449</td>\n",
       "      <td>0.295726</td>\n",
       "      <td>1.054927</td>\n",
       "      <td>2.083269</td>\n",
       "      <td>0.751072</td>\n",
       "      <td>15.66541</td>\n",
       "      <td>24.3</td>\n",
       "      <td>3.8</td>\n",
       "      <td>2.3</td>\n",
       "      <td>91.3</td>\n",
       "      <td>0.0</td>\n",
       "      <td>0</td>\n",
       "    </tr>\n",
       "    <tr>\n",
       "      <th>186</th>\n",
       "      <td>2020.9.3</td>\n",
       "      <td>69</td>\n",
       "      <td>63</td>\n",
       "      <td>0</td>\n",
       "      <td>20644</td>\n",
       "      <td>0.310716</td>\n",
       "      <td>0.991188</td>\n",
       "      <td>0.091781</td>\n",
       "      <td>0.751072</td>\n",
       "      <td>14.55981</td>\n",
       "      <td>22.7</td>\n",
       "      <td>5.6</td>\n",
       "      <td>4.8</td>\n",
       "      <td>82.0</td>\n",
       "      <td>2.8</td>\n",
       "      <td>0</td>\n",
       "    </tr>\n",
       "    <tr>\n",
       "      <th>187</th>\n",
       "      <td>2020.9.4</td>\n",
       "      <td>68</td>\n",
       "      <td>65</td>\n",
       "      <td>0</td>\n",
       "      <td>20842</td>\n",
       "      <td>0.044950</td>\n",
       "      <td>1.225694</td>\n",
       "      <td>0.675339</td>\n",
       "      <td>0.751072</td>\n",
       "      <td>16.59354</td>\n",
       "      <td>23.3</td>\n",
       "      <td>7.6</td>\n",
       "      <td>2.7</td>\n",
       "      <td>63.9</td>\n",
       "      <td>10.1</td>\n",
       "      <td>0</td>\n",
       "    </tr>\n",
       "    <tr>\n",
       "      <th>188</th>\n",
       "      <td>2020.9.5</td>\n",
       "      <td>51</td>\n",
       "      <td>44</td>\n",
       "      <td>1</td>\n",
       "      <td>21010</td>\n",
       "      <td>1.532926</td>\n",
       "      <td>0.054646</td>\n",
       "      <td>0.654803</td>\n",
       "      <td>0.751072</td>\n",
       "      <td>8.88886</td>\n",
       "      <td>23.3</td>\n",
       "      <td>8.1</td>\n",
       "      <td>2.0</td>\n",
       "      <td>66.6</td>\n",
       "      <td>3.3</td>\n",
       "      <td>1</td>\n",
       "    </tr>\n",
       "    <tr>\n",
       "      <th>189</th>\n",
       "      <td>2020.9.6</td>\n",
       "      <td>63</td>\n",
       "      <td>5</td>\n",
       "      <td>1</td>\n",
       "      <td>21177</td>\n",
       "      <td>2.227468</td>\n",
       "      <td>2.068832</td>\n",
       "      <td>0.074087</td>\n",
       "      <td>0.751072</td>\n",
       "      <td>8.48787</td>\n",
       "      <td>21.7</td>\n",
       "      <td>4.9</td>\n",
       "      <td>2.7</td>\n",
       "      <td>80.0</td>\n",
       "      <td>0.0</td>\n",
       "      <td>1</td>\n",
       "    </tr>\n",
       "    <tr>\n",
       "      <th>190</th>\n",
       "      <td>2020.9.7</td>\n",
       "      <td>48</td>\n",
       "      <td>41</td>\n",
       "      <td>1</td>\n",
       "      <td>21296</td>\n",
       "      <td>0.316848</td>\n",
       "      <td>1.966727</td>\n",
       "      <td>1.036961</td>\n",
       "      <td>0.701295</td>\n",
       "      <td>11.38968</td>\n",
       "      <td>19.2</td>\n",
       "      <td>3.1</td>\n",
       "      <td>4.2</td>\n",
       "      <td>93.5</td>\n",
       "      <td>0.0</td>\n",
       "      <td>0</td>\n",
       "    </tr>\n",
       "    <tr>\n",
       "      <th>191</th>\n",
       "      <td>2020.9.8</td>\n",
       "      <td>67</td>\n",
       "      <td>171</td>\n",
       "      <td>0</td>\n",
       "      <td>21432</td>\n",
       "      <td>0.063823</td>\n",
       "      <td>0.111207</td>\n",
       "      <td>2.884597</td>\n",
       "      <td>0.701295</td>\n",
       "      <td>11.30267</td>\n",
       "      <td>23.4</td>\n",
       "      <td>5.9</td>\n",
       "      <td>4.2</td>\n",
       "      <td>71.5</td>\n",
       "      <td>9.5</td>\n",
       "      <td>0</td>\n",
       "    </tr>\n",
       "    <tr>\n",
       "      <th>192</th>\n",
       "      <td>2020.9.9</td>\n",
       "      <td>49</td>\n",
       "      <td>206</td>\n",
       "      <td>2</td>\n",
       "      <td>21588</td>\n",
       "      <td>0.002339</td>\n",
       "      <td>0.111633</td>\n",
       "      <td>1.132515</td>\n",
       "      <td>0.701295</td>\n",
       "      <td>11.08923</td>\n",
       "      <td>21.1</td>\n",
       "      <td>6.3</td>\n",
       "      <td>2.1</td>\n",
       "      <td>83.4</td>\n",
       "      <td>3.1</td>\n",
       "      <td>0</td>\n",
       "    </tr>\n",
       "    <tr>\n",
       "      <th>193</th>\n",
       "      <td>2020.9.10</td>\n",
       "      <td>48</td>\n",
       "      <td>119</td>\n",
       "      <td>2</td>\n",
       "      <td>21743</td>\n",
       "      <td>0.082573</td>\n",
       "      <td>0.490223</td>\n",
       "      <td>0.169862</td>\n",
       "      <td>0.701295</td>\n",
       "      <td>10.58296</td>\n",
       "      <td>22.8</td>\n",
       "      <td>8.2</td>\n",
       "      <td>2.0</td>\n",
       "      <td>75.8</td>\n",
       "      <td>9.0</td>\n",
       "      <td>0</td>\n",
       "    </tr>\n",
       "    <tr>\n",
       "      <th>194</th>\n",
       "      <td>2020.9.11</td>\n",
       "      <td>63</td>\n",
       "      <td>75</td>\n",
       "      <td>0</td>\n",
       "      <td>21919</td>\n",
       "      <td>0.199039</td>\n",
       "      <td>1.273212</td>\n",
       "      <td>0.203338</td>\n",
       "      <td>0.701295</td>\n",
       "      <td>10.33356</td>\n",
       "      <td>22.4</td>\n",
       "      <td>7.9</td>\n",
       "      <td>2.8</td>\n",
       "      <td>72.6</td>\n",
       "      <td>4.5</td>\n",
       "      <td>0</td>\n",
       "    </tr>\n",
       "    <tr>\n",
       "      <th>195</th>\n",
       "      <td>2020.9.12</td>\n",
       "      <td>50</td>\n",
       "      <td>234</td>\n",
       "      <td>1</td>\n",
       "      <td>22055</td>\n",
       "      <td>1.407791</td>\n",
       "      <td>0.430008</td>\n",
       "      <td>0.015917</td>\n",
       "      <td>0.701295</td>\n",
       "      <td>8.86901</td>\n",
       "      <td>20.2</td>\n",
       "      <td>5.1</td>\n",
       "      <td>2.0</td>\n",
       "      <td>83.8</td>\n",
       "      <td>0.0</td>\n",
       "      <td>1</td>\n",
       "    </tr>\n",
       "    <tr>\n",
       "      <th>196</th>\n",
       "      <td>2020.9.13</td>\n",
       "      <td>31</td>\n",
       "      <td>41</td>\n",
       "      <td>0</td>\n",
       "      <td>22176</td>\n",
       "      <td>1.966996</td>\n",
       "      <td>0.211288</td>\n",
       "      <td>0.022660</td>\n",
       "      <td>0.701295</td>\n",
       "      <td>12.20596</td>\n",
       "      <td>21.5</td>\n",
       "      <td>9.9</td>\n",
       "      <td>1.9</td>\n",
       "      <td>70.4</td>\n",
       "      <td>9.8</td>\n",
       "      <td>1</td>\n",
       "    </tr>\n",
       "    <tr>\n",
       "      <th>197</th>\n",
       "      <td>2020.9.14</td>\n",
       "      <td>41</td>\n",
       "      <td>164</td>\n",
       "      <td>2</td>\n",
       "      <td>22285</td>\n",
       "      <td>0.339413</td>\n",
       "      <td>0.575970</td>\n",
       "      <td>1.090208</td>\n",
       "      <td>0.651518</td>\n",
       "      <td>9.49758</td>\n",
       "      <td>21.3</td>\n",
       "      <td>7.3</td>\n",
       "      <td>1.8</td>\n",
       "      <td>79.3</td>\n",
       "      <td>5.7</td>\n",
       "      <td>0</td>\n",
       "    </tr>\n",
       "    <tr>\n",
       "      <th>198</th>\n",
       "      <td>2020.9.15</td>\n",
       "      <td>32</td>\n",
       "      <td>217</td>\n",
       "      <td>1</td>\n",
       "      <td>22391</td>\n",
       "      <td>0.425927</td>\n",
       "      <td>0.559350</td>\n",
       "      <td>2.265905</td>\n",
       "      <td>0.651518</td>\n",
       "      <td>8.54286</td>\n",
       "      <td>23.0</td>\n",
       "      <td>8.8</td>\n",
       "      <td>1.6</td>\n",
       "      <td>76.4</td>\n",
       "      <td>5.1</td>\n",
       "      <td>0</td>\n",
       "    </tr>\n",
       "    <tr>\n",
       "      <th>199</th>\n",
       "      <td>2020.9.16</td>\n",
       "      <td>51</td>\n",
       "      <td>201</td>\n",
       "      <td>1</td>\n",
       "      <td>22504</td>\n",
       "      <td>0.377669</td>\n",
       "      <td>0.313331</td>\n",
       "      <td>0.151933</td>\n",
       "      <td>0.651518</td>\n",
       "      <td>8.33876</td>\n",
       "      <td>22.5</td>\n",
       "      <td>3.6</td>\n",
       "      <td>1.9</td>\n",
       "      <td>79.9</td>\n",
       "      <td>0.3</td>\n",
       "      <td>0</td>\n",
       "    </tr>\n",
       "    <tr>\n",
       "      <th>200</th>\n",
       "      <td>2020.9.17</td>\n",
       "      <td>63</td>\n",
       "      <td>54</td>\n",
       "      <td>0</td>\n",
       "      <td>22657</td>\n",
       "      <td>0.464662</td>\n",
       "      <td>0.492276</td>\n",
       "      <td>0.179445</td>\n",
       "      <td>0.651518</td>\n",
       "      <td>8.97690</td>\n",
       "      <td>21.3</td>\n",
       "      <td>3.5</td>\n",
       "      <td>2.1</td>\n",
       "      <td>70.3</td>\n",
       "      <td>0.7</td>\n",
       "      <td>0</td>\n",
       "    </tr>\n",
       "    <tr>\n",
       "      <th>201</th>\n",
       "      <td>2020.9.18</td>\n",
       "      <td>46</td>\n",
       "      <td>93</td>\n",
       "      <td>2</td>\n",
       "      <td>22783</td>\n",
       "      <td>0.671354</td>\n",
       "      <td>1.545433</td>\n",
       "      <td>0.165825</td>\n",
       "      <td>0.551964</td>\n",
       "      <td>7.70399</td>\n",
       "      <td>21.5</td>\n",
       "      <td>7.7</td>\n",
       "      <td>2.8</td>\n",
       "      <td>62.0</td>\n",
       "      <td>9.8</td>\n",
       "      <td>0</td>\n",
       "    </tr>\n",
       "    <tr>\n",
       "      <th>202</th>\n",
       "      <td>2020.9.19</td>\n",
       "      <td>40</td>\n",
       "      <td>47</td>\n",
       "      <td>0</td>\n",
       "      <td>22893</td>\n",
       "      <td>0.856924</td>\n",
       "      <td>1.459510</td>\n",
       "      <td>0.251311</td>\n",
       "      <td>0.502188</td>\n",
       "      <td>6.20943</td>\n",
       "      <td>21.2</td>\n",
       "      <td>8.6</td>\n",
       "      <td>2.2</td>\n",
       "      <td>59.3</td>\n",
       "      <td>9.7</td>\n",
       "      <td>1</td>\n",
       "    </tr>\n",
       "    <tr>\n",
       "      <th>203</th>\n",
       "      <td>2020.9.20</td>\n",
       "      <td>28</td>\n",
       "      <td>73</td>\n",
       "      <td>2</td>\n",
       "      <td>22975</td>\n",
       "      <td>1.705150</td>\n",
       "      <td>0.156055</td>\n",
       "      <td>0.256218</td>\n",
       "      <td>0.502188</td>\n",
       "      <td>6.50318</td>\n",
       "      <td>19.7</td>\n",
       "      <td>9.3</td>\n",
       "      <td>2.0</td>\n",
       "      <td>57.6</td>\n",
       "      <td>11.4</td>\n",
       "      <td>1</td>\n",
       "    </tr>\n",
       "    <tr>\n",
       "      <th>204</th>\n",
       "      <td>2020.9.21</td>\n",
       "      <td>23</td>\n",
       "      <td>24</td>\n",
       "      <td>1</td>\n",
       "      <td>23045</td>\n",
       "      <td>0.606979</td>\n",
       "      <td>0.791723</td>\n",
       "      <td>0.529596</td>\n",
       "      <td>0.551964</td>\n",
       "      <td>8.41903</td>\n",
       "      <td>19.1</td>\n",
       "      <td>11.7</td>\n",
       "      <td>1.7</td>\n",
       "      <td>56.1</td>\n",
       "      <td>9.6</td>\n",
       "      <td>0</td>\n",
       "    </tr>\n",
       "    <tr>\n",
       "      <th>205</th>\n",
       "      <td>2020.9.22</td>\n",
       "      <td>21</td>\n",
       "      <td>49</td>\n",
       "      <td>0</td>\n",
       "      <td>23106</td>\n",
       "      <td>0.675608</td>\n",
       "      <td>0.750840</td>\n",
       "      <td>2.030953</td>\n",
       "      <td>0.551964</td>\n",
       "      <td>8.59333</td>\n",
       "      <td>20.2</td>\n",
       "      <td>10.1</td>\n",
       "      <td>2.8</td>\n",
       "      <td>55.3</td>\n",
       "      <td>10.7</td>\n",
       "      <td>0</td>\n",
       "    </tr>\n",
       "    <tr>\n",
       "      <th>206</th>\n",
       "      <td>2020.9.23</td>\n",
       "      <td>40</td>\n",
       "      <td>76</td>\n",
       "      <td>0</td>\n",
       "      <td>23216</td>\n",
       "      <td>0.712898</td>\n",
       "      <td>0.780897</td>\n",
       "      <td>0.172658</td>\n",
       "      <td>0.601741</td>\n",
       "      <td>8.04612</td>\n",
       "      <td>19.2</td>\n",
       "      <td>8.6</td>\n",
       "      <td>3.3</td>\n",
       "      <td>59.9</td>\n",
       "      <td>7.2</td>\n",
       "      <td>0</td>\n",
       "    </tr>\n",
       "    <tr>\n",
       "      <th>207</th>\n",
       "      <td>2020.9.24</td>\n",
       "      <td>39</td>\n",
       "      <td>63</td>\n",
       "      <td>1</td>\n",
       "      <td>23341</td>\n",
       "      <td>0.723577</td>\n",
       "      <td>0.870273</td>\n",
       "      <td>0.063290</td>\n",
       "      <td>0.551964</td>\n",
       "      <td>7.43765</td>\n",
       "      <td>20.6</td>\n",
       "      <td>8.6</td>\n",
       "      <td>3.7</td>\n",
       "      <td>59.6</td>\n",
       "      <td>8.0</td>\n",
       "      <td>0</td>\n",
       "    </tr>\n",
       "    <tr>\n",
       "      <th>208</th>\n",
       "      <td>2020.9.25</td>\n",
       "      <td>57</td>\n",
       "      <td>55</td>\n",
       "      <td>1</td>\n",
       "      <td>23455</td>\n",
       "      <td>0.914788</td>\n",
       "      <td>1.588652</td>\n",
       "      <td>0.033297</td>\n",
       "      <td>0.701295</td>\n",
       "      <td>6.46030</td>\n",
       "      <td>20.1</td>\n",
       "      <td>8.8</td>\n",
       "      <td>2.5</td>\n",
       "      <td>64.1</td>\n",
       "      <td>3.5</td>\n",
       "      <td>0</td>\n",
       "    </tr>\n",
       "    <tr>\n",
       "      <th>209</th>\n",
       "      <td>2020.9.26</td>\n",
       "      <td>26</td>\n",
       "      <td>88</td>\n",
       "      <td>0</td>\n",
       "      <td>23516</td>\n",
       "      <td>0.715877</td>\n",
       "      <td>0.918835</td>\n",
       "      <td>0.149173</td>\n",
       "      <td>0.701295</td>\n",
       "      <td>5.42258</td>\n",
       "      <td>19.3</td>\n",
       "      <td>10.0</td>\n",
       "      <td>2.4</td>\n",
       "      <td>62.5</td>\n",
       "      <td>8.0</td>\n",
       "      <td>1</td>\n",
       "    </tr>\n",
       "    <tr>\n",
       "      <th>210</th>\n",
       "      <td>2020.9.27</td>\n",
       "      <td>34</td>\n",
       "      <td>10</td>\n",
       "      <td>0</td>\n",
       "      <td>23611</td>\n",
       "      <td>1.612476</td>\n",
       "      <td>0.630253</td>\n",
       "      <td>0.290047</td>\n",
       "      <td>0.701295</td>\n",
       "      <td>5.23013</td>\n",
       "      <td>20.4</td>\n",
       "      <td>10.9</td>\n",
       "      <td>2.0</td>\n",
       "      <td>63.3</td>\n",
       "      <td>9.8</td>\n",
       "      <td>1</td>\n",
       "    </tr>\n",
       "    <tr>\n",
       "      <th>211</th>\n",
       "      <td>2020.9.28</td>\n",
       "      <td>19</td>\n",
       "      <td>4</td>\n",
       "      <td>0</td>\n",
       "      <td>23661</td>\n",
       "      <td>0.744387</td>\n",
       "      <td>1.275023</td>\n",
       "      <td>0.374902</td>\n",
       "      <td>0.850625</td>\n",
       "      <td>6.45544</td>\n",
       "      <td>20.7</td>\n",
       "      <td>10.8</td>\n",
       "      <td>2.0</td>\n",
       "      <td>66.0</td>\n",
       "      <td>10.5</td>\n",
       "      <td>0</td>\n",
       "    </tr>\n",
       "    <tr>\n",
       "      <th>212</th>\n",
       "      <td>2020.9.29</td>\n",
       "      <td>11</td>\n",
       "      <td>71</td>\n",
       "      <td>2</td>\n",
       "      <td>23699</td>\n",
       "      <td>0.676530</td>\n",
       "      <td>0.099549</td>\n",
       "      <td>1.967561</td>\n",
       "      <td>2.244376</td>\n",
       "      <td>6.47436</td>\n",
       "      <td>19.6</td>\n",
       "      <td>8.6</td>\n",
       "      <td>1.9</td>\n",
       "      <td>67.6</td>\n",
       "      <td>6.3</td>\n",
       "      <td>0</td>\n",
       "    </tr>\n",
       "    <tr>\n",
       "      <th>213</th>\n",
       "      <td>2020.9.30</td>\n",
       "      <td>51</td>\n",
       "      <td>15</td>\n",
       "      <td>1</td>\n",
       "      <td>23812</td>\n",
       "      <td>1.871490</td>\n",
       "      <td>2.127415</td>\n",
       "      <td>0.081537</td>\n",
       "      <td>2.294153</td>\n",
       "      <td>6.55795</td>\n",
       "      <td>19.6</td>\n",
       "      <td>9.5</td>\n",
       "      <td>1.7</td>\n",
       "      <td>78.0</td>\n",
       "      <td>4.9</td>\n",
       "      <td>1</td>\n",
       "    </tr>\n",
       "  </tbody>\n",
       "</table>\n",
       "</div>"
      ],
      "text/plain": [
       "          Date  Daily_Confirmed  Cleared  traveled  Total_Confirmed  \\\n",
       "170  2020.8.18              132        2         1            15761   \n",
       "171  2020.8.19              151       15         0            16058   \n",
       "172  2020.8.20              135       13         1            16346   \n",
       "173  2020.8.21              126       21         2            16670   \n",
       "174  2020.8.22              128       17         2            17002   \n",
       "175  2020.8.23              140        0         0            17399   \n",
       "176  2020.8.24               97        0         0            17665   \n",
       "177  2020.8.25              134       32         2            17945   \n",
       "178  2020.8.26              112       28         0            18265   \n",
       "179  2020.8.27              154       34         1            18706   \n",
       "180  2020.8.28              146       29         2            19077   \n",
       "181  2020.8.29              125      125         5            19400   \n",
       "182  2020.8.30              116        1         1            19699   \n",
       "183  2020.8.31               94       11         1            19947   \n",
       "184   2020.9.1               94      102         3            20182   \n",
       "185   2020.9.2              101       47         0            20449   \n",
       "186   2020.9.3               69       63         0            20644   \n",
       "187   2020.9.4               68       65         0            20842   \n",
       "188   2020.9.5               51       44         1            21010   \n",
       "189   2020.9.6               63        5         1            21177   \n",
       "190   2020.9.7               48       41         1            21296   \n",
       "191   2020.9.8               67      171         0            21432   \n",
       "192   2020.9.9               49      206         2            21588   \n",
       "193  2020.9.10               48      119         2            21743   \n",
       "194  2020.9.11               63       75         0            21919   \n",
       "195  2020.9.12               50      234         1            22055   \n",
       "196  2020.9.13               31       41         0            22176   \n",
       "197  2020.9.14               41      164         2            22285   \n",
       "198  2020.9.15               32      217         1            22391   \n",
       "199  2020.9.16               51      201         1            22504   \n",
       "200  2020.9.17               63       54         0            22657   \n",
       "201  2020.9.18               46       93         2            22783   \n",
       "202  2020.9.19               40       47         0            22893   \n",
       "203  2020.9.20               28       73         2            22975   \n",
       "204  2020.9.21               23       24         1            23045   \n",
       "205  2020.9.22               21       49         0            23106   \n",
       "206  2020.9.23               40       76         0            23216   \n",
       "207  2020.9.24               39       63         1            23341   \n",
       "208  2020.9.25               57       55         1            23455   \n",
       "209  2020.9.26               26       88         0            23516   \n",
       "210  2020.9.27               34       10         0            23611   \n",
       "211  2020.9.28               19        4         0            23661   \n",
       "212  2020.9.29               11       71         2            23699   \n",
       "213  2020.9.30               51       15         1            23812   \n",
       "\n",
       "     Subway_Usage    TCS_in  Seoul_Car  Domestic_Air_Seoul_In  trendTotal  \\\n",
       "170      0.627193  1.009561   0.511100               1.248840    26.87335   \n",
       "171      0.457222  0.797885   0.552180               1.248840    27.07558   \n",
       "172      0.342441  0.751818   0.498080               1.248840    25.83358   \n",
       "173      0.329465  1.344958   0.411213               1.348394    24.17452   \n",
       "174      1.491269  0.164130   1.307364               1.497724    18.66166   \n",
       "175      2.109907  1.373562   2.866337               1.497724    20.30583   \n",
       "176      0.159624  0.558650   0.334403               1.497724    27.65282   \n",
       "177      0.188716  0.559882   0.077088               1.447947    24.08739   \n",
       "178      0.084154  0.493027   0.237281               1.447947    23.35181   \n",
       "179      0.186511  1.075632   1.047296               1.447947    27.94084   \n",
       "180      0.102027  0.815248   0.054765               1.497724    25.13610   \n",
       "181      1.667838  0.545208   1.047082               1.497724    15.71298   \n",
       "182      2.306372  1.761720   2.782851               1.547501    14.26435   \n",
       "183      0.100450  1.277388   0.163516               1.348394    18.97218   \n",
       "184      0.161727  0.163783   0.144375               0.551964    16.65340   \n",
       "185      0.295726  1.054927   2.083269               0.751072    15.66541   \n",
       "186      0.310716  0.991188   0.091781               0.751072    14.55981   \n",
       "187      0.044950  1.225694   0.675339               0.751072    16.59354   \n",
       "188      1.532926  0.054646   0.654803               0.751072     8.88886   \n",
       "189      2.227468  2.068832   0.074087               0.751072     8.48787   \n",
       "190      0.316848  1.966727   1.036961               0.701295    11.38968   \n",
       "191      0.063823  0.111207   2.884597               0.701295    11.30267   \n",
       "192      0.002339  0.111633   1.132515               0.701295    11.08923   \n",
       "193      0.082573  0.490223   0.169862               0.701295    10.58296   \n",
       "194      0.199039  1.273212   0.203338               0.701295    10.33356   \n",
       "195      1.407791  0.430008   0.015917               0.701295     8.86901   \n",
       "196      1.966996  0.211288   0.022660               0.701295    12.20596   \n",
       "197      0.339413  0.575970   1.090208               0.651518     9.49758   \n",
       "198      0.425927  0.559350   2.265905               0.651518     8.54286   \n",
       "199      0.377669  0.313331   0.151933               0.651518     8.33876   \n",
       "200      0.464662  0.492276   0.179445               0.651518     8.97690   \n",
       "201      0.671354  1.545433   0.165825               0.551964     7.70399   \n",
       "202      0.856924  1.459510   0.251311               0.502188     6.20943   \n",
       "203      1.705150  0.156055   0.256218               0.502188     6.50318   \n",
       "204      0.606979  0.791723   0.529596               0.551964     8.41903   \n",
       "205      0.675608  0.750840   2.030953               0.551964     8.59333   \n",
       "206      0.712898  0.780897   0.172658               0.601741     8.04612   \n",
       "207      0.723577  0.870273   0.063290               0.551964     7.43765   \n",
       "208      0.914788  1.588652   0.033297               0.701295     6.46030   \n",
       "209      0.715877  0.918835   0.149173               0.701295     5.42258   \n",
       "210      1.612476  0.630253   0.290047               0.701295     5.23013   \n",
       "211      0.744387  1.275023   0.374902               0.850625     6.45544   \n",
       "212      0.676530  0.099549   1.967561               2.244376     6.47436   \n",
       "213      1.871490  2.127415   0.081537               2.294153     6.55795   \n",
       "\n",
       "     meanTemperature  dailyTemperatureRange  meanWindSpeed  meanHumid  \\\n",
       "170             27.5                    7.9            1.6       76.3   \n",
       "171             27.1                    7.8            2.0       76.8   \n",
       "172             27.7                    6.7            1.7       76.0   \n",
       "173             26.6                    4.0            1.6       83.1   \n",
       "174             24.3                    5.9            2.1       87.4   \n",
       "175             25.3                    8.4            1.9       78.4   \n",
       "176             27.8                    8.3            2.2       71.6   \n",
       "177             29.9                    8.5            2.1       69.5   \n",
       "178             30.2                    7.5            3.4       68.3   \n",
       "179             27.1                    3.0            3.6       84.6   \n",
       "180             27.3                    3.7            1.6       89.1   \n",
       "181             26.8                    3.5            1.3       90.1   \n",
       "182             26.8                    6.2            2.1       88.8   \n",
       "183             26.4                    6.2            2.8       77.9   \n",
       "184             26.6                    5.7            1.9       72.4   \n",
       "185             24.3                    3.8            2.3       91.3   \n",
       "186             22.7                    5.6            4.8       82.0   \n",
       "187             23.3                    7.6            2.7       63.9   \n",
       "188             23.3                    8.1            2.0       66.6   \n",
       "189             21.7                    4.9            2.7       80.0   \n",
       "190             19.2                    3.1            4.2       93.5   \n",
       "191             23.4                    5.9            4.2       71.5   \n",
       "192             21.1                    6.3            2.1       83.4   \n",
       "193             22.8                    8.2            2.0       75.8   \n",
       "194             22.4                    7.9            2.8       72.6   \n",
       "195             20.2                    5.1            2.0       83.8   \n",
       "196             21.5                    9.9            1.9       70.4   \n",
       "197             21.3                    7.3            1.8       79.3   \n",
       "198             23.0                    8.8            1.6       76.4   \n",
       "199             22.5                    3.6            1.9       79.9   \n",
       "200             21.3                    3.5            2.1       70.3   \n",
       "201             21.5                    7.7            2.8       62.0   \n",
       "202             21.2                    8.6            2.2       59.3   \n",
       "203             19.7                    9.3            2.0       57.6   \n",
       "204             19.1                   11.7            1.7       56.1   \n",
       "205             20.2                   10.1            2.8       55.3   \n",
       "206             19.2                    8.6            3.3       59.9   \n",
       "207             20.6                    8.6            3.7       59.6   \n",
       "208             20.1                    8.8            2.5       64.1   \n",
       "209             19.3                   10.0            2.4       62.5   \n",
       "210             20.4                   10.9            2.0       63.3   \n",
       "211             20.7                   10.8            2.0       66.0   \n",
       "212             19.6                    8.6            1.9       67.6   \n",
       "213             19.6                    9.5            1.7       78.0   \n",
       "\n",
       "     TotalSunshineTime  IsHoliday  \n",
       "170                7.9          0  \n",
       "171                9.4          0  \n",
       "172                3.1          0  \n",
       "173                0.8          0  \n",
       "174                0.6          1  \n",
       "175                6.8          1  \n",
       "176                8.8          0  \n",
       "177                7.6          0  \n",
       "178                7.5          0  \n",
       "179                0.5          0  \n",
       "180                2.0          0  \n",
       "181                1.7          1  \n",
       "182                2.4          1  \n",
       "183                1.9          0  \n",
       "184                1.0          0  \n",
       "185                0.0          0  \n",
       "186                2.8          0  \n",
       "187               10.1          0  \n",
       "188                3.3          1  \n",
       "189                0.0          1  \n",
       "190                0.0          0  \n",
       "191                9.5          0  \n",
       "192                3.1          0  \n",
       "193                9.0          0  \n",
       "194                4.5          0  \n",
       "195                0.0          1  \n",
       "196                9.8          1  \n",
       "197                5.7          0  \n",
       "198                5.1          0  \n",
       "199                0.3          0  \n",
       "200                0.7          0  \n",
       "201                9.8          0  \n",
       "202                9.7          1  \n",
       "203               11.4          1  \n",
       "204                9.6          0  \n",
       "205               10.7          0  \n",
       "206                7.2          0  \n",
       "207                8.0          0  \n",
       "208                3.5          0  \n",
       "209                8.0          1  \n",
       "210                9.8          1  \n",
       "211               10.5          0  \n",
       "212                6.3          0  \n",
       "213                4.9          1  "
      ]
     },
     "execution_count": 45,
     "metadata": {},
     "output_type": "execute_result"
    }
   ],
   "source": [
    "data[170:]"
   ]
  },
  {
   "cell_type": "code",
   "execution_count": 52,
   "metadata": {
    "ExecuteTime": {
     "end_time": "2020-11-18T05:36:08.791597Z",
     "start_time": "2020-11-18T05:36:08.776638Z"
    }
   },
   "outputs": [],
   "source": [
    "temp = data['Total_Confirmed']"
   ]
  },
  {
   "cell_type": "code",
   "execution_count": 53,
   "metadata": {
    "ExecuteTime": {
     "end_time": "2020-11-18T05:38:09.535065Z",
     "start_time": "2020-11-18T05:38:09.510133Z"
    }
   },
   "outputs": [],
   "source": [
    "a = []\n",
    "for i in range(1,len(temp)):\n",
    "    a.append(temp[i]-temp[i-1])"
   ]
  },
  {
   "cell_type": "code",
   "execution_count": 62,
   "metadata": {
    "ExecuteTime": {
     "end_time": "2020-11-18T05:40:36.213883Z",
     "start_time": "2020-11-18T05:40:36.200919Z"
    }
   },
   "outputs": [],
   "source": [
    "a.insert(0,55)"
   ]
  },
  {
   "cell_type": "code",
   "execution_count": 61,
   "metadata": {
    "ExecuteTime": {
     "end_time": "2020-11-18T05:40:26.434796Z",
     "start_time": "2020-11-18T05:40:26.422828Z"
    }
   },
   "outputs": [
    {
     "data": {
      "text/plain": [
       "55"
      ]
     },
     "execution_count": 61,
     "metadata": {},
     "output_type": "execute_result"
    }
   ],
   "source": [
    "temp[0] - 3681"
   ]
  },
  {
   "cell_type": "code",
   "execution_count": 64,
   "metadata": {
    "ExecuteTime": {
     "end_time": "2020-11-18T05:40:56.289703Z",
     "start_time": "2020-11-18T05:40:56.285713Z"
    }
   },
   "outputs": [],
   "source": [
    "data['Total_Confirmed'] = a"
   ]
  },
  {
   "cell_type": "code",
   "execution_count": 88,
   "metadata": {
    "ExecuteTime": {
     "end_time": "2020-11-18T05:49:58.294579Z",
     "start_time": "2020-11-18T05:49:58.281604Z"
    }
   },
   "outputs": [
    {
     "data": {
      "text/plain": [
       "Date                     2020.9.30\n",
       "Daily_Confirmed                 51\n",
       "Cleared                         15\n",
       "traveled                         1\n",
       "Total_Confirmed                113\n",
       "Subway_Usage               1.87149\n",
       "TCS_in                     2.12742\n",
       "Seoul_Car                0.0815372\n",
       "Domestic_Air_Seoul_In      2.29415\n",
       "trendTotal                 6.55795\n",
       "meanTemperature               19.6\n",
       "dailyTemperatureRange          9.5\n",
       "meanWindSpeed                  1.7\n",
       "meanHumid                       78\n",
       "TotalSunshineTime              4.9\n",
       "IsHoliday                        1\n",
       "Name: 213, dtype: object"
      ]
     },
     "execution_count": 88,
     "metadata": {},
     "output_type": "execute_result"
    }
   ],
   "source": [
    "data.iloc[213]"
   ]
  },
  {
   "cell_type": "code",
   "execution_count": 66,
   "metadata": {
    "ExecuteTime": {
     "end_time": "2020-11-18T05:41:15.242200Z",
     "start_time": "2020-11-18T05:41:15.214273Z"
    }
   },
   "outputs": [],
   "source": [
    "data.to_csv('Final.csv',index=False)"
   ]
  },
  {
   "cell_type": "code",
   "execution_count": 80,
   "metadata": {
    "ExecuteTime": {
     "end_time": "2020-11-18T05:48:08.877293Z",
     "start_time": "2020-11-18T05:48:08.867276Z"
    }
   },
   "outputs": [],
   "source": [
    "from sklearn.linear_model import Ridge, Lasso"
   ]
  },
  {
   "cell_type": "code",
   "execution_count": 81,
   "metadata": {
    "ExecuteTime": {
     "end_time": "2020-11-18T05:48:20.250969Z",
     "start_time": "2020-11-18T05:48:20.239001Z"
    }
   },
   "outputs": [],
   "source": [
    "r = Ridge(alpha=1)\n",
    "l = Lasso(alpha=1)"
   ]
  },
  {
   "cell_type": "code",
   "execution_count": 82,
   "metadata": {
    "ExecuteTime": {
     "end_time": "2020-11-18T05:48:28.821896Z",
     "start_time": "2020-11-18T05:48:28.801951Z"
    }
   },
   "outputs": [
    {
     "data": {
      "text/plain": [
       "Lasso(alpha=1, copy_X=True, fit_intercept=True, max_iter=1000,\n",
       "   normalize=False, positive=False, precompute=False, random_state=None,\n",
       "   selection='cyclic', tol=0.0001, warm_start=False)"
      ]
     },
     "execution_count": 82,
     "metadata": {},
     "output_type": "execute_result"
    }
   ],
   "source": [
    "r.fit(trainx,trainy)\n",
    "l.fit(trainx,trainy)"
   ]
  },
  {
   "cell_type": "code",
   "execution_count": 78,
   "metadata": {
    "ExecuteTime": {
     "end_time": "2020-11-18T05:47:57.927333Z",
     "start_time": "2020-11-18T05:47:57.921349Z"
    }
   },
   "outputs": [
    {
     "data": {
      "text/plain": [
       "-73.53832018880844"
      ]
     },
     "execution_count": 78,
     "metadata": {},
     "output_type": "execute_result"
    }
   ],
   "source": [
    "r.intercept_"
   ]
  },
  {
   "cell_type": "code",
   "execution_count": 79,
   "metadata": {
    "ExecuteTime": {
     "end_time": "2020-11-18T05:47:58.478470Z",
     "start_time": "2020-11-18T05:47:58.462514Z"
    }
   },
   "outputs": [
    {
     "data": {
      "text/plain": [
       "array([ 0.10537879,  1.8054815 ,  0.15635435, -2.54248127,  5.1194191 ,\n",
       "        0.66725761,  3.04487428, -1.0328728 ,  4.92799218,  0.66460265,\n",
       "        4.0696906 ])"
      ]
     },
     "execution_count": 79,
     "metadata": {},
     "output_type": "execute_result"
    }
   ],
   "source": [
    "r.coef_"
   ]
  },
  {
   "cell_type": "code",
   "execution_count": 84,
   "metadata": {
    "ExecuteTime": {
     "end_time": "2020-11-18T05:49:05.138909Z",
     "start_time": "2020-11-18T05:49:05.133923Z"
    }
   },
   "outputs": [
    {
     "data": {
      "text/plain": [
       "-56.85657891721125"
      ]
     },
     "execution_count": 84,
     "metadata": {},
     "output_type": "execute_result"
    }
   ],
   "source": [
    "l.intercept_"
   ]
  },
  {
   "cell_type": "code",
   "execution_count": 85,
   "metadata": {
    "ExecuteTime": {
     "end_time": "2020-11-18T05:49:12.970058Z",
     "start_time": "2020-11-18T05:49:12.957094Z"
    }
   },
   "outputs": [
    {
     "data": {
      "text/plain": [
       "array([38.59851851, 43.96251361, 29.60355734, 26.75450968, 13.56456096,\n",
       "       23.73179194, 28.77383018, 36.15741607, 26.00466788, 17.86540795,\n",
       "       17.82956366, 11.77908703, 19.46192369, 18.81760662])"
      ]
     },
     "execution_count": 85,
     "metadata": {},
     "output_type": "execute_result"
    }
   ],
   "source": [
    "l.predict(vx)"
   ]
  },
  {
   "cell_type": "code",
   "execution_count": 3,
   "metadata": {
    "ExecuteTime": {
     "end_time": "2020-11-18T06:18:38.913401Z",
     "start_time": "2020-11-18T06:18:38.884479Z"
    }
   },
   "outputs": [],
   "source": [
    "seoul = pd.read_csv('C://Users/Seung kyu Hong/Desktop/Seoul.csv',encoding='euc-kr')"
   ]
  },
  {
   "cell_type": "code",
   "execution_count": 91,
   "metadata": {
    "ExecuteTime": {
     "end_time": "2020-11-18T06:05:36.178004Z",
     "start_time": "2020-11-18T06:05:36.158021Z"
    }
   },
   "outputs": [
    {
     "data": {
      "text/html": [
       "<div>\n",
       "<style scoped>\n",
       "    .dataframe tbody tr th:only-of-type {\n",
       "        vertical-align: middle;\n",
       "    }\n",
       "\n",
       "    .dataframe tbody tr th {\n",
       "        vertical-align: top;\n",
       "    }\n",
       "\n",
       "    .dataframe thead th {\n",
       "        text-align: right;\n",
       "    }\n",
       "</style>\n",
       "<table border=\"1\" class=\"dataframe\">\n",
       "  <thead>\n",
       "    <tr style=\"text-align: right;\">\n",
       "      <th></th>\n",
       "      <th>연번</th>\n",
       "      <th>환자</th>\n",
       "      <th>확진일</th>\n",
       "      <th>거주지</th>\n",
       "      <th>여행력</th>\n",
       "      <th>접촉력</th>\n",
       "      <th>퇴원현황</th>\n",
       "    </tr>\n",
       "  </thead>\n",
       "  <tbody>\n",
       "    <tr>\n",
       "      <th>0</th>\n",
       "      <td>6103</td>\n",
       "      <td>26804</td>\n",
       "      <td>11.02.\\n</td>\n",
       "      <td>동작구\\r\\n</td>\n",
       "      <td>-\\r\\n</td>\n",
       "      <td>감염경로 조사중\\r\\n</td>\n",
       "      <td>\\r\\n</td>\n",
       "    </tr>\n",
       "    <tr>\n",
       "      <th>1</th>\n",
       "      <td>6102</td>\n",
       "      <td>26799</td>\n",
       "      <td>11.02.\\r\\n</td>\n",
       "      <td>구로구\\n</td>\n",
       "      <td>-\\r\\n</td>\n",
       "      <td>강남구 헬스장 관련\\r\\n</td>\n",
       "      <td>\\r\\n</td>\n",
       "    </tr>\n",
       "    <tr>\n",
       "      <th>2</th>\n",
       "      <td>6101</td>\n",
       "      <td>26792</td>\n",
       "      <td>11.02.\\r\\n</td>\n",
       "      <td>영등포구\\r\\n</td>\n",
       "      <td>-\\r\\n</td>\n",
       "      <td>감염경로 조사중\\r\\n</td>\n",
       "      <td>\\r\\n</td>\n",
       "    </tr>\n",
       "    <tr>\n",
       "      <th>3</th>\n",
       "      <td>6100</td>\n",
       "      <td>26791</td>\n",
       "      <td>11.02.\\r\\n</td>\n",
       "      <td>종로구\\r\\n</td>\n",
       "      <td>-\\r\\n</td>\n",
       "      <td>감염경로 조사중\\r\\n</td>\n",
       "      <td>\\r\\n</td>\n",
       "    </tr>\n",
       "    <tr>\n",
       "      <th>4</th>\n",
       "      <td>6099</td>\n",
       "      <td>26784</td>\n",
       "      <td>11.02.\\r\\n</td>\n",
       "      <td>송파구\\r\\n</td>\n",
       "      <td>-\\r\\n</td>\n",
       "      <td>송파구 소재 병원관련\\r\\n</td>\n",
       "      <td>\\r\\n</td>\n",
       "    </tr>\n",
       "  </tbody>\n",
       "</table>\n",
       "</div>"
      ],
      "text/plain": [
       "   연번\\r\\n  환자\\r\\n     확진일\\r\\n   거주지\\r\\n 여행력\\r\\n          접촉력\\r\\n 퇴원현황\\r\\n\n",
       "0    6103   26804    11.02.\\n   동작구\\r\\n   -\\r\\n     감염경로 조사중\\r\\n     \\r\\n\n",
       "1    6102   26799  11.02.\\r\\n     구로구\\n   -\\r\\n   강남구 헬스장 관련\\r\\n     \\r\\n\n",
       "2    6101   26792  11.02.\\r\\n  영등포구\\r\\n   -\\r\\n     감염경로 조사중\\r\\n     \\r\\n\n",
       "3    6100   26791  11.02.\\r\\n   종로구\\r\\n   -\\r\\n     감염경로 조사중\\r\\n     \\r\\n\n",
       "4    6099   26784  11.02.\\r\\n   송파구\\r\\n   -\\r\\n  송파구 소재 병원관련\\r\\n     \\r\\n"
      ]
     },
     "execution_count": 91,
     "metadata": {},
     "output_type": "execute_result"
    }
   ],
   "source": [
    "seoul.head()"
   ]
  },
  {
   "cell_type": "code",
   "execution_count": 93,
   "metadata": {
    "ExecuteTime": {
     "end_time": "2020-11-18T06:06:05.262067Z",
     "start_time": "2020-11-18T06:06:05.255087Z"
    }
   },
   "outputs": [
    {
     "data": {
      "text/plain": [
       "Index(['연번\\r\\n', '환자\\r\\n', '확진일\\r\\n', '거주지\\r\\n', '여행력\\r\\n', '접촉력\\r\\n',\n",
       "       '퇴원현황\\r\\n'],\n",
       "      dtype='object')"
      ]
     },
     "execution_count": 93,
     "metadata": {},
     "output_type": "execute_result"
    }
   ],
   "source": [
    "seoul.columns"
   ]
  },
  {
   "cell_type": "code",
   "execution_count": 4,
   "metadata": {
    "ExecuteTime": {
     "end_time": "2020-11-18T06:18:42.762537Z",
     "start_time": "2020-11-18T06:18:42.756554Z"
    }
   },
   "outputs": [],
   "source": [
    "seoul.columns = ['num','p','date','a','b','c','d']"
   ]
  },
  {
   "cell_type": "code",
   "execution_count": 95,
   "metadata": {
    "ExecuteTime": {
     "end_time": "2020-11-18T06:06:44.909019Z",
     "start_time": "2020-11-18T06:06:44.898093Z"
    }
   },
   "outputs": [
    {
     "data": {
      "text/html": [
       "<div>\n",
       "<style scoped>\n",
       "    .dataframe tbody tr th:only-of-type {\n",
       "        vertical-align: middle;\n",
       "    }\n",
       "\n",
       "    .dataframe tbody tr th {\n",
       "        vertical-align: top;\n",
       "    }\n",
       "\n",
       "    .dataframe thead th {\n",
       "        text-align: right;\n",
       "    }\n",
       "</style>\n",
       "<table border=\"1\" class=\"dataframe\">\n",
       "  <thead>\n",
       "    <tr style=\"text-align: right;\">\n",
       "      <th></th>\n",
       "      <th>num</th>\n",
       "      <th>p</th>\n",
       "      <th>date</th>\n",
       "      <th>a</th>\n",
       "      <th>b</th>\n",
       "      <th>c</th>\n",
       "      <th>d</th>\n",
       "    </tr>\n",
       "  </thead>\n",
       "  <tbody>\n",
       "    <tr>\n",
       "      <th>0</th>\n",
       "      <td>6103</td>\n",
       "      <td>26804</td>\n",
       "      <td>11.02.\\n</td>\n",
       "      <td>동작구\\r\\n</td>\n",
       "      <td>-\\r\\n</td>\n",
       "      <td>감염경로 조사중\\r\\n</td>\n",
       "      <td>\\r\\n</td>\n",
       "    </tr>\n",
       "    <tr>\n",
       "      <th>1</th>\n",
       "      <td>6102</td>\n",
       "      <td>26799</td>\n",
       "      <td>11.02.\\r\\n</td>\n",
       "      <td>구로구\\n</td>\n",
       "      <td>-\\r\\n</td>\n",
       "      <td>강남구 헬스장 관련\\r\\n</td>\n",
       "      <td>\\r\\n</td>\n",
       "    </tr>\n",
       "    <tr>\n",
       "      <th>2</th>\n",
       "      <td>6101</td>\n",
       "      <td>26792</td>\n",
       "      <td>11.02.\\r\\n</td>\n",
       "      <td>영등포구\\r\\n</td>\n",
       "      <td>-\\r\\n</td>\n",
       "      <td>감염경로 조사중\\r\\n</td>\n",
       "      <td>\\r\\n</td>\n",
       "    </tr>\n",
       "    <tr>\n",
       "      <th>3</th>\n",
       "      <td>6100</td>\n",
       "      <td>26791</td>\n",
       "      <td>11.02.\\r\\n</td>\n",
       "      <td>종로구\\r\\n</td>\n",
       "      <td>-\\r\\n</td>\n",
       "      <td>감염경로 조사중\\r\\n</td>\n",
       "      <td>\\r\\n</td>\n",
       "    </tr>\n",
       "    <tr>\n",
       "      <th>4</th>\n",
       "      <td>6099</td>\n",
       "      <td>26784</td>\n",
       "      <td>11.02.\\r\\n</td>\n",
       "      <td>송파구\\r\\n</td>\n",
       "      <td>-\\r\\n</td>\n",
       "      <td>송파구 소재 병원관련\\r\\n</td>\n",
       "      <td>\\r\\n</td>\n",
       "    </tr>\n",
       "  </tbody>\n",
       "</table>\n",
       "</div>"
      ],
      "text/plain": [
       "    num      p        date         a      b                c     d\n",
       "0  6103  26804    11.02.\\n   동작구\\r\\n  -\\r\\n     감염경로 조사중\\r\\n  \\r\\n\n",
       "1  6102  26799  11.02.\\r\\n     구로구\\n  -\\r\\n   강남구 헬스장 관련\\r\\n  \\r\\n\n",
       "2  6101  26792  11.02.\\r\\n  영등포구\\r\\n  -\\r\\n     감염경로 조사중\\r\\n  \\r\\n\n",
       "3  6100  26791  11.02.\\r\\n   종로구\\r\\n  -\\r\\n     감염경로 조사중\\r\\n  \\r\\n\n",
       "4  6099  26784  11.02.\\r\\n   송파구\\r\\n  -\\r\\n  송파구 소재 병원관련\\r\\n  \\r\\n"
      ]
     },
     "execution_count": 95,
     "metadata": {},
     "output_type": "execute_result"
    }
   ],
   "source": [
    "seoul.head()"
   ]
  },
  {
   "cell_type": "code",
   "execution_count": 97,
   "metadata": {
    "ExecuteTime": {
     "end_time": "2020-11-18T06:07:00.943949Z",
     "start_time": "2020-11-18T06:07:00.927992Z"
    }
   },
   "outputs": [
    {
     "data": {
      "text/plain": [
       "str"
      ]
     },
     "execution_count": 97,
     "metadata": {},
     "output_type": "execute_result"
    }
   ],
   "source": [
    "type(seoul['date'][1])"
   ]
  },
  {
   "cell_type": "code",
   "execution_count": 6,
   "metadata": {
    "ExecuteTime": {
     "end_time": "2020-11-18T06:18:53.518653Z",
     "start_time": "2020-11-18T06:18:53.497708Z"
    }
   },
   "outputs": [
    {
     "data": {
      "text/plain": [
       "0         11.02.\\n\n",
       "1       11.02.\\r\\n\n",
       "2       11.02.\\r\\n\n",
       "3       11.02.\\r\\n\n",
       "4       11.02.\\r\\n\n",
       "5       11.02.\\r\\n\n",
       "6       11.02.\\r\\n\n",
       "7       11.02.\\r\\n\n",
       "8       11.02.\\r\\n\n",
       "9       11.02.\\r\\n\n",
       "10      11.02.\\r\\n\n",
       "11      11.02.\\r\\n\n",
       "12      11.02.\\r\\n\n",
       "13      11.02.\\r\\n\n",
       "14      11.02.\\r\\n\n",
       "15      11.02.\\r\\n\n",
       "16      11.02.\\r\\n\n",
       "17      11.02.\\r\\n\n",
       "18      11.02.\\r\\n\n",
       "19      11.02.\\r\\n\n",
       "20      11.02.\\r\\n\n",
       "21      11.02.\\r\\n\n",
       "22      11.01.\\r\\n\n",
       "23      11.01.\\r\\n\n",
       "24      11.01.\\r\\n\n",
       "25      11.01.\\r\\n\n",
       "26      11.01.\\r\\n\n",
       "27      11.01.\\r\\n\n",
       "28      11.01.\\r\\n\n",
       "29      11.01.\\r\\n\n",
       "           ...    \n",
       "6072     2.22.\\r\\n\n",
       "6073     2.23.\\r\\n\n",
       "6074     2.26.\\r\\n\n",
       "6075     2.23.\\r\\n\n",
       "6076     2.23.\\r\\n\n",
       "6077     2.22.\\r\\n\n",
       "6078     2.22.\\r\\n\n",
       "6079     2.22.\\r\\n\n",
       "6080     2.21.\\r\\n\n",
       "6081     2.21.\\r\\n\n",
       "6082     2.20.\\r\\n\n",
       "6083     2.20.\\r\\n\n",
       "6084     2.20.\\r\\n\n",
       "6085     2.20.\\r\\n\n",
       "6086     2.20.\\r\\n\n",
       "6087     2.19.\\r\\n\n",
       "6088     2.19.\\r\\n\n",
       "6089     2.16.\\r\\n\n",
       "6090     2.16.\\r\\n\n",
       "6091      2.7.\\r\\n\n",
       "6092      2.6.\\r\\n\n",
       "6093      2.5.\\r\\n\n",
       "6094      2.5.\\r\\n\n",
       "6095      2.2.\\r\\n\n",
       "6096     1.31.\\r\\n\n",
       "6097     1.31.\\r\\n\n",
       "6098     1.31.\\r\\n\n",
       "6099     1.30.\\r\\n\n",
       "6100     1.30.\\r\\n\n",
       "6101     1.30.\\r\\n\n",
       "Name: date, Length: 6102, dtype: object"
      ]
     },
     "execution_count": 6,
     "metadata": {},
     "output_type": "execute_result"
    }
   ],
   "source": [
    "temp"
   ]
  },
  {
   "cell_type": "code",
   "execution_count": 15,
   "metadata": {
    "ExecuteTime": {
     "end_time": "2020-11-18T06:21:00.339107Z",
     "start_time": "2020-11-18T06:21:00.193058Z"
    }
   },
   "outputs": [],
   "source": [
    "a = []\n",
    "for i in range(len(temp)):\n",
    "    try:\n",
    "        a.append(temp.loc[i].replace('.\\r\\n',''))\n",
    "    except:\n",
    "        pass"
   ]
  },
  {
   "cell_type": "code",
   "execution_count": 16,
   "metadata": {
    "ExecuteTime": {
     "end_time": "2020-11-18T06:21:02.335835Z",
     "start_time": "2020-11-18T06:21:02.322869Z"
    }
   },
   "outputs": [],
   "source": [
    "a[0] = a[0].replace('.\\n','')"
   ]
  },
  {
   "cell_type": "code",
   "execution_count": 17,
   "metadata": {
    "ExecuteTime": {
     "end_time": "2020-11-18T06:21:12.551521Z",
     "start_time": "2020-11-18T06:21:12.518610Z"
    }
   },
   "outputs": [
    {
     "data": {
      "text/plain": [
       "['11.02',\n",
       " '11.02',\n",
       " '11.02',\n",
       " '11.02',\n",
       " '11.02',\n",
       " '11.02',\n",
       " '11.02',\n",
       " '11.02',\n",
       " '11.02',\n",
       " '11.02',\n",
       " '11.02',\n",
       " '11.02',\n",
       " '11.02',\n",
       " '11.02',\n",
       " '11.02',\n",
       " '11.02',\n",
       " '11.02',\n",
       " '11.02',\n",
       " '11.02',\n",
       " '11.02',\n",
       " '11.02',\n",
       " '11.02',\n",
       " '11.01',\n",
       " '11.01',\n",
       " '11.01',\n",
       " '11.01',\n",
       " '11.01',\n",
       " '11.01',\n",
       " '11.01',\n",
       " '11.01',\n",
       " '11.01',\n",
       " '11.01',\n",
       " '11.01',\n",
       " '11.01',\n",
       " '11.01',\n",
       " '11.01',\n",
       " '11.01',\n",
       " '11.01',\n",
       " '11.01',\n",
       " '11.01',\n",
       " '11.01',\n",
       " '11.01',\n",
       " '11.01',\n",
       " '11.01',\n",
       " '11.01',\n",
       " '11.01',\n",
       " '11.01',\n",
       " '10.31',\n",
       " '10.31',\n",
       " '10.31',\n",
       " '10.31',\n",
       " '10.31',\n",
       " '10.31',\n",
       " '10.31',\n",
       " '10.31',\n",
       " '10.31',\n",
       " '10.31',\n",
       " '10.31',\n",
       " '10.31',\n",
       " '10.31',\n",
       " '10.31',\n",
       " '10.31',\n",
       " '10.31',\n",
       " '10.31',\n",
       " '10.31',\n",
       " '10.31',\n",
       " '10.31',\n",
       " '10.31',\n",
       " '10.31',\n",
       " '10.31',\n",
       " '10.31',\n",
       " '10.31',\n",
       " '10.31',\n",
       " '10.31',\n",
       " '10.31',\n",
       " '10.31',\n",
       " '10.31',\n",
       " '10.31',\n",
       " '10.31',\n",
       " '10.31',\n",
       " '10.31',\n",
       " '10.31',\n",
       " '10.31',\n",
       " '10.31',\n",
       " '10.31',\n",
       " '10.31',\n",
       " '10.31',\n",
       " '10.31',\n",
       " '10.31',\n",
       " '10.31',\n",
       " '10.31',\n",
       " '10.31',\n",
       " '10.30',\n",
       " '10.30',\n",
       " '10.30',\n",
       " '10.30',\n",
       " '10.30',\n",
       " '10.30',\n",
       " '10.30',\n",
       " '10.30',\n",
       " '10.30',\n",
       " '10.30',\n",
       " '10.30',\n",
       " '10.30',\n",
       " '10.30',\n",
       " '10.30',\n",
       " '10.30',\n",
       " '10.30',\n",
       " '10.30',\n",
       " '10.30',\n",
       " '10.30',\n",
       " '10.30',\n",
       " '10.30',\n",
       " '10.30',\n",
       " '10.30',\n",
       " '10.30',\n",
       " '10.30',\n",
       " '10.30',\n",
       " '10.30',\n",
       " '10.30',\n",
       " '10.30',\n",
       " '10.30',\n",
       " '10.29',\n",
       " '10.29',\n",
       " '10.29',\n",
       " '10.29',\n",
       " '10.30',\n",
       " '10.30',\n",
       " '10.30',\n",
       " '10.29',\n",
       " '10.29',\n",
       " '10.30',\n",
       " '10.30',\n",
       " '10.30',\n",
       " '10.30',\n",
       " '10.30',\n",
       " '10.30',\n",
       " '10.30',\n",
       " '10.30',\n",
       " '10.30',\n",
       " '10.30',\n",
       " '10.30',\n",
       " '10.30',\n",
       " '10.30',\n",
       " '10.29',\n",
       " '10.29',\n",
       " '10.29',\n",
       " '10.29',\n",
       " '10.29',\n",
       " '10.29',\n",
       " '10.29',\n",
       " '10.29',\n",
       " '10.29',\n",
       " '10.29',\n",
       " '10.29',\n",
       " '10.29',\n",
       " '10.29',\n",
       " '10.29',\n",
       " '10.29',\n",
       " '10.29',\n",
       " '10.29',\n",
       " '10.29',\n",
       " '10.29',\n",
       " '10.29',\n",
       " '10.28',\n",
       " '10.29',\n",
       " '10.29',\n",
       " '10.29',\n",
       " '10.29',\n",
       " '10.29',\n",
       " '10.29',\n",
       " '10.29',\n",
       " '10.29',\n",
       " '10.29',\n",
       " '10.29',\n",
       " '10.29',\n",
       " '10.29',\n",
       " '10.29',\n",
       " '10.29',\n",
       " '10.29',\n",
       " '10.29',\n",
       " '10.29',\n",
       " '10.29',\n",
       " '10.29',\n",
       " '10.29',\n",
       " '10.29',\n",
       " '10.29',\n",
       " '10.29',\n",
       " '10.29',\n",
       " '10.29',\n",
       " '10.29',\n",
       " '10.28',\n",
       " '10.28',\n",
       " '10.28',\n",
       " '10.28',\n",
       " '10.28',\n",
       " '10.28',\n",
       " '10.28',\n",
       " '10.28',\n",
       " '10.28',\n",
       " '10.28',\n",
       " '10.28',\n",
       " '10.28',\n",
       " '10.28',\n",
       " '10.28',\n",
       " '10.28',\n",
       " '10.28',\n",
       " '10.28',\n",
       " '10.28',\n",
       " '10.28',\n",
       " '10.28',\n",
       " '10.28',\n",
       " '10.28',\n",
       " '10.28',\n",
       " '10.27',\n",
       " '10.27',\n",
       " '10.28',\n",
       " '10.28',\n",
       " '10.28',\n",
       " '10.28',\n",
       " '10.28',\n",
       " '10.28',\n",
       " '10.28',\n",
       " '10.27',\n",
       " '10.27',\n",
       " '10.27',\n",
       " '10.27',\n",
       " '10.27',\n",
       " '10.27',\n",
       " '10.27',\n",
       " '10.27',\n",
       " '10.27',\n",
       " '10.27',\n",
       " '10.27',\n",
       " '10.27',\n",
       " '10.27',\n",
       " '10.27',\n",
       " '10.27',\n",
       " '10.27',\n",
       " '10.27',\n",
       " '10.27',\n",
       " '10.27',\n",
       " '10.27',\n",
       " '10.27',\n",
       " '10.27',\n",
       " '10.27',\n",
       " '10.27',\n",
       " '10.27',\n",
       " '10.27',\n",
       " '10.27',\n",
       " '10.27',\n",
       " '10.27',\n",
       " '10.26',\n",
       " '10.26',\n",
       " '10.26',\n",
       " '10.26',\n",
       " '10.26',\n",
       " '10.26',\n",
       " '10.25',\n",
       " '10.26',\n",
       " '10.26',\n",
       " '10.26',\n",
       " '10.26',\n",
       " '10.26',\n",
       " '10.26',\n",
       " '10.25',\n",
       " '10.26',\n",
       " '10.26',\n",
       " '10.26',\n",
       " '10.26',\n",
       " '10.26',\n",
       " '10.26',\n",
       " '10.26',\n",
       " '10.26',\n",
       " '10.25',\n",
       " '10.26',\n",
       " '10.25',\n",
       " '10.25',\n",
       " '10.25',\n",
       " '10.25',\n",
       " '10.25',\n",
       " '10.25',\n",
       " '10.25',\n",
       " '10.25',\n",
       " '10.25',\n",
       " '10.25',\n",
       " '10.25',\n",
       " '10.25',\n",
       " '10.25',\n",
       " '10.25',\n",
       " '10.25',\n",
       " '10.25',\n",
       " '10.25',\n",
       " '10.25',\n",
       " '10.25',\n",
       " '10.25',\n",
       " '10.24',\n",
       " '10.24',\n",
       " '10.24',\n",
       " '10.24',\n",
       " '10.24',\n",
       " '10.24',\n",
       " '10.24',\n",
       " '10.24',\n",
       " '10.24',\n",
       " '10.24',\n",
       " '10.24',\n",
       " '10.24',\n",
       " '10.24',\n",
       " '10.24',\n",
       " '10.24',\n",
       " '10.24',\n",
       " '10.24',\n",
       " '10.23',\n",
       " '10.23',\n",
       " '10.23',\n",
       " '10.23',\n",
       " '10.23',\n",
       " '10.23',\n",
       " '10.23',\n",
       " '10.23',\n",
       " '10.23',\n",
       " '10.23',\n",
       " '10.23',\n",
       " '10.23',\n",
       " '10.23',\n",
       " '10.23',\n",
       " '10.23',\n",
       " '10.23',\n",
       " '10.23',\n",
       " '10.23',\n",
       " '10.23',\n",
       " '10.23',\n",
       " '10.23',\n",
       " '10.23',\n",
       " '10.22',\n",
       " '10.22',\n",
       " '10.22',\n",
       " '10.22',\n",
       " '10.22',\n",
       " '10.22',\n",
       " '10.22',\n",
       " '10.22',\n",
       " '10.22',\n",
       " '10.22',\n",
       " '10.22',\n",
       " '10.22',\n",
       " '10.22',\n",
       " '10.22',\n",
       " '10.22',\n",
       " '10.22',\n",
       " '10.22',\n",
       " '10.22',\n",
       " '10.22',\n",
       " '10.22',\n",
       " '10.21',\n",
       " '10.21',\n",
       " '10.21',\n",
       " '10.21',\n",
       " '10.21',\n",
       " '10.21',\n",
       " '10.21',\n",
       " '10.21',\n",
       " '10.21',\n",
       " '10.21',\n",
       " '10.21',\n",
       " '10.21',\n",
       " '10.21',\n",
       " '10.21',\n",
       " '10.21',\n",
       " '10.21',\n",
       " '10.21',\n",
       " '10.21',\n",
       " '10.19',\n",
       " '10.19',\n",
       " '10.18',\n",
       " '10.20',\n",
       " '10.20',\n",
       " '10.20',\n",
       " '10.20',\n",
       " '10.20',\n",
       " '10.20',\n",
       " '10.20',\n",
       " '10.20',\n",
       " '10.20',\n",
       " '10.20',\n",
       " '10.20',\n",
       " '10.20',\n",
       " '10.20',\n",
       " '10.20',\n",
       " '10.19',\n",
       " '10.19',\n",
       " '10.19',\n",
       " '10.19',\n",
       " '10.19',\n",
       " '10.19',\n",
       " '10.19',\n",
       " '10.19',\n",
       " '10.19',\n",
       " '10.19',\n",
       " '10.19',\n",
       " '10.18',\n",
       " '10.18',\n",
       " '10.18',\n",
       " '10.18',\n",
       " '10.18',\n",
       " '10.18',\n",
       " '10.18',\n",
       " '10.18',\n",
       " '10.18',\n",
       " '10.18',\n",
       " '10.18',\n",
       " '10.18',\n",
       " '10.18',\n",
       " '10.18',\n",
       " '10.17',\n",
       " '10.17',\n",
       " '10.17',\n",
       " '10.17',\n",
       " '10.17',\n",
       " '10.17',\n",
       " '10.17',\n",
       " '10.17',\n",
       " '10.17',\n",
       " '10.17',\n",
       " '10.17',\n",
       " '10.17',\n",
       " '10.17',\n",
       " '10.17',\n",
       " '10.17',\n",
       " '10.17',\n",
       " '10.17',\n",
       " '10.17',\n",
       " '10.17',\n",
       " '10.17',\n",
       " '10.16',\n",
       " '10.16',\n",
       " '10.16',\n",
       " '10.16',\n",
       " '10.16',\n",
       " '10.16',\n",
       " '10.16',\n",
       " '10.16',\n",
       " '10.16',\n",
       " '10.16',\n",
       " '10.16',\n",
       " '10.16',\n",
       " '10.16',\n",
       " '10.16',\n",
       " '10.16',\n",
       " '10.16',\n",
       " '10.16',\n",
       " '10.16',\n",
       " '10.15',\n",
       " '10.15',\n",
       " '10.15',\n",
       " '10.15',\n",
       " '10.15',\n",
       " '10.15',\n",
       " '10.15',\n",
       " '10.15',\n",
       " '10.15',\n",
       " '10.15',\n",
       " '10.15',\n",
       " '10.15',\n",
       " '10.15',\n",
       " '10.15',\n",
       " '10.15',\n",
       " '10.15',\n",
       " '10.15',\n",
       " '10.15',\n",
       " '10.14',\n",
       " '10.14',\n",
       " '10.14',\n",
       " '10.14',\n",
       " '10.14',\n",
       " '10.14',\n",
       " '10.14',\n",
       " '10.14',\n",
       " '10.14',\n",
       " '10.14',\n",
       " '10.14',\n",
       " '10.14',\n",
       " '10.14',\n",
       " '10.14',\n",
       " '10.14',\n",
       " '10.14',\n",
       " '10.14',\n",
       " '10.14',\n",
       " '10.14',\n",
       " '10.14',\n",
       " '10.14',\n",
       " '10.14',\n",
       " '10.14',\n",
       " '10.14',\n",
       " '10.14',\n",
       " '10.13',\n",
       " '10.13',\n",
       " '10.13',\n",
       " '10.13',\n",
       " '10.13',\n",
       " '10.13',\n",
       " '10.13',\n",
       " '10.13',\n",
       " '10.13',\n",
       " '10.13',\n",
       " '10.13',\n",
       " '10.13',\n",
       " '10.13',\n",
       " '10.13',\n",
       " '10.13',\n",
       " '10.13',\n",
       " '10.13',\n",
       " '10.13',\n",
       " '10.13',\n",
       " '10.13',\n",
       " '10.13',\n",
       " '10.13',\n",
       " '10.12',\n",
       " '10.12',\n",
       " '10.12',\n",
       " '10.12',\n",
       " '10.12',\n",
       " '10.12',\n",
       " '10.12',\n",
       " '10.12',\n",
       " '10.12',\n",
       " '10.11',\n",
       " '10.12',\n",
       " '10.12',\n",
       " '10.12',\n",
       " '10.12',\n",
       " '10.12',\n",
       " '10.12',\n",
       " '10.12',\n",
       " '10.12',\n",
       " '10.12',\n",
       " '10.12',\n",
       " '10.12',\n",
       " '10.11',\n",
       " '10.11',\n",
       " '10.11',\n",
       " '10.11',\n",
       " '10.11',\n",
       " '10.10',\n",
       " '10.11',\n",
       " '10.11',\n",
       " '10.11',\n",
       " '10.11',\n",
       " '10.11',\n",
       " '10.11',\n",
       " '10.11',\n",
       " '10.11',\n",
       " '10.11',\n",
       " '10.11',\n",
       " '10.11',\n",
       " '10.11',\n",
       " '10.11',\n",
       " '10.11',\n",
       " '10.11',\n",
       " '10.11',\n",
       " '10.11',\n",
       " '10.11',\n",
       " '10.11',\n",
       " '10.11',\n",
       " '10.11',\n",
       " '10.11',\n",
       " '10.11',\n",
       " '10.11',\n",
       " '10.11',\n",
       " '10.10',\n",
       " '10.10',\n",
       " '10.10',\n",
       " '10.10',\n",
       " '10.10',\n",
       " '10.10',\n",
       " '10.10',\n",
       " '10.10',\n",
       " '10.10',\n",
       " '10.10',\n",
       " '10.10',\n",
       " '10.10',\n",
       " '10.10',\n",
       " '10.10',\n",
       " '10.10',\n",
       " '10.10',\n",
       " '10.10',\n",
       " '10.10',\n",
       " '10.10',\n",
       " '10.10',\n",
       " '10.10',\n",
       " '10.10',\n",
       " '10.10',\n",
       " '10.09',\n",
       " '10.09',\n",
       " '10.09',\n",
       " '10.09',\n",
       " '10.09',\n",
       " '10.09',\n",
       " '10.09',\n",
       " '10.09',\n",
       " '10.09',\n",
       " '10.09',\n",
       " '10.09',\n",
       " '10.09',\n",
       " '10.09',\n",
       " '10.09',\n",
       " '10.09',\n",
       " '10.09',\n",
       " '10.09',\n",
       " '10.09',\n",
       " '10.09',\n",
       " '10.09',\n",
       " '10.09',\n",
       " '10.09',\n",
       " '10.09',\n",
       " '10.09',\n",
       " '10.09',\n",
       " '10.08',\n",
       " '10.08',\n",
       " '10.08',\n",
       " '10.08',\n",
       " '10.08',\n",
       " '10.08',\n",
       " '10.08',\n",
       " '10.08',\n",
       " '10.08',\n",
       " '10.08',\n",
       " '10.08',\n",
       " '10.08',\n",
       " '10.08',\n",
       " '10.08',\n",
       " '10.08',\n",
       " '10.08',\n",
       " '10.08',\n",
       " '10.08',\n",
       " '10.08',\n",
       " '10.08',\n",
       " '10.08',\n",
       " '10.08',\n",
       " '10.07',\n",
       " '10.07',\n",
       " '10.07',\n",
       " '10.07',\n",
       " '10.07',\n",
       " '10.07',\n",
       " '10.07',\n",
       " '10.07',\n",
       " '10.07',\n",
       " '10.07',\n",
       " '10.07',\n",
       " '10.07',\n",
       " '10.07',\n",
       " '10.07',\n",
       " '10.07',\n",
       " '10.07',\n",
       " '10.07',\n",
       " '10.07',\n",
       " '10.07',\n",
       " '10.07',\n",
       " '10.06',\n",
       " '10.06',\n",
       " '10.06',\n",
       " '10.06',\n",
       " '10.06',\n",
       " '10.06',\n",
       " '10.06',\n",
       " '10.06',\n",
       " '10.06',\n",
       " '10.06',\n",
       " '10.06',\n",
       " '10.06',\n",
       " '10.06',\n",
       " '10.06',\n",
       " '10.06',\n",
       " '10.06',\n",
       " '10.06',\n",
       " '10.05',\n",
       " '10.05',\n",
       " '10.06',\n",
       " '10.06',\n",
       " '10.05',\n",
       " '10.06',\n",
       " '10.06',\n",
       " '10.06',\n",
       " '10.06',\n",
       " '10.06',\n",
       " '10.06',\n",
       " '10.06',\n",
       " '10.06',\n",
       " '10.06',\n",
       " '10.06',\n",
       " '10.06',\n",
       " '10.05',\n",
       " '10.05',\n",
       " '10.05',\n",
       " '10.05',\n",
       " '10.05',\n",
       " '10.05',\n",
       " '10.05',\n",
       " '10.05',\n",
       " '10.05',\n",
       " '10.05',\n",
       " '10.05',\n",
       " '10.05',\n",
       " '10.05',\n",
       " '10.05',\n",
       " '10.05',\n",
       " '10.04',\n",
       " '10.04',\n",
       " '10.04',\n",
       " '10.04',\n",
       " '10.04',\n",
       " '10.04',\n",
       " '10.04',\n",
       " '10.04',\n",
       " '10.04',\n",
       " '10.04',\n",
       " '10.04',\n",
       " '10.04',\n",
       " '10.04',\n",
       " '10.04',\n",
       " '10.04',\n",
       " '10.04',\n",
       " '10.04',\n",
       " '10.04',\n",
       " '10.04',\n",
       " '10.03',\n",
       " '10.03',\n",
       " '10.03',\n",
       " '10.03',\n",
       " '10.03',\n",
       " '10.03',\n",
       " '10.03',\n",
       " '10.03',\n",
       " '10.03',\n",
       " '10.03',\n",
       " '10.03',\n",
       " '10.03',\n",
       " '10.03',\n",
       " '10.03',\n",
       " '10.03',\n",
       " '10.03',\n",
       " '10.02',\n",
       " '10.02',\n",
       " '10.02',\n",
       " '10.02',\n",
       " '10.02',\n",
       " '10.02',\n",
       " '10.02',\n",
       " '10.02',\n",
       " '10.02',\n",
       " '10.02',\n",
       " '10.02',\n",
       " '10.02',\n",
       " '10.02',\n",
       " '10.02',\n",
       " '10.02',\n",
       " '10.02',\n",
       " '10.02',\n",
       " '10.02',\n",
       " '10.02',\n",
       " '10.02',\n",
       " '10.02',\n",
       " '10.02',\n",
       " '10.02',\n",
       " '10.02',\n",
       " '10.02',\n",
       " '10.02',\n",
       " '10.01',\n",
       " '10.01',\n",
       " '10.01',\n",
       " '10.01',\n",
       " '10.01',\n",
       " '10.01',\n",
       " '10.01',\n",
       " '10.01',\n",
       " '10.01',\n",
       " '10.01',\n",
       " '10.01',\n",
       " '9.30',\n",
       " '9.30',\n",
       " '9.30',\n",
       " '9.30',\n",
       " '9.30',\n",
       " '9.30',\n",
       " '9.30',\n",
       " '9.30',\n",
       " '9.30',\n",
       " '9.30',\n",
       " '9.30',\n",
       " '9.30',\n",
       " '9.30',\n",
       " '9.30',\n",
       " '9.30',\n",
       " '9.30',\n",
       " '9.30',\n",
       " '9.30',\n",
       " '9.30',\n",
       " '9.30',\n",
       " '9.30',\n",
       " '9.30',\n",
       " '9.30',\n",
       " '9.30',\n",
       " '9.30',\n",
       " '9.30',\n",
       " '9.30',\n",
       " '9.30',\n",
       " '9.30',\n",
       " '9.30',\n",
       " '9.29',\n",
       " '9.29',\n",
       " '9.29',\n",
       " '9.29',\n",
       " '9.29',\n",
       " '9.29',\n",
       " '9.29',\n",
       " '9.29',\n",
       " '9.29',\n",
       " '9.29',\n",
       " '9.29',\n",
       " '9.29',\n",
       " '9.29',\n",
       " '9.29',\n",
       " '9.29',\n",
       " '9.29',\n",
       " '9.29',\n",
       " '9.29',\n",
       " '9.29',\n",
       " '9.29',\n",
       " '9.29',\n",
       " '9.29',\n",
       " '9.29',\n",
       " '9.29',\n",
       " '9.29',\n",
       " '9.29',\n",
       " '9.29',\n",
       " '9.29',\n",
       " '9.29',\n",
       " '9.29',\n",
       " '9.29',\n",
       " '9.29',\n",
       " '9.28',\n",
       " '9.28',\n",
       " '9.29',\n",
       " '9.29',\n",
       " '9.29',\n",
       " '9.28',\n",
       " '9.28',\n",
       " '9.29',\n",
       " '9.28',\n",
       " '9.28',\n",
       " '9.28',\n",
       " '9.28',\n",
       " '9.28',\n",
       " '9.28',\n",
       " '9.28',\n",
       " '9.28',\n",
       " '9.28',\n",
       " '9.28',\n",
       " '9.28',\n",
       " '9.28',\n",
       " '9.28',\n",
       " '9.28',\n",
       " '9.28',\n",
       " '9.28',\n",
       " '9.28',\n",
       " '9.28',\n",
       " '9.28',\n",
       " '9.28',\n",
       " '9.28',\n",
       " '9.28',\n",
       " '9.27',\n",
       " '9.27',\n",
       " '9.26',\n",
       " '9.27',\n",
       " '9.27',\n",
       " '9.27',\n",
       " '9.27',\n",
       " '9.27',\n",
       " '9.27',\n",
       " '9.27',\n",
       " '9.27',\n",
       " '9.27',\n",
       " '9.27',\n",
       " '9.27',\n",
       " '9.27',\n",
       " '9.27',\n",
       " '9.27',\n",
       " '9.27',\n",
       " '9.27',\n",
       " '9.26',\n",
       " '9.26',\n",
       " '9.26',\n",
       " '9.26',\n",
       " '9.26',\n",
       " '9.26',\n",
       " '9.26',\n",
       " '9.26',\n",
       " '9.26',\n",
       " '9.26',\n",
       " '9.26',\n",
       " '9.26',\n",
       " '9.26',\n",
       " '9.26',\n",
       " '9.26',\n",
       " '9.26',\n",
       " '9.26',\n",
       " '9.26',\n",
       " '9.26',\n",
       " '9.26',\n",
       " '9.26',\n",
       " '9.26',\n",
       " '9.26',\n",
       " '9.26',\n",
       " '9.26',\n",
       " '9.26',\n",
       " '9.26',\n",
       " '9.26',\n",
       " '9.26',\n",
       " '9.26',\n",
       " '9.26',\n",
       " '9.26',\n",
       " '9.26',\n",
       " '9.26',\n",
       " '9.25',\n",
       " '9.25',\n",
       " '9.25',\n",
       " '9.25',\n",
       " '9.25',\n",
       " '9.25',\n",
       " '9.25',\n",
       " '9.25',\n",
       " '9.25',\n",
       " '9.25',\n",
       " '9.25',\n",
       " '9.25',\n",
       " '9.25',\n",
       " '9.25',\n",
       " '9.25',\n",
       " '9.25',\n",
       " '9.25',\n",
       " '9.25',\n",
       " '9.25',\n",
       " '9.25',\n",
       " '9.25',\n",
       " '9.24',\n",
       " '9.25',\n",
       " '9.25',\n",
       " '9.25',\n",
       " '9.25',\n",
       " '9.24',\n",
       " '9.24',\n",
       " '9.24',\n",
       " '9.24',\n",
       " '9.24',\n",
       " '9.24',\n",
       " '9.24',\n",
       " '9.24',\n",
       " '9.24',\n",
       " '9.24',\n",
       " '9.24',\n",
       " '9.24',\n",
       " '9.24',\n",
       " '9.24',\n",
       " '9.24',\n",
       " '9.24',\n",
       " '9.24',\n",
       " '9.24',\n",
       " '9.24',\n",
       " '9.24',\n",
       " '9.24',\n",
       " '9.24',\n",
       " '9.24',\n",
       " '9.24',\n",
       " '9.24',\n",
       " '9.24',\n",
       " '9.24',\n",
       " '9.24',\n",
       " '9.24',\n",
       " '9.24',\n",
       " '9.24',\n",
       " '9.24',\n",
       " '9.24',\n",
       " '9.24',\n",
       " '9.24',\n",
       " '9.24',\n",
       " '9.24',\n",
       " '9.24',\n",
       " '9.23',\n",
       " '9.23',\n",
       " '9.24',\n",
       " '9.23',\n",
       " '9.23',\n",
       " '9.24',\n",
       " '9.24',\n",
       " '9.24',\n",
       " '9.24',\n",
       " '9.24',\n",
       " '9.24',\n",
       " ...]"
      ]
     },
     "execution_count": 17,
     "metadata": {},
     "output_type": "execute_result"
    }
   ],
   "source": [
    "a"
   ]
  },
  {
   "cell_type": "code",
   "execution_count": 18,
   "metadata": {
    "ExecuteTime": {
     "end_time": "2020-11-18T06:21:24.726962Z",
     "start_time": "2020-11-18T06:21:24.722933Z"
    }
   },
   "outputs": [
    {
     "data": {
      "text/plain": [
       "22"
      ]
     },
     "execution_count": 18,
     "metadata": {},
     "output_type": "execute_result"
    }
   ],
   "source": [
    "a.count('11.02')"
   ]
  },
  {
   "cell_type": "code",
   "execution_count": 19,
   "metadata": {
    "ExecuteTime": {
     "end_time": "2020-11-18T06:21:43.617012Z",
     "start_time": "2020-11-18T06:21:43.605044Z"
    }
   },
   "outputs": [],
   "source": [
    "b = a.copy"
   ]
  },
  {
   "cell_type": "code",
   "execution_count": 20,
   "metadata": {
    "ExecuteTime": {
     "end_time": "2020-11-18T06:22:02.715197Z",
     "start_time": "2020-11-18T06:22:02.708215Z"
    }
   },
   "outputs": [],
   "source": [
    "a.reverse()"
   ]
  },
  {
   "cell_type": "code",
   "execution_count": 21,
   "metadata": {
    "ExecuteTime": {
     "end_time": "2020-11-18T06:22:05.229548Z",
     "start_time": "2020-11-18T06:22:05.217580Z"
    }
   },
   "outputs": [
    {
     "data": {
      "text/plain": [
       "['1.30',\n",
       " '1.30',\n",
       " '1.30',\n",
       " '1.31',\n",
       " '1.31',\n",
       " '1.31',\n",
       " '2.2',\n",
       " '2.5',\n",
       " '2.5',\n",
       " '2.6',\n",
       " '2.7',\n",
       " '2.16',\n",
       " '2.16',\n",
       " '2.19',\n",
       " '2.19',\n",
       " '2.20',\n",
       " '2.20',\n",
       " '2.20',\n",
       " '2.20',\n",
       " '2.20',\n",
       " '2.21',\n",
       " '2.21',\n",
       " '2.22',\n",
       " '2.22',\n",
       " '2.22',\n",
       " '2.23',\n",
       " '2.23',\n",
       " '2.26',\n",
       " '2.23',\n",
       " '2.22',\n",
       " '2.23',\n",
       " '2.24',\n",
       " '2.24',\n",
       " '2.25',\n",
       " '2.24',\n",
       " '2.24',\n",
       " '2.25',\n",
       " '2.25',\n",
       " '2.25',\n",
       " '2.25',\n",
       " '2.25',\n",
       " '2.25',\n",
       " '2.25',\n",
       " '2.25',\n",
       " '2.25',\n",
       " '2.26',\n",
       " '2.25',\n",
       " '2.25',\n",
       " '2.26',\n",
       " '2.25',\n",
       " '2.25',\n",
       " '2.26',\n",
       " '2.26',\n",
       " '2.26',\n",
       " '2.25',\n",
       " '2.27',\n",
       " '2.26',\n",
       " '2.26',\n",
       " '2.26',\n",
       " '2.27',\n",
       " '2.27',\n",
       " '2.28',\n",
       " '2.28',\n",
       " '2.28',\n",
       " '2.28',\n",
       " '2.27',\n",
       " '2.27',\n",
       " '2.25',\n",
       " '2.27',\n",
       " '2.26',\n",
       " '2.27',\n",
       " '2.27',\n",
       " '2.27',\n",
       " '2.27',\n",
       " '2.27',\n",
       " '2.28',\n",
       " '2.28',\n",
       " '2.28',\n",
       " '2.29',\n",
       " '2.29',\n",
       " '2.29',\n",
       " '2.27',\n",
       " '2.27',\n",
       " '2.29',\n",
       " '3.1',\n",
       " '2.28',\n",
       " '3.1',\n",
       " '3.1',\n",
       " '3.1',\n",
       " '2.29',\n",
       " '3.2',\n",
       " '3.2',\n",
       " '3.2',\n",
       " '3.2',\n",
       " '3.2',\n",
       " '3.1',\n",
       " '3.2',\n",
       " '3.1',\n",
       " '3.3',\n",
       " '3.4',\n",
       " '3.4',\n",
       " '3.4',\n",
       " '3.4',\n",
       " '3.5',\n",
       " '3.6',\n",
       " '3.6',\n",
       " '3.6',\n",
       " '3.7',\n",
       " '3.7',\n",
       " '3.4',\n",
       " '3.7',\n",
       " '3.6',\n",
       " '3.7',\n",
       " '3.6',\n",
       " '3.7',\n",
       " '3.7',\n",
       " '3.7',\n",
       " '3.6',\n",
       " '3.6',\n",
       " '3.8',\n",
       " '3.8',\n",
       " '3.8',\n",
       " '3.8',\n",
       " '3.8',\n",
       " '3.8',\n",
       " '3.8',\n",
       " '3.8',\n",
       " '3.8',\n",
       " '3.8',\n",
       " '3.9',\n",
       " '3.9',\n",
       " '3.9',\n",
       " '3.9',\n",
       " '3.9',\n",
       " '3.9',\n",
       " '3.9',\n",
       " '3.9',\n",
       " '3.9',\n",
       " '3.9',\n",
       " '3.9',\n",
       " '3.9',\n",
       " '3.9',\n",
       " '3.9',\n",
       " '3.9',\n",
       " '3.9',\n",
       " '3.9',\n",
       " '3.9',\n",
       " '3.9',\n",
       " '3.9',\n",
       " '3.9',\n",
       " '3.9',\n",
       " '3.9',\n",
       " '3.9',\n",
       " '3.9',\n",
       " '3.9',\n",
       " '3.10',\n",
       " '3.10',\n",
       " '3.10',\n",
       " '3.10',\n",
       " '3.10',\n",
       " '3.10',\n",
       " '3.10',\n",
       " '3.10',\n",
       " '3.10',\n",
       " '3.10',\n",
       " '3.10',\n",
       " '3.10',\n",
       " '3.10',\n",
       " '3.10',\n",
       " '3.10',\n",
       " '3.10',\n",
       " '3.10',\n",
       " '3.10',\n",
       " '3.10',\n",
       " '3.10',\n",
       " '3.10',\n",
       " '3.10',\n",
       " '3.10',\n",
       " '3.10',\n",
       " '3.10',\n",
       " '3.10',\n",
       " '3.10',\n",
       " '3.10',\n",
       " '3.10',\n",
       " '3.10',\n",
       " '3.10',\n",
       " '3.10',\n",
       " '3.10',\n",
       " '3.10',\n",
       " '3.10',\n",
       " '3.10',\n",
       " '3.10',\n",
       " '3.10',\n",
       " '3.10',\n",
       " '3.10',\n",
       " '3.10',\n",
       " '3.10',\n",
       " '3.10',\n",
       " '3.10',\n",
       " '3.10',\n",
       " '3.10',\n",
       " '3.11',\n",
       " '3.11',\n",
       " '3.11',\n",
       " '3.11',\n",
       " '3.11',\n",
       " '3.11',\n",
       " '3.11',\n",
       " '3.11',\n",
       " '3.11',\n",
       " '3.11',\n",
       " '3.11',\n",
       " '3.11',\n",
       " '3.11',\n",
       " '3.11',\n",
       " '3.11',\n",
       " '3.11',\n",
       " '3.12',\n",
       " '3.11',\n",
       " '3.12',\n",
       " '3.12',\n",
       " '3.12',\n",
       " '3.12',\n",
       " '3.12',\n",
       " '3.12',\n",
       " '3.12',\n",
       " '3.12',\n",
       " '3.12',\n",
       " '3.12',\n",
       " '3.12',\n",
       " '3.13',\n",
       " '3.13',\n",
       " '3.13',\n",
       " '3.13',\n",
       " '3.13',\n",
       " '3.13',\n",
       " '3.13',\n",
       " '3.13',\n",
       " '3.13',\n",
       " '3.14',\n",
       " '3.14',\n",
       " '3.14',\n",
       " '3.14',\n",
       " '3.14',\n",
       " '3.14',\n",
       " '3.14',\n",
       " '3.14',\n",
       " '3.15',\n",
       " '3.15',\n",
       " '3.15',\n",
       " '3.15',\n",
       " '3.15',\n",
       " '3.15',\n",
       " '3.16',\n",
       " '3.16',\n",
       " '3.16',\n",
       " '3.16',\n",
       " '3.16',\n",
       " '3.16',\n",
       " '3.16',\n",
       " '3.16',\n",
       " '3.16',\n",
       " '3.16',\n",
       " '3.16',\n",
       " '3.16',\n",
       " '3.16',\n",
       " '3.17',\n",
       " '3.17',\n",
       " '3.17',\n",
       " '3.17',\n",
       " '3.18',\n",
       " '3.18',\n",
       " '3.18',\n",
       " '3.18',\n",
       " '3.18',\n",
       " '3.18',\n",
       " '3.18',\n",
       " '3.18',\n",
       " '3.18',\n",
       " '3.18',\n",
       " '3.18',\n",
       " '3.19',\n",
       " '3.19',\n",
       " '3.19',\n",
       " '3.19',\n",
       " '3.19',\n",
       " '3.19',\n",
       " '3.19',\n",
       " '3.19',\n",
       " '3.19',\n",
       " '3.19',\n",
       " '3.19',\n",
       " '3.19',\n",
       " '3.19',\n",
       " '3.19',\n",
       " '3.19',\n",
       " '3.19',\n",
       " '3.19',\n",
       " '3.20',\n",
       " '3.20',\n",
       " '3.20',\n",
       " '3.20',\n",
       " '3.20',\n",
       " '3.20',\n",
       " '3.20',\n",
       " '3.20',\n",
       " '3.20',\n",
       " '3.20',\n",
       " '3.20',\n",
       " '3.20',\n",
       " '3.20',\n",
       " '3.20',\n",
       " '3.20',\n",
       " '3.20',\n",
       " '3.20',\n",
       " '3.21',\n",
       " '3.21',\n",
       " '3.21',\n",
       " '3.21',\n",
       " '3.21',\n",
       " '3.21',\n",
       " '3.21',\n",
       " '3.21',\n",
       " '3.22',\n",
       " '3.22',\n",
       " '3.22',\n",
       " '3.22',\n",
       " '3.22',\n",
       " '3.22',\n",
       " '3.23',\n",
       " '3.23',\n",
       " '3.23',\n",
       " '3.23',\n",
       " '3.24',\n",
       " '3.24',\n",
       " '3.24',\n",
       " '3.24',\n",
       " '3.24',\n",
       " '3.24',\n",
       " '3.24',\n",
       " '3.24',\n",
       " '3.24',\n",
       " '3.24',\n",
       " '3.24',\n",
       " '3.24',\n",
       " '3.24',\n",
       " '3.23',\n",
       " '3.24',\n",
       " '3.25',\n",
       " '3.25',\n",
       " '3.25',\n",
       " '3.25',\n",
       " '3.25',\n",
       " '3.25',\n",
       " '3.25',\n",
       " '3.25',\n",
       " '3.25',\n",
       " '3.25',\n",
       " '3.25',\n",
       " '3.26',\n",
       " '3.26',\n",
       " '3.26',\n",
       " '3.26',\n",
       " '3.26',\n",
       " '3.26',\n",
       " '3.26',\n",
       " '3.26',\n",
       " '3.26',\n",
       " '3.26',\n",
       " '3.26',\n",
       " '3.25',\n",
       " '3.26',\n",
       " '3.26',\n",
       " '3.26',\n",
       " '3.27',\n",
       " '3.27',\n",
       " '3.27',\n",
       " '3.27',\n",
       " '3.27',\n",
       " '3.27',\n",
       " '3.27',\n",
       " '3.27',\n",
       " '3.27',\n",
       " '3.27',\n",
       " '3.27',\n",
       " '3.27',\n",
       " '3.27',\n",
       " '3.27',\n",
       " '3.25',\n",
       " '3.28',\n",
       " '3.28',\n",
       " '3.28',\n",
       " '3.28',\n",
       " '3.28',\n",
       " '3.28',\n",
       " '3.28',\n",
       " '3.28',\n",
       " '3.28',\n",
       " '3.28',\n",
       " '3.28',\n",
       " '3.28',\n",
       " '3.28',\n",
       " '3.28',\n",
       " '3.28',\n",
       " '3.28',\n",
       " '3.28',\n",
       " '3.28',\n",
       " '3.28',\n",
       " '3.28',\n",
       " '3.28',\n",
       " '3.28',\n",
       " '3.29',\n",
       " '3.29',\n",
       " '3.29',\n",
       " '3.29',\n",
       " '3.29',\n",
       " '3.29',\n",
       " '3.29',\n",
       " '3.29',\n",
       " '3.29',\n",
       " '3.29',\n",
       " '3.29',\n",
       " '3.29',\n",
       " '3.29',\n",
       " '3.29',\n",
       " '3.27',\n",
       " '3.29',\n",
       " '3.29',\n",
       " '3.29',\n",
       " '3.29',\n",
       " '3.29',\n",
       " '3.29',\n",
       " '3.29',\n",
       " '3.30',\n",
       " '3.30',\n",
       " '3.30',\n",
       " '3.30',\n",
       " '3.30',\n",
       " '3.30',\n",
       " '3.30',\n",
       " '3.30',\n",
       " '3.30',\n",
       " '3.30',\n",
       " '3.30',\n",
       " '3.30',\n",
       " '3.30',\n",
       " '3.30',\n",
       " '3.30',\n",
       " '3.30',\n",
       " '3.29',\n",
       " '3.30',\n",
       " '3.30',\n",
       " '3.31',\n",
       " '3.31',\n",
       " '3.31',\n",
       " '3.31',\n",
       " '3.31',\n",
       " '3.31',\n",
       " '3.31',\n",
       " '3.31',\n",
       " '3.31',\n",
       " '3.31',\n",
       " '3.31',\n",
       " '3.31',\n",
       " '3.31',\n",
       " '3.31',\n",
       " '3.31',\n",
       " '3.31',\n",
       " '3.31',\n",
       " '3.31',\n",
       " '3.31',\n",
       " '3.31',\n",
       " '3.31',\n",
       " '3.31',\n",
       " '3.31',\n",
       " '4.01',\n",
       " '4.01',\n",
       " '4.01',\n",
       " '4.01',\n",
       " '4.01',\n",
       " '4.01',\n",
       " '4.01',\n",
       " '4.01',\n",
       " '4.01',\n",
       " '4.01',\n",
       " '4.01',\n",
       " '4.01',\n",
       " '4.01',\n",
       " '4.01',\n",
       " '4.01',\n",
       " '4.02',\n",
       " '4.02',\n",
       " '4.02',\n",
       " '4.02',\n",
       " '4.02',\n",
       " '4.02',\n",
       " '4.02',\n",
       " '4.02',\n",
       " '4.02',\n",
       " '4.02',\n",
       " '4.02',\n",
       " '4.02',\n",
       " '4.02',\n",
       " '4.02',\n",
       " '4.02',\n",
       " '3.30',\n",
       " '3.31',\n",
       " '4.01',\n",
       " '4.02',\n",
       " '4.02',\n",
       " '4.3',\n",
       " '4.3',\n",
       " '4.3',\n",
       " '4.3',\n",
       " '4.3',\n",
       " '4.3',\n",
       " '4.3',\n",
       " '4.3',\n",
       " '4.3',\n",
       " '4.3',\n",
       " '4.3',\n",
       " '4.3',\n",
       " '4.3',\n",
       " '4.3',\n",
       " '4.3',\n",
       " '4.3',\n",
       " '4.3',\n",
       " '4.02',\n",
       " '4.02',\n",
       " '4.3',\n",
       " '4.3',\n",
       " '4.3',\n",
       " '4.04',\n",
       " '4.04',\n",
       " '4.04',\n",
       " '4.04',\n",
       " '4.04',\n",
       " '4.04',\n",
       " '4.04',\n",
       " '4.04',\n",
       " '4.04',\n",
       " '4.04',\n",
       " '4.04',\n",
       " '4.04',\n",
       " '4.04',\n",
       " '4.04',\n",
       " '4.04',\n",
       " '4.04',\n",
       " '4.04',\n",
       " '4.04',\n",
       " '4.05',\n",
       " '4.04',\n",
       " '4.05',\n",
       " '4.05',\n",
       " '4.05',\n",
       " '4.05',\n",
       " '4.05',\n",
       " '4.05',\n",
       " '4.05',\n",
       " '4.05',\n",
       " '4.05',\n",
       " '4.05',\n",
       " '4.06',\n",
       " '4.06',\n",
       " '4.06',\n",
       " '4.06',\n",
       " '4.06',\n",
       " '4.06',\n",
       " '4.07',\n",
       " '4.07',\n",
       " '4.07',\n",
       " '4.07',\n",
       " '4.07',\n",
       " '4.07',\n",
       " '4.07',\n",
       " '4.07',\n",
       " '4.07',\n",
       " '4.07',\n",
       " '4.08',\n",
       " '4.08',\n",
       " '4.08',\n",
       " '4.08',\n",
       " '4.08',\n",
       " '4.08',\n",
       " '4.08',\n",
       " '4.08',\n",
       " '4.08',\n",
       " '4.08',\n",
       " '4.08',\n",
       " '4.06',\n",
       " '4.09',\n",
       " '4.09',\n",
       " '4.09',\n",
       " '4.09',\n",
       " '4.09',\n",
       " '4.10',\n",
       " '4.06',\n",
       " '4.10',\n",
       " '4.10',\n",
       " '4.11',\n",
       " '4.11',\n",
       " '4.12',\n",
       " '4.12',\n",
       " '4.12',\n",
       " '4.12',\n",
       " '4.12',\n",
       " '4.12',\n",
       " '4.12',\n",
       " '4.12',\n",
       " '4.13',\n",
       " '4.13',\n",
       " '4.13',\n",
       " '4.14',\n",
       " '4.14',\n",
       " '4.14',\n",
       " '4.14',\n",
       " '4.14',\n",
       " '4.15',\n",
       " '4.16',\n",
       " '4.16',\n",
       " '4.17',\n",
       " '4.17',\n",
       " '4.18',\n",
       " '4.19',\n",
       " '4.20',\n",
       " '4.21',\n",
       " '4.21',\n",
       " '4.24',\n",
       " '4.27',\n",
       " '4.27',\n",
       " '4.27',\n",
       " '4.27',\n",
       " '4.30',\n",
       " '5.01',\n",
       " '5.02',\n",
       " '5.02',\n",
       " '5.08',\n",
       " '5.08',\n",
       " '5.08',\n",
       " '5.08',\n",
       " '5.08',\n",
       " '5.08',\n",
       " '5.08',\n",
       " '5.08',\n",
       " '5.08',\n",
       " '5.08',\n",
       " '5.08',\n",
       " '5.08',\n",
       " '5.08',\n",
       " '5.09',\n",
       " '5.09',\n",
       " '5.09',\n",
       " '5.09',\n",
       " '5.09',\n",
       " '5.09',\n",
       " '5.09',\n",
       " '5.09',\n",
       " '5.09',\n",
       " '5.09',\n",
       " '5.09',\n",
       " '5.09',\n",
       " '5.09',\n",
       " '5.09',\n",
       " '5.09',\n",
       " '5.09',\n",
       " '5.9',\n",
       " '5.10',\n",
       " '5.10',\n",
       " '5.10',\n",
       " '5.10',\n",
       " '5.10',\n",
       " '5.10',\n",
       " '5.10',\n",
       " '5.10',\n",
       " '5.10',\n",
       " '5.10',\n",
       " '5.10',\n",
       " '5.10',\n",
       " '5.10',\n",
       " '5.10',\n",
       " '5.10',\n",
       " '5.10',\n",
       " '5.10',\n",
       " '5.10',\n",
       " '5.11',\n",
       " '5.11',\n",
       " '5.11',\n",
       " '5.11',\n",
       " '5.11',\n",
       " '5.11',\n",
       " '5.11',\n",
       " '5.11',\n",
       " '5.11',\n",
       " '5.11',\n",
       " '5.09',\n",
       " '5.10',\n",
       " '5.10',\n",
       " '5.11',\n",
       " '5.11',\n",
       " '5.12',\n",
       " '5.12',\n",
       " '5.12',\n",
       " '5.12',\n",
       " '5.12',\n",
       " '5.12',\n",
       " '5.12',\n",
       " '5.13',\n",
       " '5.13',\n",
       " '5.13',\n",
       " '5.13',\n",
       " '5.12',\n",
       " '5.13',\n",
       " '5.14',\n",
       " '5.14',\n",
       " '5.14',\n",
       " '5.14',\n",
       " '5.14',\n",
       " '5.14',\n",
       " '5.14',\n",
       " '5.14',\n",
       " '5.14',\n",
       " '5.14',\n",
       " '5.14',\n",
       " '5.14',\n",
       " '5.15',\n",
       " '5.15',\n",
       " '5.15',\n",
       " '5.15',\n",
       " '5.15',\n",
       " '5.15',\n",
       " '5.16',\n",
       " '5.16',\n",
       " '5.16',\n",
       " '5.16',\n",
       " '5.17',\n",
       " '5.18',\n",
       " '5.18',\n",
       " '5.18',\n",
       " '5.18',\n",
       " '5.18',\n",
       " '5.18',\n",
       " '5.18',\n",
       " '5.19',\n",
       " '5.19',\n",
       " '5.19',\n",
       " '5.19',\n",
       " '5.19',\n",
       " '5.19',\n",
       " '5.19',\n",
       " '5.19',\n",
       " '5.19',\n",
       " '5.20',\n",
       " '5.20',\n",
       " '5.20',\n",
       " '5.20',\n",
       " '5.21',\n",
       " '5.21',\n",
       " '5.21',\n",
       " '5.22',\n",
       " '5.22',\n",
       " '5.22',\n",
       " '5.23',\n",
       " '5.23',\n",
       " '5.23',\n",
       " '5.23',\n",
       " '5.23',\n",
       " '5.23',\n",
       " '5.24',\n",
       " '5.24',\n",
       " '5.24',\n",
       " '5.24',\n",
       " '5.24',\n",
       " '5.24',\n",
       " '5.24',\n",
       " '5.25',\n",
       " '5.25',\n",
       " '5.25',\n",
       " '5.25',\n",
       " '5.25',\n",
       " '5.25',\n",
       " '5.25',\n",
       " '5.25',\n",
       " '5.26',\n",
       " '5.26',\n",
       " '5.26',\n",
       " '5.26',\n",
       " '5.26',\n",
       " '5.26',\n",
       " '5.26',\n",
       " '5.26',\n",
       " '5.26',\n",
       " '5.26',\n",
       " '5.26',\n",
       " '5.26',\n",
       " '5.26',\n",
       " '5.26',\n",
       " '5.26',\n",
       " '5.26',\n",
       " '5.26',\n",
       " '5.26',\n",
       " '5.27',\n",
       " '5.26',\n",
       " '5.27',\n",
       " '5.27',\n",
       " '5.27',\n",
       " '5.27',\n",
       " '5.27',\n",
       " '5.27',\n",
       " '5.27',\n",
       " '5.27',\n",
       " '5.27',\n",
       " '5.27',\n",
       " '5.27',\n",
       " '5.27',\n",
       " '5.27',\n",
       " '5.27',\n",
       " '5.27',\n",
       " '5.27',\n",
       " '5.27',\n",
       " '5.27',\n",
       " '5.27',\n",
       " '5.27',\n",
       " '5.27',\n",
       " '5.27',\n",
       " '5.27',\n",
       " '5.28',\n",
       " '5.28',\n",
       " '5.28',\n",
       " '5.28',\n",
       " '5.28',\n",
       " '5.28',\n",
       " '5.28',\n",
       " '5.28',\n",
       " '5.28',\n",
       " '5.28',\n",
       " '5.28',\n",
       " '5.28',\n",
       " '5.28',\n",
       " '5.28',\n",
       " '5.28',\n",
       " '5.28',\n",
       " '5.28',\n",
       " '5.28',\n",
       " '5.28',\n",
       " '5.27',\n",
       " '5.29',\n",
       " '5.29',\n",
       " '5.29',\n",
       " '5.29',\n",
       " '5.29',\n",
       " '5.29',\n",
       " '5.29',\n",
       " '5.29',\n",
       " '5.29',\n",
       " '5.30',\n",
       " '5.30',\n",
       " '5.30',\n",
       " '5.30',\n",
       " '5.30',\n",
       " '5.30',\n",
       " '5.31',\n",
       " '6.01',\n",
       " '6.01',\n",
       " '6.01',\n",
       " '6.01',\n",
       " '6.01',\n",
       " '6.01',\n",
       " '6.01',\n",
       " '6.01',\n",
       " '6.01',\n",
       " '6.01',\n",
       " '6.01',\n",
       " '6.01',\n",
       " '6.01',\n",
       " '6.01',\n",
       " '6.02',\n",
       " '6.02',\n",
       " '6.02',\n",
       " '6.02',\n",
       " '6.02',\n",
       " '6.02',\n",
       " '6.02',\n",
       " '6.02',\n",
       " '6.02',\n",
       " '6.02',\n",
       " '6.02',\n",
       " '6.02',\n",
       " '6.02',\n",
       " '6.02',\n",
       " '6.02',\n",
       " '6.02',\n",
       " '6.02',\n",
       " '6.02',\n",
       " '6.02',\n",
       " '6.02',\n",
       " '6.03',\n",
       " '6.03',\n",
       " '6.03',\n",
       " '6.03',\n",
       " '6.03',\n",
       " '6.03',\n",
       " '6.03',\n",
       " '6.03',\n",
       " '6.03',\n",
       " '6.03',\n",
       " '6.03',\n",
       " '6.03',\n",
       " '6.03',\n",
       " '6.04',\n",
       " '6.03',\n",
       " '6.04',\n",
       " '6.04',\n",
       " '6.04',\n",
       " '6.04',\n",
       " '6.04',\n",
       " '6.04',\n",
       " '6.04',\n",
       " '6.04',\n",
       " '6.04',\n",
       " '6.04',\n",
       " '6.04',\n",
       " '6.04',\n",
       " '6.04',\n",
       " '6.04',\n",
       " '6.05',\n",
       " '6.05',\n",
       " '6.05',\n",
       " '6.05',\n",
       " '6.05',\n",
       " '6.05',\n",
       " '6.05',\n",
       " '6.05',\n",
       " '6.05',\n",
       " '6.05',\n",
       " '6.05',\n",
       " '6.05',\n",
       " '6.05',\n",
       " '6.05',\n",
       " '6.05',\n",
       " '6.05',\n",
       " '6.05',\n",
       " '6.05',\n",
       " '6.05',\n",
       " '6.05',\n",
       " '6.05',\n",
       " '6.05',\n",
       " '6.05',\n",
       " '6.05',\n",
       " '6.05',\n",
       " '6.06',\n",
       " '6.06',\n",
       " '6.06',\n",
       " '6.06',\n",
       " '6.06',\n",
       " '6.06',\n",
       " '6.06',\n",
       " '6.06',\n",
       " '6.06',\n",
       " '6.06',\n",
       " '6.06',\n",
       " '6.06',\n",
       " '6.06',\n",
       " '6.06',\n",
       " '6.06',\n",
       " '6.06',\n",
       " '6.06',\n",
       " '6.06',\n",
       " '6.06',\n",
       " '6.06',\n",
       " '6.06',\n",
       " '6.06',\n",
       " '6.06',\n",
       " '6.06',\n",
       " '6.05',\n",
       " '6.06',\n",
       " '6.06',\n",
       " '6.06',\n",
       " '6.06',\n",
       " '6.06',\n",
       " '6.07',\n",
       " '6.07',\n",
       " '6.07',\n",
       " '6.07',\n",
       " '6.07',\n",
       " '6.07',\n",
       " '6.07',\n",
       " '6.07',\n",
       " '6.07',\n",
       " '6.07',\n",
       " '6.07',\n",
       " '6.07',\n",
       " '6.07',\n",
       " '6.07',\n",
       " '6.07',\n",
       " '6.05',\n",
       " '6.08',\n",
       " '6.08',\n",
       " '6.08',\n",
       " '6.08',\n",
       " '6.08',\n",
       " ...]"
      ]
     },
     "execution_count": 21,
     "metadata": {},
     "output_type": "execute_result"
    }
   ],
   "source": [
    "a"
   ]
  },
  {
   "cell_type": "code",
   "execution_count": 22,
   "metadata": {
    "ExecuteTime": {
     "end_time": "2020-11-18T06:23:34.083928Z",
     "start_time": "2020-11-18T06:23:34.068967Z"
    }
   },
   "outputs": [],
   "source": [
    "count = {}\n",
    "for i in a:\n",
    "    try:\n",
    "        count[i] +=1\n",
    "    except:\n",
    "        count[i] = 1\n",
    "        "
   ]
  },
  {
   "cell_type": "code",
   "execution_count": 23,
   "metadata": {
    "ExecuteTime": {
     "end_time": "2020-11-18T06:23:37.073408Z",
     "start_time": "2020-11-18T06:23:37.052464Z"
    }
   },
   "outputs": [
    {
     "data": {
      "text/plain": [
       "{'1.30': 3,\n",
       " '1.31': 3,\n",
       " '2.2': 1,\n",
       " '2.5': 2,\n",
       " '2.6': 1,\n",
       " '2.7': 1,\n",
       " '2.16': 2,\n",
       " '2.19': 2,\n",
       " '2.20': 5,\n",
       " '2.21': 2,\n",
       " '2.22': 4,\n",
       " '2.23': 4,\n",
       " '2.26': 10,\n",
       " '2.24': 4,\n",
       " '2.25': 16,\n",
       " '2.27': 13,\n",
       " '2.28': 8,\n",
       " '2.29': 5,\n",
       " '3.1': 6,\n",
       " '3.2': 6,\n",
       " '3.3': 1,\n",
       " '3.4': 5,\n",
       " '3.5': 1,\n",
       " '3.6': 7,\n",
       " '3.7': 7,\n",
       " '3.8': 10,\n",
       " '3.9': 26,\n",
       " '3.10': 46,\n",
       " '3.11': 17,\n",
       " '3.12': 12,\n",
       " '3.13': 9,\n",
       " '3.14': 8,\n",
       " '3.15': 6,\n",
       " '3.16': 13,\n",
       " '3.17': 4,\n",
       " '3.18': 11,\n",
       " '3.19': 17,\n",
       " '3.20': 17,\n",
       " '3.21': 8,\n",
       " '3.22': 6,\n",
       " '3.23': 5,\n",
       " '3.24': 14,\n",
       " '3.25': 13,\n",
       " '3.26': 14,\n",
       " '3.27': 15,\n",
       " '3.28': 22,\n",
       " '3.29': 22,\n",
       " '3.30': 19,\n",
       " '3.31': 24,\n",
       " '4.01': 16,\n",
       " '4.02': 19,\n",
       " '4.3': 20,\n",
       " '4.04': 19,\n",
       " '4.05': 11,\n",
       " '4.06': 8,\n",
       " '4.07': 10,\n",
       " '4.08': 11,\n",
       " '4.09': 5,\n",
       " '4.10': 3,\n",
       " '4.11': 2,\n",
       " '4.12': 8,\n",
       " '4.13': 3,\n",
       " '4.14': 5,\n",
       " '4.15': 1,\n",
       " '4.16': 2,\n",
       " '4.17': 2,\n",
       " '4.18': 1,\n",
       " '4.19': 1,\n",
       " '4.20': 1,\n",
       " '4.21': 2,\n",
       " '4.24': 1,\n",
       " '4.27': 4,\n",
       " '4.30': 1,\n",
       " '5.01': 1,\n",
       " '5.02': 2,\n",
       " '5.08': 13,\n",
       " '5.09': 17,\n",
       " '5.9': 1,\n",
       " '5.10': 20,\n",
       " '5.11': 12,\n",
       " '5.12': 8,\n",
       " '5.13': 5,\n",
       " '5.14': 12,\n",
       " '5.15': 6,\n",
       " '5.16': 4,\n",
       " '5.17': 1,\n",
       " '5.18': 7,\n",
       " '5.19': 9,\n",
       " '5.20': 4,\n",
       " '5.21': 3,\n",
       " '5.22': 3,\n",
       " '5.23': 6,\n",
       " '5.24': 7,\n",
       " '5.25': 8,\n",
       " '5.26': 19,\n",
       " '5.27': 25,\n",
       " '5.28': 19,\n",
       " '5.29': 9,\n",
       " '5.30': 6,\n",
       " '5.31': 1,\n",
       " '6.01': 14,\n",
       " '6.02': 20,\n",
       " '6.03': 14,\n",
       " '6.04': 15,\n",
       " '6.05': 27,\n",
       " '6.06': 29,\n",
       " '6.07': 15,\n",
       " '6.08': 18,\n",
       " '6.09': 14,\n",
       " '6.10': 19,\n",
       " '6.11': 25,\n",
       " '6.12': 30,\n",
       " '6.13': 12,\n",
       " '6.14': 7,\n",
       " '6.15': 11,\n",
       " '6.16': 14,\n",
       " '6.17': 24,\n",
       " '6.18': 18,\n",
       " '6.19': 16,\n",
       " '6.20': 15,\n",
       " '6.21': 8,\n",
       " '6.22': 4,\n",
       " '6.23': 10,\n",
       " '6.24': 9,\n",
       " '6.25': 17,\n",
       " '6.26': 17,\n",
       " '6.27': 14,\n",
       " '6.28': 7,\n",
       " '6.29': 8,\n",
       " '6.30': 9,\n",
       " '7.01': 13,\n",
       " '7.02': 11,\n",
       " '7.03': 7,\n",
       " '7.04': 16,\n",
       " '7.05': 3,\n",
       " '7.06': 3,\n",
       " '7.07': 10,\n",
       " '7.08': 8,\n",
       " '7.09': 8,\n",
       " '7.10': 8,\n",
       " '7.11': 7,\n",
       " '7.12': 13,\n",
       " '7.13': 7,\n",
       " '7.14': 6,\n",
       " '7.15': 7,\n",
       " '7.16': 9,\n",
       " '7.17': 6,\n",
       " '7.18': 10,\n",
       " '7.19': 3,\n",
       " '7.20': 21,\n",
       " '7.21': 17,\n",
       " '7.22': 11,\n",
       " '7.23': 21,\n",
       " '7.24': 11,\n",
       " '7.25': 7,\n",
       " '7.26': 9,\n",
       " '7.27': 6,\n",
       " '7.28': 9,\n",
       " '7.29': 3,\n",
       " '7.30': 9,\n",
       " '7.31': 2,\n",
       " '8.1': 4,\n",
       " '8.2': 5,\n",
       " '8.3': 9,\n",
       " '8.4': 6,\n",
       " '8.5': 9,\n",
       " '8.6': 9,\n",
       " '8.7': 17,\n",
       " '8.8': 13,\n",
       " '8.9': 13,\n",
       " '8.10': 6,\n",
       " '8.11': 15,\n",
       " '8.12': 26,\n",
       " '8.13': 33,\n",
       " '8.14': 73,\n",
       " '8.15': 146,\n",
       " '8.16': 91,\n",
       " '8.17': 132,\n",
       " '8.18': 151,\n",
       " '8.19': 135,\n",
       " '8.20': 126,\n",
       " '8.21': 128,\n",
       " '8.22': 143,\n",
       " '8.23': 98,\n",
       " '8.24': 136,\n",
       " '8.25': 116,\n",
       " '8.26': 157,\n",
       " '8.27': 160,\n",
       " '8.28': 118,\n",
       " '8.29': 167,\n",
       " '9.01': 87,\n",
       " '8.30': 70,\n",
       " '8.31': 104,\n",
       " '9.02': 64,\n",
       " '9.03': 46,\n",
       " '9.04': 55,\n",
       " '9.05': 58,\n",
       " '9.06': 44,\n",
       " '9.07': 76,\n",
       " '9.08': 30,\n",
       " '9.09': 47,\n",
       " '9.10': 64,\n",
       " '9.11': 49,\n",
       " '9.12': 34,\n",
       " '9.13': 41,\n",
       " '9.14': 36,\n",
       " '9.15': 49,\n",
       " '9.16': 62,\n",
       " '9.17': 43,\n",
       " '9.18': 40,\n",
       " '9.19': 28,\n",
       " '9.20': 23,\n",
       " '9.21': 39,\n",
       " '9.22': 40,\n",
       " '9.23': 25,\n",
       " '9.24': 54,\n",
       " '9.25': 25,\n",
       " '9.26': 35,\n",
       " '9.27': 18,\n",
       " '9.28': 26,\n",
       " '9.29': 36,\n",
       " '9.30': 30,\n",
       " '10.01': 11,\n",
       " '10.02': 26,\n",
       " '10.03': 16,\n",
       " '10.04': 19,\n",
       " '10.05': 18,\n",
       " '10.06': 30,\n",
       " '10.07': 20,\n",
       " '10.08': 22,\n",
       " '10.09': 25,\n",
       " '10.10': 24,\n",
       " '10.11': 31,\n",
       " '10.12': 20,\n",
       " '10.13': 22,\n",
       " '10.14': 25,\n",
       " '10.15': 18,\n",
       " '10.16': 18,\n",
       " '10.17': 20,\n",
       " '10.18': 15,\n",
       " '10.19': 13,\n",
       " '10.20': 14,\n",
       " '10.21': 18,\n",
       " '10.22': 20,\n",
       " '10.23': 22,\n",
       " '10.24': 17,\n",
       " '10.25': 23,\n",
       " '10.26': 21,\n",
       " '10.27': 31,\n",
       " '10.28': 31,\n",
       " '10.29': 52,\n",
       " '10.30': 46,\n",
       " '10.31': 45,\n",
       " '11.01': 25,\n",
       " '11.02': 22}"
      ]
     },
     "execution_count": 23,
     "metadata": {},
     "output_type": "execute_result"
    }
   ],
   "source": [
    "count"
   ]
  },
  {
   "cell_type": "code",
   "execution_count": 24,
   "metadata": {
    "ExecuteTime": {
     "end_time": "2020-11-18T06:24:34.657541Z",
     "start_time": "2020-11-18T06:24:34.644575Z"
    }
   },
   "outputs": [],
   "source": [
    "d = pd.DataFrame(data=count.values(),index=count.keys())"
   ]
  },
  {
   "cell_type": "code",
   "execution_count": 25,
   "metadata": {
    "ExecuteTime": {
     "end_time": "2020-11-18T06:24:37.199244Z",
     "start_time": "2020-11-18T06:24:37.180257Z"
    }
   },
   "outputs": [
    {
     "data": {
      "text/html": [
       "<div>\n",
       "<style scoped>\n",
       "    .dataframe tbody tr th:only-of-type {\n",
       "        vertical-align: middle;\n",
       "    }\n",
       "\n",
       "    .dataframe tbody tr th {\n",
       "        vertical-align: top;\n",
       "    }\n",
       "\n",
       "    .dataframe thead th {\n",
       "        text-align: right;\n",
       "    }\n",
       "</style>\n",
       "<table border=\"1\" class=\"dataframe\">\n",
       "  <thead>\n",
       "    <tr style=\"text-align: right;\">\n",
       "      <th></th>\n",
       "      <th>0</th>\n",
       "    </tr>\n",
       "  </thead>\n",
       "  <tbody>\n",
       "    <tr>\n",
       "      <th>1.30</th>\n",
       "      <td>3</td>\n",
       "    </tr>\n",
       "    <tr>\n",
       "      <th>1.31</th>\n",
       "      <td>3</td>\n",
       "    </tr>\n",
       "    <tr>\n",
       "      <th>2.2</th>\n",
       "      <td>1</td>\n",
       "    </tr>\n",
       "    <tr>\n",
       "      <th>2.5</th>\n",
       "      <td>2</td>\n",
       "    </tr>\n",
       "    <tr>\n",
       "      <th>2.6</th>\n",
       "      <td>1</td>\n",
       "    </tr>\n",
       "  </tbody>\n",
       "</table>\n",
       "</div>"
      ],
      "text/plain": [
       "      0\n",
       "1.30  3\n",
       "1.31  3\n",
       "2.2   1\n",
       "2.5   2\n",
       "2.6   1"
      ]
     },
     "execution_count": 25,
     "metadata": {},
     "output_type": "execute_result"
    }
   ],
   "source": [
    "d.head()"
   ]
  },
  {
   "cell_type": "code",
   "execution_count": 26,
   "metadata": {
    "ExecuteTime": {
     "end_time": "2020-11-18T06:25:01.898578Z",
     "start_time": "2020-11-18T06:25:01.880626Z"
    }
   },
   "outputs": [],
   "source": [
    "d.to_csv('real.csv')"
   ]
  },
  {
   "cell_type": "code",
   "execution_count": 27,
   "metadata": {
    "ExecuteTime": {
     "end_time": "2020-11-18T06:38:11.672994Z",
     "start_time": "2020-11-18T06:38:11.654045Z"
    }
   },
   "outputs": [],
   "source": [
    "d = pd.read_csv('C://Users/Seung kyu Hong/Desktop/tt.csv')"
   ]
  },
  {
   "cell_type": "code",
   "execution_count": 28,
   "metadata": {
    "ExecuteTime": {
     "end_time": "2020-11-18T06:38:14.641070Z",
     "start_time": "2020-11-18T06:38:14.631097Z"
    }
   },
   "outputs": [
    {
     "data": {
      "text/html": [
       "<div>\n",
       "<style scoped>\n",
       "    .dataframe tbody tr th:only-of-type {\n",
       "        vertical-align: middle;\n",
       "    }\n",
       "\n",
       "    .dataframe tbody tr th {\n",
       "        vertical-align: top;\n",
       "    }\n",
       "\n",
       "    .dataframe thead th {\n",
       "        text-align: right;\n",
       "    }\n",
       "</style>\n",
       "<table border=\"1\" class=\"dataframe\">\n",
       "  <thead>\n",
       "    <tr style=\"text-align: right;\">\n",
       "      <th></th>\n",
       "      <th>Date</th>\n",
       "      <th>Daily_Confirmed</th>\n",
       "    </tr>\n",
       "  </thead>\n",
       "  <tbody>\n",
       "    <tr>\n",
       "      <th>0</th>\n",
       "      <td>2020.2.23</td>\n",
       "      <td>4</td>\n",
       "    </tr>\n",
       "    <tr>\n",
       "      <th>1</th>\n",
       "      <td>2020.2.24</td>\n",
       "      <td>4</td>\n",
       "    </tr>\n",
       "    <tr>\n",
       "      <th>2</th>\n",
       "      <td>2020.2.25</td>\n",
       "      <td>16</td>\n",
       "    </tr>\n",
       "    <tr>\n",
       "      <th>3</th>\n",
       "      <td>2020.2.26</td>\n",
       "      <td>0</td>\n",
       "    </tr>\n",
       "    <tr>\n",
       "      <th>4</th>\n",
       "      <td>2020.2.27</td>\n",
       "      <td>13</td>\n",
       "    </tr>\n",
       "  </tbody>\n",
       "</table>\n",
       "</div>"
      ],
      "text/plain": [
       "        Date  Daily_Confirmed\n",
       "0  2020.2.23                4\n",
       "1  2020.2.24                4\n",
       "2  2020.2.25               16\n",
       "3  2020.2.26                0\n",
       "4  2020.2.27               13"
      ]
     },
     "execution_count": 28,
     "metadata": {},
     "output_type": "execute_result"
    }
   ],
   "source": [
    "d.head()"
   ]
  },
  {
   "cell_type": "code",
   "execution_count": 78,
   "metadata": {
    "ExecuteTime": {
     "end_time": "2020-11-18T06:53:54.094856Z",
     "start_time": "2020-11-18T06:53:54.078900Z"
    }
   },
   "outputs": [
    {
     "data": {
      "text/plain": [
       "0            NaN\n",
       "1       4.000000\n",
       "2       8.000000\n",
       "3       6.000000\n",
       "4       7.400000\n",
       "5       7.500000\n",
       "6       7.142857\n",
       "7       7.428571\n",
       "8       7.714286\n",
       "9       5.571429\n",
       "10      6.285714\n",
       "11      4.571429\n",
       "12      4.428571\n",
       "13      4.714286\n",
       "14      5.285714\n",
       "15      8.142857\n",
       "16     14.571429\n",
       "17     16.285714\n",
       "18     17.857143\n",
       "19     18.142857\n",
       "20     18.285714\n",
       "21     17.714286\n",
       "22     15.857143\n",
       "23      9.857143\n",
       "24      9.000000\n",
       "25      9.714286\n",
       "26     10.857143\n",
       "27     10.857143\n",
       "28     10.857143\n",
       "29      9.714286\n",
       "         ...    \n",
       "222    26.000000\n",
       "223    23.285714\n",
       "224    23.428571\n",
       "225    22.285714\n",
       "226    21.428571\n",
       "227    20.000000\n",
       "228    21.571429\n",
       "229    21.428571\n",
       "230    22.571429\n",
       "231    24.285714\n",
       "232    24.571429\n",
       "233    23.428571\n",
       "234    24.142857\n",
       "235    23.571429\n",
       "236    22.571429\n",
       "237    22.000000\n",
       "238    19.714286\n",
       "239    18.714286\n",
       "240    17.571429\n",
       "241    16.571429\n",
       "242    16.857143\n",
       "243    17.428571\n",
       "244    17.000000\n",
       "245    18.142857\n",
       "246    19.285714\n",
       "247    21.714286\n",
       "248    23.571429\n",
       "249    28.142857\n",
       "250    31.571429\n",
       "251    35.571429\n",
       "Name: Daily_Confirmed, Length: 252, dtype: float64"
      ]
     },
     "execution_count": 78,
     "metadata": {},
     "output_type": "execute_result"
    }
   ],
   "source": [
    "d['Daily_Confirmed'].rolling(window=7,min_periods=2).mean()"
   ]
  },
  {
   "cell_type": "code",
   "execution_count": 74,
   "metadata": {
    "ExecuteTime": {
     "end_time": "2020-11-18T06:48:47.342670Z",
     "start_time": "2020-11-18T06:48:47.331700Z"
    }
   },
   "outputs": [
    {
     "data": {
      "text/plain": [
       "0      1.0\n",
       "1      2.0\n",
       "2      3.0\n",
       "3      4.0\n",
       "4      5.0\n",
       "5      6.0\n",
       "6      7.0\n",
       "7      7.0\n",
       "8      7.0\n",
       "9      7.0\n",
       "10     7.0\n",
       "11     7.0\n",
       "12     7.0\n",
       "13     7.0\n",
       "14     7.0\n",
       "15     7.0\n",
       "16     7.0\n",
       "17     7.0\n",
       "18     7.0\n",
       "19     7.0\n",
       "20     7.0\n",
       "21     7.0\n",
       "22     7.0\n",
       "23     7.0\n",
       "24     7.0\n",
       "25     7.0\n",
       "26     7.0\n",
       "27     7.0\n",
       "28     7.0\n",
       "29     7.0\n",
       "      ... \n",
       "222    7.0\n",
       "223    7.0\n",
       "224    7.0\n",
       "225    7.0\n",
       "226    7.0\n",
       "227    7.0\n",
       "228    7.0\n",
       "229    7.0\n",
       "230    7.0\n",
       "231    7.0\n",
       "232    7.0\n",
       "233    7.0\n",
       "234    7.0\n",
       "235    7.0\n",
       "236    7.0\n",
       "237    7.0\n",
       "238    7.0\n",
       "239    7.0\n",
       "240    7.0\n",
       "241    7.0\n",
       "242    7.0\n",
       "243    7.0\n",
       "244    7.0\n",
       "245    7.0\n",
       "246    7.0\n",
       "247    7.0\n",
       "248    7.0\n",
       "249    7.0\n",
       "250    7.0\n",
       "251    7.0\n",
       "Name: Daily_Confirmed, Length: 252, dtype: float64"
      ]
     },
     "execution_count": 74,
     "metadata": {},
     "output_type": "execute_result"
    }
   ],
   "source": [
    "temp"
   ]
  },
  {
   "cell_type": "code",
   "execution_count": 34,
   "metadata": {
    "ExecuteTime": {
     "end_time": "2020-11-18T06:41:53.762052Z",
     "start_time": "2020-11-18T06:41:53.740110Z"
    }
   },
   "outputs": [],
   "source": [
    "co = pd.read_csv('C://Users/Seung kyu Hong/Desktop/COVID_Data.csv')"
   ]
  },
  {
   "cell_type": "code",
   "execution_count": 67,
   "metadata": {
    "ExecuteTime": {
     "end_time": "2020-11-18T06:47:52.797830Z",
     "start_time": "2020-11-18T06:47:52.783866Z"
    }
   },
   "outputs": [],
   "source": [
    "a.index = range(len(a))"
   ]
  },
  {
   "cell_type": "code",
   "execution_count": 43,
   "metadata": {
    "ExecuteTime": {
     "end_time": "2020-11-18T06:45:38.740847Z",
     "start_time": "2020-11-18T06:45:38.730875Z"
    }
   },
   "outputs": [],
   "source": [
    "fi = pd.read_csv('Final.csv')"
   ]
  },
  {
   "cell_type": "code",
   "execution_count": 68,
   "metadata": {
    "ExecuteTime": {
     "end_time": "2020-11-18T06:47:56.932601Z",
     "start_time": "2020-11-18T06:47:56.928614Z"
    }
   },
   "outputs": [],
   "source": [
    "fi['rolling_7'] = a"
   ]
  },
  {
   "cell_type": "code",
   "execution_count": 76,
   "metadata": {
    "ExecuteTime": {
     "end_time": "2020-11-18T06:49:34.737301Z",
     "start_time": "2020-11-18T06:49:34.721344Z"
    }
   },
   "outputs": [],
   "source": [
    "fi.to_csv('Final.csv',index=False)"
   ]
  },
  {
   "cell_type": "code",
   "execution_count": 79,
   "metadata": {
    "ExecuteTime": {
     "end_time": "2020-11-18T07:04:45.855042Z",
     "start_time": "2020-11-18T07:04:45.834072Z"
    }
   },
   "outputs": [
    {
     "data": {
      "text/html": [
       "<div>\n",
       "<style scoped>\n",
       "    .dataframe tbody tr th:only-of-type {\n",
       "        vertical-align: middle;\n",
       "    }\n",
       "\n",
       "    .dataframe tbody tr th {\n",
       "        vertical-align: top;\n",
       "    }\n",
       "\n",
       "    .dataframe thead th {\n",
       "        text-align: right;\n",
       "    }\n",
       "</style>\n",
       "<table border=\"1\" class=\"dataframe\">\n",
       "  <thead>\n",
       "    <tr style=\"text-align: right;\">\n",
       "      <th></th>\n",
       "      <th>Date</th>\n",
       "      <th>Daily_Confirmed</th>\n",
       "      <th>Cleared</th>\n",
       "      <th>traveled</th>\n",
       "      <th>Total_Confirmed</th>\n",
       "      <th>Subway_Usage</th>\n",
       "      <th>TCS_in</th>\n",
       "      <th>Seoul_Car</th>\n",
       "      <th>Domestic_Air_Seoul_In</th>\n",
       "      <th>trendTotal</th>\n",
       "      <th>meanTemperature</th>\n",
       "      <th>dailyTemperatureRange</th>\n",
       "      <th>meanWindSpeed</th>\n",
       "      <th>meanHumid</th>\n",
       "      <th>TotalSunshineTime</th>\n",
       "      <th>IsHoliday</th>\n",
       "      <th>rolling_5</th>\n",
       "      <th>rolling_7</th>\n",
       "      <th>rolling_3</th>\n",
       "    </tr>\n",
       "  </thead>\n",
       "  <tbody>\n",
       "    <tr>\n",
       "      <th>0</th>\n",
       "      <td>2020.3.1</td>\n",
       "      <td>6</td>\n",
       "      <td>1</td>\n",
       "      <td>0</td>\n",
       "      <td>55</td>\n",
       "      <td>2.312811</td>\n",
       "      <td>3.726133</td>\n",
       "      <td>3.042591</td>\n",
       "      <td>0.502188</td>\n",
       "      <td>58.14908</td>\n",
       "      <td>5.8</td>\n",
       "      <td>6.9</td>\n",
       "      <td>2.0</td>\n",
       "      <td>71.8</td>\n",
       "      <td>0.2</td>\n",
       "      <td>1</td>\n",
       "      <td>6.4</td>\n",
       "      <td>7.428571</td>\n",
       "      <td>6.333333</td>\n",
       "    </tr>\n",
       "    <tr>\n",
       "      <th>1</th>\n",
       "      <td>2020.3.2</td>\n",
       "      <td>6</td>\n",
       "      <td>1</td>\n",
       "      <td>0</td>\n",
       "      <td>476</td>\n",
       "      <td>0.086076</td>\n",
       "      <td>1.129503</td>\n",
       "      <td>0.032481</td>\n",
       "      <td>0.502188</td>\n",
       "      <td>73.62835</td>\n",
       "      <td>3.4</td>\n",
       "      <td>7.6</td>\n",
       "      <td>2.7</td>\n",
       "      <td>55.3</td>\n",
       "      <td>10.0</td>\n",
       "      <td>0</td>\n",
       "      <td>7.6</td>\n",
       "      <td>7.714286</td>\n",
       "      <td>5.666667</td>\n",
       "    </tr>\n",
       "    <tr>\n",
       "      <th>2</th>\n",
       "      <td>2020.3.3</td>\n",
       "      <td>1</td>\n",
       "      <td>1</td>\n",
       "      <td>0</td>\n",
       "      <td>600</td>\n",
       "      <td>0.085332</td>\n",
       "      <td>1.192147</td>\n",
       "      <td>0.234261</td>\n",
       "      <td>0.452411</td>\n",
       "      <td>61.54096</td>\n",
       "      <td>4.8</td>\n",
       "      <td>10.2</td>\n",
       "      <td>2.6</td>\n",
       "      <td>57.0</td>\n",
       "      <td>4.1</td>\n",
       "      <td>0</td>\n",
       "      <td>5.2</td>\n",
       "      <td>5.571429</td>\n",
       "      <td>4.333333</td>\n",
       "    </tr>\n",
       "    <tr>\n",
       "      <th>3</th>\n",
       "      <td>2020.3.4</td>\n",
       "      <td>5</td>\n",
       "      <td>2</td>\n",
       "      <td>1</td>\n",
       "      <td>516</td>\n",
       "      <td>0.097709</td>\n",
       "      <td>1.218257</td>\n",
       "      <td>0.333109</td>\n",
       "      <td>0.452411</td>\n",
       "      <td>55.16472</td>\n",
       "      <td>2.2</td>\n",
       "      <td>5.9</td>\n",
       "      <td>3.7</td>\n",
       "      <td>53.4</td>\n",
       "      <td>6.6</td>\n",
       "      <td>0</td>\n",
       "      <td>4.6</td>\n",
       "      <td>6.285714</td>\n",
       "      <td>4.000000</td>\n",
       "    </tr>\n",
       "    <tr>\n",
       "      <th>4</th>\n",
       "      <td>2020.3.5</td>\n",
       "      <td>1</td>\n",
       "      <td>2</td>\n",
       "      <td>0</td>\n",
       "      <td>438</td>\n",
       "      <td>0.076695</td>\n",
       "      <td>1.081044</td>\n",
       "      <td>0.487317</td>\n",
       "      <td>0.452411</td>\n",
       "      <td>51.35339</td>\n",
       "      <td>1.4</td>\n",
       "      <td>9.1</td>\n",
       "      <td>2.5</td>\n",
       "      <td>47.5</td>\n",
       "      <td>10.9</td>\n",
       "      <td>0</td>\n",
       "      <td>3.8</td>\n",
       "      <td>4.571429</td>\n",
       "      <td>2.333333</td>\n",
       "    </tr>\n",
       "  </tbody>\n",
       "</table>\n",
       "</div>"
      ],
      "text/plain": [
       "       Date  Daily_Confirmed  Cleared  traveled  Total_Confirmed  \\\n",
       "0  2020.3.1                6        1         0               55   \n",
       "1  2020.3.2                6        1         0              476   \n",
       "2  2020.3.3                1        1         0              600   \n",
       "3  2020.3.4                5        2         1              516   \n",
       "4  2020.3.5                1        2         0              438   \n",
       "\n",
       "   Subway_Usage    TCS_in  Seoul_Car  Domestic_Air_Seoul_In  trendTotal  \\\n",
       "0      2.312811  3.726133   3.042591               0.502188    58.14908   \n",
       "1      0.086076  1.129503   0.032481               0.502188    73.62835   \n",
       "2      0.085332  1.192147   0.234261               0.452411    61.54096   \n",
       "3      0.097709  1.218257   0.333109               0.452411    55.16472   \n",
       "4      0.076695  1.081044   0.487317               0.452411    51.35339   \n",
       "\n",
       "   meanTemperature  dailyTemperatureRange  meanWindSpeed  meanHumid  \\\n",
       "0              5.8                    6.9            2.0       71.8   \n",
       "1              3.4                    7.6            2.7       55.3   \n",
       "2              4.8                   10.2            2.6       57.0   \n",
       "3              2.2                    5.9            3.7       53.4   \n",
       "4              1.4                    9.1            2.5       47.5   \n",
       "\n",
       "   TotalSunshineTime  IsHoliday  rolling_5  rolling_7  rolling_3  \n",
       "0                0.2          1        6.4   7.428571   6.333333  \n",
       "1               10.0          0        7.6   7.714286   5.666667  \n",
       "2                4.1          0        5.2   5.571429   4.333333  \n",
       "3                6.6          0        4.6   6.285714   4.000000  \n",
       "4               10.9          0        3.8   4.571429   2.333333  "
      ]
     },
     "execution_count": 79,
     "metadata": {},
     "output_type": "execute_result"
    }
   ],
   "source": [
    "fi.head()"
   ]
  },
  {
   "cell_type": "code",
   "execution_count": 82,
   "metadata": {
    "ExecuteTime": {
     "end_time": "2020-11-18T07:05:45.382703Z",
     "start_time": "2020-11-18T07:05:45.371732Z"
    }
   },
   "outputs": [],
   "source": [
    "x = fi.drop(['Daily_Confirmed','Date'],axis=1)"
   ]
  },
  {
   "cell_type": "code",
   "execution_count": 81,
   "metadata": {
    "ExecuteTime": {
     "end_time": "2020-11-18T07:05:23.898526Z",
     "start_time": "2020-11-18T07:05:23.882528Z"
    }
   },
   "outputs": [],
   "source": [
    "y = fi['Daily_Confirmed']"
   ]
  },
  {
   "cell_type": "code",
   "execution_count": 83,
   "metadata": {
    "ExecuteTime": {
     "end_time": "2020-11-18T07:05:51.382424Z",
     "start_time": "2020-11-18T07:05:51.368464Z"
    }
   },
   "outputs": [],
   "source": [
    "trainx = x[:200]"
   ]
  },
  {
   "cell_type": "code",
   "execution_count": 84,
   "metadata": {
    "ExecuteTime": {
     "end_time": "2020-11-18T07:05:58.957762Z",
     "start_time": "2020-11-18T07:05:58.948787Z"
    }
   },
   "outputs": [],
   "source": [
    "trainy = y[:200]"
   ]
  },
  {
   "cell_type": "code",
   "execution_count": 86,
   "metadata": {
    "ExecuteTime": {
     "end_time": "2020-11-18T07:06:27.998797Z",
     "start_time": "2020-11-18T07:06:27.982842Z"
    }
   },
   "outputs": [],
   "source": [
    "vx = x[200:]\n",
    "vy = y[200:]"
   ]
  },
  {
   "cell_type": "code",
   "execution_count": 90,
   "metadata": {
    "ExecuteTime": {
     "end_time": "2020-11-18T07:17:05.833820Z",
     "start_time": "2020-11-18T07:17:04.998669Z"
    }
   },
   "outputs": [
    {
     "name": "stderr",
     "output_type": "stream",
     "text": [
      "C:\\Users\\Seung kyu Hong\\Anaconda3\\lib\\site-packages\\distributed\\config.py:20: YAMLLoadWarning: calling yaml.load() without Loader=... is deprecated, as the default Loader is unsafe. Please read https://msg.pyyaml.org/load for full details.\n",
      "  defaults = yaml.load(f)\n"
     ]
    }
   ],
   "source": [
    "from xgboost import XGBClassifier"
   ]
  },
  {
   "cell_type": "code",
   "execution_count": 91,
   "metadata": {
    "ExecuteTime": {
     "end_time": "2020-11-18T07:28:52.573621Z",
     "start_time": "2020-11-18T07:28:52.563647Z"
    }
   },
   "outputs": [],
   "source": [
    "xg_reg = XGBClassifier()"
   ]
  },
  {
   "cell_type": "code",
   "execution_count": 92,
   "metadata": {
    "ExecuteTime": {
     "end_time": "2020-11-18T07:29:02.602114Z",
     "start_time": "2020-11-18T07:29:01.953847Z"
    }
   },
   "outputs": [
    {
     "data": {
      "text/plain": [
       "XGBClassifier(base_score=0.5, booster='gbtree', colsample_bylevel=1,\n",
       "       colsample_bynode=1, colsample_bytree=1, gamma=0, gpu_id=-1,\n",
       "       importance_type='gain', interaction_constraints='',\n",
       "       learning_rate=0.300000012, max_delta_step=0, max_depth=6,\n",
       "       min_child_weight=1, missing=nan, monotone_constraints='()',\n",
       "       n_estimators=100, n_jobs=0, num_parallel_tree=1,\n",
       "       objective='multi:softprob', random_state=0, reg_alpha=0,\n",
       "       reg_lambda=1, scale_pos_weight=None, subsample=1,\n",
       "       tree_method='exact', validate_parameters=1, verbosity=None)"
      ]
     },
     "execution_count": 92,
     "metadata": {},
     "output_type": "execute_result"
    }
   ],
   "source": [
    "xg_reg.fit(trainx,trainy)"
   ]
  },
  {
   "cell_type": "code",
   "execution_count": 93,
   "metadata": {
    "ExecuteTime": {
     "end_time": "2020-11-18T07:29:14.916357Z",
     "start_time": "2020-11-18T07:29:14.891426Z"
    }
   },
   "outputs": [],
   "source": [
    "pred = xg_reg.predict(vx)"
   ]
  },
  {
   "cell_type": "code",
   "execution_count": 94,
   "metadata": {
    "ExecuteTime": {
     "end_time": "2020-11-18T07:29:21.479606Z",
     "start_time": "2020-11-18T07:29:21.470631Z"
    }
   },
   "outputs": [
    {
     "data": {
      "text/plain": [
       "array([30, 49, 49, 41, 24, 30, 49, 46, 49, 49, 16, 24, 25, 46],\n",
       "      dtype=int64)"
      ]
     },
     "execution_count": 94,
     "metadata": {},
     "output_type": "execute_result"
    }
   ],
   "source": [
    "pred"
   ]
  },
  {
   "cell_type": "code",
   "execution_count": 95,
   "metadata": {
    "ExecuteTime": {
     "end_time": "2020-11-18T07:29:30.484029Z",
     "start_time": "2020-11-18T07:29:30.472062Z"
    }
   },
   "outputs": [
    {
     "data": {
      "text/plain": [
       "200   -13\n",
       "201     9\n",
       "202    21\n",
       "203    18\n",
       "204   -15\n",
       "205   -10\n",
       "206    24\n",
       "207    -8\n",
       "208    24\n",
       "209    14\n",
       "210    -2\n",
       "211    -2\n",
       "212   -11\n",
       "213    16\n",
       "Name: Daily_Confirmed, dtype: int64"
      ]
     },
     "execution_count": 95,
     "metadata": {},
     "output_type": "execute_result"
    }
   ],
   "source": [
    "pred - vy"
   ]
  },
  {
   "cell_type": "code",
   "execution_count": 311,
   "metadata": {
    "ExecuteTime": {
     "end_time": "2020-11-19T04:59:32.795219Z",
     "start_time": "2020-11-19T04:59:32.782254Z"
    }
   },
   "outputs": [],
   "source": [
    "final = pd.read_csv('Final.csv')"
   ]
  },
  {
   "cell_type": "code",
   "execution_count": 100,
   "metadata": {
    "ExecuteTime": {
     "end_time": "2020-11-19T02:23:29.132367Z",
     "start_time": "2020-11-19T02:23:28.775322Z"
    }
   },
   "outputs": [],
   "source": [
    "import matplotlib.pyplot as plt"
   ]
  },
  {
   "cell_type": "code",
   "execution_count": 105,
   "metadata": {
    "ExecuteTime": {
     "end_time": "2020-11-19T02:26:05.728508Z",
     "start_time": "2020-11-19T02:26:05.453243Z"
    }
   },
   "outputs": [
    {
     "ename": "KeyError",
     "evalue": "\"None of [Float64Index([                nan,                 nan,                 nan,\\n                              nan,                 nan,                 nan,\\n               0.8024879591428571,  0.7335275899999999,  0.7600504891428571,\\n               0.7442822967142856,\\n              ...\\n               0.5428901910000002,  0.5093256565714289,  0.5122864690000003,\\n               0.4956929734285717,  0.4767604315714289,  0.4621694148571432,\\n               0.4670022065714289, 0.44490308171428605, 0.43584709028571467,\\n              0.42282979628571465],\\n             dtype='float64', length=214)] are in the [columns]\"",
     "output_type": "error",
     "traceback": [
      "\u001b[1;31m---------------------------------------------------------------------------\u001b[0m",
      "\u001b[1;31mKeyError\u001b[0m                                  Traceback (most recent call last)",
      "\u001b[1;32m<ipython-input-105-964115946b37>\u001b[0m in \u001b[0;36m<module>\u001b[1;34m\u001b[0m\n\u001b[0;32m      1\u001b[0m \u001b[0mfinal\u001b[0m\u001b[1;33m.\u001b[0m\u001b[0mplot\u001b[0m\u001b[1;33m(\u001b[0m\u001b[1;34m'Date'\u001b[0m\u001b[1;33m,\u001b[0m\u001b[1;34m'Seoul_Car'\u001b[0m\u001b[1;33m)\u001b[0m\u001b[1;33m\u001b[0m\u001b[1;33m\u001b[0m\u001b[0m\n\u001b[1;32m----> 2\u001b[1;33m \u001b[0mfinal\u001b[0m\u001b[1;33m.\u001b[0m\u001b[0mplot\u001b[0m\u001b[1;33m(\u001b[0m\u001b[0mse\u001b[0m\u001b[1;33m,\u001b[0m\u001b[1;34m'Seoul_Car'\u001b[0m\u001b[1;33m)\u001b[0m\u001b[1;33m\u001b[0m\u001b[1;33m\u001b[0m\u001b[0m\n\u001b[0m",
      "\u001b[1;32m~\\Anaconda3\\lib\\site-packages\\pandas\\plotting\\_core.py\u001b[0m in \u001b[0;36m__call__\u001b[1;34m(self, x, y, kind, ax, subplots, sharex, sharey, layout, figsize, use_index, title, grid, legend, style, logx, logy, loglog, xticks, yticks, xlim, ylim, rot, fontsize, colormap, table, yerr, xerr, secondary_y, sort_columns, **kwds)\u001b[0m\n\u001b[0;32m   2937\u001b[0m                           \u001b[0mfontsize\u001b[0m\u001b[1;33m=\u001b[0m\u001b[0mfontsize\u001b[0m\u001b[1;33m,\u001b[0m \u001b[0mcolormap\u001b[0m\u001b[1;33m=\u001b[0m\u001b[0mcolormap\u001b[0m\u001b[1;33m,\u001b[0m \u001b[0mtable\u001b[0m\u001b[1;33m=\u001b[0m\u001b[0mtable\u001b[0m\u001b[1;33m,\u001b[0m\u001b[1;33m\u001b[0m\u001b[1;33m\u001b[0m\u001b[0m\n\u001b[0;32m   2938\u001b[0m                           \u001b[0myerr\u001b[0m\u001b[1;33m=\u001b[0m\u001b[0myerr\u001b[0m\u001b[1;33m,\u001b[0m \u001b[0mxerr\u001b[0m\u001b[1;33m=\u001b[0m\u001b[0mxerr\u001b[0m\u001b[1;33m,\u001b[0m \u001b[0msecondary_y\u001b[0m\u001b[1;33m=\u001b[0m\u001b[0msecondary_y\u001b[0m\u001b[1;33m,\u001b[0m\u001b[1;33m\u001b[0m\u001b[1;33m\u001b[0m\u001b[0m\n\u001b[1;32m-> 2939\u001b[1;33m                           sort_columns=sort_columns, **kwds)\n\u001b[0m\u001b[0;32m   2940\u001b[0m     \u001b[0m__call__\u001b[0m\u001b[1;33m.\u001b[0m\u001b[0m__doc__\u001b[0m \u001b[1;33m=\u001b[0m \u001b[0mplot_frame\u001b[0m\u001b[1;33m.\u001b[0m\u001b[0m__doc__\u001b[0m\u001b[1;33m\u001b[0m\u001b[1;33m\u001b[0m\u001b[0m\n\u001b[0;32m   2941\u001b[0m \u001b[1;33m\u001b[0m\u001b[0m\n",
      "\u001b[1;32m~\\Anaconda3\\lib\\site-packages\\pandas\\plotting\\_core.py\u001b[0m in \u001b[0;36mplot_frame\u001b[1;34m(data, x, y, kind, ax, subplots, sharex, sharey, layout, figsize, use_index, title, grid, legend, style, logx, logy, loglog, xticks, yticks, xlim, ylim, rot, fontsize, colormap, table, yerr, xerr, secondary_y, sort_columns, **kwds)\u001b[0m\n\u001b[0;32m   1968\u001b[0m                  \u001b[0myerr\u001b[0m\u001b[1;33m=\u001b[0m\u001b[0myerr\u001b[0m\u001b[1;33m,\u001b[0m \u001b[0mxerr\u001b[0m\u001b[1;33m=\u001b[0m\u001b[0mxerr\u001b[0m\u001b[1;33m,\u001b[0m\u001b[1;33m\u001b[0m\u001b[1;33m\u001b[0m\u001b[0m\n\u001b[0;32m   1969\u001b[0m                  \u001b[0msecondary_y\u001b[0m\u001b[1;33m=\u001b[0m\u001b[0msecondary_y\u001b[0m\u001b[1;33m,\u001b[0m \u001b[0msort_columns\u001b[0m\u001b[1;33m=\u001b[0m\u001b[0msort_columns\u001b[0m\u001b[1;33m,\u001b[0m\u001b[1;33m\u001b[0m\u001b[1;33m\u001b[0m\u001b[0m\n\u001b[1;32m-> 1970\u001b[1;33m                  **kwds)\n\u001b[0m\u001b[0;32m   1971\u001b[0m \u001b[1;33m\u001b[0m\u001b[0m\n\u001b[0;32m   1972\u001b[0m \u001b[1;33m\u001b[0m\u001b[0m\n",
      "\u001b[1;32m~\\Anaconda3\\lib\\site-packages\\pandas\\plotting\\_core.py\u001b[0m in \u001b[0;36m_plot\u001b[1;34m(data, x, y, subplots, ax, kind, **kwds)\u001b[0m\n\u001b[0;32m   1758\u001b[0m                 \u001b[1;32mif\u001b[0m \u001b[0mis_integer\u001b[0m\u001b[1;33m(\u001b[0m\u001b[0mx\u001b[0m\u001b[1;33m)\u001b[0m \u001b[1;32mand\u001b[0m \u001b[1;32mnot\u001b[0m \u001b[0mdata\u001b[0m\u001b[1;33m.\u001b[0m\u001b[0mcolumns\u001b[0m\u001b[1;33m.\u001b[0m\u001b[0mholds_integer\u001b[0m\u001b[1;33m(\u001b[0m\u001b[1;33m)\u001b[0m\u001b[1;33m:\u001b[0m\u001b[1;33m\u001b[0m\u001b[1;33m\u001b[0m\u001b[0m\n\u001b[0;32m   1759\u001b[0m                     \u001b[0mx\u001b[0m \u001b[1;33m=\u001b[0m \u001b[0mdata_cols\u001b[0m\u001b[1;33m[\u001b[0m\u001b[0mx\u001b[0m\u001b[1;33m]\u001b[0m\u001b[1;33m\u001b[0m\u001b[1;33m\u001b[0m\u001b[0m\n\u001b[1;32m-> 1760\u001b[1;33m                 \u001b[1;32melif\u001b[0m \u001b[1;32mnot\u001b[0m \u001b[0misinstance\u001b[0m\u001b[1;33m(\u001b[0m\u001b[0mdata\u001b[0m\u001b[1;33m[\u001b[0m\u001b[0mx\u001b[0m\u001b[1;33m]\u001b[0m\u001b[1;33m,\u001b[0m \u001b[0mABCSeries\u001b[0m\u001b[1;33m)\u001b[0m\u001b[1;33m:\u001b[0m\u001b[1;33m\u001b[0m\u001b[1;33m\u001b[0m\u001b[0m\n\u001b[0m\u001b[0;32m   1761\u001b[0m                     \u001b[1;32mraise\u001b[0m \u001b[0mValueError\u001b[0m\u001b[1;33m(\u001b[0m\u001b[1;34m\"x must be a label or position\"\u001b[0m\u001b[1;33m)\u001b[0m\u001b[1;33m\u001b[0m\u001b[1;33m\u001b[0m\u001b[0m\n\u001b[0;32m   1762\u001b[0m                 \u001b[0mdata\u001b[0m \u001b[1;33m=\u001b[0m \u001b[0mdata\u001b[0m\u001b[1;33m.\u001b[0m\u001b[0mset_index\u001b[0m\u001b[1;33m(\u001b[0m\u001b[0mx\u001b[0m\u001b[1;33m)\u001b[0m\u001b[1;33m\u001b[0m\u001b[1;33m\u001b[0m\u001b[0m\n",
      "\u001b[1;32m~\\Anaconda3\\lib\\site-packages\\pandas\\core\\frame.py\u001b[0m in \u001b[0;36m__getitem__\u001b[1;34m(self, key)\u001b[0m\n\u001b[0;32m   2932\u001b[0m                 \u001b[0mkey\u001b[0m \u001b[1;33m=\u001b[0m \u001b[0mlist\u001b[0m\u001b[1;33m(\u001b[0m\u001b[0mkey\u001b[0m\u001b[1;33m)\u001b[0m\u001b[1;33m\u001b[0m\u001b[1;33m\u001b[0m\u001b[0m\n\u001b[0;32m   2933\u001b[0m             indexer = self.loc._convert_to_indexer(key, axis=1,\n\u001b[1;32m-> 2934\u001b[1;33m                                                    raise_missing=True)\n\u001b[0m\u001b[0;32m   2935\u001b[0m \u001b[1;33m\u001b[0m\u001b[0m\n\u001b[0;32m   2936\u001b[0m         \u001b[1;31m# take() does not accept boolean indexers\u001b[0m\u001b[1;33m\u001b[0m\u001b[1;33m\u001b[0m\u001b[1;33m\u001b[0m\u001b[0m\n",
      "\u001b[1;32m~\\Anaconda3\\lib\\site-packages\\pandas\\core\\indexing.py\u001b[0m in \u001b[0;36m_convert_to_indexer\u001b[1;34m(self, obj, axis, is_setter, raise_missing)\u001b[0m\n\u001b[0;32m   1352\u001b[0m                 kwargs = {'raise_missing': True if is_setter else\n\u001b[0;32m   1353\u001b[0m                           raise_missing}\n\u001b[1;32m-> 1354\u001b[1;33m                 \u001b[1;32mreturn\u001b[0m \u001b[0mself\u001b[0m\u001b[1;33m.\u001b[0m\u001b[0m_get_listlike_indexer\u001b[0m\u001b[1;33m(\u001b[0m\u001b[0mobj\u001b[0m\u001b[1;33m,\u001b[0m \u001b[0maxis\u001b[0m\u001b[1;33m,\u001b[0m \u001b[1;33m**\u001b[0m\u001b[0mkwargs\u001b[0m\u001b[1;33m)\u001b[0m\u001b[1;33m[\u001b[0m\u001b[1;36m1\u001b[0m\u001b[1;33m]\u001b[0m\u001b[1;33m\u001b[0m\u001b[1;33m\u001b[0m\u001b[0m\n\u001b[0m\u001b[0;32m   1355\u001b[0m         \u001b[1;32melse\u001b[0m\u001b[1;33m:\u001b[0m\u001b[1;33m\u001b[0m\u001b[1;33m\u001b[0m\u001b[0m\n\u001b[0;32m   1356\u001b[0m             \u001b[1;32mtry\u001b[0m\u001b[1;33m:\u001b[0m\u001b[1;33m\u001b[0m\u001b[1;33m\u001b[0m\u001b[0m\n",
      "\u001b[1;32m~\\Anaconda3\\lib\\site-packages\\pandas\\core\\indexing.py\u001b[0m in \u001b[0;36m_get_listlike_indexer\u001b[1;34m(self, key, axis, raise_missing)\u001b[0m\n\u001b[0;32m   1159\u001b[0m         self._validate_read_indexer(keyarr, indexer,\n\u001b[0;32m   1160\u001b[0m                                     \u001b[0mo\u001b[0m\u001b[1;33m.\u001b[0m\u001b[0m_get_axis_number\u001b[0m\u001b[1;33m(\u001b[0m\u001b[0maxis\u001b[0m\u001b[1;33m)\u001b[0m\u001b[1;33m,\u001b[0m\u001b[1;33m\u001b[0m\u001b[1;33m\u001b[0m\u001b[0m\n\u001b[1;32m-> 1161\u001b[1;33m                                     raise_missing=raise_missing)\n\u001b[0m\u001b[0;32m   1162\u001b[0m         \u001b[1;32mreturn\u001b[0m \u001b[0mkeyarr\u001b[0m\u001b[1;33m,\u001b[0m \u001b[0mindexer\u001b[0m\u001b[1;33m\u001b[0m\u001b[1;33m\u001b[0m\u001b[0m\n\u001b[0;32m   1163\u001b[0m \u001b[1;33m\u001b[0m\u001b[0m\n",
      "\u001b[1;32m~\\Anaconda3\\lib\\site-packages\\pandas\\core\\indexing.py\u001b[0m in \u001b[0;36m_validate_read_indexer\u001b[1;34m(self, key, indexer, axis, raise_missing)\u001b[0m\n\u001b[0;32m   1244\u001b[0m                 raise KeyError(\n\u001b[0;32m   1245\u001b[0m                     u\"None of [{key}] are in the [{axis}]\".format(\n\u001b[1;32m-> 1246\u001b[1;33m                         key=key, axis=self.obj._get_axis_name(axis)))\n\u001b[0m\u001b[0;32m   1247\u001b[0m \u001b[1;33m\u001b[0m\u001b[0m\n\u001b[0;32m   1248\u001b[0m             \u001b[1;31m# We (temporarily) allow for some missing keys with .loc, except in\u001b[0m\u001b[1;33m\u001b[0m\u001b[1;33m\u001b[0m\u001b[1;33m\u001b[0m\u001b[0m\n",
      "\u001b[1;31mKeyError\u001b[0m: \"None of [Float64Index([                nan,                 nan,                 nan,\\n                              nan,                 nan,                 nan,\\n               0.8024879591428571,  0.7335275899999999,  0.7600504891428571,\\n               0.7442822967142856,\\n              ...\\n               0.5428901910000002,  0.5093256565714289,  0.5122864690000003,\\n               0.4956929734285717,  0.4767604315714289,  0.4621694148571432,\\n               0.4670022065714289, 0.44490308171428605, 0.43584709028571467,\\n              0.42282979628571465],\\n             dtype='float64', length=214)] are in the [columns]\""
     ]
    },
    {
     "data": {
      "image/png": "[encoded data removed]",
      "text/plain": [
       "<Figure size 432x288 with 1 Axes>"
      ]
     },
     "metadata": {
      "needs_background": "light"
     },
     "output_type": "display_data"
    }
   ],
   "source": [
    "final.plot('Date','Seoul_Car')\n",
    "final.plot(se,'Seoul_Car')"
   ]
  },
  {
   "cell_type": "code",
   "execution_count": 101,
   "metadata": {
    "ExecuteTime": {
     "end_time": "2020-11-19T02:24:01.742278Z",
     "start_time": "2020-11-19T02:24:01.722332Z"
    }
   },
   "outputs": [
    {
     "data": {
      "text/plain": [
       "Index(['Date', 'Daily_Confirmed', 'Cleared', 'traveled', 'Total_Confirmed',\n",
       "       'Subway_Usage', 'TCS_in', 'Seoul_Car', 'Domestic_Air_Seoul_In',\n",
       "       'trendTotal', 'meanTemperature', 'dailyTemperatureRange',\n",
       "       'meanWindSpeed', 'meanHumid', 'TotalSunshineTime', 'IsHoliday',\n",
       "       'rolling_5', 'rolling_7', 'rolling_3', 'moving_3', 'moving_5',\n",
       "       'moving_7'],\n",
       "      dtype='object')"
      ]
     },
     "execution_count": 101,
     "metadata": {},
     "output_type": "execute_result"
    }
   ],
   "source": [
    "final.columns"
   ]
  },
  {
   "cell_type": "code",
   "execution_count": 118,
   "metadata": {
    "ExecuteTime": {
     "end_time": "2020-11-19T02:34:38.865796Z",
     "start_time": "2020-11-19T02:34:38.855823Z"
    }
   },
   "outputs": [],
   "source": [
    "se = pd.Series.rolling(final['Seoul_Car'],window=7,center=False).max()"
   ]
  },
  {
   "cell_type": "code",
   "execution_count": 107,
   "metadata": {
    "ExecuteTime": {
     "end_time": "2020-11-19T02:27:04.481631Z",
     "start_time": "2020-11-19T02:27:00.645604Z"
    }
   },
   "outputs": [
    {
     "data": {
      "text/plain": [
       "[<matplotlib.lines.Line2D at 0x1a6c2c4b550>]"
      ]
     },
     "execution_count": 107,
     "metadata": {},
     "output_type": "execute_result"
    },
    {
     "data": {
      "image/png": "[encoded data removed]",
      "text/plain": [
       "<Figure size 432x288 with 1 Axes>"
      ]
     },
     "metadata": {
      "needs_background": "light"
     },
     "output_type": "display_data"
    }
   ],
   "source": [
    "plt.plot(final['Date'],se)"
   ]
  },
  {
   "cell_type": "code",
   "execution_count": 119,
   "metadata": {
    "ExecuteTime": {
     "end_time": "2020-11-19T02:34:42.191362Z",
     "start_time": "2020-11-19T02:34:41.974942Z"
    }
   },
   "outputs": [
    {
     "data": {
      "text/plain": [
       "<matplotlib.legend.Legend at 0x1a6cce2d240>"
      ]
     },
     "execution_count": 119,
     "metadata": {},
     "output_type": "execute_result"
    },
    {
     "data": {
      "image/png": "[encoded data removed]",
      "text/plain": [
       "<Figure size 864x288 with 1 Axes>"
      ]
     },
     "metadata": {
      "needs_background": "light"
     },
     "output_type": "display_data"
    }
   ],
   "source": [
    "fig = plt.figure(figsize=(12,4))\n",
    "\n",
    "chart = fig.add_subplot(1,1,1)\n",
    "\n",
    "chart.plot(final['Seoul_Car'],color='blue',label='Seoul_Car')\n",
    "chart.plot(se,color='red')\n",
    "plt.legend(loc='best')"
   ]
  },
  {
   "cell_type": "code",
   "execution_count": 112,
   "metadata": {
    "ExecuteTime": {
     "end_time": "2020-11-19T02:31:59.074214Z",
     "start_time": "2020-11-19T02:31:59.048283Z"
    }
   },
   "outputs": [],
   "source": [
    "final['Date'] = pd.to_datetime(final['Date'],format='%Y-%m-%d')"
   ]
  },
  {
   "cell_type": "code",
   "execution_count": 121,
   "metadata": {
    "ExecuteTime": {
     "end_time": "2020-11-19T02:40:28.594301Z",
     "start_time": "2020-11-19T02:40:28.565868Z"
    }
   },
   "outputs": [
    {
     "data": {
      "text/html": [
       "<div>\n",
       "<style scoped>\n",
       "    .dataframe tbody tr th:only-of-type {\n",
       "        vertical-align: middle;\n",
       "    }\n",
       "\n",
       "    .dataframe tbody tr th {\n",
       "        vertical-align: top;\n",
       "    }\n",
       "\n",
       "    .dataframe thead th {\n",
       "        text-align: right;\n",
       "    }\n",
       "</style>\n",
       "<table border=\"1\" class=\"dataframe\">\n",
       "  <thead>\n",
       "    <tr style=\"text-align: right;\">\n",
       "      <th></th>\n",
       "      <th>Date</th>\n",
       "      <th>Daily_Confirmed</th>\n",
       "      <th>Cleared</th>\n",
       "      <th>traveled</th>\n",
       "      <th>Total_Confirmed</th>\n",
       "      <th>Subway_Usage</th>\n",
       "      <th>TCS_in</th>\n",
       "      <th>Seoul_Car</th>\n",
       "      <th>Domestic_Air_Seoul_In</th>\n",
       "      <th>trendTotal</th>\n",
       "      <th>...</th>\n",
       "      <th>meanWindSpeed</th>\n",
       "      <th>meanHumid</th>\n",
       "      <th>TotalSunshineTime</th>\n",
       "      <th>IsHoliday</th>\n",
       "      <th>rolling_5</th>\n",
       "      <th>rolling_7</th>\n",
       "      <th>rolling_3</th>\n",
       "      <th>moving_3</th>\n",
       "      <th>moving_5</th>\n",
       "      <th>moving_7</th>\n",
       "    </tr>\n",
       "  </thead>\n",
       "  <tbody>\n",
       "    <tr>\n",
       "      <th>0</th>\n",
       "      <td>2020-03-01</td>\n",
       "      <td>6</td>\n",
       "      <td>1</td>\n",
       "      <td>0</td>\n",
       "      <td>55</td>\n",
       "      <td>2.312811</td>\n",
       "      <td>3.726133</td>\n",
       "      <td>3.042591</td>\n",
       "      <td>0.502188</td>\n",
       "      <td>58.14908</td>\n",
       "      <td>...</td>\n",
       "      <td>2.0</td>\n",
       "      <td>71.8</td>\n",
       "      <td>0.2</td>\n",
       "      <td>1</td>\n",
       "      <td>6.4</td>\n",
       "      <td>7.428571</td>\n",
       "      <td>6.333333</td>\n",
       "      <td>13</td>\n",
       "      <td>16</td>\n",
       "      <td>4</td>\n",
       "    </tr>\n",
       "    <tr>\n",
       "      <th>1</th>\n",
       "      <td>2020-03-02</td>\n",
       "      <td>6</td>\n",
       "      <td>1</td>\n",
       "      <td>0</td>\n",
       "      <td>476</td>\n",
       "      <td>0.086076</td>\n",
       "      <td>1.129503</td>\n",
       "      <td>0.032481</td>\n",
       "      <td>0.502188</td>\n",
       "      <td>73.62835</td>\n",
       "      <td>...</td>\n",
       "      <td>2.7</td>\n",
       "      <td>55.3</td>\n",
       "      <td>10.0</td>\n",
       "      <td>0</td>\n",
       "      <td>7.6</td>\n",
       "      <td>7.714286</td>\n",
       "      <td>5.666667</td>\n",
       "      <td>8</td>\n",
       "      <td>0</td>\n",
       "      <td>4</td>\n",
       "    </tr>\n",
       "    <tr>\n",
       "      <th>2</th>\n",
       "      <td>2020-03-03</td>\n",
       "      <td>1</td>\n",
       "      <td>1</td>\n",
       "      <td>0</td>\n",
       "      <td>600</td>\n",
       "      <td>0.085332</td>\n",
       "      <td>1.192147</td>\n",
       "      <td>0.234261</td>\n",
       "      <td>0.452411</td>\n",
       "      <td>61.54096</td>\n",
       "      <td>...</td>\n",
       "      <td>2.6</td>\n",
       "      <td>57.0</td>\n",
       "      <td>4.1</td>\n",
       "      <td>0</td>\n",
       "      <td>5.2</td>\n",
       "      <td>5.571429</td>\n",
       "      <td>4.333333</td>\n",
       "      <td>5</td>\n",
       "      <td>13</td>\n",
       "      <td>16</td>\n",
       "    </tr>\n",
       "    <tr>\n",
       "      <th>3</th>\n",
       "      <td>2020-03-04</td>\n",
       "      <td>5</td>\n",
       "      <td>2</td>\n",
       "      <td>1</td>\n",
       "      <td>516</td>\n",
       "      <td>0.097709</td>\n",
       "      <td>1.218257</td>\n",
       "      <td>0.333109</td>\n",
       "      <td>0.452411</td>\n",
       "      <td>55.16472</td>\n",
       "      <td>...</td>\n",
       "      <td>3.7</td>\n",
       "      <td>53.4</td>\n",
       "      <td>6.6</td>\n",
       "      <td>0</td>\n",
       "      <td>4.6</td>\n",
       "      <td>6.285714</td>\n",
       "      <td>4.000000</td>\n",
       "      <td>6</td>\n",
       "      <td>8</td>\n",
       "      <td>0</td>\n",
       "    </tr>\n",
       "    <tr>\n",
       "      <th>4</th>\n",
       "      <td>2020-03-05</td>\n",
       "      <td>1</td>\n",
       "      <td>2</td>\n",
       "      <td>0</td>\n",
       "      <td>438</td>\n",
       "      <td>0.076695</td>\n",
       "      <td>1.081044</td>\n",
       "      <td>0.487317</td>\n",
       "      <td>0.452411</td>\n",
       "      <td>51.35339</td>\n",
       "      <td>...</td>\n",
       "      <td>2.5</td>\n",
       "      <td>47.5</td>\n",
       "      <td>10.9</td>\n",
       "      <td>0</td>\n",
       "      <td>3.8</td>\n",
       "      <td>4.571429</td>\n",
       "      <td>2.333333</td>\n",
       "      <td>6</td>\n",
       "      <td>5</td>\n",
       "      <td>13</td>\n",
       "    </tr>\n",
       "  </tbody>\n",
       "</table>\n",
       "<p>5 rows × 22 columns</p>\n",
       "</div>"
      ],
      "text/plain": [
       "        Date  Daily_Confirmed  Cleared  traveled  Total_Confirmed  \\\n",
       "0 2020-03-01                6        1         0               55   \n",
       "1 2020-03-02                6        1         0              476   \n",
       "2 2020-03-03                1        1         0              600   \n",
       "3 2020-03-04                5        2         1              516   \n",
       "4 2020-03-05                1        2         0              438   \n",
       "\n",
       "   Subway_Usage    TCS_in  Seoul_Car  Domestic_Air_Seoul_In  trendTotal  ...  \\\n",
       "0      2.312811  3.726133   3.042591               0.502188    58.14908  ...   \n",
       "1      0.086076  1.129503   0.032481               0.502188    73.62835  ...   \n",
       "2      0.085332  1.192147   0.234261               0.452411    61.54096  ...   \n",
       "3      0.097709  1.218257   0.333109               0.452411    55.16472  ...   \n",
       "4      0.076695  1.081044   0.487317               0.452411    51.35339  ...   \n",
       "\n",
       "   meanWindSpeed  meanHumid  TotalSunshineTime  IsHoliday  rolling_5  \\\n",
       "0            2.0       71.8                0.2          1        6.4   \n",
       "1            2.7       55.3               10.0          0        7.6   \n",
       "2            2.6       57.0                4.1          0        5.2   \n",
       "3            3.7       53.4                6.6          0        4.6   \n",
       "4            2.5       47.5               10.9          0        3.8   \n",
       "\n",
       "   rolling_7  rolling_3  moving_3  moving_5  moving_7  \n",
       "0   7.428571   6.333333        13        16         4  \n",
       "1   7.714286   5.666667         8         0         4  \n",
       "2   5.571429   4.333333         5        13        16  \n",
       "3   6.285714   4.000000         6         8         0  \n",
       "4   4.571429   2.333333         6         5        13  \n",
       "\n",
       "[5 rows x 22 columns]"
      ]
     },
     "execution_count": 121,
     "metadata": {},
     "output_type": "execute_result"
    }
   ],
   "source": [
    "final[:5]"
   ]
  },
  {
   "cell_type": "code",
   "execution_count": 122,
   "metadata": {
    "ExecuteTime": {
     "end_time": "2020-11-19T02:40:45.041098Z",
     "start_time": "2020-11-19T02:40:45.002161Z"
    }
   },
   "outputs": [
    {
     "data": {
      "text/html": [
       "<div>\n",
       "<style scoped>\n",
       "    .dataframe tbody tr th:only-of-type {\n",
       "        vertical-align: middle;\n",
       "    }\n",
       "\n",
       "    .dataframe tbody tr th {\n",
       "        vertical-align: top;\n",
       "    }\n",
       "\n",
       "    .dataframe thead th {\n",
       "        text-align: right;\n",
       "    }\n",
       "</style>\n",
       "<table border=\"1\" class=\"dataframe\">\n",
       "  <thead>\n",
       "    <tr style=\"text-align: right;\">\n",
       "      <th></th>\n",
       "      <th>Date</th>\n",
       "      <th>Daily_Confirmed</th>\n",
       "      <th>Cleared</th>\n",
       "      <th>traveled</th>\n",
       "      <th>Total_Confirmed</th>\n",
       "      <th>Subway_Usage</th>\n",
       "      <th>TCS_in</th>\n",
       "      <th>Seoul_Car</th>\n",
       "      <th>Domestic_Air_Seoul_In</th>\n",
       "      <th>trendTotal</th>\n",
       "      <th>...</th>\n",
       "      <th>meanWindSpeed</th>\n",
       "      <th>meanHumid</th>\n",
       "      <th>TotalSunshineTime</th>\n",
       "      <th>IsHoliday</th>\n",
       "      <th>rolling_5</th>\n",
       "      <th>rolling_7</th>\n",
       "      <th>rolling_3</th>\n",
       "      <th>moving_3</th>\n",
       "      <th>moving_5</th>\n",
       "      <th>moving_7</th>\n",
       "    </tr>\n",
       "  </thead>\n",
       "  <tbody>\n",
       "    <tr>\n",
       "      <th>5</th>\n",
       "      <td>2020-03-06</td>\n",
       "      <td>7</td>\n",
       "      <td>2</td>\n",
       "      <td>0</td>\n",
       "      <td>518</td>\n",
       "      <td>0.057458</td>\n",
       "      <td>0.293001</td>\n",
       "      <td>0.660268</td>\n",
       "      <td>0.452411</td>\n",
       "      <td>43.33987</td>\n",
       "      <td>...</td>\n",
       "      <td>1.6</td>\n",
       "      <td>46.8</td>\n",
       "      <td>10.6</td>\n",
       "      <td>0</td>\n",
       "      <td>4.0</td>\n",
       "      <td>4.428571</td>\n",
       "      <td>4.333333</td>\n",
       "      <td>1</td>\n",
       "      <td>6</td>\n",
       "      <td>8</td>\n",
       "    </tr>\n",
       "    <tr>\n",
       "      <th>6</th>\n",
       "      <td>2020-03-07</td>\n",
       "      <td>7</td>\n",
       "      <td>3</td>\n",
       "      <td>1</td>\n",
       "      <td>483</td>\n",
       "      <td>1.497806</td>\n",
       "      <td>1.969009</td>\n",
       "      <td>0.827390</td>\n",
       "      <td>0.452411</td>\n",
       "      <td>32.69413</td>\n",
       "      <td>...</td>\n",
       "      <td>2.0</td>\n",
       "      <td>39.5</td>\n",
       "      <td>5.9</td>\n",
       "      <td>1</td>\n",
       "      <td>4.2</td>\n",
       "      <td>4.714286</td>\n",
       "      <td>5.000000</td>\n",
       "      <td>5</td>\n",
       "      <td>6</td>\n",
       "      <td>5</td>\n",
       "    </tr>\n",
       "    <tr>\n",
       "      <th>7</th>\n",
       "      <td>2020-03-08</td>\n",
       "      <td>10</td>\n",
       "      <td>3</td>\n",
       "      <td>0</td>\n",
       "      <td>367</td>\n",
       "      <td>2.128346</td>\n",
       "      <td>2.743802</td>\n",
       "      <td>2.559868</td>\n",
       "      <td>0.452411</td>\n",
       "      <td>30.26726</td>\n",
       "      <td>...</td>\n",
       "      <td>1.6</td>\n",
       "      <td>43.8</td>\n",
       "      <td>10.7</td>\n",
       "      <td>1</td>\n",
       "      <td>6.0</td>\n",
       "      <td>5.285714</td>\n",
       "      <td>8.000000</td>\n",
       "      <td>1</td>\n",
       "      <td>1</td>\n",
       "      <td>6</td>\n",
       "    </tr>\n",
       "    <tr>\n",
       "      <th>8</th>\n",
       "      <td>2020-03-09</td>\n",
       "      <td>26</td>\n",
       "      <td>3</td>\n",
       "      <td>1</td>\n",
       "      <td>248</td>\n",
       "      <td>0.099361</td>\n",
       "      <td>0.761298</td>\n",
       "      <td>0.218141</td>\n",
       "      <td>0.452411</td>\n",
       "      <td>38.87256</td>\n",
       "      <td>...</td>\n",
       "      <td>1.8</td>\n",
       "      <td>37.6</td>\n",
       "      <td>7.1</td>\n",
       "      <td>0</td>\n",
       "      <td>10.2</td>\n",
       "      <td>8.142857</td>\n",
       "      <td>14.333333</td>\n",
       "      <td>7</td>\n",
       "      <td>5</td>\n",
       "      <td>6</td>\n",
       "    </tr>\n",
       "    <tr>\n",
       "      <th>9</th>\n",
       "      <td>2020-03-10</td>\n",
       "      <td>46</td>\n",
       "      <td>2</td>\n",
       "      <td>1</td>\n",
       "      <td>131</td>\n",
       "      <td>0.078782</td>\n",
       "      <td>1.648516</td>\n",
       "      <td>0.123883</td>\n",
       "      <td>0.352857</td>\n",
       "      <td>38.81317</td>\n",
       "      <td>...</td>\n",
       "      <td>2.8</td>\n",
       "      <td>78.4</td>\n",
       "      <td>0.0</td>\n",
       "      <td>0</td>\n",
       "      <td>19.2</td>\n",
       "      <td>14.571429</td>\n",
       "      <td>27.333333</td>\n",
       "      <td>7</td>\n",
       "      <td>1</td>\n",
       "      <td>1</td>\n",
       "    </tr>\n",
       "  </tbody>\n",
       "</table>\n",
       "<p>5 rows × 22 columns</p>\n",
       "</div>"
      ],
      "text/plain": [
       "        Date  Daily_Confirmed  Cleared  traveled  Total_Confirmed  \\\n",
       "5 2020-03-06                7        2         0              518   \n",
       "6 2020-03-07                7        3         1              483   \n",
       "7 2020-03-08               10        3         0              367   \n",
       "8 2020-03-09               26        3         1              248   \n",
       "9 2020-03-10               46        2         1              131   \n",
       "\n",
       "   Subway_Usage    TCS_in  Seoul_Car  Domestic_Air_Seoul_In  trendTotal  ...  \\\n",
       "5      0.057458  0.293001   0.660268               0.452411    43.33987  ...   \n",
       "6      1.497806  1.969009   0.827390               0.452411    32.69413  ...   \n",
       "7      2.128346  2.743802   2.559868               0.452411    30.26726  ...   \n",
       "8      0.099361  0.761298   0.218141               0.452411    38.87256  ...   \n",
       "9      0.078782  1.648516   0.123883               0.352857    38.81317  ...   \n",
       "\n",
       "   meanWindSpeed  meanHumid  TotalSunshineTime  IsHoliday  rolling_5  \\\n",
       "5            1.6       46.8               10.6          0        4.0   \n",
       "6            2.0       39.5                5.9          1        4.2   \n",
       "7            1.6       43.8               10.7          1        6.0   \n",
       "8            1.8       37.6                7.1          0       10.2   \n",
       "9            2.8       78.4                0.0          0       19.2   \n",
       "\n",
       "   rolling_7  rolling_3  moving_3  moving_5  moving_7  \n",
       "5   4.428571   4.333333         1         6         8  \n",
       "6   4.714286   5.000000         5         6         5  \n",
       "7   5.285714   8.000000         1         1         6  \n",
       "8   8.142857  14.333333         7         5         6  \n",
       "9  14.571429  27.333333         7         1         1  \n",
       "\n",
       "[5 rows x 22 columns]"
      ]
     },
     "execution_count": 122,
     "metadata": {},
     "output_type": "execute_result"
    }
   ],
   "source": [
    "final[5:10]"
   ]
  },
  {
   "cell_type": "code",
   "execution_count": 133,
   "metadata": {
    "ExecuteTime": {
     "end_time": "2020-11-19T02:50:39.399546Z",
     "start_time": "2020-11-19T02:50:39.380557Z"
    }
   },
   "outputs": [],
   "source": [
    "from sklearn.linear_model import LinearRegression ,Ridge, Lasso"
   ]
  },
  {
   "cell_type": "code",
   "execution_count": 124,
   "metadata": {
    "ExecuteTime": {
     "end_time": "2020-11-19T02:46:23.598747Z",
     "start_time": "2020-11-19T02:46:23.591764Z"
    }
   },
   "outputs": [],
   "source": [
    "lin = LinearRegression()"
   ]
  },
  {
   "cell_type": "code",
   "execution_count": 281,
   "metadata": {
    "ExecuteTime": {
     "end_time": "2020-11-19T03:58:32.761302Z",
     "start_time": "2020-11-19T03:58:32.750332Z"
    }
   },
   "outputs": [],
   "source": [
    "x = final[['Cleared',  'Total_Confirmed',\n",
    "         'Seoul_Car', \n",
    "       'trendTotal', 'meanTemperature', 'dailyTemperatureRange',\n",
    "       'meanWindSpeed', 'meanHumid', 'TotalSunshineTime',\n",
    "        'rolling_7']]\n",
    "y = final['moving_3']"
   ]
  },
  {
   "cell_type": "code",
   "execution_count": 240,
   "metadata": {
    "ExecuteTime": {
     "end_time": "2020-11-19T03:55:05.502493Z",
     "start_time": "2020-11-19T03:55:05.493517Z"
    }
   },
   "outputs": [],
   "source": [
    "a = ['Cleared', 'traveled', 'Total_Confirmed',\n",
    "       'Subway_Usage', 'TCS_in', 'Seoul_Car', 'Domestic_Air_Seoul_In',\n",
    "       'trendTotal', 'meanTemperature', 'dailyTemperatureRange',\n",
    "       'meanWindSpeed', 'meanHumid', 'TotalSunshineTime', 'IsHoliday',\n",
    "       'rolling_5', 'rolling_7', 'rolling_3', 'moving_3', 'moving_5',\n",
    "       'moving_7']"
   ]
  },
  {
   "cell_type": "code",
   "execution_count": 288,
   "metadata": {
    "ExecuteTime": {
     "end_time": "2020-11-19T03:58:52.505932Z",
     "start_time": "2020-11-19T03:58:52.500945Z"
    }
   },
   "outputs": [],
   "source": [
    "trainx = x[:160]\n",
    "trainy = y[:160]\n",
    "vx = x[160:]\n",
    "vy = y[160:]"
   ]
  },
  {
   "cell_type": "code",
   "execution_count": 264,
   "metadata": {
    "ExecuteTime": {
     "end_time": "2020-11-19T03:56:45.878660Z",
     "start_time": "2020-11-19T03:56:45.868687Z"
    }
   },
   "outputs": [
    {
     "data": {
      "text/plain": [
       "LinearRegression(copy_X=True, fit_intercept=True, n_jobs=None,\n",
       "         normalize=False)"
      ]
     },
     "execution_count": 264,
     "metadata": {},
     "output_type": "execute_result"
    }
   ],
   "source": [
    "lin.fit(trainx,trainy)"
   ]
  },
  {
   "cell_type": "code",
   "execution_count": 265,
   "metadata": {
    "ExecuteTime": {
     "end_time": "2020-11-19T03:56:46.642642Z",
     "start_time": "2020-11-19T03:56:46.630672Z"
    }
   },
   "outputs": [
    {
     "data": {
      "text/plain": [
       "array([ 0.04653823,  0.01082362, -0.45481629, -0.20756741, -0.28734355,\n",
       "       -0.04187433, -2.14165811,  0.02392457, -0.08556703, -2.02637134,\n",
       "        0.69347405])"
      ]
     },
     "execution_count": 265,
     "metadata": {},
     "output_type": "execute_result"
    }
   ],
   "source": [
    "lin.coef_"
   ]
  },
  {
   "cell_type": "code",
   "execution_count": 266,
   "metadata": {
    "ExecuteTime": {
     "end_time": "2020-11-19T03:56:52.953799Z",
     "start_time": "2020-11-19T03:56:52.940833Z"
    }
   },
   "outputs": [
    {
     "data": {
      "text/plain": [
       "array([ 10.15706969,   8.65486257,  12.03075121,  13.97893575,\n",
       "        14.96451555,  15.53427072,  18.21463678,  33.8964079 ,\n",
       "        37.31535126,  49.82791686,  66.19667908,  77.23747566,\n",
       "        87.5787748 ,  95.18330367,  93.12735993,  91.9733627 ,\n",
       "        90.91418982,  89.5994801 ,  89.25694896,  94.53300489,\n",
       "        97.76142068, 104.40956037,  93.19900345,  90.580492  ,\n",
       "        94.12819449,  82.44641326,  66.82139618,  63.20178266,\n",
       "        52.80827434,  48.45159799,  45.72389091,  42.82540891,\n",
       "        49.80170036,  47.02763396,  43.37204961,  49.43965863,\n",
       "        37.78299066,  42.46186632,  46.30064588,  48.33502753,\n",
       "        39.35822592,  37.55004307,  34.16414226,  33.86855024,\n",
       "        34.09240241,  30.82964897,  29.59866205,  29.08723003,\n",
       "        30.52435459,  30.28672217,  26.87329675,  26.47525175,\n",
       "        29.35889224,  27.633188  ])"
      ]
     },
     "execution_count": 266,
     "metadata": {},
     "output_type": "execute_result"
    }
   ],
   "source": [
    "lin.predict(vx)"
   ]
  },
  {
   "cell_type": "code",
   "execution_count": 275,
   "metadata": {
    "ExecuteTime": {
     "end_time": "2020-11-19T03:57:40.849457Z",
     "start_time": "2020-11-19T03:57:40.840481Z"
    }
   },
   "outputs": [],
   "source": [
    "la = Lasso(alpha = 0.1)\n",
    "ri = Ridge(alpha=0.1)"
   ]
  },
  {
   "cell_type": "code",
   "execution_count": 283,
   "metadata": {
    "ExecuteTime": {
     "end_time": "2020-11-19T03:58:38.606791Z",
     "start_time": "2020-11-19T03:58:38.589842Z"
    }
   },
   "outputs": [
    {
     "data": {
      "text/plain": [
       "Lasso(alpha=0.1, copy_X=True, fit_intercept=True, max_iter=1000,\n",
       "   normalize=False, positive=False, precompute=False, random_state=None,\n",
       "   selection='cyclic', tol=0.0001, warm_start=False)"
      ]
     },
     "execution_count": 283,
     "metadata": {},
     "output_type": "execute_result"
    }
   ],
   "source": [
    "la.fit(trainx,trainy)"
   ]
  },
  {
   "cell_type": "code",
   "execution_count": 284,
   "metadata": {
    "ExecuteTime": {
     "end_time": "2020-11-19T03:58:39.566182Z",
     "start_time": "2020-11-19T03:58:39.557207Z"
    }
   },
   "outputs": [
    {
     "data": {
      "text/plain": [
       "array([-0.01803754, -0.01020058,  0.14896971,  0.1447484 ,  0.20767676,\n",
       "       -0.        ,  1.17360645,  0.00650211,  0.26849354,  1.03144401])"
      ]
     },
     "execution_count": 284,
     "metadata": {},
     "output_type": "execute_result"
    }
   ],
   "source": [
    "la.coef_"
   ]
  },
  {
   "cell_type": "code",
   "execution_count": 289,
   "metadata": {
    "ExecuteTime": {
     "end_time": "2020-11-19T03:58:58.337917Z",
     "start_time": "2020-11-19T03:58:58.327944Z"
    }
   },
   "outputs": [
    {
     "data": {
      "text/plain": [
       "Ridge(alpha=0.1, copy_X=True, fit_intercept=True, max_iter=None,\n",
       "   normalize=False, random_state=None, solver='auto', tol=0.001)"
      ]
     },
     "execution_count": 289,
     "metadata": {},
     "output_type": "execute_result"
    }
   ],
   "source": [
    "ri.fit(trainx,trainy)"
   ]
  },
  {
   "cell_type": "code",
   "execution_count": 286,
   "metadata": {
    "ExecuteTime": {
     "end_time": "2020-11-19T03:58:44.004570Z",
     "start_time": "2020-11-19T03:58:43.991603Z"
    }
   },
   "outputs": [
    {
     "data": {
      "text/plain": [
       "array([-1.86704065e-02, -1.01094157e-02,  5.60126635e-01,  1.57364145e-01,\n",
       "        2.38373631e-01,  2.71049386e-04,  1.52356186e+00,  8.05848965e-03,\n",
       "        2.80507886e-01,  1.03772877e+00])"
      ]
     },
     "execution_count": 286,
     "metadata": {},
     "output_type": "execute_result"
    }
   ],
   "source": [
    "ri.coef_"
   ]
  },
  {
   "cell_type": "code",
   "execution_count": 290,
   "metadata": {
    "ExecuteTime": {
     "end_time": "2020-11-19T03:59:00.076079Z",
     "start_time": "2020-11-19T03:59:00.060122Z"
    },
    "scrolled": true
   },
   "outputs": [
    {
     "ename": "ValueError",
     "evalue": "shapes (54,10) and (11,) not aligned: 10 (dim 1) != 11 (dim 0)",
     "output_type": "error",
     "traceback": [
      "\u001b[1;31m---------------------------------------------------------------------------\u001b[0m",
      "\u001b[1;31mValueError\u001b[0m                                Traceback (most recent call last)",
      "\u001b[1;32m<ipython-input-290-d2def22ccdad>\u001b[0m in \u001b[0;36m<module>\u001b[1;34m\u001b[0m\n\u001b[1;32m----> 1\u001b[1;33m \u001b[0mlin\u001b[0m\u001b[1;33m.\u001b[0m\u001b[0mpredict\u001b[0m\u001b[1;33m(\u001b[0m\u001b[0mvx\u001b[0m\u001b[1;33m)\u001b[0m \u001b[1;33m-\u001b[0m \u001b[0mvy\u001b[0m\u001b[1;33m\u001b[0m\u001b[1;33m\u001b[0m\u001b[0m\n\u001b[0m",
      "\u001b[1;32m~\\Anaconda3\\lib\\site-packages\\sklearn\\linear_model\\base.py\u001b[0m in \u001b[0;36mpredict\u001b[1;34m(self, X)\u001b[0m\n\u001b[0;32m    211\u001b[0m             \u001b[0mReturns\u001b[0m \u001b[0mpredicted\u001b[0m \u001b[0mvalues\u001b[0m\u001b[1;33m.\u001b[0m\u001b[1;33m\u001b[0m\u001b[1;33m\u001b[0m\u001b[0m\n\u001b[0;32m    212\u001b[0m         \"\"\"\n\u001b[1;32m--> 213\u001b[1;33m         \u001b[1;32mreturn\u001b[0m \u001b[0mself\u001b[0m\u001b[1;33m.\u001b[0m\u001b[0m_decision_function\u001b[0m\u001b[1;33m(\u001b[0m\u001b[0mX\u001b[0m\u001b[1;33m)\u001b[0m\u001b[1;33m\u001b[0m\u001b[1;33m\u001b[0m\u001b[0m\n\u001b[0m\u001b[0;32m    214\u001b[0m \u001b[1;33m\u001b[0m\u001b[0m\n\u001b[0;32m    215\u001b[0m     \u001b[0m_preprocess_data\u001b[0m \u001b[1;33m=\u001b[0m \u001b[0mstaticmethod\u001b[0m\u001b[1;33m(\u001b[0m\u001b[0m_preprocess_data\u001b[0m\u001b[1;33m)\u001b[0m\u001b[1;33m\u001b[0m\u001b[1;33m\u001b[0m\u001b[0m\n",
      "\u001b[1;32m~\\Anaconda3\\lib\\site-packages\\sklearn\\linear_model\\base.py\u001b[0m in \u001b[0;36m_decision_function\u001b[1;34m(self, X)\u001b[0m\n\u001b[0;32m    196\u001b[0m         \u001b[0mX\u001b[0m \u001b[1;33m=\u001b[0m \u001b[0mcheck_array\u001b[0m\u001b[1;33m(\u001b[0m\u001b[0mX\u001b[0m\u001b[1;33m,\u001b[0m \u001b[0maccept_sparse\u001b[0m\u001b[1;33m=\u001b[0m\u001b[1;33m[\u001b[0m\u001b[1;34m'csr'\u001b[0m\u001b[1;33m,\u001b[0m \u001b[1;34m'csc'\u001b[0m\u001b[1;33m,\u001b[0m \u001b[1;34m'coo'\u001b[0m\u001b[1;33m]\u001b[0m\u001b[1;33m)\u001b[0m\u001b[1;33m\u001b[0m\u001b[1;33m\u001b[0m\u001b[0m\n\u001b[0;32m    197\u001b[0m         return safe_sparse_dot(X, self.coef_.T,\n\u001b[1;32m--> 198\u001b[1;33m                                dense_output=True) + self.intercept_\n\u001b[0m\u001b[0;32m    199\u001b[0m \u001b[1;33m\u001b[0m\u001b[0m\n\u001b[0;32m    200\u001b[0m     \u001b[1;32mdef\u001b[0m \u001b[0mpredict\u001b[0m\u001b[1;33m(\u001b[0m\u001b[0mself\u001b[0m\u001b[1;33m,\u001b[0m \u001b[0mX\u001b[0m\u001b[1;33m)\u001b[0m\u001b[1;33m:\u001b[0m\u001b[1;33m\u001b[0m\u001b[1;33m\u001b[0m\u001b[0m\n",
      "\u001b[1;32m~\\Anaconda3\\lib\\site-packages\\sklearn\\utils\\extmath.py\u001b[0m in \u001b[0;36msafe_sparse_dot\u001b[1;34m(a, b, dense_output)\u001b[0m\n\u001b[0;32m    171\u001b[0m         \u001b[1;32mreturn\u001b[0m \u001b[0mret\u001b[0m\u001b[1;33m\u001b[0m\u001b[1;33m\u001b[0m\u001b[0m\n\u001b[0;32m    172\u001b[0m     \u001b[1;32melse\u001b[0m\u001b[1;33m:\u001b[0m\u001b[1;33m\u001b[0m\u001b[1;33m\u001b[0m\u001b[0m\n\u001b[1;32m--> 173\u001b[1;33m         \u001b[1;32mreturn\u001b[0m \u001b[0mnp\u001b[0m\u001b[1;33m.\u001b[0m\u001b[0mdot\u001b[0m\u001b[1;33m(\u001b[0m\u001b[0ma\u001b[0m\u001b[1;33m,\u001b[0m \u001b[0mb\u001b[0m\u001b[1;33m)\u001b[0m\u001b[1;33m\u001b[0m\u001b[1;33m\u001b[0m\u001b[0m\n\u001b[0m\u001b[0;32m    174\u001b[0m \u001b[1;33m\u001b[0m\u001b[0m\n\u001b[0;32m    175\u001b[0m \u001b[1;33m\u001b[0m\u001b[0m\n",
      "\u001b[1;31mValueError\u001b[0m: shapes (54,10) and (11,) not aligned: 10 (dim 1) != 11 (dim 0)"
     ]
    }
   ],
   "source": [
    "lin.predict(vx) - vy"
   ]
  },
  {
   "cell_type": "code",
   "execution_count": 213,
   "metadata": {
    "ExecuteTime": {
     "end_time": "2020-11-19T03:25:32.945213Z",
     "start_time": "2020-11-19T03:25:32.189233Z"
    }
   },
   "outputs": [
    {
     "data": {
      "text/plain": [
       "<matplotlib.axes._subplots.AxesSubplot at 0x1a6c2b65048>"
      ]
     },
     "execution_count": 213,
     "metadata": {},
     "output_type": "execute_result"
    },
    {
     "data": {
      "image/png": "[encoded data removed]",
      "text/plain": [
       "<Figure size 432x288 with 1 Axes>"
      ]
     },
     "metadata": {
      "needs_background": "light"
     },
     "output_type": "display_data"
    },
    {
     "data": {
      "image/png": "[encoded data removed]",
      "text/plain": [
       "<Figure size 432x288 with 1 Axes>"
      ]
     },
     "metadata": {
      "needs_background": "light"
     },
     "output_type": "display_data"
    }
   ],
   "source": [
    "final.plot('Date','Seoul_Car')\n",
    "final.plot('Date','Daily_Confirmed')"
   ]
  },
  {
   "cell_type": "code",
   "execution_count": 210,
   "metadata": {
    "ExecuteTime": {
     "end_time": "2020-11-19T03:24:37.806886Z",
     "start_time": "2020-11-19T03:24:37.799905Z"
    }
   },
   "outputs": [],
   "source": [
    "m = pd.Series.rolling(final['Seoul_Car'],window=7,center=False).max()"
   ]
  },
  {
   "cell_type": "code",
   "execution_count": 212,
   "metadata": {
    "ExecuteTime": {
     "end_time": "2020-11-19T03:25:00.583443Z",
     "start_time": "2020-11-19T03:25:00.415891Z"
    }
   },
   "outputs": [
    {
     "data": {
      "text/plain": [
       "[<matplotlib.lines.Line2D at 0x1a6c4fe3710>]"
      ]
     },
     "execution_count": 212,
     "metadata": {},
     "output_type": "execute_result"
    },
    {
     "data": {
      "image/png": "[encoded data removed]",
      "text/plain": [
       "<Figure size 432x288 with 1 Axes>"
      ]
     },
     "metadata": {
      "needs_background": "light"
     },
     "output_type": "display_data"
    }
   ],
   "source": [
    "plt.plot(m)"
   ]
  },
  {
   "cell_type": "code",
   "execution_count": 214,
   "metadata": {
    "ExecuteTime": {
     "end_time": "2020-11-19T03:32:08.258804Z",
     "start_time": "2020-11-19T03:32:07.821711Z"
    }
   },
   "outputs": [
    {
     "data": {
      "text/plain": [
       "<matplotlib.axes._subplots.AxesSubplot at 0x1a6c846f518>"
      ]
     },
     "execution_count": 214,
     "metadata": {},
     "output_type": "execute_result"
    },
    {
     "data": {
      "image/png": "[encoded data removed]",
      "text/plain": [
       "<Figure size 432x288 with 1 Axes>"
      ]
     },
     "metadata": {
      "needs_background": "light"
     },
     "output_type": "display_data"
    }
   ],
   "source": [
    "final.plot('Date','Subway_Usage')"
   ]
  },
  {
   "cell_type": "code",
   "execution_count": 234,
   "metadata": {
    "ExecuteTime": {
     "end_time": "2020-11-19T03:41:28.157166Z",
     "start_time": "2020-11-19T03:41:28.152179Z"
    }
   },
   "outputs": [],
   "source": [
    "r_7 = pd.Series.rolling(final['Subway_Usage'],window=3).max()"
   ]
  },
  {
   "cell_type": "code",
   "execution_count": 216,
   "metadata": {
    "ExecuteTime": {
     "end_time": "2020-11-19T03:33:24.733394Z",
     "start_time": "2020-11-19T03:33:24.572824Z"
    }
   },
   "outputs": [
    {
     "data": {
      "text/plain": [
       "[<matplotlib.lines.Line2D at 0x1a6cf3ae908>]"
      ]
     },
     "execution_count": 216,
     "metadata": {},
     "output_type": "execute_result"
    },
    {
     "data": {
      "image/png": "[encoded data removed]",
      "text/plain": [
       "<Figure size 432x288 with 1 Axes>"
      ]
     },
     "metadata": {
      "needs_background": "light"
     },
     "output_type": "display_data"
    }
   ],
   "source": [
    "plt.plot(r_7)"
   ]
  },
  {
   "cell_type": "code",
   "execution_count": 233,
   "metadata": {
    "ExecuteTime": {
     "end_time": "2020-11-19T03:38:33.772225Z",
     "start_time": "2020-11-19T03:38:33.525884Z"
    }
   },
   "outputs": [
    {
     "data": {
      "text/plain": [
       "<matplotlib.legend.Legend at 0x1a6cf566160>"
      ]
     },
     "execution_count": 233,
     "metadata": {},
     "output_type": "execute_result"
    },
    {
     "data": {
      "image/png": "[encoded data removed]",
      "text/plain": [
       "<Figure size 864x288 with 1 Axes>"
      ]
     },
     "metadata": {
      "needs_background": "light"
     },
     "output_type": "display_data"
    }
   ],
   "source": [
    "fig = plt.figure(figsize=(12,4))\n",
    "\n",
    "chart = fig.add_subplot(1,1,1)\n",
    "\n",
    "chart.plot(final['Subway_Usage'],color='blue',label='Seoul_Car')\n",
    "chart.plot(r_7,color='red',label='Seoul_Car_rolling7')\n",
    "\n",
    "\n",
    "plt.legend(loc='best')"
   ]
  },
  {
   "cell_type": "code",
   "execution_count": 219,
   "metadata": {
    "ExecuteTime": {
     "end_time": "2020-11-19T03:35:17.094380Z",
     "start_time": "2020-11-19T03:35:17.078382Z"
    }
   },
   "outputs": [],
   "source": [
    "final['Date'] = pd.to_datetime(final['Date'],format='%Y-%m-%d')"
   ]
  },
  {
   "cell_type": "code",
   "execution_count": 220,
   "metadata": {
    "ExecuteTime": {
     "end_time": "2020-11-19T03:35:50.232380Z",
     "start_time": "2020-11-19T03:35:50.222407Z"
    }
   },
   "outputs": [],
   "source": [
    "final.index = final['Date']"
   ]
  },
  {
   "cell_type": "code",
   "execution_count": 292,
   "metadata": {
    "ExecuteTime": {
     "end_time": "2020-11-19T04:51:52.137311Z",
     "start_time": "2020-11-19T04:51:52.102409Z"
    }
   },
   "outputs": [
    {
     "data": {
      "text/html": [
       "<div>\n",
       "<style scoped>\n",
       "    .dataframe tbody tr th:only-of-type {\n",
       "        vertical-align: middle;\n",
       "    }\n",
       "\n",
       "    .dataframe tbody tr th {\n",
       "        vertical-align: top;\n",
       "    }\n",
       "\n",
       "    .dataframe thead th {\n",
       "        text-align: right;\n",
       "    }\n",
       "</style>\n",
       "<table border=\"1\" class=\"dataframe\">\n",
       "  <thead>\n",
       "    <tr style=\"text-align: right;\">\n",
       "      <th></th>\n",
       "      <th>Date</th>\n",
       "      <th>Daily_Confirmed</th>\n",
       "      <th>Cleared</th>\n",
       "      <th>traveled</th>\n",
       "      <th>Total_Confirmed</th>\n",
       "      <th>Subway_Usage</th>\n",
       "      <th>TCS_in</th>\n",
       "      <th>Seoul_Car</th>\n",
       "      <th>Domestic_Air_Seoul_In</th>\n",
       "      <th>trendTotal</th>\n",
       "      <th>...</th>\n",
       "      <th>meanWindSpeed</th>\n",
       "      <th>meanHumid</th>\n",
       "      <th>TotalSunshineTime</th>\n",
       "      <th>IsHoliday</th>\n",
       "      <th>rolling_5</th>\n",
       "      <th>rolling_7</th>\n",
       "      <th>rolling_3</th>\n",
       "      <th>moving_3</th>\n",
       "      <th>moving_5</th>\n",
       "      <th>moving_7</th>\n",
       "    </tr>\n",
       "    <tr>\n",
       "      <th>Date</th>\n",
       "      <th></th>\n",
       "      <th></th>\n",
       "      <th></th>\n",
       "      <th></th>\n",
       "      <th></th>\n",
       "      <th></th>\n",
       "      <th></th>\n",
       "      <th></th>\n",
       "      <th></th>\n",
       "      <th></th>\n",
       "      <th></th>\n",
       "      <th></th>\n",
       "      <th></th>\n",
       "      <th></th>\n",
       "      <th></th>\n",
       "      <th></th>\n",
       "      <th></th>\n",
       "      <th></th>\n",
       "      <th></th>\n",
       "      <th></th>\n",
       "      <th></th>\n",
       "    </tr>\n",
       "  </thead>\n",
       "  <tbody>\n",
       "    <tr>\n",
       "      <th>2020-03-01</th>\n",
       "      <td>2020-03-01</td>\n",
       "      <td>6</td>\n",
       "      <td>1</td>\n",
       "      <td>0</td>\n",
       "      <td>55</td>\n",
       "      <td>2.312811</td>\n",
       "      <td>3.726133</td>\n",
       "      <td>3.042591</td>\n",
       "      <td>0.502188</td>\n",
       "      <td>58.14908</td>\n",
       "      <td>...</td>\n",
       "      <td>2.0</td>\n",
       "      <td>71.8</td>\n",
       "      <td>0.2</td>\n",
       "      <td>1</td>\n",
       "      <td>6.4</td>\n",
       "      <td>7.428571</td>\n",
       "      <td>6.333333</td>\n",
       "      <td>13</td>\n",
       "      <td>16</td>\n",
       "      <td>4</td>\n",
       "    </tr>\n",
       "    <tr>\n",
       "      <th>2020-03-02</th>\n",
       "      <td>2020-03-02</td>\n",
       "      <td>6</td>\n",
       "      <td>1</td>\n",
       "      <td>0</td>\n",
       "      <td>476</td>\n",
       "      <td>0.086076</td>\n",
       "      <td>1.129503</td>\n",
       "      <td>0.032481</td>\n",
       "      <td>0.502188</td>\n",
       "      <td>73.62835</td>\n",
       "      <td>...</td>\n",
       "      <td>2.7</td>\n",
       "      <td>55.3</td>\n",
       "      <td>10.0</td>\n",
       "      <td>0</td>\n",
       "      <td>7.6</td>\n",
       "      <td>7.714286</td>\n",
       "      <td>5.666667</td>\n",
       "      <td>8</td>\n",
       "      <td>0</td>\n",
       "      <td>4</td>\n",
       "    </tr>\n",
       "    <tr>\n",
       "      <th>2020-03-03</th>\n",
       "      <td>2020-03-03</td>\n",
       "      <td>1</td>\n",
       "      <td>1</td>\n",
       "      <td>0</td>\n",
       "      <td>600</td>\n",
       "      <td>0.085332</td>\n",
       "      <td>1.192147</td>\n",
       "      <td>0.234261</td>\n",
       "      <td>0.452411</td>\n",
       "      <td>61.54096</td>\n",
       "      <td>...</td>\n",
       "      <td>2.6</td>\n",
       "      <td>57.0</td>\n",
       "      <td>4.1</td>\n",
       "      <td>0</td>\n",
       "      <td>5.2</td>\n",
       "      <td>5.571429</td>\n",
       "      <td>4.333333</td>\n",
       "      <td>5</td>\n",
       "      <td>13</td>\n",
       "      <td>16</td>\n",
       "    </tr>\n",
       "    <tr>\n",
       "      <th>2020-03-04</th>\n",
       "      <td>2020-03-04</td>\n",
       "      <td>5</td>\n",
       "      <td>2</td>\n",
       "      <td>1</td>\n",
       "      <td>516</td>\n",
       "      <td>0.097709</td>\n",
       "      <td>1.218257</td>\n",
       "      <td>0.333109</td>\n",
       "      <td>0.452411</td>\n",
       "      <td>55.16472</td>\n",
       "      <td>...</td>\n",
       "      <td>3.7</td>\n",
       "      <td>53.4</td>\n",
       "      <td>6.6</td>\n",
       "      <td>0</td>\n",
       "      <td>4.6</td>\n",
       "      <td>6.285714</td>\n",
       "      <td>4.000000</td>\n",
       "      <td>6</td>\n",
       "      <td>8</td>\n",
       "      <td>0</td>\n",
       "    </tr>\n",
       "    <tr>\n",
       "      <th>2020-03-05</th>\n",
       "      <td>2020-03-05</td>\n",
       "      <td>1</td>\n",
       "      <td>2</td>\n",
       "      <td>0</td>\n",
       "      <td>438</td>\n",
       "      <td>0.076695</td>\n",
       "      <td>1.081044</td>\n",
       "      <td>0.487317</td>\n",
       "      <td>0.452411</td>\n",
       "      <td>51.35339</td>\n",
       "      <td>...</td>\n",
       "      <td>2.5</td>\n",
       "      <td>47.5</td>\n",
       "      <td>10.9</td>\n",
       "      <td>0</td>\n",
       "      <td>3.8</td>\n",
       "      <td>4.571429</td>\n",
       "      <td>2.333333</td>\n",
       "      <td>6</td>\n",
       "      <td>5</td>\n",
       "      <td>13</td>\n",
       "    </tr>\n",
       "  </tbody>\n",
       "</table>\n",
       "<p>5 rows × 22 columns</p>\n",
       "</div>"
      ],
      "text/plain": [
       "                 Date  Daily_Confirmed  Cleared  traveled  Total_Confirmed  \\\n",
       "Date                                                                         \n",
       "2020-03-01 2020-03-01                6        1         0               55   \n",
       "2020-03-02 2020-03-02                6        1         0              476   \n",
       "2020-03-03 2020-03-03                1        1         0              600   \n",
       "2020-03-04 2020-03-04                5        2         1              516   \n",
       "2020-03-05 2020-03-05                1        2         0              438   \n",
       "\n",
       "            Subway_Usage    TCS_in  Seoul_Car  Domestic_Air_Seoul_In  \\\n",
       "Date                                                                   \n",
       "2020-03-01      2.312811  3.726133   3.042591               0.502188   \n",
       "2020-03-02      0.086076  1.129503   0.032481               0.502188   \n",
       "2020-03-03      0.085332  1.192147   0.234261               0.452411   \n",
       "2020-03-04      0.097709  1.218257   0.333109               0.452411   \n",
       "2020-03-05      0.076695  1.081044   0.487317               0.452411   \n",
       "\n",
       "            trendTotal  ...  meanWindSpeed  meanHumid  TotalSunshineTime  \\\n",
       "Date                    ...                                                \n",
       "2020-03-01    58.14908  ...            2.0       71.8                0.2   \n",
       "2020-03-02    73.62835  ...            2.7       55.3               10.0   \n",
       "2020-03-03    61.54096  ...            2.6       57.0                4.1   \n",
       "2020-03-04    55.16472  ...            3.7       53.4                6.6   \n",
       "2020-03-05    51.35339  ...            2.5       47.5               10.9   \n",
       "\n",
       "            IsHoliday  rolling_5  rolling_7  rolling_3  moving_3  moving_5  \\\n",
       "Date                                                                         \n",
       "2020-03-01          1        6.4   7.428571   6.333333        13        16   \n",
       "2020-03-02          0        7.6   7.714286   5.666667         8         0   \n",
       "2020-03-03          0        5.2   5.571429   4.333333         5        13   \n",
       "2020-03-04          0        4.6   6.285714   4.000000         6         8   \n",
       "2020-03-05          0        3.8   4.571429   2.333333         6         5   \n",
       "\n",
       "            moving_7  \n",
       "Date                  \n",
       "2020-03-01         4  \n",
       "2020-03-02         4  \n",
       "2020-03-03        16  \n",
       "2020-03-04         0  \n",
       "2020-03-05        13  \n",
       "\n",
       "[5 rows x 22 columns]"
      ]
     },
     "execution_count": 292,
     "metadata": {},
     "output_type": "execute_result"
    }
   ],
   "source": [
    "final.head()"
   ]
  },
  {
   "cell_type": "code",
   "execution_count": 293,
   "metadata": {
    "ExecuteTime": {
     "end_time": "2020-11-19T04:53:15.287092Z",
     "start_time": "2020-11-19T04:53:15.268143Z"
    }
   },
   "outputs": [],
   "source": [
    "tt = pd.read_csv('C://Users/Seung kyu Hong/Desktop/tt.csv')"
   ]
  },
  {
   "cell_type": "code",
   "execution_count": 344,
   "metadata": {
    "ExecuteTime": {
     "end_time": "2020-11-19T05:04:28.461816Z",
     "start_time": "2020-11-19T05:04:28.446855Z"
    }
   },
   "outputs": [],
   "source": [
    "final = pd.read_csv('final.csv')"
   ]
  },
  {
   "cell_type": "code",
   "execution_count": 347,
   "metadata": {
    "ExecuteTime": {
     "end_time": "2020-11-19T05:04:57.162802Z",
     "start_time": "2020-11-19T05:04:57.147841Z"
    }
   },
   "outputs": [],
   "source": [
    "a = pd.Series.rolling(tt['Daily_Confirmed'],window=7).mean()\n",
    "a = a[6:220]\n",
    "a.index = range(len(a))\n",
    "final['rolling_7'] = a"
   ]
  },
  {
   "cell_type": "code",
   "execution_count": 343,
   "metadata": {
    "ExecuteTime": {
     "end_time": "2020-11-19T05:04:25.103926Z",
     "start_time": "2020-11-19T05:04:25.088965Z"
    },
    "scrolled": true
   },
   "outputs": [],
   "source": [
    "final['rolling_5']=a"
   ]
  },
  {
   "cell_type": "code",
   "execution_count": 348,
   "metadata": {
    "ExecuteTime": {
     "end_time": "2020-11-19T05:05:05.725798Z",
     "start_time": "2020-11-19T05:05:05.704853Z"
    }
   },
   "outputs": [],
   "source": [
    "final.to_csv('FFinal.csv',index=False)"
   ]
  },
  {
   "cell_type": "code",
   "execution_count": 336,
   "metadata": {
    "ExecuteTime": {
     "end_time": "2020-11-19T05:03:24.127143Z",
     "start_time": "2020-11-19T05:03:24.118167Z"
    }
   },
   "outputs": [
    {
     "data": {
      "text/plain": [
       "6        8.666667\n",
       "7        6.333333\n",
       "8        5.666667\n",
       "9        4.333333\n",
       "10       4.000000\n",
       "11       2.333333\n",
       "12       4.333333\n",
       "13       5.000000\n",
       "14       8.000000\n",
       "15      14.333333\n",
       "16      27.333333\n",
       "17      29.666667\n",
       "18      25.000000\n",
       "19      12.666667\n",
       "20       9.666667\n",
       "21       7.666667\n",
       "22       9.000000\n",
       "23       7.666667\n",
       "24       9.333333\n",
       "25      10.666667\n",
       "26      15.000000\n",
       "27      14.000000\n",
       "28      10.333333\n",
       "29       6.333333\n",
       "30       8.333333\n",
       "31      10.666667\n",
       "32      13.666667\n",
       "33      14.000000\n",
       "34      17.000000\n",
       "35      19.666667\n",
       "          ...    \n",
       "190    113.666667\n",
       "191     87.000000\n",
       "192     85.000000\n",
       "193     65.666667\n",
       "194     55.000000\n",
       "195     53.000000\n",
       "196     52.333333\n",
       "197     59.333333\n",
       "198     50.000000\n",
       "199     51.000000\n",
       "200     47.000000\n",
       "201     53.333333\n",
       "202     49.000000\n",
       "203     41.333333\n",
       "204     37.000000\n",
       "205     42.000000\n",
       "206     49.000000\n",
       "207     51.333333\n",
       "208     48.333333\n",
       "209     37.000000\n",
       "210     30.333333\n",
       "211     30.000000\n",
       "212     34.000000\n",
       "213     34.666667\n",
       "214     39.666667\n",
       "215     34.666667\n",
       "216     38.000000\n",
       "217     26.000000\n",
       "218     26.333333\n",
       "219     26.666667\n",
       "Name: Daily_Confirmed, Length: 214, dtype: float64"
      ]
     },
     "execution_count": 336,
     "metadata": {},
     "output_type": "execute_result"
    }
   ],
   "source": [
    "a[6:220]"
   ]
  },
  {
   "cell_type": "code",
   "execution_count": 323,
   "metadata": {
    "ExecuteTime": {
     "end_time": "2020-11-19T05:01:08.940316Z",
     "start_time": "2020-11-19T05:01:08.935329Z"
    }
   },
   "outputs": [
    {
     "data": {
      "text/plain": [
       "214"
      ]
     },
     "execution_count": 323,
     "metadata": {},
     "output_type": "execute_result"
    }
   ],
   "source": [
    "len(final['Daily_Confirmed'])"
   ]
  },
  {
   "cell_type": "code",
   "execution_count": 326,
   "metadata": {
    "ExecuteTime": {
     "end_time": "2020-11-19T05:01:35.373983Z",
     "start_time": "2020-11-19T05:01:35.367001Z"
    }
   },
   "outputs": [
    {
     "data": {
      "text/plain": [
       "214"
      ]
     },
     "execution_count": 326,
     "metadata": {},
     "output_type": "execute_result"
    }
   ],
   "source": [
    "len(a[6:220])"
   ]
  },
  {
   "cell_type": "code",
   "execution_count": 350,
   "metadata": {
    "ExecuteTime": {
     "end_time": "2020-11-19T05:13:32.542825Z",
     "start_time": "2020-11-19T05:13:31.923759Z"
    }
   },
   "outputs": [],
   "source": [
    "import statsmodels.api as sm"
   ]
  },
  {
   "cell_type": "code",
   "execution_count": 398,
   "metadata": {
    "ExecuteTime": {
     "end_time": "2020-11-19T05:41:52.067767Z",
     "start_time": "2020-11-19T05:41:52.044829Z"
    }
   },
   "outputs": [],
   "source": [
    "final = pd.read_csv('FFFinal.csv')"
   ]
  },
  {
   "cell_type": "code",
   "execution_count": 353,
   "metadata": {
    "ExecuteTime": {
     "end_time": "2020-11-19T05:14:19.625047Z",
     "start_time": "2020-11-19T05:14:19.607096Z"
    }
   },
   "outputs": [],
   "source": [
    "final['intercept'] = 1"
   ]
  },
  {
   "cell_type": "code",
   "execution_count": 367,
   "metadata": {
    "ExecuteTime": {
     "end_time": "2020-11-19T05:17:43.438156Z",
     "start_time": "2020-11-19T05:17:43.431174Z"
    }
   },
   "outputs": [],
   "source": [
    "lm = sm.OLS(final['Daily_Confirmed'],final[a])"
   ]
  },
  {
   "cell_type": "code",
   "execution_count": 436,
   "metadata": {
    "ExecuteTime": {
     "end_time": "2020-11-19T06:07:54.505448Z",
     "start_time": "2020-11-19T06:07:54.488494Z"
    }
   },
   "outputs": [],
   "source": [
    "a = ['Cleared',  'Total_Confirmed',\n",
    "       'Subway_Usage', 'TCS_in', 'Seoul_Car', 'Domestic_Air_Seoul_In',\n",
    "       'trendTotal', 'meanTemperature', 'dailyTemperatureRange',\n",
    "       'meanWindSpeed', 'meanHumid', 'TotalSunshineTime', 'IsHoliday','rolling_3','Policy_1','Policy_3']"
   ]
  },
  {
   "cell_type": "code",
   "execution_count": 368,
   "metadata": {
    "ExecuteTime": {
     "end_time": "2020-11-19T05:17:48.730860Z",
     "start_time": "2020-11-19T05:17:48.713905Z"
    }
   },
   "outputs": [],
   "source": [
    "result = lm.fit()"
   ]
  },
  {
   "cell_type": "code",
   "execution_count": 454,
   "metadata": {
    "ExecuteTime": {
     "end_time": "2020-11-19T06:10:19.743208Z",
     "start_time": "2020-11-19T06:10:19.736229Z"
    }
   },
   "outputs": [],
   "source": [
    "x = final[a]\n",
    "y = final['Daily_Confirmed']"
   ]
  },
  {
   "cell_type": "code",
   "execution_count": 455,
   "metadata": {
    "ExecuteTime": {
     "end_time": "2020-11-19T06:10:20.820331Z",
     "start_time": "2020-11-19T06:10:20.809359Z"
    }
   },
   "outputs": [],
   "source": [
    "trainx = x[:160]\n",
    "trainy = y[:160]\n",
    "vx = x[160:]\n",
    "vy = y[160:]"
   ]
  },
  {
   "cell_type": "code",
   "execution_count": 456,
   "metadata": {
    "ExecuteTime": {
     "end_time": "2020-11-19T06:10:21.749845Z",
     "start_time": "2020-11-19T06:10:21.722917Z"
    },
    "scrolled": true
   },
   "outputs": [
    {
     "data": {
      "text/plain": [
       "Lasso(alpha=0.1, copy_X=True, fit_intercept=True, max_iter=1000,\n",
       "   normalize=False, positive=False, precompute=False, random_state=None,\n",
       "   selection='cyclic', tol=0.0001, warm_start=False)"
      ]
     },
     "execution_count": 456,
     "metadata": {},
     "output_type": "execute_result"
    }
   ],
   "source": [
    "la.fit(trainx,trainy)"
   ]
  },
  {
   "cell_type": "code",
   "execution_count": 457,
   "metadata": {
    "ExecuteTime": {
     "end_time": "2020-11-19T06:10:22.602769Z",
     "start_time": "2020-11-19T06:10:22.591798Z"
    }
   },
   "outputs": [
    {
     "data": {
      "text/plain": [
       "160     -1.996438\n",
       "161     -3.100705\n",
       "162      9.267934\n",
       "163     -2.864302\n",
       "164    -12.586067\n",
       "165    -15.921534\n",
       "166    -48.422405\n",
       "167   -112.803571\n",
       "168    -34.171508\n",
       "169    -60.985913\n",
       "170    -64.058028\n",
       "171    -48.226685\n",
       "172    -26.999779\n",
       "173    -28.175745\n",
       "174    -55.664727\n",
       "175    -10.281607\n",
       "176    -50.250788\n",
       "177    -27.434948\n",
       "178    -75.446599\n",
       "179    -63.630456\n",
       "180    -14.764776\n",
       "181    -68.364313\n",
       "182     30.533447\n",
       "183    -17.368987\n",
       "184     -5.218612\n",
       "185     -1.714984\n",
       "186     16.109553\n",
       "187     -6.999730\n",
       "188    -19.882478\n",
       "189     -1.243839\n",
       "190    -34.223791\n",
       "191      6.288668\n",
       "192    -11.182160\n",
       "193    -26.407837\n",
       "194    -10.921599\n",
       "195      4.785710\n",
       "196     -7.973603\n",
       "197     -5.294200\n",
       "198    -22.931597\n",
       "199    -28.181326\n",
       "200     -3.480528\n",
       "201      0.273284\n",
       "202      7.597198\n",
       "203      1.448830\n",
       "204    -14.119337\n",
       "205    -19.039274\n",
       "206      2.607498\n",
       "207    -25.970164\n",
       "208     10.178655\n",
       "209     -9.449893\n",
       "210      8.730584\n",
       "211     -3.449227\n",
       "212    -17.425736\n",
       "213     -5.855713\n",
       "Name: Daily_Confirmed, dtype: float64"
      ]
     },
     "execution_count": 457,
     "metadata": {},
     "output_type": "execute_result"
    }
   ],
   "source": [
    "la.predict(vx) -vy"
   ]
  },
  {
   "cell_type": "code",
   "execution_count": 404,
   "metadata": {
    "ExecuteTime": {
     "end_time": "2020-11-19T05:44:49.111785Z",
     "start_time": "2020-11-19T05:44:49.107798Z"
    }
   },
   "outputs": [],
   "source": [
    "import xgboost"
   ]
  },
  {
   "cell_type": "code",
   "execution_count": 428,
   "metadata": {
    "ExecuteTime": {
     "end_time": "2020-11-19T05:57:56.675006Z",
     "start_time": "2020-11-19T05:57:56.671016Z"
    }
   },
   "outputs": [],
   "source": [
    "xg = xgboost.XGBClassifier(objective='reg:linear',colsample_bylevel=0.9, \n",
    "                    colsample_bytree=0.8, \n",
    "                    gamma=0, \n",
    "                    max_depth=8, \n",
    "                    min_child_weight=3, \n",
    "                    n_estimators=50, \n",
    "                    nthread=4)"
   ]
  },
  {
   "cell_type": "code",
   "execution_count": 429,
   "metadata": {
    "ExecuteTime": {
     "end_time": "2020-11-19T05:57:58.383278Z",
     "start_time": "2020-11-19T05:57:58.198771Z"
    }
   },
   "outputs": [
    {
     "data": {
      "text/plain": [
       "XGBClassifier(base_score=0.5, booster='gbtree', colsample_bylevel=0.9,\n",
       "       colsample_bynode=1, colsample_bytree=0.8, gamma=0, gpu_id=-1,\n",
       "       importance_type='gain', interaction_constraints='',\n",
       "       learning_rate=0.300000012, max_delta_step=0, max_depth=8,\n",
       "       min_child_weight=3, missing=nan, monotone_constraints='()',\n",
       "       n_estimators=50, n_jobs=4, nthread=4, num_parallel_tree=1,\n",
       "       objective='multi:softprob', random_state=0, reg_alpha=0,\n",
       "       reg_lambda=1, scale_pos_weight=None, subsample=1,\n",
       "       tree_method='exact', validate_parameters=1, verbosity=None)"
      ]
     },
     "execution_count": 429,
     "metadata": {},
     "output_type": "execute_result"
    }
   ],
   "source": [
    "xg.fit(trainx,trainy)"
   ]
  },
  {
   "cell_type": "code",
   "execution_count": 430,
   "metadata": {
    "ExecuteTime": {
     "end_time": "2020-11-19T05:57:59.686116Z",
     "start_time": "2020-11-19T05:57:59.662181Z"
    }
   },
   "outputs": [
    {
     "data": {
      "text/plain": [
       "array([ 9,  6,  9,  6,  9, 11, 11, 11, 11, 11,  6, 17, 19, 17, 19, 11,  6,\n",
       "       19, 17, 17, 17, 17, 11, 17, 19,  9, 17, 16, 19,  6,  9,  9, 19, 11,\n",
       "        6, 19, 19, 11, 11, 19, 19,  6,  6, 19, 10, 10, 17,  6, 19,  1,  7,\n",
       "        4, 19, 11], dtype=int64)"
      ]
     },
     "execution_count": 430,
     "metadata": {},
     "output_type": "execute_result"
    }
   ],
   "source": [
    "xg.predict(vx)"
   ]
  },
  {
   "cell_type": "code",
   "execution_count": 452,
   "metadata": {
    "ExecuteTime": {
     "end_time": "2020-11-19T06:10:05.305376Z",
     "start_time": "2020-11-19T06:10:05.292371Z"
    }
   },
   "outputs": [
    {
     "data": {
      "text/plain": [
       "Ridge(alpha=0.1, copy_X=True, fit_intercept=True, max_iter=None,\n",
       "   normalize=False, random_state=None, solver='auto', tol=0.001)"
      ]
     },
     "execution_count": 452,
     "metadata": {},
     "output_type": "execute_result"
    }
   ],
   "source": [
    "ri.fit(trainx,trainy)"
   ]
  },
  {
   "cell_type": "code",
   "execution_count": 453,
   "metadata": {
    "ExecuteTime": {
     "end_time": "2020-11-19T06:10:06.324615Z",
     "start_time": "2020-11-19T06:10:06.312644Z"
    }
   },
   "outputs": [
    {
     "data": {
      "text/plain": [
       "160     -5.811315\n",
       "161    -18.325307\n",
       "162    -22.465798\n",
       "163    -65.346855\n",
       "164   -135.161073\n",
       "165    -79.444594\n",
       "166   -119.706641\n",
       "167   -132.911696\n",
       "168   -108.046704\n",
       "169    -96.581107\n",
       "170    -92.455666\n",
       "171   -107.866065\n",
       "172    -57.371523\n",
       "173    -94.301091\n",
       "174    -77.269745\n",
       "175   -113.405938\n",
       "176   -124.912507\n",
       "177    -83.456727\n",
       "178   -134.125082\n",
       "179    -30.709882\n",
       "180    -62.019501\n",
       "181    -56.837010\n",
       "182    -21.033005\n",
       "183    -10.763880\n",
       "184    -30.664995\n",
       "185    -35.159913\n",
       "186    -24.938735\n",
       "187    -60.189095\n",
       "188    -12.940008\n",
       "189    -23.211135\n",
       "190    -51.135268\n",
       "191    -55.322194\n",
       "192    -39.916015\n",
       "193    -34.984285\n",
       "194    -22.533122\n",
       "195    -55.434415\n",
       "196    -49.177853\n",
       "197    -44.015330\n",
       "198    -48.676818\n",
       "199    -32.110101\n",
       "200     -5.687298\n",
       "201    -25.237430\n",
       "202    -21.226553\n",
       "203    -15.265709\n",
       "204    -37.657805\n",
       "205    -16.344516\n",
       "206    -24.241969\n",
       "207     -5.293385\n",
       "208     -7.787168\n",
       "209    -27.114263\n",
       "210    -10.720574\n",
       "211      4.950841\n",
       "212    -23.823495\n",
       "213      1.132604\n",
       "Name: moving_3, dtype: float64"
      ]
     },
     "execution_count": 453,
     "metadata": {},
     "output_type": "execute_result"
    }
   ],
   "source": [
    "ri.predict(vx) - vy"
   ]
  },
  {
   "cell_type": "code",
   "execution_count": 458,
   "metadata": {
    "ExecuteTime": {
     "end_time": "2020-11-19T06:11:45.963110Z",
     "start_time": "2020-11-19T06:11:45.949148Z"
    }
   },
   "outputs": [],
   "source": [
    "import pandas as pd"
   ]
  },
  {
   "cell_type": "code",
   "execution_count": 459,
   "metadata": {
    "ExecuteTime": {
     "end_time": "2020-11-19T06:12:02.360840Z",
     "start_time": "2020-11-19T06:12:02.338901Z"
    }
   },
   "outputs": [
    {
     "ename": "ModuleNotFoundError",
     "evalue": "No module named 'fbprophet'",
     "output_type": "error",
     "traceback": [
      "\u001b[1;31m---------------------------------------------------------------------------\u001b[0m",
      "\u001b[1;31mModuleNotFoundError\u001b[0m                       Traceback (most recent call last)",
      "\u001b[1;32m<ipython-input-459-f503e9c6cf11>\u001b[0m in \u001b[0;36m<module>\u001b[1;34m\u001b[0m\n\u001b[1;32m----> 1\u001b[1;33m \u001b[1;32mfrom\u001b[0m \u001b[0mfbprophet\u001b[0m \u001b[1;32mimport\u001b[0m \u001b[0mProphet\u001b[0m\u001b[1;33m\u001b[0m\u001b[1;33m\u001b[0m\u001b[0m\n\u001b[0m",
      "\u001b[1;31mModuleNotFoundError\u001b[0m: No module named 'fbprophet'"
     ]
    }
   ],
   "source": [
    "from fbprophet import Prophet"
   ]
  },
  {
   "cell_type": "code",
   "execution_count": 461,
   "metadata": {
    "ExecuteTime": {
     "end_time": "2020-11-19T06:13:12.125745Z",
     "start_time": "2020-11-19T06:13:12.100778Z"
    }
   },
   "outputs": [
    {
     "ename": "ModuleNotFoundError",
     "evalue": "No module named 'fbprophet'",
     "output_type": "error",
     "traceback": [
      "\u001b[1;31m---------------------------------------------------------------------------\u001b[0m",
      "\u001b[1;31mModuleNotFoundError\u001b[0m                       Traceback (most recent call last)",
      "\u001b[1;32m<ipython-input-461-4f89f47c1bda>\u001b[0m in \u001b[0;36m<module>\u001b[1;34m\u001b[0m\n\u001b[1;32m----> 1\u001b[1;33m \u001b[1;32mimport\u001b[0m \u001b[0mfbprophet\u001b[0m\u001b[1;33m\u001b[0m\u001b[1;33m\u001b[0m\u001b[0m\n\u001b[0m",
      "\u001b[1;31mModuleNotFoundError\u001b[0m: No module named 'fbprophet'"
     ]
    }
   ],
   "source": [
    "import fbprophet"
   ]
  },
  {
   "cell_type": "code",
   "execution_count": 464,
   "metadata": {
    "ExecuteTime": {
     "end_time": "2020-11-19T06:22:34.541427Z",
     "start_time": "2020-11-19T06:22:34.448676Z"
    }
   },
   "outputs": [],
   "source": [
    "from mlxtend.feature_selection import SequentialFeatureSelector as SFS"
   ]
  },
  {
   "cell_type": "code",
   "execution_count": 465,
   "metadata": {
    "ExecuteTime": {
     "end_time": "2020-11-19T06:25:55.919641Z",
     "start_time": "2020-11-19T06:25:55.866781Z"
    }
   },
   "outputs": [
    {
     "name": "stderr",
     "output_type": "stream",
     "text": [
      "[Parallel(n_jobs=1)]: Using backend SequentialBackend with 1 concurrent workers.\n"
     ]
    },
    {
     "ename": "ValueError",
     "evalue": "Classification metrics can't handle a mix of multiclass and continuous targets",
     "output_type": "error",
     "traceback": [
      "\u001b[1;31m---------------------------------------------------------------------------\u001b[0m",
      "\u001b[1;31mValueError\u001b[0m                                Traceback (most recent call last)",
      "\u001b[1;32m<ipython-input-465-5eedfd6067b5>\u001b[0m in \u001b[0;36m<module>\u001b[1;34m\u001b[0m\n\u001b[0;32m      6\u001b[0m           \u001b[0mscoring\u001b[0m\u001b[1;33m=\u001b[0m\u001b[1;34m'accuracy'\u001b[0m\u001b[1;33m,\u001b[0m\u001b[1;33m\u001b[0m\u001b[1;33m\u001b[0m\u001b[0m\n\u001b[0;32m      7\u001b[0m           cv=0)\n\u001b[1;32m----> 8\u001b[1;33m \u001b[0msfs1\u001b[0m \u001b[1;33m=\u001b[0m \u001b[0msfs1\u001b[0m\u001b[1;33m.\u001b[0m\u001b[0mfit\u001b[0m\u001b[1;33m(\u001b[0m\u001b[0mtrainx\u001b[0m\u001b[1;33m,\u001b[0m\u001b[0mtrainy\u001b[0m\u001b[1;33m)\u001b[0m\u001b[1;33m\u001b[0m\u001b[1;33m\u001b[0m\u001b[0m\n\u001b[0m",
      "\u001b[1;32m~\\AppData\\Roaming\\Python\\Python37\\site-packages\\mlxtend\\feature_selection\\sequential_feature_selector.py\u001b[0m in \u001b[0;36mfit\u001b[1;34m(self, X, y, custom_feature_names, groups, **fit_params)\u001b[0m\n\u001b[0;32m    436\u001b[0m                         \u001b[0my\u001b[0m\u001b[1;33m=\u001b[0m\u001b[0my\u001b[0m\u001b[1;33m,\u001b[0m\u001b[1;33m\u001b[0m\u001b[1;33m\u001b[0m\u001b[0m\n\u001b[0;32m    437\u001b[0m                         \u001b[0mgroups\u001b[0m\u001b[1;33m=\u001b[0m\u001b[0mgroups\u001b[0m\u001b[1;33m,\u001b[0m\u001b[1;33m\u001b[0m\u001b[1;33m\u001b[0m\u001b[0m\n\u001b[1;32m--> 438\u001b[1;33m                         \u001b[1;33m**\u001b[0m\u001b[0mfit_params\u001b[0m\u001b[1;33m\u001b[0m\u001b[1;33m\u001b[0m\u001b[0m\n\u001b[0m\u001b[0;32m    439\u001b[0m                     )\n\u001b[0;32m    440\u001b[0m                 \u001b[1;32melse\u001b[0m\u001b[1;33m:\u001b[0m\u001b[1;33m\u001b[0m\u001b[1;33m\u001b[0m\u001b[0m\n",
      "\u001b[1;32m~\\AppData\\Roaming\\Python\\Python37\\site-packages\\mlxtend\\feature_selection\\sequential_feature_selector.py\u001b[0m in \u001b[0;36m_inclusion\u001b[1;34m(self, orig_set, subset, X, y, ignore_feature, groups, **fit_params)\u001b[0m\n\u001b[0;32m    605\u001b[0m                              \u001b[0mtuple\u001b[0m\u001b[1;33m(\u001b[0m\u001b[0msubset\u001b[0m \u001b[1;33m|\u001b[0m \u001b[1;33m{\u001b[0m\u001b[0mfeature\u001b[0m\u001b[1;33m}\u001b[0m\u001b[1;33m)\u001b[0m\u001b[1;33m,\u001b[0m\u001b[1;33m\u001b[0m\u001b[1;33m\u001b[0m\u001b[0m\n\u001b[0;32m    606\u001b[0m                              groups=groups, **fit_params)\n\u001b[1;32m--> 607\u001b[1;33m                             \u001b[1;32mfor\u001b[0m \u001b[0mfeature\u001b[0m \u001b[1;32min\u001b[0m \u001b[0mremaining\u001b[0m\u001b[1;33m\u001b[0m\u001b[1;33m\u001b[0m\u001b[0m\n\u001b[0m\u001b[0;32m    608\u001b[0m                             if feature != ignore_feature)\n\u001b[0;32m    609\u001b[0m \u001b[1;33m\u001b[0m\u001b[0m\n",
      "\u001b[1;32m~\\AppData\\Roaming\\Python\\Python37\\site-packages\\joblib\\parallel.py\u001b[0m in \u001b[0;36m__call__\u001b[1;34m(self, iterable)\u001b[0m\n\u001b[0;32m   1046\u001b[0m             \u001b[1;31m# remaining jobs.\u001b[0m\u001b[1;33m\u001b[0m\u001b[1;33m\u001b[0m\u001b[1;33m\u001b[0m\u001b[0m\n\u001b[0;32m   1047\u001b[0m             \u001b[0mself\u001b[0m\u001b[1;33m.\u001b[0m\u001b[0m_iterating\u001b[0m \u001b[1;33m=\u001b[0m \u001b[1;32mFalse\u001b[0m\u001b[1;33m\u001b[0m\u001b[1;33m\u001b[0m\u001b[0m\n\u001b[1;32m-> 1048\u001b[1;33m             \u001b[1;32mif\u001b[0m \u001b[0mself\u001b[0m\u001b[1;33m.\u001b[0m\u001b[0mdispatch_one_batch\u001b[0m\u001b[1;33m(\u001b[0m\u001b[0miterator\u001b[0m\u001b[1;33m)\u001b[0m\u001b[1;33m:\u001b[0m\u001b[1;33m\u001b[0m\u001b[1;33m\u001b[0m\u001b[0m\n\u001b[0m\u001b[0;32m   1049\u001b[0m                 \u001b[0mself\u001b[0m\u001b[1;33m.\u001b[0m\u001b[0m_iterating\u001b[0m \u001b[1;33m=\u001b[0m \u001b[0mself\u001b[0m\u001b[1;33m.\u001b[0m\u001b[0m_original_iterator\u001b[0m \u001b[1;32mis\u001b[0m \u001b[1;32mnot\u001b[0m \u001b[1;32mNone\u001b[0m\u001b[1;33m\u001b[0m\u001b[1;33m\u001b[0m\u001b[0m\n\u001b[0;32m   1050\u001b[0m \u001b[1;33m\u001b[0m\u001b[0m\n",
      "\u001b[1;32m~\\AppData\\Roaming\\Python\\Python37\\site-packages\\joblib\\parallel.py\u001b[0m in \u001b[0;36mdispatch_one_batch\u001b[1;34m(self, iterator)\u001b[0m\n\u001b[0;32m    864\u001b[0m                 \u001b[1;32mreturn\u001b[0m \u001b[1;32mFalse\u001b[0m\u001b[1;33m\u001b[0m\u001b[1;33m\u001b[0m\u001b[0m\n\u001b[0;32m    865\u001b[0m             \u001b[1;32melse\u001b[0m\u001b[1;33m:\u001b[0m\u001b[1;33m\u001b[0m\u001b[1;33m\u001b[0m\u001b[0m\n\u001b[1;32m--> 866\u001b[1;33m                 \u001b[0mself\u001b[0m\u001b[1;33m.\u001b[0m\u001b[0m_dispatch\u001b[0m\u001b[1;33m(\u001b[0m\u001b[0mtasks\u001b[0m\u001b[1;33m)\u001b[0m\u001b[1;33m\u001b[0m\u001b[1;33m\u001b[0m\u001b[0m\n\u001b[0m\u001b[0;32m    867\u001b[0m                 \u001b[1;32mreturn\u001b[0m \u001b[1;32mTrue\u001b[0m\u001b[1;33m\u001b[0m\u001b[1;33m\u001b[0m\u001b[0m\n\u001b[0;32m    868\u001b[0m \u001b[1;33m\u001b[0m\u001b[0m\n",
      "\u001b[1;32m~\\AppData\\Roaming\\Python\\Python37\\site-packages\\joblib\\parallel.py\u001b[0m in \u001b[0;36m_dispatch\u001b[1;34m(self, batch)\u001b[0m\n\u001b[0;32m    782\u001b[0m         \u001b[1;32mwith\u001b[0m \u001b[0mself\u001b[0m\u001b[1;33m.\u001b[0m\u001b[0m_lock\u001b[0m\u001b[1;33m:\u001b[0m\u001b[1;33m\u001b[0m\u001b[1;33m\u001b[0m\u001b[0m\n\u001b[0;32m    783\u001b[0m             \u001b[0mjob_idx\u001b[0m \u001b[1;33m=\u001b[0m \u001b[0mlen\u001b[0m\u001b[1;33m(\u001b[0m\u001b[0mself\u001b[0m\u001b[1;33m.\u001b[0m\u001b[0m_jobs\u001b[0m\u001b[1;33m)\u001b[0m\u001b[1;33m\u001b[0m\u001b[1;33m\u001b[0m\u001b[0m\n\u001b[1;32m--> 784\u001b[1;33m             \u001b[0mjob\u001b[0m \u001b[1;33m=\u001b[0m \u001b[0mself\u001b[0m\u001b[1;33m.\u001b[0m\u001b[0m_backend\u001b[0m\u001b[1;33m.\u001b[0m\u001b[0mapply_async\u001b[0m\u001b[1;33m(\u001b[0m\u001b[0mbatch\u001b[0m\u001b[1;33m,\u001b[0m \u001b[0mcallback\u001b[0m\u001b[1;33m=\u001b[0m\u001b[0mcb\u001b[0m\u001b[1;33m)\u001b[0m\u001b[1;33m\u001b[0m\u001b[1;33m\u001b[0m\u001b[0m\n\u001b[0m\u001b[0;32m    785\u001b[0m             \u001b[1;31m# A job can complete so quickly than its callback is\u001b[0m\u001b[1;33m\u001b[0m\u001b[1;33m\u001b[0m\u001b[1;33m\u001b[0m\u001b[0m\n\u001b[0;32m    786\u001b[0m             \u001b[1;31m# called before we get here, causing self._jobs to\u001b[0m\u001b[1;33m\u001b[0m\u001b[1;33m\u001b[0m\u001b[1;33m\u001b[0m\u001b[0m\n",
      "\u001b[1;32m~\\AppData\\Roaming\\Python\\Python37\\site-packages\\joblib\\_parallel_backends.py\u001b[0m in \u001b[0;36mapply_async\u001b[1;34m(self, func, callback)\u001b[0m\n\u001b[0;32m    206\u001b[0m     \u001b[1;32mdef\u001b[0m \u001b[0mapply_async\u001b[0m\u001b[1;33m(\u001b[0m\u001b[0mself\u001b[0m\u001b[1;33m,\u001b[0m \u001b[0mfunc\u001b[0m\u001b[1;33m,\u001b[0m \u001b[0mcallback\u001b[0m\u001b[1;33m=\u001b[0m\u001b[1;32mNone\u001b[0m\u001b[1;33m)\u001b[0m\u001b[1;33m:\u001b[0m\u001b[1;33m\u001b[0m\u001b[1;33m\u001b[0m\u001b[0m\n\u001b[0;32m    207\u001b[0m         \u001b[1;34m\"\"\"Schedule a func to be run\"\"\"\u001b[0m\u001b[1;33m\u001b[0m\u001b[1;33m\u001b[0m\u001b[0m\n\u001b[1;32m--> 208\u001b[1;33m         \u001b[0mresult\u001b[0m \u001b[1;33m=\u001b[0m \u001b[0mImmediateResult\u001b[0m\u001b[1;33m(\u001b[0m\u001b[0mfunc\u001b[0m\u001b[1;33m)\u001b[0m\u001b[1;33m\u001b[0m\u001b[1;33m\u001b[0m\u001b[0m\n\u001b[0m\u001b[0;32m    209\u001b[0m         \u001b[1;32mif\u001b[0m \u001b[0mcallback\u001b[0m\u001b[1;33m:\u001b[0m\u001b[1;33m\u001b[0m\u001b[1;33m\u001b[0m\u001b[0m\n\u001b[0;32m    210\u001b[0m             \u001b[0mcallback\u001b[0m\u001b[1;33m(\u001b[0m\u001b[0mresult\u001b[0m\u001b[1;33m)\u001b[0m\u001b[1;33m\u001b[0m\u001b[1;33m\u001b[0m\u001b[0m\n",
      "\u001b[1;32m~\\AppData\\Roaming\\Python\\Python37\\site-packages\\joblib\\_parallel_backends.py\u001b[0m in \u001b[0;36m__init__\u001b[1;34m(self, batch)\u001b[0m\n\u001b[0;32m    570\u001b[0m         \u001b[1;31m# Don't delay the application, to avoid keeping the input\u001b[0m\u001b[1;33m\u001b[0m\u001b[1;33m\u001b[0m\u001b[1;33m\u001b[0m\u001b[0m\n\u001b[0;32m    571\u001b[0m         \u001b[1;31m# arguments in memory\u001b[0m\u001b[1;33m\u001b[0m\u001b[1;33m\u001b[0m\u001b[1;33m\u001b[0m\u001b[0m\n\u001b[1;32m--> 572\u001b[1;33m         \u001b[0mself\u001b[0m\u001b[1;33m.\u001b[0m\u001b[0mresults\u001b[0m \u001b[1;33m=\u001b[0m \u001b[0mbatch\u001b[0m\u001b[1;33m(\u001b[0m\u001b[1;33m)\u001b[0m\u001b[1;33m\u001b[0m\u001b[1;33m\u001b[0m\u001b[0m\n\u001b[0m\u001b[0;32m    573\u001b[0m \u001b[1;33m\u001b[0m\u001b[0m\n\u001b[0;32m    574\u001b[0m     \u001b[1;32mdef\u001b[0m \u001b[0mget\u001b[0m\u001b[1;33m(\u001b[0m\u001b[0mself\u001b[0m\u001b[1;33m)\u001b[0m\u001b[1;33m:\u001b[0m\u001b[1;33m\u001b[0m\u001b[1;33m\u001b[0m\u001b[0m\n",
      "\u001b[1;32m~\\AppData\\Roaming\\Python\\Python37\\site-packages\\joblib\\parallel.py\u001b[0m in \u001b[0;36m__call__\u001b[1;34m(self)\u001b[0m\n\u001b[0;32m    261\u001b[0m         \u001b[1;32mwith\u001b[0m \u001b[0mparallel_backend\u001b[0m\u001b[1;33m(\u001b[0m\u001b[0mself\u001b[0m\u001b[1;33m.\u001b[0m\u001b[0m_backend\u001b[0m\u001b[1;33m,\u001b[0m \u001b[0mn_jobs\u001b[0m\u001b[1;33m=\u001b[0m\u001b[0mself\u001b[0m\u001b[1;33m.\u001b[0m\u001b[0m_n_jobs\u001b[0m\u001b[1;33m)\u001b[0m\u001b[1;33m:\u001b[0m\u001b[1;33m\u001b[0m\u001b[1;33m\u001b[0m\u001b[0m\n\u001b[0;32m    262\u001b[0m             return [func(*args, **kwargs)\n\u001b[1;32m--> 263\u001b[1;33m                     for func, args, kwargs in self.items]\n\u001b[0m\u001b[0;32m    264\u001b[0m \u001b[1;33m\u001b[0m\u001b[0m\n\u001b[0;32m    265\u001b[0m     \u001b[1;32mdef\u001b[0m \u001b[0m__reduce__\u001b[0m\u001b[1;33m(\u001b[0m\u001b[0mself\u001b[0m\u001b[1;33m)\u001b[0m\u001b[1;33m:\u001b[0m\u001b[1;33m\u001b[0m\u001b[1;33m\u001b[0m\u001b[0m\n",
      "\u001b[1;32m~\\AppData\\Roaming\\Python\\Python37\\site-packages\\joblib\\parallel.py\u001b[0m in \u001b[0;36m<listcomp>\u001b[1;34m(.0)\u001b[0m\n\u001b[0;32m    261\u001b[0m         \u001b[1;32mwith\u001b[0m \u001b[0mparallel_backend\u001b[0m\u001b[1;33m(\u001b[0m\u001b[0mself\u001b[0m\u001b[1;33m.\u001b[0m\u001b[0m_backend\u001b[0m\u001b[1;33m,\u001b[0m \u001b[0mn_jobs\u001b[0m\u001b[1;33m=\u001b[0m\u001b[0mself\u001b[0m\u001b[1;33m.\u001b[0m\u001b[0m_n_jobs\u001b[0m\u001b[1;33m)\u001b[0m\u001b[1;33m:\u001b[0m\u001b[1;33m\u001b[0m\u001b[1;33m\u001b[0m\u001b[0m\n\u001b[0;32m    262\u001b[0m             return [func(*args, **kwargs)\n\u001b[1;32m--> 263\u001b[1;33m                     for func, args, kwargs in self.items]\n\u001b[0m\u001b[0;32m    264\u001b[0m \u001b[1;33m\u001b[0m\u001b[0m\n\u001b[0;32m    265\u001b[0m     \u001b[1;32mdef\u001b[0m \u001b[0m__reduce__\u001b[0m\u001b[1;33m(\u001b[0m\u001b[0mself\u001b[0m\u001b[1;33m)\u001b[0m\u001b[1;33m:\u001b[0m\u001b[1;33m\u001b[0m\u001b[1;33m\u001b[0m\u001b[0m\n",
      "\u001b[1;32m~\\AppData\\Roaming\\Python\\Python37\\site-packages\\mlxtend\\feature_selection\\sequential_feature_selector.py\u001b[0m in \u001b[0;36m_calc_score\u001b[1;34m(selector, X, y, indices, groups, **fit_params)\u001b[0m\n\u001b[0;32m     36\u001b[0m     \u001b[1;32melse\u001b[0m\u001b[1;33m:\u001b[0m\u001b[1;33m\u001b[0m\u001b[1;33m\u001b[0m\u001b[0m\n\u001b[0;32m     37\u001b[0m         \u001b[0mselector\u001b[0m\u001b[1;33m.\u001b[0m\u001b[0mest_\u001b[0m\u001b[1;33m.\u001b[0m\u001b[0mfit\u001b[0m\u001b[1;33m(\u001b[0m\u001b[0mX\u001b[0m\u001b[1;33m,\u001b[0m \u001b[0my\u001b[0m\u001b[1;33m,\u001b[0m \u001b[1;33m**\u001b[0m\u001b[0mfit_params\u001b[0m\u001b[1;33m)\u001b[0m\u001b[1;33m\u001b[0m\u001b[1;33m\u001b[0m\u001b[0m\n\u001b[1;32m---> 38\u001b[1;33m         \u001b[0mscores\u001b[0m \u001b[1;33m=\u001b[0m \u001b[0mnp\u001b[0m\u001b[1;33m.\u001b[0m\u001b[0marray\u001b[0m\u001b[1;33m(\u001b[0m\u001b[1;33m[\u001b[0m\u001b[0mselector\u001b[0m\u001b[1;33m.\u001b[0m\u001b[0mscorer\u001b[0m\u001b[1;33m(\u001b[0m\u001b[0mselector\u001b[0m\u001b[1;33m.\u001b[0m\u001b[0mest_\u001b[0m\u001b[1;33m,\u001b[0m \u001b[0mX\u001b[0m\u001b[1;33m,\u001b[0m \u001b[0my\u001b[0m\u001b[1;33m)\u001b[0m\u001b[1;33m]\u001b[0m\u001b[1;33m)\u001b[0m\u001b[1;33m\u001b[0m\u001b[1;33m\u001b[0m\u001b[0m\n\u001b[0m\u001b[0;32m     39\u001b[0m     \u001b[1;32mreturn\u001b[0m \u001b[0mindices\u001b[0m\u001b[1;33m,\u001b[0m \u001b[0mscores\u001b[0m\u001b[1;33m\u001b[0m\u001b[1;33m\u001b[0m\u001b[0m\n\u001b[0;32m     40\u001b[0m \u001b[1;33m\u001b[0m\u001b[0m\n",
      "\u001b[1;32m~\\Anaconda3\\lib\\site-packages\\sklearn\\metrics\\scorer.py\u001b[0m in \u001b[0;36m__call__\u001b[1;34m(self, estimator, X, y_true, sample_weight)\u001b[0m\n\u001b[0;32m     96\u001b[0m         \u001b[1;32melse\u001b[0m\u001b[1;33m:\u001b[0m\u001b[1;33m\u001b[0m\u001b[1;33m\u001b[0m\u001b[0m\n\u001b[0;32m     97\u001b[0m             return self._sign * self._score_func(y_true, y_pred,\n\u001b[1;32m---> 98\u001b[1;33m                                                  **self._kwargs)\n\u001b[0m\u001b[0;32m     99\u001b[0m \u001b[1;33m\u001b[0m\u001b[0m\n\u001b[0;32m    100\u001b[0m \u001b[1;33m\u001b[0m\u001b[0m\n",
      "\u001b[1;32m~\\Anaconda3\\lib\\site-packages\\sklearn\\metrics\\classification.py\u001b[0m in \u001b[0;36maccuracy_score\u001b[1;34m(y_true, y_pred, normalize, sample_weight)\u001b[0m\n\u001b[0;32m    174\u001b[0m \u001b[1;33m\u001b[0m\u001b[0m\n\u001b[0;32m    175\u001b[0m     \u001b[1;31m# Compute accuracy for each possible representation\u001b[0m\u001b[1;33m\u001b[0m\u001b[1;33m\u001b[0m\u001b[1;33m\u001b[0m\u001b[0m\n\u001b[1;32m--> 176\u001b[1;33m     \u001b[0my_type\u001b[0m\u001b[1;33m,\u001b[0m \u001b[0my_true\u001b[0m\u001b[1;33m,\u001b[0m \u001b[0my_pred\u001b[0m \u001b[1;33m=\u001b[0m \u001b[0m_check_targets\u001b[0m\u001b[1;33m(\u001b[0m\u001b[0my_true\u001b[0m\u001b[1;33m,\u001b[0m \u001b[0my_pred\u001b[0m\u001b[1;33m)\u001b[0m\u001b[1;33m\u001b[0m\u001b[1;33m\u001b[0m\u001b[0m\n\u001b[0m\u001b[0;32m    177\u001b[0m     \u001b[0mcheck_consistent_length\u001b[0m\u001b[1;33m(\u001b[0m\u001b[0my_true\u001b[0m\u001b[1;33m,\u001b[0m \u001b[0my_pred\u001b[0m\u001b[1;33m,\u001b[0m \u001b[0msample_weight\u001b[0m\u001b[1;33m)\u001b[0m\u001b[1;33m\u001b[0m\u001b[1;33m\u001b[0m\u001b[0m\n\u001b[0;32m    178\u001b[0m     \u001b[1;32mif\u001b[0m \u001b[0my_type\u001b[0m\u001b[1;33m.\u001b[0m\u001b[0mstartswith\u001b[0m\u001b[1;33m(\u001b[0m\u001b[1;34m'multilabel'\u001b[0m\u001b[1;33m)\u001b[0m\u001b[1;33m:\u001b[0m\u001b[1;33m\u001b[0m\u001b[1;33m\u001b[0m\u001b[0m\n",
      "\u001b[1;32m~\\Anaconda3\\lib\\site-packages\\sklearn\\metrics\\classification.py\u001b[0m in \u001b[0;36m_check_targets\u001b[1;34m(y_true, y_pred)\u001b[0m\n\u001b[0;32m     79\u001b[0m     \u001b[1;32mif\u001b[0m \u001b[0mlen\u001b[0m\u001b[1;33m(\u001b[0m\u001b[0my_type\u001b[0m\u001b[1;33m)\u001b[0m \u001b[1;33m>\u001b[0m \u001b[1;36m1\u001b[0m\u001b[1;33m:\u001b[0m\u001b[1;33m\u001b[0m\u001b[1;33m\u001b[0m\u001b[0m\n\u001b[0;32m     80\u001b[0m         raise ValueError(\"Classification metrics can't handle a mix of {0} \"\n\u001b[1;32m---> 81\u001b[1;33m                          \"and {1} targets\".format(type_true, type_pred))\n\u001b[0m\u001b[0;32m     82\u001b[0m \u001b[1;33m\u001b[0m\u001b[0m\n\u001b[0;32m     83\u001b[0m     \u001b[1;31m# We can't have more than one value on y_type => The set is no more needed\u001b[0m\u001b[1;33m\u001b[0m\u001b[1;33m\u001b[0m\u001b[1;33m\u001b[0m\u001b[0m\n",
      "\u001b[1;31mValueError\u001b[0m: Classification metrics can't handle a mix of multiclass and continuous targets"
     ]
    }
   ],
   "source": [
    "sfs1 = SFS(la,\n",
    "          k_features=10,\n",
    "          forward=True,\n",
    "          floating=False,\n",
    "          verbose=2,\n",
    "          scoring='accuracy',\n",
    "          cv=0)\n",
    "sfs1 = sfs1.fit(trainx,trainy)"
   ]
  },
  {
   "cell_type": "code",
   "execution_count": null,
   "metadata": {},
   "outputs": [],
   "source": []
  }
 ],
 "metadata": {
  "kernelspec": {
   "display_name": "Python 3",
   "language": "python",
   "name": "python3"
  },
  "language_info": {
   "codemirror_mode": {
    "name": "ipython",
    "version": 3
   },
   "file_extension": ".py",
   "mimetype": "text/x-python",
   "name": "python",
   "nbconvert_exporter": "python",
   "pygments_lexer": "ipython3",
   "version": "3.7.1"
  },
  "varInspector": {
   "cols": {
    "lenName": 16,
    "lenType": 16,
    "lenVar": 40
   },
   "kernels_config": {
    "python": {
     "delete_cmd_postfix": "",
     "delete_cmd_prefix": "del ",
     "library": "var_list.py",
     "varRefreshCmd": "print(var_dic_list())"
    },
    "r": {
     "delete_cmd_postfix": ") ",
     "delete_cmd_prefix": "rm(",
     "library": "var_list.r",
     "varRefreshCmd": "cat(var_dic_list()) "
    }
   },
   "position": {
    "height": "561.208px",
    "left": "1043.67px",
    "right": "20px",
    "top": "120px",
    "width": "487px"
   },
   "types_to_exclude": [
    "module",
    "function",
    "builtin_function_or_method",
    "instance",
    "_Feature"
   ],
   "window_display": false
  }
 },
 "nbformat": 4,
 "nbformat_minor": 2
}
