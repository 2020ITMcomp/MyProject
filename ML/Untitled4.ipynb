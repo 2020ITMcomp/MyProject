{
 "cells": [
  {
   "cell_type": "code",
   "execution_count": 53,
   "metadata": {
    "ExecuteTime": {
     "end_time": "2020-10-08T06:20:13.690176Z",
     "start_time": "2020-10-08T06:20:13.193517Z"
    }
   },
   "outputs": [],
   "source": [
    "from tensorflow.keras.datasets import reuters\n",
    "\n",
    "# Like IMDB, the argument num_words restricts the data to \n",
    "# the 10,000 most frequently occurring words \n",
    "(train_data, train_labels), (test_data, test_labels) = reuters.load_data(num_words=10000)"
   ]
  },
  {
   "cell_type": "code",
   "execution_count": 54,
   "metadata": {
    "ExecuteTime": {
     "end_time": "2020-10-08T06:20:29.983129Z",
     "start_time": "2020-10-08T06:20:29.966208Z"
    }
   },
   "outputs": [
    {
     "data": {
      "text/plain": [
       "(2246,)"
      ]
     },
     "execution_count": 54,
     "metadata": {},
     "output_type": "execute_result"
    }
   ],
   "source": [
    "test_data.shape"
   ]
  },
  {
   "cell_type": "code",
   "execution_count": 55,
   "metadata": {
    "ExecuteTime": {
     "end_time": "2020-10-08T06:21:07.779730Z",
     "start_time": "2020-10-08T06:21:07.760748Z"
    }
   },
   "outputs": [],
   "source": [
    "import numpy as np\n",
    "def binary_vectors(sequences , dimension=10000):\n",
    "    results = np.zeros((len(sequences),dimension))\n",
    "\n",
    "    for i,sequence in enumerate(sequences):\n",
    "        results[i,sequence] = 1.\n",
    "    return results\n"
   ]
  },
  {
   "cell_type": "code",
   "execution_count": 56,
   "metadata": {
    "ExecuteTime": {
     "end_time": "2020-10-08T06:21:15.966072Z",
     "start_time": "2020-10-08T06:21:15.664596Z"
    }
   },
   "outputs": [],
   "source": [
    "x_train = binary_vectors(train_data)\n",
    "x_test = binary_vectors(test_data)"
   ]
  },
  {
   "cell_type": "code",
   "execution_count": 59,
   "metadata": {
    "ExecuteTime": {
     "end_time": "2020-10-08T06:23:29.729314Z",
     "start_time": "2020-10-08T06:23:29.722372Z"
    }
   },
   "outputs": [],
   "source": [
    "y_train = np.asarray(train_labels).astype('float32')\n",
    "y_test = np.asarray(test_labels).astype('float32')"
   ]
  },
  {
   "cell_type": "code",
   "execution_count": 63,
   "metadata": {
    "ExecuteTime": {
     "end_time": "2020-10-08T06:26:25.861340Z",
     "start_time": "2020-10-08T06:26:25.823441Z"
    }
   },
   "outputs": [
    {
     "data": {
      "text/plain": [
       "(8982, 10000)"
      ]
     },
     "execution_count": 63,
     "metadata": {},
     "output_type": "execute_result"
    }
   ],
   "source": [
    "x_train.shape"
   ]
  },
  {
   "cell_type": "code",
   "execution_count": 64,
   "metadata": {
    "ExecuteTime": {
     "end_time": "2020-10-08T06:26:30.764204Z",
     "start_time": "2020-10-08T06:26:30.269684Z"
    }
   },
   "outputs": [],
   "source": [
    "from tensorflow.keras import models\n",
    "from tensorflow.keras import layers\n",
    "\n",
    "model = models.Sequential()\n",
    "model.add(layers.Dense(64, activation='relu', input_shape=(10000,)))\n",
    "model.add(layers.Dense(64, activation='relu'))\n",
    "model.add(layers.Dense(46, activation='softmax'))"
   ]
  },
  {
   "cell_type": "code",
   "execution_count": 65,
   "metadata": {
    "ExecuteTime": {
     "end_time": "2020-10-08T06:26:31.696506Z",
     "start_time": "2020-10-08T06:26:31.458053Z"
    }
   },
   "outputs": [],
   "source": [
    "model.compile(optimizer='rmsprop',\n",
    "              loss='sparse_categorical_crossentropy',\n",
    "              metrics=['accuracy'])"
   ]
  },
  {
   "cell_type": "code",
   "execution_count": 31,
   "metadata": {
    "ExecuteTime": {
     "end_time": "2020-10-08T06:03:03.477720Z",
     "start_time": "2020-10-08T06:03:03.467698Z"
    }
   },
   "outputs": [
    {
     "data": {
      "text/plain": [
       "numpy.ndarray"
      ]
     },
     "execution_count": 31,
     "metadata": {},
     "output_type": "execute_result"
    }
   ],
   "source": [
    "type(train_labels)"
   ]
  },
  {
   "cell_type": "code",
   "execution_count": 32,
   "metadata": {
    "ExecuteTime": {
     "end_time": "2020-10-08T06:03:16.795749Z",
     "start_time": "2020-10-08T06:03:16.784816Z"
    }
   },
   "outputs": [
    {
     "data": {
      "text/plain": [
       "numpy.ndarray"
      ]
     },
     "execution_count": 32,
     "metadata": {},
     "output_type": "execute_result"
    }
   ],
   "source": [
    "type(x_train)"
   ]
  },
  {
   "cell_type": "code",
   "execution_count": 66,
   "metadata": {
    "ExecuteTime": {
     "end_time": "2020-10-08T06:26:34.538448Z",
     "start_time": "2020-10-08T06:26:34.526480Z"
    }
   },
   "outputs": [],
   "source": [
    "y_train = np.asarray(train_labels).astype('float32')\n",
    "y_test = np.asarray(test_labels).astype('float32')"
   ]
  },
  {
   "cell_type": "code",
   "execution_count": 34,
   "metadata": {
    "ExecuteTime": {
     "end_time": "2020-10-08T06:07:28.860077Z",
     "start_time": "2020-10-08T06:07:28.855088Z"
    }
   },
   "outputs": [],
   "source": [
    "from sklearn.model_selection import KFold\n",
    "\n",
    "kfold = KFold(n_splits=10)"
   ]
  },
  {
   "cell_type": "code",
   "execution_count": 68,
   "metadata": {
    "ExecuteTime": {
     "end_time": "2020-10-08T06:29:18.904331Z",
     "start_time": "2020-10-08T06:27:40.749685Z"
    }
   },
   "outputs": [
    {
     "name": "stdout",
     "output_type": "stream",
     "text": [
      "Train on 8083 samples, validate on 899 samples\n",
      "Epoch 1/5\n",
      "8083/8083 [==============================] - 2s 280us/sample - loss: 1.7375 - acc: 0.6452 - val_loss: 1.1859 - val_acc: 0.7397\n",
      "Epoch 2/5\n",
      "8083/8083 [==============================] - 1s 184us/sample - loss: 0.9031 - acc: 0.8030 - val_loss: 0.9825 - val_acc: 0.7953\n",
      "Epoch 3/5\n",
      "8083/8083 [==============================] - 1s 184us/sample - loss: 0.6019 - acc: 0.8684 - val_loss: 0.8988 - val_acc: 0.8120\n",
      "Epoch 4/5\n",
      "8083/8083 [==============================] - 2s 188us/sample - loss: 0.4145 - acc: 0.9093 - val_loss: 0.8824 - val_acc: 0.8120\n",
      "Epoch 5/5\n",
      "8083/8083 [==============================] - 1s 184us/sample - loss: 0.3034 - acc: 0.9305 - val_loss: 0.9124 - val_acc: 0.8176\n",
      "Train on 8083 samples, validate on 899 samples\n",
      "Epoch 1/5\n",
      "8083/8083 [==============================] - 2s 199us/sample - loss: 0.3103 - acc: 0.9317 - val_loss: 0.2539 - val_acc: 0.9377\n",
      "Epoch 2/5\n",
      "8083/8083 [==============================] - 2s 193us/sample - loss: 0.2347 - acc: 0.9440 - val_loss: 0.2806 - val_acc: 0.9344\n",
      "Epoch 3/5\n",
      "8083/8083 [==============================] - 2s 193us/sample - loss: 0.1983 - acc: 0.9513 - val_loss: 0.3269 - val_acc: 0.9244\n",
      "Epoch 4/5\n",
      "8083/8083 [==============================] - 2s 195us/sample - loss: 0.1733 - acc: 0.9516 - val_loss: 0.3878 - val_acc: 0.9188\n",
      "Epoch 5/5\n",
      "8083/8083 [==============================] - 2s 213us/sample - loss: 0.1604 - acc: 0.9552 - val_loss: 0.3954 - val_acc: 0.9166\n",
      "Train on 8084 samples, validate on 898 samples\n",
      "Epoch 1/5\n",
      "8084/8084 [==============================] - 2s 208us/sample - loss: 0.1731 - acc: 0.9503 - val_loss: 0.1991 - val_acc: 0.9432\n",
      "Epoch 2/5\n",
      "8084/8084 [==============================] - 2s 202us/sample - loss: 0.1504 - acc: 0.9561 - val_loss: 0.2465 - val_acc: 0.9410\n",
      "Epoch 3/5\n",
      "8084/8084 [==============================] - 2s 200us/sample - loss: 0.1410 - acc: 0.9560 - val_loss: 0.2985 - val_acc: 0.9399\n",
      "Epoch 4/5\n",
      "8084/8084 [==============================] - 2s 227us/sample - loss: 0.1329 - acc: 0.9592 - val_loss: 0.3389 - val_acc: 0.9376\n",
      "Epoch 5/5\n",
      "8084/8084 [==============================] - 2s 193us/sample - loss: 0.1292 - acc: 0.9576 - val_loss: 0.3812 - val_acc: 0.9332\n",
      "Train on 8084 samples, validate on 898 samples\n",
      "Epoch 1/5\n",
      "8084/8084 [==============================] - 2s 196us/sample - loss: 0.1483 - acc: 0.9567 - val_loss: 0.1253 - val_acc: 0.9521\n",
      "Epoch 2/5\n",
      "8084/8084 [==============================] - 2s 191us/sample - loss: 0.1283 - acc: 0.9577 - val_loss: 0.1880 - val_acc: 0.9343\n",
      "Epoch 3/5\n",
      "8084/8084 [==============================] - 2s 194us/sample - loss: 0.1225 - acc: 0.9617 - val_loss: 0.2179 - val_acc: 0.9287\n",
      "Epoch 4/5\n",
      "8084/8084 [==============================] - 2s 191us/sample - loss: 0.1193 - acc: 0.9609 - val_loss: 0.2543 - val_acc: 0.9310\n",
      "Epoch 5/5\n",
      "8084/8084 [==============================] - 2s 191us/sample - loss: 0.1130 - acc: 0.9586 - val_loss: 0.2845 - val_acc: 0.9321\n",
      "Train on 8084 samples, validate on 898 samples\n",
      "Epoch 1/5\n",
      "8084/8084 [==============================] - 2s 218us/sample - loss: 0.1269 - acc: 0.9561 - val_loss: 0.1565 - val_acc: 0.9488\n",
      "Epoch 2/5\n",
      "8084/8084 [==============================] - 2s 194us/sample - loss: 0.1140 - acc: 0.9581 - val_loss: 0.2016 - val_acc: 0.9399\n",
      "Epoch 3/5\n",
      "8084/8084 [==============================] - 2s 195us/sample - loss: 0.1072 - acc: 0.9593 - val_loss: 0.2397 - val_acc: 0.9354\n",
      "Epoch 4/5\n",
      "8084/8084 [==============================] - 2s 203us/sample - loss: 0.1022 - acc: 0.9593 - val_loss: 0.2939 - val_acc: 0.9343\n",
      "Epoch 5/5\n",
      "8084/8084 [==============================] - 2s 200us/sample - loss: 0.0998 - acc: 0.9588 - val_loss: 0.3187 - val_acc: 0.9321\n",
      "Train on 8084 samples, validate on 898 samples\n",
      "Epoch 1/5\n",
      "8084/8084 [==============================] - 2s 202us/sample - loss: 0.1230 - acc: 0.9566 - val_loss: 0.0724 - val_acc: 0.9666\n",
      "Epoch 2/5\n",
      "8084/8084 [==============================] - 2s 204us/sample - loss: 0.1089 - acc: 0.9556 - val_loss: 0.1107 - val_acc: 0.9577\n",
      "Epoch 3/5\n",
      "8084/8084 [==============================] - 2s 209us/sample - loss: 0.1049 - acc: 0.9572 - val_loss: 0.1336 - val_acc: 0.9566\n",
      "Epoch 4/5\n",
      "8084/8084 [==============================] - 2s 205us/sample - loss: 0.0988 - acc: 0.9572 - val_loss: 0.1611 - val_acc: 0.9543\n",
      "Epoch 5/5\n",
      "8084/8084 [==============================] - 2s 212us/sample - loss: 0.0975 - acc: 0.9551 - val_loss: 0.1994 - val_acc: 0.9488\n",
      "Train on 8084 samples, validate on 898 samples\n",
      "Epoch 1/5\n",
      "8084/8084 [==============================] - 2s 199us/sample - loss: 0.1067 - acc: 0.9560 - val_loss: 0.0907 - val_acc: 0.9610\n",
      "Epoch 2/5\n",
      "8084/8084 [==============================] - 2s 206us/sample - loss: 0.0969 - acc: 0.9568 - val_loss: 0.1232 - val_acc: 0.9566\n",
      "Epoch 3/5\n",
      "8084/8084 [==============================] - 2s 200us/sample - loss: 0.0939 - acc: 0.9574 - val_loss: 0.1332 - val_acc: 0.9510\n",
      "Epoch 4/5\n",
      "8084/8084 [==============================] - 2s 211us/sample - loss: 0.0911 - acc: 0.9578 - val_loss: 0.1493 - val_acc: 0.9499\n",
      "Epoch 5/5\n",
      "8084/8084 [==============================] - 2s 217us/sample - loss: 0.0857 - acc: 0.9594 - val_loss: 0.1809 - val_acc: 0.9510\n",
      "Train on 8084 samples, validate on 898 samples\n",
      "Epoch 1/5\n",
      "8084/8084 [==============================] - 2s 200us/sample - loss: 0.0945 - acc: 0.9595 - val_loss: 0.1121 - val_acc: 0.9376\n",
      "Epoch 2/5\n",
      "8084/8084 [==============================] - 2s 212us/sample - loss: 0.0861 - acc: 0.9620 - val_loss: 0.1454 - val_acc: 0.9332\n",
      "Epoch 3/5\n",
      "8084/8084 [==============================] - 2s 203us/sample - loss: 0.0812 - acc: 0.9623 - val_loss: 0.1820 - val_acc: 0.9265\n",
      "Epoch 4/5\n",
      "8084/8084 [==============================] - 2s 205us/sample - loss: 0.0798 - acc: 0.9602 - val_loss: 0.2082 - val_acc: 0.9310\n",
      "Epoch 5/5\n",
      "8084/8084 [==============================] - 2s 209us/sample - loss: 0.0775 - acc: 0.9618 - val_loss: 0.2349 - val_acc: 0.9276\n",
      "Train on 8084 samples, validate on 898 samples\n",
      "Epoch 1/5\n",
      "8084/8084 [==============================] - 2s 208us/sample - loss: 0.0955 - acc: 0.9591 - val_loss: 0.0846 - val_acc: 0.9543\n",
      "Epoch 2/5\n",
      "8084/8084 [==============================] - 2s 215us/sample - loss: 0.0854 - acc: 0.9597 - val_loss: 0.1034 - val_acc: 0.9510\n",
      "Epoch 3/5\n",
      "8084/8084 [==============================] - 2s 207us/sample - loss: 0.0812 - acc: 0.9608 - val_loss: 0.1352 - val_acc: 0.9477\n",
      "Epoch 4/5\n",
      "8084/8084 [==============================] - 2s 209us/sample - loss: 0.0788 - acc: 0.9610 - val_loss: 0.1582 - val_acc: 0.9477\n",
      "Epoch 5/5\n",
      "8084/8084 [==============================] - 2s 209us/sample - loss: 0.0795 - acc: 0.9592 - val_loss: 0.1795 - val_acc: 0.9454\n",
      "Train on 8084 samples, validate on 898 samples\n",
      "Epoch 1/5\n",
      "8084/8084 [==============================] - 2s 204us/sample - loss: 0.0881 - acc: 0.9587 - val_loss: 0.0928 - val_acc: 0.9465\n",
      "Epoch 2/5\n",
      "8084/8084 [==============================] - 2s 211us/sample - loss: 0.0795 - acc: 0.9598 - val_loss: 0.1288 - val_acc: 0.9421\n",
      "Epoch 3/5\n",
      "8084/8084 [==============================] - 2s 218us/sample - loss: 0.0779 - acc: 0.9607 - val_loss: 0.1537 - val_acc: 0.9399\n",
      "Epoch 4/5\n",
      "8084/8084 [==============================] - 2s 213us/sample - loss: 0.0750 - acc: 0.9614 - val_loss: 0.2136 - val_acc: 0.9388\n",
      "Epoch 5/5\n",
      "8084/8084 [==============================] - 2s 205us/sample - loss: 0.0739 - acc: 0.9619 - val_loss: 0.2182 - val_acc: 0.9365\n"
     ]
    }
   ],
   "source": [
    "for train_index, test_index in kfold.split(train_data):\n",
    "    X_train_fold , X_test_fold = x_train[train_index] , x_train[test_index]\n",
    "    y_train_fold , y_test_fold = y_train[train_index] , y_train[test_index]\n",
    "    \n",
    "    model.fit(X_train_fold,\n",
    "              y_train_fold,\n",
    "              epochs=5,\n",
    "              batch_size=100,\n",
    "              validation_data=(X_test_fold,y_test_fold))"
   ]
  },
  {
   "cell_type": "code",
   "execution_count": 61,
   "metadata": {
    "ExecuteTime": {
     "end_time": "2020-10-08T06:26:11.912998Z",
     "start_time": "2020-10-08T06:26:11.897080Z"
    },
    "scrolled": false
   },
   "outputs": [
    {
     "data": {
      "text/plain": [
       "(899,)"
      ]
     },
     "execution_count": 61,
     "metadata": {},
     "output_type": "execute_result"
    }
   ],
   "source": [
    "X_test_fold.shape"
   ]
  },
  {
   "cell_type": "code",
   "execution_count": 67,
   "metadata": {
    "ExecuteTime": {
     "end_time": "2020-10-08T06:27:04.150606Z",
     "start_time": "2020-10-08T06:27:04.143624Z"
    }
   },
   "outputs": [
    {
     "data": {
      "text/plain": [
       "(8982, 10000)"
      ]
     },
     "execution_count": 67,
     "metadata": {},
     "output_type": "execute_result"
    }
   ],
   "source": [
    "x_train.shape"
   ]
  },
  {
   "cell_type": "code",
   "execution_count": 69,
   "metadata": {
    "ExecuteTime": {
     "end_time": "2020-10-08T06:40:47.723156Z",
     "start_time": "2020-10-08T06:40:47.552685Z"
    }
   },
   "outputs": [
    {
     "ename": "ModuleNotFoundError",
     "evalue": "No module named 'google.colab'",
     "output_type": "error",
     "traceback": [
      "\u001b[1;31m---------------------------------------------------------------------------\u001b[0m",
      "\u001b[1;31mModuleNotFoundError\u001b[0m                       Traceback (most recent call last)",
      "\u001b[1;32m<ipython-input-69-4996ee3d8d09>\u001b[0m in \u001b[0;36m<module>\u001b[1;34m\u001b[0m\n\u001b[1;32m----> 1\u001b[1;33m \u001b[1;32mfrom\u001b[0m \u001b[0mgoogle\u001b[0m\u001b[1;33m.\u001b[0m\u001b[0mcolab\u001b[0m \u001b[1;32mimport\u001b[0m \u001b[0mdrive\u001b[0m\u001b[1;33m\u001b[0m\u001b[1;33m\u001b[0m\u001b[0m\n\u001b[0m\u001b[0;32m      2\u001b[0m \u001b[0mdrive\u001b[0m\u001b[1;33m.\u001b[0m\u001b[0mmount\u001b[0m\u001b[1;33m(\u001b[0m\u001b[1;34m'/content/gdrive'\u001b[0m\u001b[1;33m)\u001b[0m\u001b[1;33m\u001b[0m\u001b[1;33m\u001b[0m\u001b[0m\n",
      "\u001b[1;31mModuleNotFoundError\u001b[0m: No module named 'google.colab'"
     ]
    }
   ],
   "source": [
    "from google.colab import drive\n",
    "drive.mount('/content/gdrive')"
   ]
  },
  {
   "cell_type": "code",
   "execution_count": null,
   "metadata": {},
   "outputs": [],
   "source": []
  }
 ],
 "metadata": {
  "kernelspec": {
   "display_name": "Python 3",
   "language": "python",
   "name": "python3"
  },
  "language_info": {
   "codemirror_mode": {
    "name": "ipython",
    "version": 3
   },
   "file_extension": ".py",
   "mimetype": "text/x-python",
   "name": "python",
   "nbconvert_exporter": "python",
   "pygments_lexer": "ipython3",
   "version": "3.7.1"
  },
  "varInspector": {
   "cols": {
    "lenName": 16,
    "lenType": 16,
    "lenVar": 40
   },
   "kernels_config": {
    "python": {
     "delete_cmd_postfix": "",
     "delete_cmd_prefix": "del ",
     "library": "var_list.py",
     "varRefreshCmd": "print(var_dic_list())"
    },
    "r": {
     "delete_cmd_postfix": ") ",
     "delete_cmd_prefix": "rm(",
     "library": "var_list.r",
     "varRefreshCmd": "cat(var_dic_list()) "
    }
   },
   "types_to_exclude": [
    "module",
    "function",
    "builtin_function_or_method",
    "instance",
    "_Feature"
   ],
   "window_display": false
  }
 },
 "nbformat": 4,
 "nbformat_minor": 2
}
