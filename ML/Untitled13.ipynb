{
 "cells": [
  {
   "cell_type": "code",
   "execution_count": 1,
   "metadata": {
    "ExecuteTime": {
     "end_time": "2020-11-27T07:09:56.879329Z",
     "start_time": "2020-11-27T07:09:55.072858Z"
    }
   },
   "outputs": [],
   "source": [
    "import pandas as pd\n",
    "import numpy as np"
   ]
  },
  {
   "cell_type": "code",
   "execution_count": 2,
   "metadata": {
    "ExecuteTime": {
     "end_time": "2020-11-27T07:09:58.670145Z",
     "start_time": "2020-11-27T07:09:58.538519Z"
    }
   },
   "outputs": [],
   "source": [
    "t1 = pd.read_csv('f2.csv')\n",
    "t2 = pd.read_csv('f1.csv')"
   ]
  },
  {
   "cell_type": "code",
   "execution_count": 5,
   "metadata": {
    "ExecuteTime": {
     "end_time": "2020-11-27T07:10:17.941821Z",
     "start_time": "2020-11-27T07:10:17.935835Z"
    }
   },
   "outputs": [],
   "source": [
    "t2['win']=t2['win'].astype(int)"
   ]
  },
  {
   "cell_type": "code",
   "execution_count": 4,
   "metadata": {
    "ExecuteTime": {
     "end_time": "2020-11-27T07:10:11.041855Z",
     "start_time": "2020-11-27T07:10:11.032881Z"
    }
   },
   "outputs": [
    {
     "data": {
      "text/plain": [
       "40769"
      ]
     },
     "execution_count": 4,
     "metadata": {},
     "output_type": "execute_result"
    }
   ],
   "source": [
    "len(t2)"
   ]
  },
  {
   "cell_type": "code",
   "execution_count": 6,
   "metadata": {
    "ExecuteTime": {
     "end_time": "2020-11-27T07:10:19.947606Z",
     "start_time": "2020-11-27T07:10:19.930652Z"
    }
   },
   "outputs": [],
   "source": [
    "t3 = pd.concat([t1,t2])"
   ]
  },
  {
   "cell_type": "code",
   "execution_count": 7,
   "metadata": {
    "ExecuteTime": {
     "end_time": "2020-11-27T07:10:28.755429Z",
     "start_time": "2020-11-27T07:10:28.736478Z"
    }
   },
   "outputs": [
    {
     "data": {
      "text/html": [
       "<div>\n",
       "<style scoped>\n",
       "    .dataframe tbody tr th:only-of-type {\n",
       "        vertical-align: middle;\n",
       "    }\n",
       "\n",
       "    .dataframe tbody tr th {\n",
       "        vertical-align: top;\n",
       "    }\n",
       "\n",
       "    .dataframe thead th {\n",
       "        text-align: right;\n",
       "    }\n",
       "</style>\n",
       "<table border=\"1\" class=\"dataframe\">\n",
       "  <thead>\n",
       "    <tr style=\"text-align: right;\">\n",
       "      <th></th>\n",
       "      <th>0</th>\n",
       "      <th>1</th>\n",
       "      <th>2</th>\n",
       "      <th>3</th>\n",
       "      <th>4</th>\n",
       "      <th>win</th>\n",
       "    </tr>\n",
       "  </thead>\n",
       "  <tbody>\n",
       "    <tr>\n",
       "      <th>0</th>\n",
       "      <td>Defensive</td>\n",
       "      <td>Defensive</td>\n",
       "      <td>Offensive</td>\n",
       "      <td>Defensive</td>\n",
       "      <td>Offensive</td>\n",
       "      <td>0</td>\n",
       "    </tr>\n",
       "    <tr>\n",
       "      <th>1</th>\n",
       "      <td>Offensive</td>\n",
       "      <td>Offensive</td>\n",
       "      <td>Defensive</td>\n",
       "      <td>Defensive</td>\n",
       "      <td>Defensive</td>\n",
       "      <td>1</td>\n",
       "    </tr>\n",
       "    <tr>\n",
       "      <th>2</th>\n",
       "      <td>Offensive</td>\n",
       "      <td>Offensive</td>\n",
       "      <td>Defensive</td>\n",
       "      <td>Defensive</td>\n",
       "      <td>Defensive</td>\n",
       "      <td>0</td>\n",
       "    </tr>\n",
       "    <tr>\n",
       "      <th>3</th>\n",
       "      <td>Offensive</td>\n",
       "      <td>Defensive</td>\n",
       "      <td>Offensive</td>\n",
       "      <td>Defensive</td>\n",
       "      <td>Offensive</td>\n",
       "      <td>1</td>\n",
       "    </tr>\n",
       "    <tr>\n",
       "      <th>4</th>\n",
       "      <td>Offensive</td>\n",
       "      <td>Defensive</td>\n",
       "      <td>Offensive</td>\n",
       "      <td>Defensive</td>\n",
       "      <td>Offensive</td>\n",
       "      <td>1</td>\n",
       "    </tr>\n",
       "  </tbody>\n",
       "</table>\n",
       "</div>"
      ],
      "text/plain": [
       "           0          1          2          3          4  win\n",
       "0  Defensive  Defensive  Offensive  Defensive  Offensive    0\n",
       "1  Offensive  Offensive  Defensive  Defensive  Defensive    1\n",
       "2  Offensive  Offensive  Defensive  Defensive  Defensive    0\n",
       "3  Offensive  Defensive  Offensive  Defensive  Offensive    1\n",
       "4  Offensive  Defensive  Offensive  Defensive  Offensive    1"
      ]
     },
     "execution_count": 7,
     "metadata": {},
     "output_type": "execute_result"
    }
   ],
   "source": [
    "t3.head()"
   ]
  },
  {
   "cell_type": "code",
   "execution_count": 15,
   "metadata": {
    "ExecuteTime": {
     "end_time": "2020-11-13T16:18:04.511885Z",
     "start_time": "2020-11-13T16:18:04.499886Z"
    }
   },
   "outputs": [
    {
     "data": {
      "text/plain": [
       "'Defensive'"
      ]
     },
     "execution_count": 15,
     "metadata": {},
     "output_type": "execute_result"
    }
   ],
   "source": [
    "t3.iloc[0][0]"
   ]
  },
  {
   "cell_type": "code",
   "execution_count": 14,
   "metadata": {
    "ExecuteTime": {
     "end_time": "2020-11-13T16:17:00.918875Z",
     "start_time": "2020-11-13T16:17:00.885962Z"
    }
   },
   "outputs": [
    {
     "data": {
      "text/html": [
       "<div>\n",
       "<style scoped>\n",
       "    .dataframe tbody tr th:only-of-type {\n",
       "        vertical-align: middle;\n",
       "    }\n",
       "\n",
       "    .dataframe tbody tr th {\n",
       "        vertical-align: top;\n",
       "    }\n",
       "\n",
       "    .dataframe thead th {\n",
       "        text-align: right;\n",
       "    }\n",
       "</style>\n",
       "<table border=\"1\" class=\"dataframe\">\n",
       "  <thead>\n",
       "    <tr style=\"text-align: right;\">\n",
       "      <th></th>\n",
       "      <th>0</th>\n",
       "      <th>1</th>\n",
       "      <th>2</th>\n",
       "      <th>3</th>\n",
       "      <th>4</th>\n",
       "      <th>win</th>\n",
       "    </tr>\n",
       "  </thead>\n",
       "  <tbody>\n",
       "    <tr>\n",
       "      <th>0</th>\n",
       "      <td>Defensive</td>\n",
       "      <td>Defensive</td>\n",
       "      <td>Offensive</td>\n",
       "      <td>Defensive</td>\n",
       "      <td>Offensive</td>\n",
       "      <td>0</td>\n",
       "    </tr>\n",
       "    <tr>\n",
       "      <th>1</th>\n",
       "      <td>Offensive</td>\n",
       "      <td>Offensive</td>\n",
       "      <td>Defensive</td>\n",
       "      <td>Defensive</td>\n",
       "      <td>Defensive</td>\n",
       "      <td>1</td>\n",
       "    </tr>\n",
       "    <tr>\n",
       "      <th>2</th>\n",
       "      <td>Offensive</td>\n",
       "      <td>Offensive</td>\n",
       "      <td>Defensive</td>\n",
       "      <td>Defensive</td>\n",
       "      <td>Defensive</td>\n",
       "      <td>0</td>\n",
       "    </tr>\n",
       "    <tr>\n",
       "      <th>3</th>\n",
       "      <td>Offensive</td>\n",
       "      <td>Defensive</td>\n",
       "      <td>Offensive</td>\n",
       "      <td>Defensive</td>\n",
       "      <td>Offensive</td>\n",
       "      <td>1</td>\n",
       "    </tr>\n",
       "    <tr>\n",
       "      <th>4</th>\n",
       "      <td>Offensive</td>\n",
       "      <td>Defensive</td>\n",
       "      <td>Offensive</td>\n",
       "      <td>Defensive</td>\n",
       "      <td>Offensive</td>\n",
       "      <td>1</td>\n",
       "    </tr>\n",
       "    <tr>\n",
       "      <th>5</th>\n",
       "      <td>Offensive</td>\n",
       "      <td>Offensive</td>\n",
       "      <td>Offensive</td>\n",
       "      <td>Defensive</td>\n",
       "      <td>Offensive</td>\n",
       "      <td>1</td>\n",
       "    </tr>\n",
       "    <tr>\n",
       "      <th>6</th>\n",
       "      <td>Defensive</td>\n",
       "      <td>Offensive</td>\n",
       "      <td>Offensive</td>\n",
       "      <td>Defensive</td>\n",
       "      <td>Offensive</td>\n",
       "      <td>1</td>\n",
       "    </tr>\n",
       "    <tr>\n",
       "      <th>7</th>\n",
       "      <td>Offensive</td>\n",
       "      <td>Offensive</td>\n",
       "      <td>Offensive</td>\n",
       "      <td>Defensive</td>\n",
       "      <td>Offensive</td>\n",
       "      <td>0</td>\n",
       "    </tr>\n",
       "    <tr>\n",
       "      <th>8</th>\n",
       "      <td>Defensive</td>\n",
       "      <td>Defensive</td>\n",
       "      <td>Offensive</td>\n",
       "      <td>Defensive</td>\n",
       "      <td>Defensive</td>\n",
       "      <td>0</td>\n",
       "    </tr>\n",
       "    <tr>\n",
       "      <th>9</th>\n",
       "      <td>Offensive</td>\n",
       "      <td>Offensive</td>\n",
       "      <td>Offensive</td>\n",
       "      <td>Defensive</td>\n",
       "      <td>Defensive</td>\n",
       "      <td>0</td>\n",
       "    </tr>\n",
       "    <tr>\n",
       "      <th>10</th>\n",
       "      <td>Offensive</td>\n",
       "      <td>Defensive</td>\n",
       "      <td>Defensive</td>\n",
       "      <td>Defensive</td>\n",
       "      <td>Offensive</td>\n",
       "      <td>1</td>\n",
       "    </tr>\n",
       "    <tr>\n",
       "      <th>11</th>\n",
       "      <td>Offensive</td>\n",
       "      <td>Offensive</td>\n",
       "      <td>Offensive</td>\n",
       "      <td>Defensive</td>\n",
       "      <td>Defensive</td>\n",
       "      <td>0</td>\n",
       "    </tr>\n",
       "    <tr>\n",
       "      <th>12</th>\n",
       "      <td>Offensive</td>\n",
       "      <td>Offensive</td>\n",
       "      <td>Offensive</td>\n",
       "      <td>Offensive</td>\n",
       "      <td>Defensive</td>\n",
       "      <td>1</td>\n",
       "    </tr>\n",
       "    <tr>\n",
       "      <th>13</th>\n",
       "      <td>Offensive</td>\n",
       "      <td>Offensive</td>\n",
       "      <td>Offensive</td>\n",
       "      <td>Defensive</td>\n",
       "      <td>Defensive</td>\n",
       "      <td>1</td>\n",
       "    </tr>\n",
       "    <tr>\n",
       "      <th>14</th>\n",
       "      <td>Offensive</td>\n",
       "      <td>Defensive</td>\n",
       "      <td>Offensive</td>\n",
       "      <td>Offensive</td>\n",
       "      <td>Defensive</td>\n",
       "      <td>1</td>\n",
       "    </tr>\n",
       "    <tr>\n",
       "      <th>15</th>\n",
       "      <td>Defensive</td>\n",
       "      <td>Offensive</td>\n",
       "      <td>Defensive</td>\n",
       "      <td>Defensive</td>\n",
       "      <td>Defensive</td>\n",
       "      <td>0</td>\n",
       "    </tr>\n",
       "    <tr>\n",
       "      <th>16</th>\n",
       "      <td>Offensive</td>\n",
       "      <td>Offensive</td>\n",
       "      <td>Offensive</td>\n",
       "      <td>Defensive</td>\n",
       "      <td>Offensive</td>\n",
       "      <td>1</td>\n",
       "    </tr>\n",
       "    <tr>\n",
       "      <th>17</th>\n",
       "      <td>Offensive</td>\n",
       "      <td>Defensive</td>\n",
       "      <td>Offensive</td>\n",
       "      <td>Defensive</td>\n",
       "      <td>Defensive</td>\n",
       "      <td>0</td>\n",
       "    </tr>\n",
       "    <tr>\n",
       "      <th>18</th>\n",
       "      <td>Defensive</td>\n",
       "      <td>Offensive</td>\n",
       "      <td>Offensive</td>\n",
       "      <td>Defensive</td>\n",
       "      <td>Defensive</td>\n",
       "      <td>0</td>\n",
       "    </tr>\n",
       "    <tr>\n",
       "      <th>19</th>\n",
       "      <td>Offensive</td>\n",
       "      <td>Offensive</td>\n",
       "      <td>Defensive</td>\n",
       "      <td>Defensive</td>\n",
       "      <td>Offensive</td>\n",
       "      <td>1</td>\n",
       "    </tr>\n",
       "    <tr>\n",
       "      <th>20</th>\n",
       "      <td>Defensive</td>\n",
       "      <td>Defensive</td>\n",
       "      <td>Offensive</td>\n",
       "      <td>Defensive</td>\n",
       "      <td>Offensive</td>\n",
       "      <td>1</td>\n",
       "    </tr>\n",
       "    <tr>\n",
       "      <th>21</th>\n",
       "      <td>Offensive</td>\n",
       "      <td>Offensive</td>\n",
       "      <td>Offensive</td>\n",
       "      <td>Offensive</td>\n",
       "      <td>Defensive</td>\n",
       "      <td>1</td>\n",
       "    </tr>\n",
       "    <tr>\n",
       "      <th>22</th>\n",
       "      <td>Offensive</td>\n",
       "      <td>Offensive</td>\n",
       "      <td>Defensive</td>\n",
       "      <td>Offensive</td>\n",
       "      <td>Defensive</td>\n",
       "      <td>1</td>\n",
       "    </tr>\n",
       "    <tr>\n",
       "      <th>23</th>\n",
       "      <td>Offensive</td>\n",
       "      <td>Offensive</td>\n",
       "      <td>Defensive</td>\n",
       "      <td>Defensive</td>\n",
       "      <td>Offensive</td>\n",
       "      <td>1</td>\n",
       "    </tr>\n",
       "    <tr>\n",
       "      <th>24</th>\n",
       "      <td>Offensive</td>\n",
       "      <td>Offensive</td>\n",
       "      <td>Defensive</td>\n",
       "      <td>Defensive</td>\n",
       "      <td>Defensive</td>\n",
       "      <td>1</td>\n",
       "    </tr>\n",
       "    <tr>\n",
       "      <th>25</th>\n",
       "      <td>Offensive</td>\n",
       "      <td>Offensive</td>\n",
       "      <td>Offensive</td>\n",
       "      <td>Defensive</td>\n",
       "      <td>Defensive</td>\n",
       "      <td>1</td>\n",
       "    </tr>\n",
       "    <tr>\n",
       "      <th>26</th>\n",
       "      <td>Offensive</td>\n",
       "      <td>Offensive</td>\n",
       "      <td>Offensive</td>\n",
       "      <td>Offensive</td>\n",
       "      <td>Defensive</td>\n",
       "      <td>1</td>\n",
       "    </tr>\n",
       "    <tr>\n",
       "      <th>27</th>\n",
       "      <td>Offensive</td>\n",
       "      <td>Offensive</td>\n",
       "      <td>Defensive</td>\n",
       "      <td>Defensive</td>\n",
       "      <td>Defensive</td>\n",
       "      <td>0</td>\n",
       "    </tr>\n",
       "    <tr>\n",
       "      <th>28</th>\n",
       "      <td>Defensive</td>\n",
       "      <td>Defensive</td>\n",
       "      <td>Offensive</td>\n",
       "      <td>Defensive</td>\n",
       "      <td>Offensive</td>\n",
       "      <td>0</td>\n",
       "    </tr>\n",
       "    <tr>\n",
       "      <th>29</th>\n",
       "      <td>Offensive</td>\n",
       "      <td>Defensive</td>\n",
       "      <td>Offensive</td>\n",
       "      <td>Defensive</td>\n",
       "      <td>Defensive</td>\n",
       "      <td>0</td>\n",
       "    </tr>\n",
       "    <tr>\n",
       "      <th>...</th>\n",
       "      <td>...</td>\n",
       "      <td>...</td>\n",
       "      <td>...</td>\n",
       "      <td>...</td>\n",
       "      <td>...</td>\n",
       "      <td>...</td>\n",
       "    </tr>\n",
       "    <tr>\n",
       "      <th>77834</th>\n",
       "      <td>Offensive</td>\n",
       "      <td>Offensive</td>\n",
       "      <td>Offensive</td>\n",
       "      <td>Defensive</td>\n",
       "      <td>Offensive</td>\n",
       "      <td>1</td>\n",
       "    </tr>\n",
       "    <tr>\n",
       "      <th>77835</th>\n",
       "      <td>Defensive</td>\n",
       "      <td>Offensive</td>\n",
       "      <td>Defensive</td>\n",
       "      <td>Defensive</td>\n",
       "      <td>Defensive</td>\n",
       "      <td>1</td>\n",
       "    </tr>\n",
       "    <tr>\n",
       "      <th>77836</th>\n",
       "      <td>Offensive</td>\n",
       "      <td>Defensive</td>\n",
       "      <td>Offensive</td>\n",
       "      <td>Defensive</td>\n",
       "      <td>Defensive</td>\n",
       "      <td>0</td>\n",
       "    </tr>\n",
       "    <tr>\n",
       "      <th>77837</th>\n",
       "      <td>Offensive</td>\n",
       "      <td>Offensive</td>\n",
       "      <td>Defensive</td>\n",
       "      <td>Defensive</td>\n",
       "      <td>Offensive</td>\n",
       "      <td>1</td>\n",
       "    </tr>\n",
       "    <tr>\n",
       "      <th>77838</th>\n",
       "      <td>Defensive</td>\n",
       "      <td>Offensive</td>\n",
       "      <td>Defensive</td>\n",
       "      <td>Defensive</td>\n",
       "      <td>Defensive</td>\n",
       "      <td>0</td>\n",
       "    </tr>\n",
       "    <tr>\n",
       "      <th>77839</th>\n",
       "      <td>Offensive</td>\n",
       "      <td>Offensive</td>\n",
       "      <td>Defensive</td>\n",
       "      <td>Offensive</td>\n",
       "      <td>Defensive</td>\n",
       "      <td>1</td>\n",
       "    </tr>\n",
       "    <tr>\n",
       "      <th>77840</th>\n",
       "      <td>Offensive</td>\n",
       "      <td>Defensive</td>\n",
       "      <td>Offensive</td>\n",
       "      <td>Offensive</td>\n",
       "      <td>Offensive</td>\n",
       "      <td>0</td>\n",
       "    </tr>\n",
       "    <tr>\n",
       "      <th>77841</th>\n",
       "      <td>Defensive</td>\n",
       "      <td>Offensive</td>\n",
       "      <td>Defensive</td>\n",
       "      <td>Defensive</td>\n",
       "      <td>Defensive</td>\n",
       "      <td>0</td>\n",
       "    </tr>\n",
       "    <tr>\n",
       "      <th>77842</th>\n",
       "      <td>Offensive</td>\n",
       "      <td>Offensive</td>\n",
       "      <td>Defensive</td>\n",
       "      <td>Offensive</td>\n",
       "      <td>Defensive</td>\n",
       "      <td>1</td>\n",
       "    </tr>\n",
       "    <tr>\n",
       "      <th>77843</th>\n",
       "      <td>Defensive</td>\n",
       "      <td>Offensive</td>\n",
       "      <td>Defensive</td>\n",
       "      <td>Offensive</td>\n",
       "      <td>Defensive</td>\n",
       "      <td>0</td>\n",
       "    </tr>\n",
       "    <tr>\n",
       "      <th>77844</th>\n",
       "      <td>Defensive</td>\n",
       "      <td>Offensive</td>\n",
       "      <td>Offensive</td>\n",
       "      <td>Defensive</td>\n",
       "      <td>Defensive</td>\n",
       "      <td>1</td>\n",
       "    </tr>\n",
       "    <tr>\n",
       "      <th>77845</th>\n",
       "      <td>Defensive</td>\n",
       "      <td>Offensive</td>\n",
       "      <td>Defensive</td>\n",
       "      <td>Offensive</td>\n",
       "      <td>Offensive</td>\n",
       "      <td>0</td>\n",
       "    </tr>\n",
       "    <tr>\n",
       "      <th>77846</th>\n",
       "      <td>Defensive</td>\n",
       "      <td>Offensive</td>\n",
       "      <td>Offensive</td>\n",
       "      <td>Defensive</td>\n",
       "      <td>Defensive</td>\n",
       "      <td>1</td>\n",
       "    </tr>\n",
       "    <tr>\n",
       "      <th>77847</th>\n",
       "      <td>Offensive</td>\n",
       "      <td>Offensive</td>\n",
       "      <td>Defensive</td>\n",
       "      <td>Defensive</td>\n",
       "      <td>Defensive</td>\n",
       "      <td>1</td>\n",
       "    </tr>\n",
       "    <tr>\n",
       "      <th>77848</th>\n",
       "      <td>Defensive</td>\n",
       "      <td>Offensive</td>\n",
       "      <td>Defensive</td>\n",
       "      <td>Offensive</td>\n",
       "      <td>Defensive</td>\n",
       "      <td>0</td>\n",
       "    </tr>\n",
       "    <tr>\n",
       "      <th>77849</th>\n",
       "      <td>Offensive</td>\n",
       "      <td>Defensive</td>\n",
       "      <td>Defensive</td>\n",
       "      <td>Defensive</td>\n",
       "      <td>Defensive</td>\n",
       "      <td>0</td>\n",
       "    </tr>\n",
       "    <tr>\n",
       "      <th>77850</th>\n",
       "      <td>Defensive</td>\n",
       "      <td>Defensive</td>\n",
       "      <td>Defensive</td>\n",
       "      <td>Defensive</td>\n",
       "      <td>Offensive</td>\n",
       "      <td>0</td>\n",
       "    </tr>\n",
       "    <tr>\n",
       "      <th>77851</th>\n",
       "      <td>Offensive</td>\n",
       "      <td>Offensive</td>\n",
       "      <td>Defensive</td>\n",
       "      <td>Offensive</td>\n",
       "      <td>Defensive</td>\n",
       "      <td>1</td>\n",
       "    </tr>\n",
       "    <tr>\n",
       "      <th>77852</th>\n",
       "      <td>Offensive</td>\n",
       "      <td>Offensive</td>\n",
       "      <td>Offensive</td>\n",
       "      <td>Defensive</td>\n",
       "      <td>Offensive</td>\n",
       "      <td>1</td>\n",
       "    </tr>\n",
       "    <tr>\n",
       "      <th>77853</th>\n",
       "      <td>Offensive</td>\n",
       "      <td>Defensive</td>\n",
       "      <td>Defensive</td>\n",
       "      <td>Offensive</td>\n",
       "      <td>Defensive</td>\n",
       "      <td>0</td>\n",
       "    </tr>\n",
       "    <tr>\n",
       "      <th>77854</th>\n",
       "      <td>Offensive</td>\n",
       "      <td>Defensive</td>\n",
       "      <td>Offensive</td>\n",
       "      <td>Defensive</td>\n",
       "      <td>Defensive</td>\n",
       "      <td>1</td>\n",
       "    </tr>\n",
       "    <tr>\n",
       "      <th>77855</th>\n",
       "      <td>Offensive</td>\n",
       "      <td>Offensive</td>\n",
       "      <td>Defensive</td>\n",
       "      <td>Defensive</td>\n",
       "      <td>Defensive</td>\n",
       "      <td>0</td>\n",
       "    </tr>\n",
       "    <tr>\n",
       "      <th>77856</th>\n",
       "      <td>Offensive</td>\n",
       "      <td>Offensive</td>\n",
       "      <td>Offensive</td>\n",
       "      <td>Defensive</td>\n",
       "      <td>Defensive</td>\n",
       "      <td>0</td>\n",
       "    </tr>\n",
       "    <tr>\n",
       "      <th>77857</th>\n",
       "      <td>Defensive</td>\n",
       "      <td>Offensive</td>\n",
       "      <td>Offensive</td>\n",
       "      <td>Offensive</td>\n",
       "      <td>Defensive</td>\n",
       "      <td>1</td>\n",
       "    </tr>\n",
       "    <tr>\n",
       "      <th>77858</th>\n",
       "      <td>Offensive</td>\n",
       "      <td>Offensive</td>\n",
       "      <td>Defensive</td>\n",
       "      <td>Offensive</td>\n",
       "      <td>Defensive</td>\n",
       "      <td>0</td>\n",
       "    </tr>\n",
       "    <tr>\n",
       "      <th>77859</th>\n",
       "      <td>Defensive</td>\n",
       "      <td>Offensive</td>\n",
       "      <td>Defensive</td>\n",
       "      <td>Defensive</td>\n",
       "      <td>Defensive</td>\n",
       "      <td>1</td>\n",
       "    </tr>\n",
       "    <tr>\n",
       "      <th>77860</th>\n",
       "      <td>Defensive</td>\n",
       "      <td>Offensive</td>\n",
       "      <td>Offensive</td>\n",
       "      <td>Offensive</td>\n",
       "      <td>Defensive</td>\n",
       "      <td>0</td>\n",
       "    </tr>\n",
       "    <tr>\n",
       "      <th>77861</th>\n",
       "      <td>Offensive</td>\n",
       "      <td>Offensive</td>\n",
       "      <td>Offensive</td>\n",
       "      <td>Defensive</td>\n",
       "      <td>Offensive</td>\n",
       "      <td>1</td>\n",
       "    </tr>\n",
       "    <tr>\n",
       "      <th>77862</th>\n",
       "      <td>Offensive</td>\n",
       "      <td>Offensive</td>\n",
       "      <td>Offensive</td>\n",
       "      <td>Offensive</td>\n",
       "      <td>Defensive</td>\n",
       "      <td>0</td>\n",
       "    </tr>\n",
       "    <tr>\n",
       "      <th>77863</th>\n",
       "      <td>Offensive</td>\n",
       "      <td>Offensive</td>\n",
       "      <td>Offensive</td>\n",
       "      <td>Defensive</td>\n",
       "      <td>Offensive</td>\n",
       "      <td>0</td>\n",
       "    </tr>\n",
       "  </tbody>\n",
       "</table>\n",
       "<p>77864 rows × 6 columns</p>\n",
       "</div>"
      ],
      "text/plain": [
       "               0          1          2          3          4  win\n",
       "0      Defensive  Defensive  Offensive  Defensive  Offensive    0\n",
       "1      Offensive  Offensive  Defensive  Defensive  Defensive    1\n",
       "2      Offensive  Offensive  Defensive  Defensive  Defensive    0\n",
       "3      Offensive  Defensive  Offensive  Defensive  Offensive    1\n",
       "4      Offensive  Defensive  Offensive  Defensive  Offensive    1\n",
       "5      Offensive  Offensive  Offensive  Defensive  Offensive    1\n",
       "6      Defensive  Offensive  Offensive  Defensive  Offensive    1\n",
       "7      Offensive  Offensive  Offensive  Defensive  Offensive    0\n",
       "8      Defensive  Defensive  Offensive  Defensive  Defensive    0\n",
       "9      Offensive  Offensive  Offensive  Defensive  Defensive    0\n",
       "10     Offensive  Defensive  Defensive  Defensive  Offensive    1\n",
       "11     Offensive  Offensive  Offensive  Defensive  Defensive    0\n",
       "12     Offensive  Offensive  Offensive  Offensive  Defensive    1\n",
       "13     Offensive  Offensive  Offensive  Defensive  Defensive    1\n",
       "14     Offensive  Defensive  Offensive  Offensive  Defensive    1\n",
       "15     Defensive  Offensive  Defensive  Defensive  Defensive    0\n",
       "16     Offensive  Offensive  Offensive  Defensive  Offensive    1\n",
       "17     Offensive  Defensive  Offensive  Defensive  Defensive    0\n",
       "18     Defensive  Offensive  Offensive  Defensive  Defensive    0\n",
       "19     Offensive  Offensive  Defensive  Defensive  Offensive    1\n",
       "20     Defensive  Defensive  Offensive  Defensive  Offensive    1\n",
       "21     Offensive  Offensive  Offensive  Offensive  Defensive    1\n",
       "22     Offensive  Offensive  Defensive  Offensive  Defensive    1\n",
       "23     Offensive  Offensive  Defensive  Defensive  Offensive    1\n",
       "24     Offensive  Offensive  Defensive  Defensive  Defensive    1\n",
       "25     Offensive  Offensive  Offensive  Defensive  Defensive    1\n",
       "26     Offensive  Offensive  Offensive  Offensive  Defensive    1\n",
       "27     Offensive  Offensive  Defensive  Defensive  Defensive    0\n",
       "28     Defensive  Defensive  Offensive  Defensive  Offensive    0\n",
       "29     Offensive  Defensive  Offensive  Defensive  Defensive    0\n",
       "...          ...        ...        ...        ...        ...  ...\n",
       "77834  Offensive  Offensive  Offensive  Defensive  Offensive    1\n",
       "77835  Defensive  Offensive  Defensive  Defensive  Defensive    1\n",
       "77836  Offensive  Defensive  Offensive  Defensive  Defensive    0\n",
       "77837  Offensive  Offensive  Defensive  Defensive  Offensive    1\n",
       "77838  Defensive  Offensive  Defensive  Defensive  Defensive    0\n",
       "77839  Offensive  Offensive  Defensive  Offensive  Defensive    1\n",
       "77840  Offensive  Defensive  Offensive  Offensive  Offensive    0\n",
       "77841  Defensive  Offensive  Defensive  Defensive  Defensive    0\n",
       "77842  Offensive  Offensive  Defensive  Offensive  Defensive    1\n",
       "77843  Defensive  Offensive  Defensive  Offensive  Defensive    0\n",
       "77844  Defensive  Offensive  Offensive  Defensive  Defensive    1\n",
       "77845  Defensive  Offensive  Defensive  Offensive  Offensive    0\n",
       "77846  Defensive  Offensive  Offensive  Defensive  Defensive    1\n",
       "77847  Offensive  Offensive  Defensive  Defensive  Defensive    1\n",
       "77848  Defensive  Offensive  Defensive  Offensive  Defensive    0\n",
       "77849  Offensive  Defensive  Defensive  Defensive  Defensive    0\n",
       "77850  Defensive  Defensive  Defensive  Defensive  Offensive    0\n",
       "77851  Offensive  Offensive  Defensive  Offensive  Defensive    1\n",
       "77852  Offensive  Offensive  Offensive  Defensive  Offensive    1\n",
       "77853  Offensive  Defensive  Defensive  Offensive  Defensive    0\n",
       "77854  Offensive  Defensive  Offensive  Defensive  Defensive    1\n",
       "77855  Offensive  Offensive  Defensive  Defensive  Defensive    0\n",
       "77856  Offensive  Offensive  Offensive  Defensive  Defensive    0\n",
       "77857  Defensive  Offensive  Offensive  Offensive  Defensive    1\n",
       "77858  Offensive  Offensive  Defensive  Offensive  Defensive    0\n",
       "77859  Defensive  Offensive  Defensive  Defensive  Defensive    1\n",
       "77860  Defensive  Offensive  Offensive  Offensive  Defensive    0\n",
       "77861  Offensive  Offensive  Offensive  Defensive  Offensive    1\n",
       "77862  Offensive  Offensive  Offensive  Offensive  Defensive    0\n",
       "77863  Offensive  Offensive  Offensive  Defensive  Offensive    0\n",
       "\n",
       "[77864 rows x 6 columns]"
      ]
     },
     "execution_count": 14,
     "metadata": {},
     "output_type": "execute_result"
    }
   ],
   "source": [
    "tj_dd_w=0\n",
    "tj_dd_l=0\n",
    "tj_ad_w=0\n",
    "tj_ad_l=0\n",
    "tj_da_w=0\n",
    "tj_da_l=0\n",
    "tj_aa_w=0\n",
    "tj_aa_l=0\n",
    "mj_dd_w=0\n",
    "mj_dd_l=0\n",
    "mj_ad_w=0\n",
    "mj_ad_l=0\n",
    "mj_da_w=0\n",
    "mj_da_l=0\n",
    "mj_aa_w=0\n",
    "mj_aa_l=0\n",
    "aj_dd_w=0\n",
    "aj_dd_l=0\n",
    "aj_ad_w=0\n",
    "aj_ad_l=0\n",
    "aj_da_w=0\n",
    "aj_da_l=0\n",
    "aj_aa_w=0\n",
    "aj_aa_l=0\n",
    "sj_dd_w=0\n",
    "sj_dd_l=0\n",
    "sj_ad_w=0\n",
    "sj_ad_l=0\n",
    "sj_da_w=0\n",
    "sj_da_l=0\n",
    "sj_aa_w=0\n",
    "sj_aa_l=0\n",
    "as_dd_w=0\n",
    "as_dd_l=0\n",
    "as_da_w=0\n",
    "as_da_l=0\n",
    "as_aa_w=0\n",
    "as_aa_l=0\n",
    "\n",
    "for i in range(len(t3)):\n",
    "    if t3.iloc[i][0]=='Defensive' and t3.iloc[i][1]=='Defensive':\n",
    "        if t3.iloc[i][5]==1:\n",
    "            tj_dd_w += 1\n",
    "        else:\n",
    "            tj_dd_l += 1\n",
    "    if t3.iloc[i][0]=='Defensive' and t3.iloc[i][1]=='Offensive':\n",
    "        if t3.iloc[i][5]==1:\n",
    "            tj_da_w += 1\n",
    "        else:\n",
    "            tj_da_l += 1"
   ]
  },
  {
   "cell_type": "code",
   "execution_count": 11,
   "metadata": {
    "ExecuteTime": {
     "end_time": "2020-11-27T07:12:32.827842Z",
     "start_time": "2020-11-27T07:12:32.786889Z"
    }
   },
   "outputs": [
    {
     "data": {
      "text/html": [
       "<div>\n",
       "<style scoped>\n",
       "    .dataframe tbody tr th:only-of-type {\n",
       "        vertical-align: middle;\n",
       "    }\n",
       "\n",
       "    .dataframe tbody tr th {\n",
       "        vertical-align: top;\n",
       "    }\n",
       "\n",
       "    .dataframe thead th {\n",
       "        text-align: right;\n",
       "    }\n",
       "</style>\n",
       "<table border=\"1\" class=\"dataframe\">\n",
       "  <thead>\n",
       "    <tr style=\"text-align: right;\">\n",
       "      <th></th>\n",
       "      <th></th>\n",
       "      <th></th>\n",
       "      <th>TOP</th>\n",
       "      <th>JUNGLE</th>\n",
       "      <th>MIDDLE</th>\n",
       "    </tr>\n",
       "    <tr>\n",
       "      <th>BOTTOM</th>\n",
       "      <th>BOTTOM2</th>\n",
       "      <th>WIN</th>\n",
       "      <th></th>\n",
       "      <th></th>\n",
       "      <th></th>\n",
       "    </tr>\n",
       "  </thead>\n",
       "  <tbody>\n",
       "    <tr>\n",
       "      <th rowspan=\"4\" valign=\"top\">Defensive</th>\n",
       "      <th rowspan=\"2\" valign=\"top\">Defensive</th>\n",
       "      <th>0</th>\n",
       "      <td>22624</td>\n",
       "      <td>22624</td>\n",
       "      <td>22624</td>\n",
       "    </tr>\n",
       "    <tr>\n",
       "      <th>1</th>\n",
       "      <td>20259</td>\n",
       "      <td>20259</td>\n",
       "      <td>20259</td>\n",
       "    </tr>\n",
       "    <tr>\n",
       "      <th rowspan=\"2\" valign=\"top\">Offensive</th>\n",
       "      <th>0</th>\n",
       "      <td>7652</td>\n",
       "      <td>7652</td>\n",
       "      <td>7652</td>\n",
       "    </tr>\n",
       "    <tr>\n",
       "      <th>1</th>\n",
       "      <td>7673</td>\n",
       "      <td>7673</td>\n",
       "      <td>7673</td>\n",
       "    </tr>\n",
       "    <tr>\n",
       "      <th rowspan=\"4\" valign=\"top\">Offensive</th>\n",
       "      <th rowspan=\"2\" valign=\"top\">Defensive</th>\n",
       "      <th>0</th>\n",
       "      <td>7457</td>\n",
       "      <td>7457</td>\n",
       "      <td>7457</td>\n",
       "    </tr>\n",
       "    <tr>\n",
       "      <th>1</th>\n",
       "      <td>7686</td>\n",
       "      <td>7686</td>\n",
       "      <td>7686</td>\n",
       "    </tr>\n",
       "    <tr>\n",
       "      <th rowspan=\"2\" valign=\"top\">Offensive</th>\n",
       "      <th>0</th>\n",
       "      <td>2110</td>\n",
       "      <td>2110</td>\n",
       "      <td>2110</td>\n",
       "    </tr>\n",
       "    <tr>\n",
       "      <th>1</th>\n",
       "      <td>2403</td>\n",
       "      <td>2403</td>\n",
       "      <td>2403</td>\n",
       "    </tr>\n",
       "  </tbody>\n",
       "</table>\n",
       "</div>"
      ],
      "text/plain": [
       "                           TOP  JUNGLE  MIDDLE\n",
       "BOTTOM    BOTTOM2   WIN                       \n",
       "Defensive Defensive 0    22624   22624   22624\n",
       "                    1    20259   20259   20259\n",
       "          Offensive 0     7652    7652    7652\n",
       "                    1     7673    7673    7673\n",
       "Offensive Defensive 0     7457    7457    7457\n",
       "                    1     7686    7686    7686\n",
       "          Offensive 0     2110    2110    2110\n",
       "                    1     2403    2403    2403"
      ]
     },
     "execution_count": 11,
     "metadata": {},
     "output_type": "execute_result"
    }
   ],
   "source": [
    "t3.groupby(['BOTTOM','BOTTOM2','WIN']).count()"
   ]
  },
  {
   "cell_type": "code",
   "execution_count": 129,
   "metadata": {
    "ExecuteTime": {
     "end_time": "2020-11-27T08:03:20.385316Z",
     "start_time": "2020-11-27T08:03:20.373830Z"
    }
   },
   "outputs": [],
   "source": [
    "t3.columns = ['TOP','JUNGLE','MIDDLE','BOTTOM','SUPPORT','WIN']"
   ]
  },
  {
   "cell_type": "code",
   "execution_count": 12,
   "metadata": {
    "ExecuteTime": {
     "end_time": "2020-11-27T07:13:44.892019Z",
     "start_time": "2020-11-27T07:13:44.874068Z"
    }
   },
   "outputs": [],
   "source": [
    "tj_dd = 3004/(5221+3004)\n",
    "tj_do = 10215/(11514+10215)\n",
    "tj_od = 5092/(6540+5092)\n",
    "tj_oo = 19710/(16568+19710)"
   ]
  },
  {
   "cell_type": "code",
   "execution_count": 13,
   "metadata": {
    "ExecuteTime": {
     "end_time": "2020-11-27T07:13:45.868621Z",
     "start_time": "2020-11-27T07:13:45.856644Z"
    }
   },
   "outputs": [],
   "source": [
    "mj_dd = 2954/(5126+2954)\n",
    "mj_do = 9841/(11133+9841)\n",
    "mj_of = 5142/(6635+5142)\n",
    "mj_oo = 20084/(16949+20084)"
   ]
  },
  {
   "cell_type": "code",
   "execution_count": 14,
   "metadata": {
    "ExecuteTime": {
     "end_time": "2020-11-27T07:13:46.549476Z",
     "start_time": "2020-11-27T07:13:46.543492Z"
    }
   },
   "outputs": [],
   "source": [
    "aj_dd = 6147/(9200+6147)\n",
    "aj_do = 21785/(21785+21076)\n",
    "aj_od = 1949/(2561+1949)\n",
    "aj_oo = 8140/(7006+8140)"
   ]
  },
  {
   "cell_type": "code",
   "execution_count": 15,
   "metadata": {
    "ExecuteTime": {
     "end_time": "2020-11-27T07:13:47.823993Z",
     "start_time": "2020-11-27T07:13:47.809033Z"
    }
   },
   "outputs": [],
   "source": [
    "sj_dd = 6090/(9110+6090)\n",
    "sj_do = 21855/(21855+20971)\n",
    "sj_od = 2006/(2006+2651)\n",
    "sj_oo = 8070/(7111+8070)"
   ]
  },
  {
   "cell_type": "code",
   "execution_count": 16,
   "metadata": {
    "ExecuteTime": {
     "end_time": "2020-11-27T07:13:54.076828Z",
     "start_time": "2020-11-27T07:13:54.068850Z"
    }
   },
   "outputs": [],
   "source": [
    "as_dd = 22624/(22624+20259)\n",
    "as_od  = (7686+7673)/(7652+7457+7686+7673)\n",
    "as_oo = 2403/(2110+2403)"
   ]
  },
  {
   "cell_type": "code",
   "execution_count": 17,
   "metadata": {
    "ExecuteTime": {
     "end_time": "2020-11-27T07:13:58.700260Z",
     "start_time": "2020-11-27T07:13:58.686298Z"
    }
   },
   "outputs": [],
   "source": [
    "a = dict()"
   ]
  },
  {
   "cell_type": "code",
   "execution_count": 18,
   "metadata": {
    "ExecuteTime": {
     "end_time": "2020-11-27T07:13:59.100469Z",
     "start_time": "2020-11-27T07:13:59.089500Z"
    }
   },
   "outputs": [],
   "source": [
    "a['tj_dd'] = tj_dd"
   ]
  },
  {
   "cell_type": "code",
   "execution_count": 19,
   "metadata": {
    "ExecuteTime": {
     "end_time": "2020-11-27T07:13:59.451980Z",
     "start_time": "2020-11-27T07:13:59.438019Z"
    }
   },
   "outputs": [],
   "source": [
    "a['tj_do'] = tj_do"
   ]
  },
  {
   "cell_type": "code",
   "execution_count": 20,
   "metadata": {
    "ExecuteTime": {
     "end_time": "2020-11-27T07:13:59.962496Z",
     "start_time": "2020-11-27T07:13:59.957544Z"
    }
   },
   "outputs": [],
   "source": [
    "a['tj_od'] = tj_od\n",
    "a['tj_oo'] = tj_oo\n",
    "a['mj_dd'] = mj_dd\n",
    "a['mj_do'] = mj_do\n",
    "a['mj_of'] = mj_of\n",
    "a['mj_oo'] = mj_oo\n",
    "a['aj_dd'] = aj_dd\n",
    "a['aj_do'] = aj_do\n",
    "a['aj_od'] = aj_od\n",
    "a['aj_oo'] = aj_oo\n",
    "a['sj_dd'] = sj_dd\n",
    "a['sj_do'] = sj_do\n",
    "a['sj_od'] = sj_od\n",
    "a['sj_oo'] = sj_oo\n",
    "a['as_dd'] = as_dd\n",
    "a['as_od'] = as_od\n",
    "a['as_oo'] = as_oo"
   ]
  },
  {
   "cell_type": "code",
   "execution_count": 25,
   "metadata": {
    "ExecuteTime": {
     "end_time": "2020-11-27T07:15:04.780766Z",
     "start_time": "2020-11-27T07:15:04.772821Z"
    }
   },
   "outputs": [],
   "source": [
    "win = pd.DataFrame()"
   ]
  },
  {
   "cell_type": "code",
   "execution_count": 37,
   "metadata": {
    "ExecuteTime": {
     "end_time": "2020-11-27T07:17:18.188991Z",
     "start_time": "2020-11-27T07:17:18.180016Z"
    }
   },
   "outputs": [],
   "source": [
    "b = pd.DataFrame(data=list(a.values())).T"
   ]
  },
  {
   "cell_type": "code",
   "execution_count": 39,
   "metadata": {
    "ExecuteTime": {
     "end_time": "2020-11-27T07:17:29.973888Z",
     "start_time": "2020-11-27T07:17:29.956890Z"
    }
   },
   "outputs": [],
   "source": [
    "b.columns = a.keys()"
   ]
  },
  {
   "cell_type": "code",
   "execution_count": 66,
   "metadata": {
    "ExecuteTime": {
     "end_time": "2020-11-13T16:54:43.593561Z",
     "start_time": "2020-11-13T16:54:43.581594Z"
    }
   },
   "outputs": [],
   "source": [
    "win.to_csv('승률.csv',index=False)"
   ]
  },
  {
   "cell_type": "code",
   "execution_count": 40,
   "metadata": {
    "ExecuteTime": {
     "end_time": "2020-11-27T07:17:34.190716Z",
     "start_time": "2020-11-27T07:17:34.163787Z"
    }
   },
   "outputs": [
    {
     "data": {
      "text/html": [
       "<div>\n",
       "<style scoped>\n",
       "    .dataframe tbody tr th:only-of-type {\n",
       "        vertical-align: middle;\n",
       "    }\n",
       "\n",
       "    .dataframe tbody tr th {\n",
       "        vertical-align: top;\n",
       "    }\n",
       "\n",
       "    .dataframe thead th {\n",
       "        text-align: right;\n",
       "    }\n",
       "</style>\n",
       "<table border=\"1\" class=\"dataframe\">\n",
       "  <thead>\n",
       "    <tr style=\"text-align: right;\">\n",
       "      <th></th>\n",
       "      <th>tj_dd</th>\n",
       "      <th>tj_do</th>\n",
       "      <th>tj_od</th>\n",
       "      <th>tj_oo</th>\n",
       "      <th>mj_dd</th>\n",
       "      <th>mj_do</th>\n",
       "      <th>mj_of</th>\n",
       "      <th>mj_oo</th>\n",
       "      <th>aj_dd</th>\n",
       "      <th>aj_do</th>\n",
       "      <th>aj_od</th>\n",
       "      <th>aj_oo</th>\n",
       "      <th>sj_dd</th>\n",
       "      <th>sj_do</th>\n",
       "      <th>sj_od</th>\n",
       "      <th>sj_oo</th>\n",
       "      <th>as_dd</th>\n",
       "      <th>as_od</th>\n",
       "      <th>as_oo</th>\n",
       "    </tr>\n",
       "  </thead>\n",
       "  <tbody>\n",
       "    <tr>\n",
       "      <th>0</th>\n",
       "      <td>0.365228</td>\n",
       "      <td>0.470109</td>\n",
       "      <td>0.437758</td>\n",
       "      <td>0.543304</td>\n",
       "      <td>0.365594</td>\n",
       "      <td>0.4692</td>\n",
       "      <td>0.436614</td>\n",
       "      <td>0.542327</td>\n",
       "      <td>0.400534</td>\n",
       "      <td>0.508271</td>\n",
       "      <td>0.432151</td>\n",
       "      <td>0.537436</td>\n",
       "      <td>0.400658</td>\n",
       "      <td>0.510321</td>\n",
       "      <td>0.430749</td>\n",
       "      <td>0.531586</td>\n",
       "      <td>0.527575</td>\n",
       "      <td>0.504103</td>\n",
       "      <td>0.532462</td>\n",
       "    </tr>\n",
       "  </tbody>\n",
       "</table>\n",
       "</div>"
      ],
      "text/plain": [
       "      tj_dd     tj_do     tj_od     tj_oo     mj_dd   mj_do     mj_of  \\\n",
       "0  0.365228  0.470109  0.437758  0.543304  0.365594  0.4692  0.436614   \n",
       "\n",
       "      mj_oo     aj_dd     aj_do     aj_od     aj_oo     sj_dd     sj_do  \\\n",
       "0  0.542327  0.400534  0.508271  0.432151  0.537436  0.400658  0.510321   \n",
       "\n",
       "      sj_od     sj_oo     as_dd     as_od     as_oo  \n",
       "0  0.430749  0.531586  0.527575  0.504103  0.532462  "
      ]
     },
     "execution_count": 40,
     "metadata": {},
     "output_type": "execute_result"
    }
   ],
   "source": [
    "b"
   ]
  },
  {
   "cell_type": "code",
   "execution_count": 62,
   "metadata": {
    "ExecuteTime": {
     "end_time": "2020-11-27T07:25:36.561549Z",
     "start_time": "2020-11-27T07:25:36.541603Z"
    }
   },
   "outputs": [
    {
     "data": {
      "text/html": [
       "<div>\n",
       "<style scoped>\n",
       "    .dataframe tbody tr th:only-of-type {\n",
       "        vertical-align: middle;\n",
       "    }\n",
       "\n",
       "    .dataframe tbody tr th {\n",
       "        vertical-align: top;\n",
       "    }\n",
       "\n",
       "    .dataframe thead th {\n",
       "        text-align: right;\n",
       "    }\n",
       "</style>\n",
       "<table border=\"1\" class=\"dataframe\">\n",
       "  <thead>\n",
       "    <tr style=\"text-align: right;\">\n",
       "      <th></th>\n",
       "      <th>Top_O</th>\n",
       "      <th>Top_D</th>\n",
       "      <th>Jungle_O</th>\n",
       "      <th>Jungle_D</th>\n",
       "      <th>Middle_O</th>\n",
       "      <th>Middle_D</th>\n",
       "      <th>Bottom_O</th>\n",
       "      <th>Bottom_D</th>\n",
       "      <th>Support_O</th>\n",
       "      <th>Support_D</th>\n",
       "    </tr>\n",
       "  </thead>\n",
       "  <tbody>\n",
       "  </tbody>\n",
       "</table>\n",
       "</div>"
      ],
      "text/plain": [
       "Empty DataFrame\n",
       "Columns: [Top_O, Top_D, Jungle_O, Jungle_D, Middle_O, Middle_D, Bottom_O, Bottom_D, Support_O, Support_D]\n",
       "Index: []"
      ]
     },
     "execution_count": 62,
     "metadata": {},
     "output_type": "execute_result"
    }
   ],
   "source": [
    "c.append(0,0,54,43,55,46,46,40,54,51,46,44,54,51,)"
   ]
  },
  {
   "cell_type": "code",
   "execution_count": 42,
   "metadata": {
    "ExecuteTime": {
     "end_time": "2020-11-27T07:19:37.651235Z",
     "start_time": "2020-11-27T07:19:37.625345Z"
    }
   },
   "outputs": [],
   "source": [
    "c = pd.DataFrame(columns=['Top_O','Top_D','Jungle_O','Jungle_D','Middle_O','Middle_D','Bottom_O','Bottom_D','Support_O','Support_D'])"
   ]
  },
  {
   "cell_type": "code",
   "execution_count": 98,
   "metadata": {
    "ExecuteTime": {
     "end_time": "2020-11-27T07:44:09.104482Z",
     "start_time": "2020-11-27T07:44:09.082541Z"
    }
   },
   "outputs": [
    {
     "data": {
      "text/plain": [
       "BOTTOM     BOTTOM2    WIN\n",
       "Defensive  Defensive  0      22624\n",
       "                      1      20259\n",
       "           Offensive  0       7652\n",
       "                      1       7673\n",
       "Offensive  Defensive  0       7457\n",
       "                      1       7686\n",
       "           Offensive  0       2110\n",
       "                      1       2403\n",
       "Name: WIN, dtype: int64"
      ]
     },
     "execution_count": 98,
     "metadata": {},
     "output_type": "execute_result"
    }
   ],
   "source": [
    "t3.groupby(['BOTTOM','BOTTOM2','WIN'])['WIN'].count()"
   ]
  },
  {
   "cell_type": "code",
   "execution_count": 106,
   "metadata": {
    "ExecuteTime": {
     "end_time": "2020-11-27T07:46:23.859562Z",
     "start_time": "2020-11-27T07:46:23.844603Z"
    }
   },
   "outputs": [],
   "source": [
    "c.loc[9]=(51,44,51,40,50,44,51,52,0,0)"
   ]
  },
  {
   "cell_type": "code",
   "execution_count": 107,
   "metadata": {
    "ExecuteTime": {
     "end_time": "2020-11-27T07:46:37.533116Z",
     "start_time": "2020-11-27T07:46:37.524141Z"
    }
   },
   "outputs": [],
   "source": [
    "c.index = c.columns"
   ]
  },
  {
   "cell_type": "code",
   "execution_count": 130,
   "metadata": {
    "ExecuteTime": {
     "end_time": "2020-11-27T08:03:25.252072Z",
     "start_time": "2020-11-27T08:03:25.231128Z"
    }
   },
   "outputs": [
    {
     "data": {
      "text/html": [
       "<div>\n",
       "<style scoped>\n",
       "    .dataframe tbody tr th:only-of-type {\n",
       "        vertical-align: middle;\n",
       "    }\n",
       "\n",
       "    .dataframe tbody tr th {\n",
       "        vertical-align: top;\n",
       "    }\n",
       "\n",
       "    .dataframe thead th {\n",
       "        text-align: right;\n",
       "    }\n",
       "</style>\n",
       "<table border=\"1\" class=\"dataframe\">\n",
       "  <thead>\n",
       "    <tr style=\"text-align: right;\">\n",
       "      <th></th>\n",
       "      <th>TOP</th>\n",
       "      <th>JUNGLE</th>\n",
       "      <th>MIDDLE</th>\n",
       "      <th>BOTTOM</th>\n",
       "      <th>SUPPORT</th>\n",
       "      <th>WIN</th>\n",
       "    </tr>\n",
       "  </thead>\n",
       "  <tbody>\n",
       "    <tr>\n",
       "      <th>0</th>\n",
       "      <td>Defensive</td>\n",
       "      <td>Defensive</td>\n",
       "      <td>Offensive</td>\n",
       "      <td>Defensive</td>\n",
       "      <td>Offensive</td>\n",
       "      <td>0</td>\n",
       "    </tr>\n",
       "    <tr>\n",
       "      <th>1</th>\n",
       "      <td>Offensive</td>\n",
       "      <td>Offensive</td>\n",
       "      <td>Defensive</td>\n",
       "      <td>Defensive</td>\n",
       "      <td>Defensive</td>\n",
       "      <td>1</td>\n",
       "    </tr>\n",
       "    <tr>\n",
       "      <th>2</th>\n",
       "      <td>Offensive</td>\n",
       "      <td>Offensive</td>\n",
       "      <td>Defensive</td>\n",
       "      <td>Defensive</td>\n",
       "      <td>Defensive</td>\n",
       "      <td>0</td>\n",
       "    </tr>\n",
       "    <tr>\n",
       "      <th>3</th>\n",
       "      <td>Offensive</td>\n",
       "      <td>Defensive</td>\n",
       "      <td>Offensive</td>\n",
       "      <td>Defensive</td>\n",
       "      <td>Offensive</td>\n",
       "      <td>1</td>\n",
       "    </tr>\n",
       "    <tr>\n",
       "      <th>4</th>\n",
       "      <td>Offensive</td>\n",
       "      <td>Defensive</td>\n",
       "      <td>Offensive</td>\n",
       "      <td>Defensive</td>\n",
       "      <td>Offensive</td>\n",
       "      <td>1</td>\n",
       "    </tr>\n",
       "  </tbody>\n",
       "</table>\n",
       "</div>"
      ],
      "text/plain": [
       "         TOP     JUNGLE     MIDDLE     BOTTOM    SUPPORT  WIN\n",
       "0  Defensive  Defensive  Offensive  Defensive  Offensive    0\n",
       "1  Offensive  Offensive  Defensive  Defensive  Defensive    1\n",
       "2  Offensive  Offensive  Defensive  Defensive  Defensive    0\n",
       "3  Offensive  Defensive  Offensive  Defensive  Offensive    1\n",
       "4  Offensive  Defensive  Offensive  Defensive  Offensive    1"
      ]
     },
     "execution_count": 130,
     "metadata": {},
     "output_type": "execute_result"
    }
   ],
   "source": [
    "t3.head()"
   ]
  },
  {
   "cell_type": "code",
   "execution_count": 128,
   "metadata": {
    "ExecuteTime": {
     "end_time": "2020-11-27T08:02:29.470125Z",
     "start_time": "2020-11-27T08:02:29.463100Z"
    }
   },
   "outputs": [
    {
     "data": {
      "text/plain": [
       "77864"
      ]
     },
     "execution_count": 128,
     "metadata": {},
     "output_type": "execute_result"
    }
   ],
   "source": [
    "len(t3)"
   ]
  },
  {
   "cell_type": "code",
   "execution_count": 110,
   "metadata": {
    "ExecuteTime": {
     "end_time": "2020-11-27T07:52:52.127094Z",
     "start_time": "2020-11-27T07:52:51.891027Z"
    }
   },
   "outputs": [],
   "source": [
    "import matplotlib.pyplot as plt"
   ]
  },
  {
   "cell_type": "code",
   "execution_count": 133,
   "metadata": {
    "ExecuteTime": {
     "end_time": "2020-11-27T08:05:01.082966Z",
     "start_time": "2020-11-27T08:05:00.947901Z"
    },
    "scrolled": false
   },
   "outputs": [
    {
     "data": {
      "image/png": "[encoded data removed]",
      "text/plain": [
       "<Figure size 864x288 with 1 Axes>"
      ]
     },
     "metadata": {},
     "output_type": "display_data"
    }
   ],
   "source": [
    "fig = plt.figure(figsize=(12,4))\n",
    "chart = plt.subplot(1,1,1)\n",
    "chart.plot(c['Middle_O'],label=\"MIDDLE-OFFENSIVE\")\n",
    "chart.plot(c['Middle_D'],label=\"MIDDLE-DEFENSIVE\")\n",
    "plt.legend(loc=\"best\")\n",
    "plt.show()"
   ]
  },
  {
   "cell_type": "code",
   "execution_count": 134,
   "metadata": {
    "ExecuteTime": {
     "end_time": "2020-11-27T08:13:30.796063Z",
     "start_time": "2020-11-27T08:13:30.778111Z"
    }
   },
   "outputs": [
    {
     "data": {
      "text/html": [
       "<div>\n",
       "<style scoped>\n",
       "    .dataframe tbody tr th:only-of-type {\n",
       "        vertical-align: middle;\n",
       "    }\n",
       "\n",
       "    .dataframe tbody tr th {\n",
       "        vertical-align: top;\n",
       "    }\n",
       "\n",
       "    .dataframe thead th {\n",
       "        text-align: right;\n",
       "    }\n",
       "</style>\n",
       "<table border=\"1\" class=\"dataframe\">\n",
       "  <thead>\n",
       "    <tr style=\"text-align: right;\">\n",
       "      <th></th>\n",
       "      <th>Top_O</th>\n",
       "      <th>Top_D</th>\n",
       "      <th>Jungle_O</th>\n",
       "      <th>Jungle_D</th>\n",
       "      <th>Middle_O</th>\n",
       "      <th>Middle_D</th>\n",
       "      <th>Bottom_O</th>\n",
       "      <th>Bottom_D</th>\n",
       "      <th>Support_O</th>\n",
       "      <th>Support_D</th>\n",
       "    </tr>\n",
       "  </thead>\n",
       "  <tbody>\n",
       "    <tr>\n",
       "      <th>Top_O</th>\n",
       "      <td>0</td>\n",
       "      <td>0</td>\n",
       "      <td>54</td>\n",
       "      <td>44</td>\n",
       "      <td>55</td>\n",
       "      <td>46</td>\n",
       "      <td>54</td>\n",
       "      <td>51</td>\n",
       "      <td>54</td>\n",
       "      <td>51</td>\n",
       "    </tr>\n",
       "    <tr>\n",
       "      <th>Top_D</th>\n",
       "      <td>0</td>\n",
       "      <td>0</td>\n",
       "      <td>47</td>\n",
       "      <td>37</td>\n",
       "      <td>46</td>\n",
       "      <td>40</td>\n",
       "      <td>46</td>\n",
       "      <td>44</td>\n",
       "      <td>45</td>\n",
       "      <td>44</td>\n",
       "    </tr>\n",
       "    <tr>\n",
       "      <th>Jungle_O</th>\n",
       "      <td>54</td>\n",
       "      <td>44</td>\n",
       "      <td>0</td>\n",
       "      <td>0</td>\n",
       "      <td>54</td>\n",
       "      <td>47</td>\n",
       "      <td>54</td>\n",
       "      <td>50</td>\n",
       "      <td>53</td>\n",
       "      <td>51</td>\n",
       "    </tr>\n",
       "    <tr>\n",
       "      <th>Jungle_D</th>\n",
       "      <td>47</td>\n",
       "      <td>37</td>\n",
       "      <td>0</td>\n",
       "      <td>0</td>\n",
       "      <td>44</td>\n",
       "      <td>36</td>\n",
       "      <td>43</td>\n",
       "      <td>40</td>\n",
       "      <td>43</td>\n",
       "      <td>40</td>\n",
       "    </tr>\n",
       "    <tr>\n",
       "      <th>Middle_O</th>\n",
       "      <td>55</td>\n",
       "      <td>46</td>\n",
       "      <td>54</td>\n",
       "      <td>44</td>\n",
       "      <td>0</td>\n",
       "      <td>0</td>\n",
       "      <td>54</td>\n",
       "      <td>51</td>\n",
       "      <td>54</td>\n",
       "      <td>50</td>\n",
       "    </tr>\n",
       "    <tr>\n",
       "      <th>Middle_D</th>\n",
       "      <td>46</td>\n",
       "      <td>40</td>\n",
       "      <td>47</td>\n",
       "      <td>36</td>\n",
       "      <td>0</td>\n",
       "      <td>0</td>\n",
       "      <td>45</td>\n",
       "      <td>44</td>\n",
       "      <td>44</td>\n",
       "      <td>44</td>\n",
       "    </tr>\n",
       "    <tr>\n",
       "      <th>Bottom_O</th>\n",
       "      <td>54</td>\n",
       "      <td>46</td>\n",
       "      <td>54</td>\n",
       "      <td>43</td>\n",
       "      <td>54</td>\n",
       "      <td>45</td>\n",
       "      <td>0</td>\n",
       "      <td>0</td>\n",
       "      <td>53</td>\n",
       "      <td>51</td>\n",
       "    </tr>\n",
       "    <tr>\n",
       "      <th>Bottom_D</th>\n",
       "      <td>51</td>\n",
       "      <td>44</td>\n",
       "      <td>50</td>\n",
       "      <td>40</td>\n",
       "      <td>51</td>\n",
       "      <td>44</td>\n",
       "      <td>0</td>\n",
       "      <td>0</td>\n",
       "      <td>50</td>\n",
       "      <td>52</td>\n",
       "    </tr>\n",
       "    <tr>\n",
       "      <th>Support_O</th>\n",
       "      <td>54</td>\n",
       "      <td>45</td>\n",
       "      <td>53</td>\n",
       "      <td>43</td>\n",
       "      <td>54</td>\n",
       "      <td>44</td>\n",
       "      <td>53</td>\n",
       "      <td>50</td>\n",
       "      <td>0</td>\n",
       "      <td>0</td>\n",
       "    </tr>\n",
       "    <tr>\n",
       "      <th>Support_D</th>\n",
       "      <td>51</td>\n",
       "      <td>44</td>\n",
       "      <td>51</td>\n",
       "      <td>40</td>\n",
       "      <td>50</td>\n",
       "      <td>44</td>\n",
       "      <td>51</td>\n",
       "      <td>52</td>\n",
       "      <td>0</td>\n",
       "      <td>0</td>\n",
       "    </tr>\n",
       "  </tbody>\n",
       "</table>\n",
       "</div>"
      ],
      "text/plain": [
       "           Top_O  Top_D  Jungle_O  Jungle_D  Middle_O  Middle_D  Bottom_O  \\\n",
       "Top_O          0      0        54        44        55        46        54   \n",
       "Top_D          0      0        47        37        46        40        46   \n",
       "Jungle_O      54     44         0         0        54        47        54   \n",
       "Jungle_D      47     37         0         0        44        36        43   \n",
       "Middle_O      55     46        54        44         0         0        54   \n",
       "Middle_D      46     40        47        36         0         0        45   \n",
       "Bottom_O      54     46        54        43        54        45         0   \n",
       "Bottom_D      51     44        50        40        51        44         0   \n",
       "Support_O     54     45        53        43        54        44        53   \n",
       "Support_D     51     44        51        40        50        44        51   \n",
       "\n",
       "           Bottom_D  Support_O  Support_D  \n",
       "Top_O            51         54         51  \n",
       "Top_D            44         45         44  \n",
       "Jungle_O         50         53         51  \n",
       "Jungle_D         40         43         40  \n",
       "Middle_O         51         54         50  \n",
       "Middle_D         44         44         44  \n",
       "Bottom_O          0         53         51  \n",
       "Bottom_D          0         50         52  \n",
       "Support_O        50          0          0  \n",
       "Support_D        52          0          0  "
      ]
     },
     "execution_count": 134,
     "metadata": {},
     "output_type": "execute_result"
    }
   ],
   "source": [
    "c"
   ]
  },
  {
   "cell_type": "code",
   "execution_count": null,
   "metadata": {},
   "outputs": [],
   "source": []
  }
 ],
 "metadata": {
  "kernelspec": {
   "display_name": "Python 3",
   "language": "python",
   "name": "python3"
  },
  "language_info": {
   "codemirror_mode": {
    "name": "ipython",
    "version": 3
   },
   "file_extension": ".py",
   "mimetype": "text/x-python",
   "name": "python",
   "nbconvert_exporter": "python",
   "pygments_lexer": "ipython3",
   "version": "3.6.5"
  },
  "varInspector": {
   "cols": {
    "lenName": 16,
    "lenType": 16,
    "lenVar": 40
   },
   "kernels_config": {
    "python": {
     "delete_cmd_postfix": "",
     "delete_cmd_prefix": "del ",
     "library": "var_list.py",
     "varRefreshCmd": "print(var_dic_list())"
    },
    "r": {
     "delete_cmd_postfix": ") ",
     "delete_cmd_prefix": "rm(",
     "library": "var_list.r",
     "varRefreshCmd": "cat(var_dic_list()) "
    }
   },
   "position": {
    "height": "730.208px",
    "left": "996.667px",
    "right": "20px",
    "top": "15px",
    "width": "593px"
   },
   "types_to_exclude": [
    "module",
    "function",
    "builtin_function_or_method",
    "instance",
    "_Feature"
   ],
   "window_display": false
  }
 },
 "nbformat": 4,
 "nbformat_minor": 2
}
