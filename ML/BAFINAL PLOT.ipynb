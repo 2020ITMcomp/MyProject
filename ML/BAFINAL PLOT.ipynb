{
 "cells": [
  {
   "cell_type": "code",
   "execution_count": 1,
   "metadata": {
    "ExecuteTime": {
     "end_time": "2020-11-26T04:45:10.557565Z",
     "start_time": "2020-11-26T04:45:08.883612Z"
    }
   },
   "outputs": [],
   "source": [
    "import pandas as pd"
   ]
  },
  {
   "cell_type": "code",
   "execution_count": 2,
   "metadata": {
    "ExecuteTime": {
     "end_time": "2020-11-26T04:45:43.170909Z",
     "start_time": "2020-11-26T04:45:43.130022Z"
    }
   },
   "outputs": [],
   "source": [
    "data = pd.read_csv(\"C:/Users/Seung kyu Hong/Desktop/ba.csv\")"
   ]
  },
  {
   "cell_type": "code",
   "execution_count": 3,
   "metadata": {
    "ExecuteTime": {
     "end_time": "2020-11-26T04:45:47.767826Z",
     "start_time": "2020-11-26T04:45:47.722944Z"
    }
   },
   "outputs": [
    {
     "data": {
      "text/html": [
       "<div>\n",
       "<style scoped>\n",
       "    .dataframe tbody tr th:only-of-type {\n",
       "        vertical-align: middle;\n",
       "    }\n",
       "\n",
       "    .dataframe tbody tr th {\n",
       "        vertical-align: top;\n",
       "    }\n",
       "\n",
       "    .dataframe thead th {\n",
       "        text-align: right;\n",
       "    }\n",
       "</style>\n",
       "<table border=\"1\" class=\"dataframe\">\n",
       "  <thead>\n",
       "    <tr style=\"text-align: right;\">\n",
       "      <th></th>\n",
       "      <th>Date</th>\n",
       "      <th>Daily_Confirmed</th>\n",
       "      <th>traveled</th>\n",
       "      <th>Domestic_Air_Seoul_In</th>\n",
       "      <th>trendTotal</th>\n",
       "      <th>meanTemperature</th>\n",
       "      <th>dailyTemperatureRange</th>\n",
       "      <th>rolling_3</th>\n",
       "      <th>Policy_1</th>\n",
       "      <th>Policy_3</th>\n",
       "    </tr>\n",
       "  </thead>\n",
       "  <tbody>\n",
       "    <tr>\n",
       "      <th>0</th>\n",
       "      <td>2020.3.1</td>\n",
       "      <td>6</td>\n",
       "      <td>0</td>\n",
       "      <td>216</td>\n",
       "      <td>67.79557</td>\n",
       "      <td>7.7</td>\n",
       "      <td>8.5</td>\n",
       "      <td>8.666667</td>\n",
       "      <td>0</td>\n",
       "      <td>1</td>\n",
       "    </tr>\n",
       "    <tr>\n",
       "      <th>1</th>\n",
       "      <td>2020.3.2</td>\n",
       "      <td>6</td>\n",
       "      <td>0</td>\n",
       "      <td>216</td>\n",
       "      <td>58.14908</td>\n",
       "      <td>5.8</td>\n",
       "      <td>6.9</td>\n",
       "      <td>6.333333</td>\n",
       "      <td>0</td>\n",
       "      <td>1</td>\n",
       "    </tr>\n",
       "    <tr>\n",
       "      <th>2</th>\n",
       "      <td>2020.3.3</td>\n",
       "      <td>1</td>\n",
       "      <td>0</td>\n",
       "      <td>215</td>\n",
       "      <td>73.62835</td>\n",
       "      <td>3.4</td>\n",
       "      <td>7.6</td>\n",
       "      <td>5.666667</td>\n",
       "      <td>0</td>\n",
       "      <td>1</td>\n",
       "    </tr>\n",
       "    <tr>\n",
       "      <th>3</th>\n",
       "      <td>2020.3.4</td>\n",
       "      <td>5</td>\n",
       "      <td>1</td>\n",
       "      <td>215</td>\n",
       "      <td>61.54096</td>\n",
       "      <td>4.8</td>\n",
       "      <td>10.2</td>\n",
       "      <td>4.333333</td>\n",
       "      <td>0</td>\n",
       "      <td>1</td>\n",
       "    </tr>\n",
       "    <tr>\n",
       "      <th>4</th>\n",
       "      <td>2020.3.5</td>\n",
       "      <td>1</td>\n",
       "      <td>0</td>\n",
       "      <td>215</td>\n",
       "      <td>55.16472</td>\n",
       "      <td>2.2</td>\n",
       "      <td>5.9</td>\n",
       "      <td>4.000000</td>\n",
       "      <td>0</td>\n",
       "      <td>1</td>\n",
       "    </tr>\n",
       "  </tbody>\n",
       "</table>\n",
       "</div>"
      ],
      "text/plain": [
       "       Date  Daily_Confirmed  traveled  Domestic_Air_Seoul_In  trendTotal  \\\n",
       "0  2020.3.1                6         0                    216    67.79557   \n",
       "1  2020.3.2                6         0                    216    58.14908   \n",
       "2  2020.3.3                1         0                    215    73.62835   \n",
       "3  2020.3.4                5         1                    215    61.54096   \n",
       "4  2020.3.5                1         0                    215    55.16472   \n",
       "\n",
       "   meanTemperature  dailyTemperatureRange  rolling_3  Policy_1  Policy_3  \n",
       "0              7.7                    8.5   8.666667         0         1  \n",
       "1              5.8                    6.9   6.333333         0         1  \n",
       "2              3.4                    7.6   5.666667         0         1  \n",
       "3              4.8                   10.2   4.333333         0         1  \n",
       "4              2.2                    5.9   4.000000         0         1  "
      ]
     },
     "execution_count": 3,
     "metadata": {},
     "output_type": "execute_result"
    }
   ],
   "source": [
    "data.head()"
   ]
  },
  {
   "cell_type": "code",
   "execution_count": 5,
   "metadata": {
    "ExecuteTime": {
     "end_time": "2020-11-26T04:46:13.118153Z",
     "start_time": "2020-11-26T04:46:13.098204Z"
    }
   },
   "outputs": [
    {
     "data": {
      "text/plain": [
       "Date                     2020.10.1\n",
       "Daily_Confirmed                 11\n",
       "traveled                         0\n",
       "Domestic_Air_Seoul_In          238\n",
       "trendTotal                 6.55795\n",
       "meanTemperature               19.6\n",
       "dailyTemperatureRange          9.5\n",
       "rolling_3                  30.6667\n",
       "Policy_1                         0\n",
       "Policy_3                         0\n",
       "Name: 214, dtype: object"
      ]
     },
     "execution_count": 5,
     "metadata": {},
     "output_type": "execute_result"
    }
   ],
   "source": [
    "data.loc[214]"
   ]
  },
  {
   "cell_type": "code",
   "execution_count": 6,
   "metadata": {
    "ExecuteTime": {
     "end_time": "2020-11-26T04:46:44.346194Z",
     "start_time": "2020-11-26T04:46:44.330250Z"
    }
   },
   "outputs": [],
   "source": [
    "x = data.drop(['Date','Daily_Confirmed'],axis=1)"
   ]
  },
  {
   "cell_type": "code",
   "execution_count": 7,
   "metadata": {
    "ExecuteTime": {
     "end_time": "2020-11-26T04:46:51.410537Z",
     "start_time": "2020-11-26T04:46:51.396534Z"
    }
   },
   "outputs": [],
   "source": [
    "y = data['Daily_Confirmed']"
   ]
  },
  {
   "cell_type": "code",
   "execution_count": 90,
   "metadata": {
    "ExecuteTime": {
     "end_time": "2020-11-26T05:23:48.156619Z",
     "start_time": "2020-11-26T05:23:48.145650Z"
    }
   },
   "outputs": [],
   "source": [
    "trainx = x[:214]\n",
    "trainy = y[:214]\n",
    "testx = x[214:]\n",
    "testy = y[214:]"
   ]
  },
  {
   "cell_type": "code",
   "execution_count": 86,
   "metadata": {
    "ExecuteTime": {
     "end_time": "2020-11-26T05:22:22.998140Z",
     "start_time": "2020-11-26T05:22:22.982183Z"
    }
   },
   "outputs": [],
   "source": [
    "from sklearn.linear_model import ElasticNet , Lasso, Ridge, LinearRegression"
   ]
  },
  {
   "cell_type": "code",
   "execution_count": 87,
   "metadata": {
    "ExecuteTime": {
     "end_time": "2020-11-26T05:23:01.948549Z",
     "start_time": "2020-11-26T05:23:01.932592Z"
    }
   },
   "outputs": [],
   "source": [
    "ela = ElasticNet(alpha=0.1)\n",
    "la = Lasso(alpha=0.1)\n",
    "ri = Ridge(alpha=0.1)\n",
    "li = LinearRegression()"
   ]
  },
  {
   "cell_type": "code",
   "execution_count": 91,
   "metadata": {
    "ExecuteTime": {
     "end_time": "2020-11-26T05:23:51.957242Z",
     "start_time": "2020-11-26T05:23:51.938293Z"
    }
   },
   "outputs": [
    {
     "data": {
      "text/plain": [
       "LinearRegression(copy_X=True, fit_intercept=True, n_jobs=1, normalize=False)"
      ]
     },
     "execution_count": 91,
     "metadata": {},
     "output_type": "execute_result"
    }
   ],
   "source": [
    "ela.fit(trainx,trainy)\n",
    "la.fit(trainx,trainy)\n",
    "ri.fit(trainx,trainy)\n",
    "li.fit(trainx,trainy)"
   ]
  },
  {
   "cell_type": "code",
   "execution_count": 96,
   "metadata": {
    "ExecuteTime": {
     "end_time": "2020-11-26T05:24:19.471429Z",
     "start_time": "2020-11-26T05:24:19.456469Z"
    }
   },
   "outputs": [
    {
     "data": {
      "text/plain": [
       "3.7879645835948224"
      ]
     },
     "execution_count": 96,
     "metadata": {},
     "output_type": "execute_result"
    }
   ],
   "source": [
    "(testy - li.predict(testx)).mean()"
   ]
  },
  {
   "cell_type": "code",
   "execution_count": 29,
   "metadata": {
    "ExecuteTime": {
     "end_time": "2020-11-26T04:50:58.021563Z",
     "start_time": "2020-11-26T04:50:58.011589Z"
    },
    "scrolled": true
   },
   "outputs": [
    {
     "data": {
      "text/plain": [
       "3.144819489721919"
      ]
     },
     "execution_count": 29,
     "metadata": {},
     "output_type": "execute_result"
    }
   ],
   "source": [
    "(testy-ela.predict(testx)).mean()"
   ]
  },
  {
   "cell_type": "code",
   "execution_count": 15,
   "metadata": {
    "ExecuteTime": {
     "end_time": "2020-11-26T04:49:24.979003Z",
     "start_time": "2020-11-26T04:49:24.967025Z"
    }
   },
   "outputs": [
    {
     "data": {
      "text/html": [
       "<div>\n",
       "<style scoped>\n",
       "    .dataframe tbody tr th:only-of-type {\n",
       "        vertical-align: middle;\n",
       "    }\n",
       "\n",
       "    .dataframe tbody tr th {\n",
       "        vertical-align: top;\n",
       "    }\n",
       "\n",
       "    .dataframe thead th {\n",
       "        text-align: right;\n",
       "    }\n",
       "</style>\n",
       "<table border=\"1\" class=\"dataframe\">\n",
       "  <thead>\n",
       "    <tr style=\"text-align: right;\">\n",
       "      <th></th>\n",
       "      <th>traveled</th>\n",
       "      <th>Domestic_Air_Seoul_In</th>\n",
       "      <th>trendTotal</th>\n",
       "      <th>meanTemperature</th>\n",
       "      <th>dailyTemperatureRange</th>\n",
       "      <th>rolling_3</th>\n",
       "      <th>Policy_1</th>\n",
       "      <th>Policy_3</th>\n",
       "    </tr>\n",
       "  </thead>\n",
       "  <tbody>\n",
       "    <tr>\n",
       "      <th>0</th>\n",
       "      <td>0</td>\n",
       "      <td>216</td>\n",
       "      <td>67.79557</td>\n",
       "      <td>7.7</td>\n",
       "      <td>8.5</td>\n",
       "      <td>8.666667</td>\n",
       "      <td>0</td>\n",
       "      <td>1</td>\n",
       "    </tr>\n",
       "    <tr>\n",
       "      <th>1</th>\n",
       "      <td>0</td>\n",
       "      <td>216</td>\n",
       "      <td>58.14908</td>\n",
       "      <td>5.8</td>\n",
       "      <td>6.9</td>\n",
       "      <td>6.333333</td>\n",
       "      <td>0</td>\n",
       "      <td>1</td>\n",
       "    </tr>\n",
       "    <tr>\n",
       "      <th>2</th>\n",
       "      <td>0</td>\n",
       "      <td>215</td>\n",
       "      <td>73.62835</td>\n",
       "      <td>3.4</td>\n",
       "      <td>7.6</td>\n",
       "      <td>5.666667</td>\n",
       "      <td>0</td>\n",
       "      <td>1</td>\n",
       "    </tr>\n",
       "    <tr>\n",
       "      <th>3</th>\n",
       "      <td>1</td>\n",
       "      <td>215</td>\n",
       "      <td>61.54096</td>\n",
       "      <td>4.8</td>\n",
       "      <td>10.2</td>\n",
       "      <td>4.333333</td>\n",
       "      <td>0</td>\n",
       "      <td>1</td>\n",
       "    </tr>\n",
       "    <tr>\n",
       "      <th>4</th>\n",
       "      <td>0</td>\n",
       "      <td>215</td>\n",
       "      <td>55.16472</td>\n",
       "      <td>2.2</td>\n",
       "      <td>5.9</td>\n",
       "      <td>4.000000</td>\n",
       "      <td>0</td>\n",
       "      <td>1</td>\n",
       "    </tr>\n",
       "  </tbody>\n",
       "</table>\n",
       "</div>"
      ],
      "text/plain": [
       "   traveled  Domestic_Air_Seoul_In  trendTotal  meanTemperature  \\\n",
       "0         0                    216    67.79557              7.7   \n",
       "1         0                    216    58.14908              5.8   \n",
       "2         0                    215    73.62835              3.4   \n",
       "3         1                    215    61.54096              4.8   \n",
       "4         0                    215    55.16472              2.2   \n",
       "\n",
       "   dailyTemperatureRange  rolling_3  Policy_1  Policy_3  \n",
       "0                    8.5   8.666667         0         1  \n",
       "1                    6.9   6.333333         0         1  \n",
       "2                    7.6   5.666667         0         1  \n",
       "3                   10.2   4.333333         0         1  \n",
       "4                    5.9   4.000000         0         1  "
      ]
     },
     "execution_count": 15,
     "metadata": {},
     "output_type": "execute_result"
    }
   ],
   "source": [
    "trainx.head()"
   ]
  },
  {
   "cell_type": "code",
   "execution_count": 17,
   "metadata": {
    "ExecuteTime": {
     "end_time": "2020-11-26T04:49:41.094536Z",
     "start_time": "2020-11-26T04:49:41.079533Z"
    }
   },
   "outputs": [
    {
     "data": {
      "text/plain": [
       "0    6\n",
       "1    6\n",
       "2    1\n",
       "3    5\n",
       "4    1\n",
       "Name: Daily_Confirmed, dtype: int64"
      ]
     },
     "execution_count": 17,
     "metadata": {},
     "output_type": "execute_result"
    }
   ],
   "source": [
    "trainy.head()"
   ]
  },
  {
   "cell_type": "code",
   "execution_count": 18,
   "metadata": {
    "ExecuteTime": {
     "end_time": "2020-11-26T04:49:50.772268Z",
     "start_time": "2020-11-26T04:49:50.762294Z"
    }
   },
   "outputs": [
    {
     "data": {
      "text/plain": [
       "214    11\n",
       "215    26\n",
       "216    16\n",
       "217    19\n",
       "218    18\n",
       "Name: Daily_Confirmed, dtype: int64"
      ]
     },
     "execution_count": 18,
     "metadata": {},
     "output_type": "execute_result"
    }
   ],
   "source": [
    "testy.head()"
   ]
  },
  {
   "cell_type": "code",
   "execution_count": 30,
   "metadata": {
    "ExecuteTime": {
     "end_time": "2020-11-26T04:53:11.384509Z",
     "start_time": "2020-11-26T04:53:11.369536Z"
    }
   },
   "outputs": [],
   "source": [
    "feature = pd.Series(index=trainx.columns,data=np.abs(ela.coef_))"
   ]
  },
  {
   "cell_type": "code",
   "execution_count": 31,
   "metadata": {
    "ExecuteTime": {
     "end_time": "2020-11-26T04:54:38.162787Z",
     "start_time": "2020-11-26T04:54:38.150858Z"
    }
   },
   "outputs": [
    {
     "name": "stdout",
     "output_type": "stream",
     "text": [
      "8 features, reduction of 0.00%\n"
     ]
    }
   ],
   "source": [
    "selected_features = (feature>0).sum()\n",
    "print('{0:d} features, reduction of {1:2.2f}%'.format(selected_features,(1-selected_features/len(feature))*100))"
   ]
  },
  {
   "cell_type": "code",
   "execution_count": 34,
   "metadata": {
    "ExecuteTime": {
     "end_time": "2020-11-26T04:55:52.133704Z",
     "start_time": "2020-11-26T04:55:51.953525Z"
    },
    "scrolled": false
   },
   "outputs": [
    {
     "data": {
      "text/plain": [
       "<matplotlib.axes._subplots.AxesSubplot at 0x1e02736e748>"
      ]
     },
     "execution_count": 34,
     "metadata": {},
     "output_type": "execute_result"
    },
    {
     "data": {
      "image/png": "[encoded data removed]",
      "text/plain": [
       "<Figure size 1296x432 with 1 Axes>"
      ]
     },
     "metadata": {},
     "output_type": "display_data"
    }
   ],
   "source": [
    "feature.sort_values().tail(30).plot(kind = 'bar',figsize=(18,6))"
   ]
  },
  {
   "cell_type": "code",
   "execution_count": 33,
   "metadata": {
    "ExecuteTime": {
     "end_time": "2020-11-26T04:55:48.480304Z",
     "start_time": "2020-11-26T04:55:48.451342Z"
    }
   },
   "outputs": [],
   "source": [
    "%matplotlib inline"
   ]
  },
  {
   "cell_type": "code",
   "execution_count": 35,
   "metadata": {
    "ExecuteTime": {
     "end_time": "2020-11-26T04:56:23.175309Z",
     "start_time": "2020-11-26T04:56:23.163339Z"
    }
   },
   "outputs": [
    {
     "data": {
      "text/plain": [
       "array([ 1.1182873 ,  0.05873432,  0.28995881,  0.59489772, -0.19689488,\n",
       "        0.83608836, -3.06131104, -5.29027226])"
      ]
     },
     "execution_count": 35,
     "metadata": {},
     "output_type": "execute_result"
    }
   ],
   "source": [
    "ela.coef_"
   ]
  },
  {
   "cell_type": "code",
   "execution_count": 36,
   "metadata": {
    "ExecuteTime": {
     "end_time": "2020-11-26T05:03:58.553409Z",
     "start_time": "2020-11-26T05:03:58.538449Z"
    }
   },
   "outputs": [],
   "source": [
    "import matplotlib.pyplot as plt"
   ]
  },
  {
   "cell_type": "code",
   "execution_count": 85,
   "metadata": {
    "ExecuteTime": {
     "end_time": "2020-11-26T05:19:50.646132Z",
     "start_time": "2020-11-26T05:19:50.347453Z"
    }
   },
   "outputs": [
    {
     "data": {
      "text/plain": [
       "<matplotlib.legend.Legend at 0x1e0290b57b8>"
      ]
     },
     "execution_count": 85,
     "metadata": {},
     "output_type": "execute_result"
    },
    {
     "data": {
      "image/png": "[encoded data removed]",
      "text/plain": [
       "<Figure size 1296x288 with 1 Axes>"
      ]
     },
     "metadata": {},
     "output_type": "display_data"
    }
   ],
   "source": [
    "fig = plt.figure(figsize=(18,4))\n",
    "chart = fig.add_subplot(1,1,1)\n",
    "chart.plot(testy,color='blue',label='Real')\n",
    "chart.plot(predicted,color='red',label='Predicted')\n",
    "plt.title(\"October COVID19 Confirmed\")\n",
    "plt.legend(loc='best')"
   ]
  },
  {
   "cell_type": "code",
   "execution_count": 80,
   "metadata": {
    "ExecuteTime": {
     "end_time": "2020-11-26T05:18:03.727776Z",
     "start_time": "2020-11-26T05:18:03.720756Z"
    }
   },
   "outputs": [],
   "source": [
    "testy.index = a[214:]"
   ]
  },
  {
   "cell_type": "code",
   "execution_count": 81,
   "metadata": {
    "ExecuteTime": {
     "end_time": "2020-11-26T05:18:07.847028Z",
     "start_time": "2020-11-26T05:18:07.832109Z"
    }
   },
   "outputs": [],
   "source": [
    "predicted = pd.DataFrame(data=ela.predict(testx),index=a[214:])"
   ]
  },
  {
   "cell_type": "code",
   "execution_count": 79,
   "metadata": {
    "ExecuteTime": {
     "end_time": "2020-11-26T05:17:57.849957Z",
     "start_time": "2020-11-26T05:17:57.832006Z"
    }
   },
   "outputs": [],
   "source": [
    "a = []\n",
    "b = []\n",
    "for i in range(len(data['Date'])):\n",
    "    a.append(data['Date'][i][7:])\n",
    "   "
   ]
  },
  {
   "cell_type": "code",
   "execution_count": 73,
   "metadata": {
    "ExecuteTime": {
     "end_time": "2020-11-26T05:16:15.209931Z",
     "start_time": "2020-11-26T05:16:15.195968Z"
    }
   },
   "outputs": [
    {
     "data": {
      "text/plain": [
       "''"
      ]
     },
     "execution_count": 73,
     "metadata": {},
     "output_type": "execute_result"
    }
   ],
   "source": [
    "testy.index[1][:]"
   ]
  },
  {
   "cell_type": "code",
   "execution_count": 98,
   "metadata": {
    "ExecuteTime": {
     "end_time": "2020-11-26T05:26:52.456638Z",
     "start_time": "2020-11-26T05:26:52.441679Z"
    }
   },
   "outputs": [
    {
     "data": {
      "text/plain": [
       "0      216\n",
       "1      216\n",
       "2      215\n",
       "3      215\n",
       "4      215\n",
       "5      215\n",
       "6      215\n",
       "7      215\n",
       "8      215\n",
       "9      213\n",
       "10     213\n",
       "11     213\n",
       "12     213\n",
       "13     210\n",
       "14     210\n",
       "15     207\n",
       "16     207\n",
       "17     207\n",
       "18     207\n",
       "19     207\n",
       "20     208\n",
       "21     208\n",
       "22     203\n",
       "23     203\n",
       "24     202\n",
       "25     201\n",
       "26     199\n",
       "27     191\n",
       "28     146\n",
       "29     147\n",
       "      ... \n",
       "215    237\n",
       "216    237\n",
       "217    237\n",
       "218    234\n",
       "219    215\n",
       "220    215\n",
       "221    220\n",
       "222    219\n",
       "223    219\n",
       "224    219\n",
       "225    218\n",
       "226    218\n",
       "227    218\n",
       "228    218\n",
       "229    218\n",
       "230    218\n",
       "231    218\n",
       "232    218\n",
       "233    218\n",
       "234    217\n",
       "235    217\n",
       "236    217\n",
       "237    217\n",
       "238    234\n",
       "239    243\n",
       "240    243\n",
       "241    244\n",
       "242    243\n",
       "243    248\n",
       "244    248\n",
       "Name: Domestic_Air_Seoul_In, Length: 245, dtype: int64"
      ]
     },
     "execution_count": 98,
     "metadata": {},
     "output_type": "execute_result"
    }
   ],
   "source": [
    "data['Domestic_Air_Seoul_In']"
   ]
  },
  {
   "cell_type": "code",
   "execution_count": 65,
   "metadata": {
    "ExecuteTime": {
     "end_time": "2020-11-26T05:15:16.827465Z",
     "start_time": "2020-11-26T05:15:16.823515Z"
    },
    "scrolled": true
   },
   "outputs": [
    {
     "data": {
      "text/plain": [
       "['10.1',\n",
       " '10.2',\n",
       " '10.3',\n",
       " '10.4',\n",
       " '10.5',\n",
       " '10.6',\n",
       " '10.7',\n",
       " '10.8',\n",
       " '10.9',\n",
       " '10.10',\n",
       " '10.11',\n",
       " '10.12',\n",
       " '10.13',\n",
       " '10.14',\n",
       " '10.15',\n",
       " '10.16',\n",
       " '10.17',\n",
       " '10.18',\n",
       " '10.19',\n",
       " '10.20',\n",
       " '10.21',\n",
       " '10.22',\n",
       " '10.23',\n",
       " '10.24',\n",
       " '10.25',\n",
       " '10.26',\n",
       " '10.27',\n",
       " '10.28',\n",
       " '10.29',\n",
       " '10.30',\n",
       " '10.31']"
      ]
     },
     "execution_count": 65,
     "metadata": {},
     "output_type": "execute_result"
    }
   ],
   "source": [
    "b"
   ]
  },
  {
   "cell_type": "code",
   "execution_count": null,
   "metadata": {},
   "outputs": [],
   "source": []
  }
 ],
 "metadata": {
  "kernelspec": {
   "display_name": "Python 3",
   "language": "python",
   "name": "python3"
  },
  "language_info": {
   "codemirror_mode": {
    "name": "ipython",
    "version": 3
   },
   "file_extension": ".py",
   "mimetype": "text/x-python",
   "name": "python",
   "nbconvert_exporter": "python",
   "pygments_lexer": "ipython3",
   "version": "3.6.5"
  },
  "varInspector": {
   "cols": {
    "lenName": 16,
    "lenType": 16,
    "lenVar": 40
   },
   "kernels_config": {
    "python": {
     "delete_cmd_postfix": "",
     "delete_cmd_prefix": "del ",
     "library": "var_list.py",
     "varRefreshCmd": "print(var_dic_list())"
    },
    "r": {
     "delete_cmd_postfix": ") ",
     "delete_cmd_prefix": "rm(",
     "library": "var_list.r",
     "varRefreshCmd": "cat(var_dic_list()) "
    }
   },
   "types_to_exclude": [
    "module",
    "function",
    "builtin_function_or_method",
    "instance",
    "_Feature"
   ],
   "window_display": false
  }
 },
 "nbformat": 4,
 "nbformat_minor": 2
}
