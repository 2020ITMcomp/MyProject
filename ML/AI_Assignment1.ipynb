{
 "cells": [
  {
   "cell_type": "code",
   "execution_count": 1,
   "metadata": {
    "ExecuteTime": {
     "end_time": "2020-09-27T04:09:00.211175Z",
     "start_time": "2020-09-27T04:09:00.207233Z"
    }
   },
   "outputs": [],
   "source": [
    "import numpy as np\n",
    "\n",
    "x = np.array([[2,0]])\n",
    "rotation = np.array([ [0,-1],\n",
    "                      [1, 0]])"
   ]
  },
  {
   "cell_type": "code",
   "execution_count": 4,
   "metadata": {
    "ExecuteTime": {
     "end_time": "2020-09-27T04:10:24.979431Z",
     "start_time": "2020-09-27T04:10:24.975438Z"
    }
   },
   "outputs": [
    {
     "name": "stdout",
     "output_type": "stream",
     "text": [
      "[[0 0]\n",
      " [2 0]]\n",
      "[[0 0]\n",
      " [2 0]]\n"
     ]
    }
   ],
   "source": [
    "#Problem 1\n",
    "print(x*rotation)\n",
    "print(rotation*x)\n",
    "#These two results are same because * operation mutiply the value on the same position of each vector.\n",
    "#Thus, the multiply processes [2,0] and [0,-1], then [2,0] and [1,0]"
   ]
  },
  {
   "cell_type": "code",
   "execution_count": 8,
   "metadata": {
    "ExecuteTime": {
     "end_time": "2020-09-27T04:15:32.102911Z",
     "start_time": "2020-09-27T04:15:32.096968Z"
    }
   },
   "outputs": [
    {
     "data": {
      "text/plain": [
       "array([ 1,  5,  9,  2,  6, 10,  3,  7, 11,  4,  8, 12])"
      ]
     },
     "execution_count": 8,
     "metadata": {},
     "output_type": "execute_result"
    }
   ],
   "source": [
    "#Problem 2\n",
    "x = np.array([[1,2,3,4],\n",
    "              [5,6,7,8],\n",
    "              [9,10,11,12]])\n",
    "\n",
    "x.reshape(-1,order='F')"
   ]
  },
  {
   "cell_type": "code",
   "execution_count": 7,
   "metadata": {
    "ExecuteTime": {
     "end_time": "2020-09-24T04:36:31.661657Z",
     "start_time": "2020-09-24T04:36:31.657629Z"
    }
   },
   "outputs": [
    {
     "data": {
      "text/plain": [
       "array([[ 1,  5,  9],\n",
       "       [ 2,  6, 10],\n",
       "       [ 3,  7, 11],\n",
       "       [ 4,  8, 12]])"
      ]
     },
     "execution_count": 7,
     "metadata": {},
     "output_type": "execute_result"
    }
   ],
   "source": [
    "#Problem 3\n",
    "x2.reshape(-1,order='F').reshape(4,3)"
   ]
  },
  {
   "cell_type": "code",
   "execution_count": 9,
   "metadata": {
    "ExecuteTime": {
     "end_time": "2020-09-27T04:16:19.697602Z",
     "start_time": "2020-09-27T04:16:19.690660Z"
    }
   },
   "outputs": [],
   "source": [
    "#Problem 4\n",
    "def naive_matrix_dot(x, y):\n",
    "  assert len(x.shape) == 2\n",
    "  assert len(y.shape) == 2\n",
    "  assert x.shape[1] == y.shape[0]\n",
    "  \n",
    "  z = np.zeros((x.shape[0], y.shape[1]))\n",
    "  for i in range(x.shape[0]):\n",
    "    for j in range(y.shape[1]):\n",
    "      row_x = x[i, :]\n",
    "      column_y = y[:, j]\n",
    "      z[i, j] = naive_vector_dot(row_x, column_y)\n",
    "  return z\n",
    "def naive_vector_dot(x, y):\n",
    "  assert len(x.shape) == 1\n",
    "  assert len(y.shape) == 1\n",
    "  assert x.shape[0] == y.shape[0]\n",
    "  \n",
    "  z = 0.\n",
    "  for i in range(x.shape[0]):\n",
    "    z += x[i] * y[i]\n",
    "  return z"
   ]
  },
  {
   "cell_type": "code",
   "execution_count": 12,
   "metadata": {
    "ExecuteTime": {
     "end_time": "2020-09-27T04:18:31.974655Z",
     "start_time": "2020-09-27T04:18:31.961693Z"
    }
   },
   "outputs": [],
   "source": [
    "x_10 = np.ones((10,10))\n",
    "y_10 = np.ones((10,10))\n",
    "\n",
    "x_100 = np.ones((100,100))\n",
    "y_100 = np.ones((100,100))\n",
    "\n",
    "x_1000 = np.ones((1000,1000))\n",
    "y_1000 = np.ones((1000,1000))"
   ]
  },
  {
   "cell_type": "code",
   "execution_count": 21,
   "metadata": {
    "ExecuteTime": {
     "end_time": "2020-09-27T04:29:02.231078Z",
     "start_time": "2020-09-27T04:29:01.851096Z"
    }
   },
   "outputs": [
    {
     "name": "stdout",
     "output_type": "stream",
     "text": [
      "naive function 10x10: 0.0 2\n",
      "naive function 100x100: 0.34375 2\n",
      "built in function 10x10: 0.0 2\n",
      "built in function 100x100: 0.0 2\n",
      "built in function 1000x1000: 0.125 2\n"
     ]
    }
   ],
   "source": [
    "import time\n",
    "\n",
    "start = time.process_time()\n",
    "naive_matrix_dot(x_10,y_10)\n",
    "print(\"naive function 10x10:\", time.process_time()-start,2)\n",
    "start = time.process_time()\n",
    "naive_matrix_dot(x_100,y_100)\n",
    "print(\"naive function 100x100:\", time.process_time() - start, 2)\n",
    "#start = time.process_time()\n",
    "#naive_matrix_dot(x_1000,y_1000)\n",
    "#print(\"naive function 1000x1000:\", time.process_time() - start, 2)\n",
    "#It takes more than a minute\n",
    "\n",
    "start_2 = time.process_time()\n",
    "np.matmul(x_10,y_10)\n",
    "print(\"built in function 10x10:\", time.process_time() - start_2,2)\n",
    "start_2 = time.process_time()\n",
    "np.matmul(x_100,y_100)\n",
    "print(\"built in function 100x100:\", time.process_time() - start_2,2)\n",
    "start_2 = time.process_time()\n",
    "np.matmul(x_1000,y_1000)\n",
    "print(\"built in function 1000x1000:\", time.process_time() - start_2,2)"
   ]
  },
  {
   "cell_type": "code",
   "execution_count": 22,
   "metadata": {
    "ExecuteTime": {
     "end_time": "2020-09-27T04:29:35.958861Z",
     "start_time": "2020-09-27T04:29:11.234995Z"
    }
   },
   "outputs": [
    {
     "name": "stdout",
     "output_type": "stream",
     "text": [
      "WARNING:tensorflow:From C:\\Users\\Seung kyu Hong\\Anaconda3\\lib\\site-packages\\tensorflow\\python\\ops\\resource_variable_ops.py:435: colocate_with (from tensorflow.python.framework.ops) is deprecated and will be removed in a future version.\n",
      "Instructions for updating:\n",
      "Colocations handled automatically by placer.\n",
      "WARNING:tensorflow:From C:\\Users\\Seung kyu Hong\\Anaconda3\\lib\\site-packages\\tensorflow\\python\\ops\\math_ops.py:3066: to_int32 (from tensorflow.python.ops.math_ops) is deprecated and will be removed in a future version.\n",
      "Instructions for updating:\n",
      "Use tf.cast instead.\n",
      "Epoch 1/5\n",
      "60000/60000 [==============================] - 4s 62us/sample - loss: 0.2559 - acc: 0.9268\n",
      "Epoch 2/5\n",
      "60000/60000 [==============================] - 3s 58us/sample - loss: 0.1034 - acc: 0.9691\n",
      "Epoch 3/5\n",
      "60000/60000 [==============================] - 4s 61us/sample - loss: 0.0673 - acc: 0.9796\n",
      "Epoch 4/5\n",
      "60000/60000 [==============================] - 4s 63us/sample - loss: 0.0494 - acc: 0.9850\n",
      "Epoch 5/5\n",
      "60000/60000 [==============================] - 4s 63us/sample - loss: 0.0375 - acc: 0.9886\n",
      "Elapsed time: 18.8236\n",
      "10000/10000 [==============================] - 1s 71us/sample - loss: 0.0652 - acc: 0.9797\n",
      "test_acc:  0.9797\n"
     ]
    }
   ],
   "source": [
    "#Problem 5\n",
    "import tensorflow as tf\n",
    "\n",
    "from tensorflow.keras.datasets import mnist\n",
    "(train_images, train_labels), (test_images,test_labels) = mnist.load_data()\n",
    "\n",
    "from tensorflow.keras import models\n",
    "from tensorflow.keras import layers\n",
    "\n",
    "network = models.Sequential()\n",
    "network.add(layers.Dense(512, activation='relu', input_shape=(28*28,)))\n",
    "network.add(layers.Dense(10, activation='softmax'))\n",
    "\n",
    "network.compile(optimizer='rmsprop',\n",
    "                loss='categorical_crossentropy',\n",
    "                metrics=['accuracy'])\n",
    "\n",
    "train_images = train_images.reshape((60000, 28*28))\n",
    "train_images = train_images.astype('float32') / 255\n",
    "\n",
    "test_images = test_images.reshape((10000, 28*28))\n",
    "test_images = test_images.astype('float32') / 255\n",
    "\n",
    "from tensorflow.keras.utils import to_categorical\n",
    "\n",
    "train_labels = to_categorical(train_labels)\n",
    "test_labels = to_categorical(test_labels)\n",
    "\n",
    "import time\n",
    "\n",
    "start = time.time()\n",
    "network.fit(train_images, train_labels, epochs=5, batch_size=128)\n",
    "elapsed = time.time() - start\n",
    "\n",
    "print('Elapsed time: %.4f' % elapsed)\n",
    "\n",
    "test_loss, test_acc = network.evaluate(test_images, test_labels)\n",
    "print('test_acc: ', test_acc)"
   ]
  },
  {
   "attachments": {},
   "cell_type": "markdown",
   "metadata": {},
   "source": [
    "In spyder it takes 17.0165s"
   ]
  }
 ],
 "metadata": {
  "kernelspec": {
   "display_name": "Python 3",
   "language": "python",
   "name": "python3"
  },
  "language_info": {
   "codemirror_mode": {
    "name": "ipython",
    "version": 3
   },
   "file_extension": ".py",
   "mimetype": "text/x-python",
   "name": "python",
   "nbconvert_exporter": "python",
   "pygments_lexer": "ipython3",
   "version": "3.7.1"
  },
  "varInspector": {
   "cols": {
    "lenName": 16,
    "lenType": 16,
    "lenVar": 40
   },
   "kernels_config": {
    "python": {
     "delete_cmd_postfix": "",
     "delete_cmd_prefix": "del ",
     "library": "var_list.py",
     "varRefreshCmd": "print(var_dic_list())"
    },
    "r": {
     "delete_cmd_postfix": ") ",
     "delete_cmd_prefix": "rm(",
     "library": "var_list.r",
     "varRefreshCmd": "cat(var_dic_list()) "
    }
   },
   "types_to_exclude": [
    "module",
    "function",
    "builtin_function_or_method",
    "instance",
    "_Feature"
   ],
   "window_display": false
  }
 },
 "nbformat": 4,
 "nbformat_minor": 2
}
